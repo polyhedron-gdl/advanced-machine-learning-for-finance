{
 "cells": [
  {
   "cell_type": "markdown",
   "id": "c59aecd7",
   "metadata": {},
   "source": [
    "# NN Heston Model - Parameters Generation"
   ]
  },
  {
   "cell_type": "code",
   "execution_count": 98,
   "id": "0b35ce4f",
   "metadata": {},
   "outputs": [],
   "source": [
    "import sys\n",
    "import numpy as np\n",
    "import pandas as pd\n",
    "import matplotlib.pyplot as plt\n",
    "import time\n",
    "import math\n",
    "\n",
    "from smt.sampling_methods import LHS\n",
    "from sklearn.model_selection import train_test_split"
   ]
  },
  {
   "cell_type": "markdown",
   "id": "b19d9fa2",
   "metadata": {},
   "source": [
    "## Introduction\n",
    "\n",
    "Pricing in mathematical finance is building a complex function from a model following some constraint.\n",
    "Since models are just a rough description of markets, we accept the fact that each day we do 'calibrate'\n",
    "models in order to match as much as possible what we see on the market. The complexity of the calibration procedure depends on the complexity of the underlying model deemed capable to describe the market situation. Most of the effort in applying neural networks to pricing has gone into the direction of devising \n",
    "clever shortcuts to the calibration mechanism.\n",
    "\n",
    "We want to bypass this phase exploting the fact that pricing with a calibrated model amounts to \n",
    "the composition of two functions: one from market data to model parameters, the second from model \n",
    "paramters to market data. This approach is in itself not new. Some authors have attempted the path of walking directly from\n",
    "market data to prices, leaving the model aside. In doing that they needed to train a network directly on market values. This approach required verylong time series and was able to train the netowrk only on quoted vanilla option.\n",
    "\n",
    "In our approch, the assumption that the model, properly calibrated, is capable to describe the market with \n",
    "enough accuracy, is an essential element.\n",
    "\n",
    "Given that we have outlined these concepts we can simply states the main goals of out work:\n",
    "\n",
    "- dispose of the burden of having to calibrate models\n",
    "- remove the need for ridiculously long time series of market data and option prices\n",
    "- get rid of all of the computational bottlenecks when going from market to prices.\n",
    "\n",
    "At this point, some of these goals need further explanation. That will come in due time. Let's start looking at a very simple example. For instance, if we resort to the Black-Scholes model:\n",
    "\n",
    "\\begin{align}\n",
    "    dS_t &= S_t \\sigma dW_t \\nonumber\n",
    "\\end{align}\n",
    "\n",
    "for a claim written on a single asset, all we have to do is to select the appropriate value for the volatility. And this is all is needed in terms of model calibration. If we are dealing with claims written on several assets, besides the volatility for each individual asset we have to decide on the correlations.\n",
    "\n",
    "\\begin{align}\n",
    "    dS^i_t &= S^i_t \\sigma^i dW^i_t \\nonumber\n",
    "\\\\ \\mathbb{E}[ dW^i_t dW^j_t\\,] &= \\rho_{ij} dt \\nonumber\n",
    "\\end{align}\n",
    "\n",
    "Things get a lot more involved if we use more advanced models like stochastic volatility models. \n",
    "For example, if we adopt the Heston model: \n",
    "\n",
    "\\begin{align}\n",
    "    dS_t &= S_t \\sqrt{\\nu_t} dW_t \\nonumber\n",
    "    \\\\ d\\nu_t &= k ( \\theta - \\nu_t) dt + \\eta\\sqrt{\\nu_t} dY_t, \\quad \\nu_0 = \\overline{\\nu} \\nonumber\n",
    "\\\\ {\\mathbb E}[ dW_t dY_t\\,] &= \\rho dt \\nonumber\n",
    "\\end{align}\n",
    "\n",
    "we have to calibrate the four parameters of the process of the stochastic volatility $(k, \\theta, \\nu_0, \\eta)$ \n",
    "and the correlation term $(\\rho)$ between the innovation processes.\n",
    "\n",
    "Still more complex is the situation if we want to tackle some IR product. In that case, even using a very simple\n",
    "model like the one factro Hull-White model:\n",
    "\n",
    "\\begin{align}\n",
    " dr(t) = k( \\theta(t) - r(t) ) dt  + \\sigma dW_t, \\quad r(0) = r_o\n",
    "\\end{align}\n",
    "\n",
    "besides parameters $(k, r_o, \\sigma)$ we are asked to calibrate a whole curve $\\theta(t)$\n",
    "needed to match today's observed discount curve."
   ]
  },
  {
   "cell_type": "markdown",
   "id": "d5a591aa",
   "metadata": {},
   "source": [
    "## Standard approach to ML\n",
    "\n",
    "$\\newcommand{\\vect}[1]{{\\mathbf{\\boldsymbol{{#1}}}}}$\n",
    "$\\def\\Em{\\mathbb E}$\n",
    "\n",
    "Let's call $\\Pi( \\vect{\\alpha}, G(\\vect{g}) )$ the function pricing a position $G$ with a model described\n",
    "collectively by the parameters $\\vect{\\alpha}$, and the position described by the parameters $\\vect{g}$. To be clear, in case of an option $\\vect{g}$ could be the the pair maturity and strike. \n",
    "\n",
    "A standard ML exercise would call for \n",
    "\n",
    "- generating, according to some random rule, a set of parameters $\\vect{\\alpha}_n,\\; \\vect{g}_n\\; 1 \\le n \\le N$,</li>\n",
    "- for each $\\vect{\\alpha}_n\\, \\vect{g}_n$ compute the function pricing a derivative $G$ with a model described by the parameter set $\\vect{\\alpha}_n$. We define the total parameter set as  $\\Pi_n := \\Pi( \\vect{\\alpha}_n, G(\\vect{g}_n))$\n",
    " \n",
    "       \n",
    "Iterating the procedure described above, we can build a large matrix \n",
    "    \n",
    " <table>   \n",
    "     <tr>\n",
    "         <th colspan=\"2\">Features (Regressors)</th>\n",
    "         <th>Label (Target)</th>\n",
    "     </tr>\n",
    "     <tr>\n",
    "         <td> $\\vect{\\alpha}_1$</td> \n",
    "         <td> $\\vect{g}_1 $    </td> \n",
    "         <td>    $\\Pi_1$       </td>\n",
    "     </tr>\n",
    "     <tr>\n",
    "         <td>$\\vect{\\alpha}_2$</td>\n",
    "         <td>$\\vect{g}_2 $    </td>\n",
    "         <td>$\\Pi_2$          </td>\n",
    "     </tr>\n",
    "     <tr> <td></td><td>...</td><td></td> </tr>\n",
    "     <tr> \n",
    "         <td>$\\vect{\\alpha}_N$</td>\n",
    "         <td>$\\vect{g}_N $</td>\n",
    "         <td>$\\Pi_N$</td>\n",
    "     </tr>\n",
    "</table>\n",
    "    \n",
    "and use it to train a neural network that, if all goes well, will learn the map\n",
    "\n",
    "\\begin{equation}\n",
    "    \\phi_{NN}: \\vect{\\alpha}, \\vect{g} \\rightarrow \\Pi(\\vect{\\alpha}, G).\n",
    "\\end{equation}     "
   ]
  },
  {
   "cell_type": "markdown",
   "id": "4a5ca699",
   "metadata": {},
   "source": [
    "## Generating Dataset"
   ]
  },
  {
   "cell_type": "markdown",
   "id": "e848cb46",
   "metadata": {},
   "source": [
    "### Python support functions"
   ]
  },
  {
   "cell_type": "markdown",
   "id": "544d5723",
   "metadata": {},
   "source": [
    "#### Plotting Functions"
   ]
  },
  {
   "cell_type": "code",
   "execution_count": 99,
   "id": "991e2247",
   "metadata": {},
   "outputs": [],
   "source": [
    "def histo_dict(df, TAG = '0000'):\n",
    "    keys = list(df.keys())\n",
    "    LEN = len(keys)\n",
    "    fig, ax = plt.subplots(1,LEN, figsize=(12,6))\n",
    "    for n in range(LEN):\n",
    "        k     = keys[n]\n",
    "        x     = df[k]\n",
    "        lo   = np.min(x)\n",
    "        hi   = np.max(x)\n",
    "        bins = np.arange(lo, hi, (hi-lo)/100.)\n",
    "        ax[n].hist(x, density=True, facecolor='g', bins=bins)\n",
    "        ax[n].set_title(\"%s (len=%d)\" %(k,len(x)))\n",
    "        n += 1\n",
    "    \n",
    "    #plt.savefig(\"pdf_%s.png\" %TAG, format=\"png\")\n",
    "    plt.savefig(\"param_pdf.png\", format=\"png\")\n",
    "    plt.show()\n"
   ]
  },
  {
   "cell_type": "code",
   "execution_count": 100,
   "id": "56679c34",
   "metadata": {},
   "outputs": [],
   "source": [
    "\n",
    "def histo_params( x, title = \"None\"):\n",
    "    keys = list(x)\n",
    "    LEN  = len(keys)\n",
    "    fig, ax = plt.subplots(1,LEN, figsize=(12,4))\n",
    "    if not title == None: fig.suptitle(title)\n",
    "    for n in range(LEN):\n",
    "        tag  = keys[n]\n",
    "        lo   = np.min(x[tag])\n",
    "        hi   = np.max(x[tag])\n",
    "        bins = np.arange(lo, hi, (hi-lo)/100.)\n",
    "        ax[n].hist(x[tag], density=True, facecolor='g', bins=bins)\n",
    "        ax[n].set_title(tag)\n",
    "        n += 1\n",
    "    plt.subplots_adjust(left=.05, right=.95, bottom=.10, top=.80, wspace=.50)\n",
    "    plt.show()\n"
   ]
  },
  {
   "cell_type": "markdown",
   "id": "a253a346",
   "metadata": {},
   "source": [
    "#### Pricing Functions"
   ]
  },
  {
   "cell_type": "markdown",
   "id": "8b6964cb",
   "metadata": {},
   "source": [
    "This is the pricing function for the Heston Model we use in this example. The `Heston` class and the `ft_opt` function are defined in the `Lib` module. For a complete description of the Heston model refer to the Computational Finance Lecture Notes of Pietro Rossi."
   ]
  },
  {
   "cell_type": "code",
   "execution_count": 101,
   "id": "d01230d5",
   "metadata": {},
   "outputs": [],
   "source": [
    "from ptr_lib_1.Heston import Heston\n",
    "from ptr_lib_1.FT_opt import ft_opt\n",
    "\n",
    "def HestonPut(St, Strike, T, kappa, theta, sigma, v0, rho, r, Xc = 30):\n",
    "\n",
    "    kT    = (Strike/St)*math.exp(-r*T)\n",
    "    \n",
    "    hestn = Heston(lmbda=kappa, eta=sigma, nubar=theta, nu_o=v0, rho=rho)\n",
    "    res   = ft_opt(hestn, kT, T, Xc)\n",
    "    \n",
    "    return res['put'];"
   ]
  },
  {
   "cell_type": "markdown",
   "id": "72f9e87d",
   "metadata": {},
   "source": [
    "Make same simple pricing example..."
   ]
  },
  {
   "cell_type": "code",
   "execution_count": 102,
   "id": "067a13f6",
   "metadata": {},
   "outputs": [],
   "source": [
    "'''\n",
    "Model Parameters\n",
    "\n",
    "Heston parameters:\n",
    "    kappa  = volatility mean reversion speed parameter\n",
    "    theta  = volatility mean reversion level parameter\n",
    "    rho    = correlation between two Brownian motions\n",
    "    sigma  = volatility of variance\n",
    "    v0     = initial variance\n",
    "'''\n",
    "kappa  = 1.325  \n",
    "theta  = 0.089 \n",
    "sigma  = 0.231 \n",
    "rho    = -0.9 \n",
    "v0     = 0.153 \n",
    "\n",
    "r      = 0.01\n",
    "q      = 0.00\n",
    "St     = 1.0\n",
    "K      = 1.10\n",
    "T      = 0.25\n",
    "\n",
    "# the put price\n",
    "HestonP = St * HestonPut(St, K, T, kappa, theta, sigma, v0, rho, r, 30)\n",
    "\n",
    "# The call price by put-call parity\n",
    "HestonC  = HestonP + St * math.exp(-q * T) - K * math.exp(-r * T)"
   ]
  },
  {
   "cell_type": "code",
   "execution_count": 103,
   "id": "962ec84f",
   "metadata": {},
   "outputs": [
    {
     "name": "stdout",
     "output_type": "stream",
     "text": [
      "Call price : 0.03695376402274331\n",
      "Put  price : 0.13420719865994957\n"
     ]
    }
   ],
   "source": [
    "print('Call price : ' + str(HestonC))\n",
    "print('Put  price : ' + str(HestonP))"
   ]
  },
  {
   "cell_type": "code",
   "execution_count": 104,
   "id": "1786e6a7",
   "metadata": {},
   "outputs": [],
   "source": [
    "def lhs_sampling(rand, NUM, bounds=None):\n",
    "\n",
    "    kw = list(bounds)\n",
    "\n",
    "    # builds the array of bounds\n",
    "    limits = np.empty( shape=(0,2) )\n",
    "    for k in kw: limits = np.concatenate((limits, [bounds[k]]), axis=0)\n",
    "\n",
    "    sampling = LHS(xlimits=limits)\n",
    "    x   = sampling(NUM)\n",
    "\n",
    "    X = pd.DataFrame()\n",
    "    for n in range(len(kw)):\n",
    "        tag = kw[n]\n",
    "        X[tag] = x[:,n]\n",
    "\n",
    "\n",
    "    y = np.where( 2*X[\"k\"]*X[\"theta\"] < np.power( X[\"sigma\"], 2), 1, 0)\n",
    "    p = (100.*np.sum(y))/NUM\n",
    "    print(\"@ %-34s: %s = %6d out of %6d ( %.7f %s)\" %(\"Info\", \"Feller violations\", np.sum(y), NUM, p, \"%\"))\n",
    "\n",
    "    return X\n"
   ]
  },
  {
   "cell_type": "markdown",
   "id": "bdc458a7",
   "metadata": {},
   "source": [
    "#### Function for parameters generation"
   ]
  },
  {
   "cell_type": "code",
   "execution_count": 105,
   "id": "eeb91052",
   "metadata": {},
   "outputs": [],
   "source": [
    "from tqdm        import tqdm\n",
    "\n",
    "def parms_gen( lhs = None, Xc=10, strikes=None):\n",
    "\n",
    "    if lhs is None: raise Exception(\"No data to process\")\n",
    "    x = lhs\n",
    "\n",
    "    NUM = len(x[\"T\"])\n",
    "\n",
    "    X = pd.DataFrame()\n",
    "    for tag in list(x):\n",
    "        X[tag] = np.full(NUM,0.0, dtype = np.double)\n",
    "    X[\"Price\"] = np.full(NUM,0.0, dtype = np.double)\n",
    "    \n",
    "    __tStart = time.perf_counter()\n",
    "    pCount = 0\n",
    "    cCount = 0\n",
    "    n      = 0\n",
    "    \n",
    "    for m in tqdm(range(NUM)):\n",
    "        Fw    = 1.0\n",
    "        K     = x[\"Strike\"][m]\n",
    "\n",
    "        fwPut = HestonPut( St     = Fw\n",
    "                         , Strike = K\n",
    "                         , T      = x[\"T\"][m]\n",
    "                         , kappa  = x[\"k\"][m]\n",
    "                         , theta  = x[\"theta\"][m]\n",
    "                         , sigma  = x[\"sigma\"][m]\n",
    "                         , v0     = x[\"v0\"][m]\n",
    "                         , r      = 0 \n",
    "                         , rho    = x[\"rho\"][m]\n",
    "                         , Xc     = Xc)\n",
    "        \n",
    "        if fwPut < max(K-Fw,0.): \n",
    "            pCount += 1\n",
    "            continue\n",
    "\n",
    "        for tag in list(x):\n",
    "            X[tag][n] = x[tag][m]\n",
    "        X[\"Price\"][n] = fwPut\n",
    "        n += 1\n",
    "        # ---------------------------------------\n",
    "\n",
    "    __tEnd = time.perf_counter()\n",
    "    print(\"@ %-34s: elapsed %.4f sec\" %(\"Seq. pricing\", __tEnd - __tStart) )\n",
    "\n",
    "    # Trim the original vector ....\n",
    "    nSamples = n\n",
    "\n",
    "    df = pd.DataFrame()\n",
    "    for s in X.keys(): df[s] = np.copy(X[s][0:nSamples])\n",
    "    print(\"@ %-34s: Violations Put=%d, Call=%d DB=%d out of %d\" %(\"Info\", pCount, cCount, nSamples, NUM))\n",
    "    return df\n"
   ]
  },
  {
   "cell_type": "markdown",
   "id": "d69de355",
   "metadata": {},
   "source": [
    "### Generates and displays random parameters"
   ]
  },
  {
   "cell_type": "markdown",
   "id": "962e4fba",
   "metadata": {},
   "source": [
    "**Constant Definition**"
   ]
  },
  {
   "cell_type": "code",
   "execution_count": 106,
   "id": "98530114",
   "metadata": {},
   "outputs": [],
   "source": [
    "\n",
    "    verbose = False\n",
    "    \n",
    "    outputPrfx    = \"full\"\n",
    "    testPrfx      = \"test\"\n",
    "    targetPrfx    = \"trgt\"\n",
    "    \n",
    "    EPS           = 0.00\n",
    "    XC            = 10.0 \n",
    "    \n",
    "    # bounds for the random generation of model parameters\n",
    "    # and contract parameters\n",
    "    bounds = { \"k\":       [ .01   , 1.00]\n",
    "             , \"theta\":   [ .01   ,  .80]\n",
    "             , \"sigma\":   [ .01   , 1.00]\n",
    "             , \"v0\":      [ .01   ,  .80]\n",
    "             , \"rho\":     [-.99   , 0.00]\n",
    "             , \"T\":       [ 1./12., 2.00]\n",
    "             , \"Strike\":  [ .6    , 1.40]\n",
    "             }\n",
    "\n",
    "    NUM     = 100000\n",
    "    TAG     = '100000_MCA'\n",
    "    rand    = np.random.RandomState(42)\n",
    "    \n",
    "    # strikes used to build the smile used as a regressor\n",
    "    strikes = np.arange(.8, 1.2, .025)"
   ]
  },
  {
   "cell_type": "code",
   "execution_count": 107,
   "id": "9180be4b",
   "metadata": {},
   "outputs": [
    {
     "name": "stdout",
     "output_type": "stream",
     "text": [
      "@ Info                              : Feller violations =  43734 out of 100000 ( 43.7340000 %)\n",
      "@ LHS                               : elapsed 0.0824 sec\n"
     ]
    },
    {
     "data": {
      "image/png": "[encoded data removed]",
      "text/plain": [
       "<Figure size 864x288 with 7 Axes>"
      ]
     },
     "metadata": {
      "needs_background": "light"
     },
     "output_type": "display_data"
    }
   ],
   "source": [
    "   \n",
    "    __tStart = time.perf_counter()\n",
    "    xDF = lhs_sampling(rand, NUM, bounds = bounds)\n",
    "    __tEnd = time.perf_counter()\n",
    "    print(\"@ %-34s: elapsed %.4f sec\" %(\"LHS\", __tEnd - __tStart) )\n",
    "\n",
    "    # Let's check the distribution of the parameters we have generated\n",
    "    histo_params( xDF, title = \"Random parameters density functions\")\n",
    "\n",
    "   "
   ]
  },
  {
   "cell_type": "markdown",
   "id": "c3b08a56",
   "metadata": {},
   "source": [
    "**Generate random DB**"
   ]
  },
  {
   "cell_type": "code",
   "execution_count": 108,
   "id": "7aa1f5c2",
   "metadata": {},
   "outputs": [
    {
     "name": "stderr",
     "output_type": "stream",
     "text": [
      "100%|██████████████████████████████████████████████| 100000/100000 [13:42<00:00, 121.59it/s]"
     ]
    },
    {
     "name": "stdout",
     "output_type": "stream",
     "text": [
      "@ Seq. pricing                      : elapsed 822.4126 sec\n",
      "@ Info                              : Violations Put=25, Call=0 DB=99975 out of 100000\n",
      "@ GEN                               : elapsed 822.4566 sec\n"
     ]
    },
    {
     "name": "stderr",
     "output_type": "stream",
     "text": [
      "\n"
     ]
    }
   ],
   "source": [
    "    # Generate training/test set\n",
    "    __tStart = time.perf_counter()\n",
    "    df =  parms_gen( lhs = xDF, Xc=XC, strikes = strikes)\n",
    "    __tEnd = time.perf_counter()\n",
    "    print(\"@ %-34s: elapsed %.4f sec\" %(\"GEN\", __tEnd - __tStart) )\n"
   ]
  },
  {
   "cell_type": "code",
   "execution_count": 114,
   "id": "2699fb50",
   "metadata": {},
   "outputs": [
    {
     "data": {
      "text/html": [
       "<div>\n",
       "<style scoped>\n",
       "    .dataframe tbody tr th:only-of-type {\n",
       "        vertical-align: middle;\n",
       "    }\n",
       "\n",
       "    .dataframe tbody tr th {\n",
       "        vertical-align: top;\n",
       "    }\n",
       "\n",
       "    .dataframe thead th {\n",
       "        text-align: right;\n",
       "    }\n",
       "</style>\n",
       "<table border=\"1\" class=\"dataframe\">\n",
       "  <thead>\n",
       "    <tr style=\"text-align: right;\">\n",
       "      <th></th>\n",
       "      <th>k</th>\n",
       "      <th>theta</th>\n",
       "      <th>sigma</th>\n",
       "      <th>v0</th>\n",
       "      <th>rho</th>\n",
       "      <th>T</th>\n",
       "      <th>Strike</th>\n",
       "      <th>Price</th>\n",
       "    </tr>\n",
       "  </thead>\n",
       "  <tbody>\n",
       "    <tr>\n",
       "      <th>0</th>\n",
       "      <td>0.771335</td>\n",
       "      <td>0.734086</td>\n",
       "      <td>0.364702</td>\n",
       "      <td>0.138900</td>\n",
       "      <td>-0.330705</td>\n",
       "      <td>1.019021</td>\n",
       "      <td>0.799964</td>\n",
       "      <td>0.116915</td>\n",
       "    </tr>\n",
       "    <tr>\n",
       "      <th>1</th>\n",
       "      <td>0.514915</td>\n",
       "      <td>0.198719</td>\n",
       "      <td>0.055337</td>\n",
       "      <td>0.110658</td>\n",
       "      <td>-0.565463</td>\n",
       "      <td>0.716073</td>\n",
       "      <td>1.146180</td>\n",
       "      <td>0.212483</td>\n",
       "    </tr>\n",
       "    <tr>\n",
       "      <th>2</th>\n",
       "      <td>0.530329</td>\n",
       "      <td>0.015573</td>\n",
       "      <td>0.153278</td>\n",
       "      <td>0.321398</td>\n",
       "      <td>-0.226616</td>\n",
       "      <td>0.305101</td>\n",
       "      <td>1.067996</td>\n",
       "      <td>0.160327</td>\n",
       "    </tr>\n",
       "    <tr>\n",
       "      <th>3</th>\n",
       "      <td>0.943634</td>\n",
       "      <td>0.483633</td>\n",
       "      <td>0.169425</td>\n",
       "      <td>0.034684</td>\n",
       "      <td>-0.292124</td>\n",
       "      <td>0.680615</td>\n",
       "      <td>0.920556</td>\n",
       "      <td>0.087044</td>\n",
       "    </tr>\n",
       "    <tr>\n",
       "      <th>4</th>\n",
       "      <td>0.471731</td>\n",
       "      <td>0.360401</td>\n",
       "      <td>0.843694</td>\n",
       "      <td>0.547236</td>\n",
       "      <td>-0.057296</td>\n",
       "      <td>1.141170</td>\n",
       "      <td>1.371148</td>\n",
       "      <td>0.548135</td>\n",
       "    </tr>\n",
       "    <tr>\n",
       "      <th>5</th>\n",
       "      <td>0.128656</td>\n",
       "      <td>0.096722</td>\n",
       "      <td>0.555733</td>\n",
       "      <td>0.588071</td>\n",
       "      <td>-0.083046</td>\n",
       "      <td>0.961080</td>\n",
       "      <td>1.188580</td>\n",
       "      <td>0.406498</td>\n",
       "    </tr>\n",
       "    <tr>\n",
       "      <th>6</th>\n",
       "      <td>0.378433</td>\n",
       "      <td>0.049622</td>\n",
       "      <td>0.333953</td>\n",
       "      <td>0.727435</td>\n",
       "      <td>-0.632268</td>\n",
       "      <td>1.096876</td>\n",
       "      <td>0.607732</td>\n",
       "      <td>0.101937</td>\n",
       "    </tr>\n",
       "    <tr>\n",
       "      <th>7</th>\n",
       "      <td>0.800708</td>\n",
       "      <td>0.461141</td>\n",
       "      <td>0.281344</td>\n",
       "      <td>0.362107</td>\n",
       "      <td>-0.734813</td>\n",
       "      <td>1.558180</td>\n",
       "      <td>0.966932</td>\n",
       "      <td>0.278782</td>\n",
       "    </tr>\n",
       "    <tr>\n",
       "      <th>8</th>\n",
       "      <td>0.406084</td>\n",
       "      <td>0.476902</td>\n",
       "      <td>0.258445</td>\n",
       "      <td>0.459917</td>\n",
       "      <td>-0.529794</td>\n",
       "      <td>1.154951</td>\n",
       "      <td>1.169476</td>\n",
       "      <td>0.391922</td>\n",
       "    </tr>\n",
       "    <tr>\n",
       "      <th>9</th>\n",
       "      <td>0.064841</td>\n",
       "      <td>0.567191</td>\n",
       "      <td>0.133656</td>\n",
       "      <td>0.039921</td>\n",
       "      <td>-0.699252</td>\n",
       "      <td>1.334562</td>\n",
       "      <td>0.717980</td>\n",
       "      <td>0.019210</td>\n",
       "    </tr>\n",
       "  </tbody>\n",
       "</table>\n",
       "</div>"
      ],
      "text/plain": [
       "          k     theta     sigma        v0       rho         T    Strike  \\\n",
       "0  0.771335  0.734086  0.364702  0.138900 -0.330705  1.019021  0.799964   \n",
       "1  0.514915  0.198719  0.055337  0.110658 -0.565463  0.716073  1.146180   \n",
       "2  0.530329  0.015573  0.153278  0.321398 -0.226616  0.305101  1.067996   \n",
       "3  0.943634  0.483633  0.169425  0.034684 -0.292124  0.680615  0.920556   \n",
       "4  0.471731  0.360401  0.843694  0.547236 -0.057296  1.141170  1.371148   \n",
       "5  0.128656  0.096722  0.555733  0.588071 -0.083046  0.961080  1.188580   \n",
       "6  0.378433  0.049622  0.333953  0.727435 -0.632268  1.096876  0.607732   \n",
       "7  0.800708  0.461141  0.281344  0.362107 -0.734813  1.558180  0.966932   \n",
       "8  0.406084  0.476902  0.258445  0.459917 -0.529794  1.154951  1.169476   \n",
       "9  0.064841  0.567191  0.133656  0.039921 -0.699252  1.334562  0.717980   \n",
       "\n",
       "      Price  \n",
       "0  0.116915  \n",
       "1  0.212483  \n",
       "2  0.160327  \n",
       "3  0.087044  \n",
       "4  0.548135  \n",
       "5  0.406498  \n",
       "6  0.101937  \n",
       "7  0.278782  \n",
       "8  0.391922  \n",
       "9  0.019210  "
      ]
     },
     "execution_count": 114,
     "metadata": {},
     "output_type": "execute_result"
    }
   ],
   "source": [
    "df.head(10)"
   ]
  },
  {
   "cell_type": "markdown",
   "id": "c841592f",
   "metadata": {},
   "source": [
    "Select a random subset as a challenge set"
   ]
  },
  {
   "cell_type": "code",
   "execution_count": 115,
   "id": "e4adcb4d",
   "metadata": {},
   "outputs": [],
   "source": [
    "X_train, X_test = train_test_split(df, test_size=0.33, random_state=42)"
   ]
  },
  {
   "cell_type": "markdown",
   "id": "93c9b0e6",
   "metadata": {},
   "source": [
    "Add some noise to the training set"
   ]
  },
  {
   "cell_type": "code",
   "execution_count": 116,
   "id": "608b812b",
   "metadata": {},
   "outputs": [],
   "source": [
    "# Add some noise to the training set\n",
    "if EPS > 0.0:\n",
    "    X_train_n = X_train.copy()\n",
    "    xl = np.min(X_train[\"Price\"])\n",
    "    xh = np.max(X_train[\"Price\"])\n",
    "\n",
    "    xi = rand.normal( loc = 0.0, scale = EPS*(xh-xl), size=X_train.shape[0])\n",
    "    X_train_n[\"Price\"] += xi\n",
    "else: X_train_n = X_train"
   ]
  },
  {
   "cell_type": "markdown",
   "id": "3eb08604",
   "metadata": {},
   "source": [
    "Display the amount of noise"
   ]
  },
  {
   "cell_type": "code",
   "execution_count": 117,
   "id": "23a530a3",
   "metadata": {},
   "outputs": [
    {
     "data": {
      "image/png": "[encoded data removed]",
      "text/plain": [
       "<Figure size 864x432 with 2 Axes>"
      ]
     },
     "metadata": {
      "needs_background": "light"
     },
     "output_type": "display_data"
    }
   ],
   "source": [
    "import warnings\n",
    "warnings.simplefilter('ignore')\n",
    "# Check the dispersion\n",
    "if EPS > 0.0:\n",
    "    xMin = 0.0\n",
    "    xMax = max(X_train[\"Price\"])\n",
    "    v = np.arange(xMin, xMax, (xMax - xMin)/100.)\n",
    "\n",
    "    fig, ax = plt.subplots(1,1, figsize=(12,6))\n",
    "\n",
    "    ax.plot( X_train[\"Price\"], X_train_n[\"Price\"], \".\", markersize=1)\n",
    "    ax.plot( v, v, color=\"red\")\n",
    "    ax.set_title(\"Perturbed\")\n",
    "    ax.set_xlabel(\"X train\")\n",
    "    ax.set_ylabel(\"X train with noise\")\n",
    "\n",
    "    #figName = \"scatter_%s.png\" %(TAG)\n",
    "    figName = \"scatter_noise.png\" \n",
    "    plt.savefig(figName, format=\"png\")\n",
    "    plt.show()\n",
    "    histo_dict( {\"Train\"    : np.array(X_train[\"Price\"]), \n",
    "                 \"Test\"     : np.array(X_test[\"Price\"]), \n",
    "                 \"Perturbed\": np.array(X_train_n[\"Price\"]) }, TAG=TAG)\n",
    "else:\n",
    "    histo_dict( {\"Train\": np.array(X_train[\"Price\"]), \"Test\": np.array(X_test[\"Price\"]) }, TAG=TAG )"
   ]
  },
  {
   "cell_type": "markdown",
   "id": "12fc5ea1",
   "metadata": {},
   "source": [
    "remove the target from the test set"
   ]
  },
  {
   "cell_type": "code",
   "execution_count": 118,
   "id": "c9a73c88",
   "metadata": {},
   "outputs": [],
   "source": [
    "    Y = pd.DataFrame({\"Price\": X_test[\"Price\"]})\n",
    "    X_test = X_test.drop(columns=\"Price\")"
   ]
  },
  {
   "cell_type": "markdown",
   "id": "05d5d9a4",
   "metadata": {},
   "source": [
    "### Saving dataset to disk"
   ]
  },
  {
   "cell_type": "markdown",
   "id": "4175a624",
   "metadata": {},
   "source": [
    "write training set to disk"
   ]
  },
  {
   "cell_type": "code",
   "execution_count": 119,
   "id": "829314c8",
   "metadata": {},
   "outputs": [
    {
     "name": "stdout",
     "output_type": "stream",
     "text": [
      "@ Info                              : training data frame written to 'full_100000_MCA.csv'\n"
     ]
    }
   ],
   "source": [
    "    outputFile = \"%s_%s.csv\" %(outputPrfx, TAG)\n",
    "    X_train_n.to_csv(outputFile, sep=',', float_format=\"%.6f\", index=False)\n",
    "    print(\"@ %-34s: training data frame written to '%s'\" %(\"Info\", outputFile))\n",
    "    if verbose: print(outputFile); print(X)"
   ]
  },
  {
   "cell_type": "markdown",
   "id": "21242f18",
   "metadata": {},
   "source": [
    "write challenge set to disk"
   ]
  },
  {
   "cell_type": "code",
   "execution_count": 120,
   "id": "fcf40dd1",
   "metadata": {},
   "outputs": [
    {
     "name": "stdout",
     "output_type": "stream",
     "text": [
      "@ Info                              : challenge data frame written to 'test_100000_MCA.csv'\n"
     ]
    }
   ],
   "source": [
    "    challengeFile = \"%s_%s.csv\" %(testPrfx, TAG)\n",
    "    X_test.to_csv(challengeFile, sep=',', float_format=\"%.6f\", index=False)\n",
    "    print(\"@ %-34s: challenge data frame written to '%s'\" %(\"Info\", challengeFile))\n",
    "    if verbose: print(challengeFile); print(X_train)"
   ]
  },
  {
   "cell_type": "markdown",
   "id": "a12647e8",
   "metadata": {},
   "source": [
    "write target to disk"
   ]
  },
  {
   "cell_type": "code",
   "execution_count": 121,
   "id": "3e6df9c3",
   "metadata": {},
   "outputs": [
    {
     "name": "stdout",
     "output_type": "stream",
     "text": [
      "@ Info                              : target data frame written to 'trgt_100000_MCA.csv'\n"
     ]
    }
   ],
   "source": [
    "    targetFile = \"%s_%s.csv\" %(targetPrfx, TAG)\n",
    "    Y.to_csv(targetFile, sep=',', float_format=\"%.6f\", index=False)\n",
    "    print(\"@ %-34s: target data frame written to '%s'\" %(\"Info\", targetFile))\n",
    "    if verbose: print(targetFile); print(Y)"
   ]
  },
  {
   "cell_type": "code",
   "execution_count": null,
   "id": "155ba7b4",
   "metadata": {},
   "outputs": [],
   "source": []
  }
 ],
 "metadata": {
  "kernelspec": {
   "display_name": "Python 3 (ipykernel)",
   "language": "python",
   "name": "python3"
  },
  "language_info": {
   "codemirror_mode": {
    "name": "ipython",
    "version": 3
   },
   "file_extension": ".py",
   "mimetype": "text/x-python",
   "name": "python",
   "nbconvert_exporter": "python",
   "pygments_lexer": "ipython3",
   "version": "3.7.4"
  },
  "toc": {
   "base_numbering": 1,
   "nav_menu": {},
   "number_sections": true,
   "sideBar": true,
   "skip_h1_title": false,
   "title_cell": "Table of Contents",
   "title_sidebar": "Contents",
   "toc_cell": false,
   "toc_position": {},
   "toc_section_display": true,
   "toc_window_display": false
  }
 },
 "nbformat": 4,
 "nbformat_minor": 5
}
