{
 "cells": [
  {
   "cell_type": "markdown",
   "id": "eb92d39c",
   "metadata": {
    "id": "eb92d39c"
   },
   "source": [
    "<table align=\"left\">\n",
    "  <td>\n",
    "    <a target=\"_blank\" href=\"https://colab.research.google.com/github/polyhedron-gdl/advanced-machine-learning-for-finance/blob/main/2022/1-notebooks/chapter-3-1.ipynb\">\n",
    "        <img src=\"https://www.tensorflow.org/images/colab_logo_32px.png\" />Run in Google Colab</a>\n",
    "  </td>\n",
    "</table>"
   ]
  },
  {
   "cell_type": "markdown",
   "id": "c59aecd7",
   "metadata": {
    "id": "c59aecd7"
   },
   "source": [
    "# NN Heston Model - Parameters Generation"
   ]
  },
  {
   "cell_type": "code",
   "execution_count": 1,
   "id": "IMbE1Y3rGSq3",
   "metadata": {
    "colab": {
     "base_uri": "https://localhost:8080/"
    },
    "executionInfo": {
     "elapsed": 38525,
     "status": "ok",
     "timestamp": 1651844319379,
     "user": {
      "displayName": "Giovanni Della Lunga",
      "userId": "13927304036683734865"
     },
     "user_tz": -120
    },
    "id": "IMbE1Y3rGSq3",
    "outputId": "54626346-6ec7-4752-98c6-4ca39459ea18"
   },
   "outputs": [],
   "source": [
    "#!pip install -q smt"
   ]
  },
  {
   "cell_type": "code",
   "execution_count": 25,
   "id": "0b35ce4f",
   "metadata": {
    "executionInfo": {
     "elapsed": 347,
     "status": "ok",
     "timestamp": 1651849368108,
     "user": {
      "displayName": "Giovanni Della Lunga",
      "userId": "13927304036683734865"
     },
     "user_tz": -120
    },
    "id": "0b35ce4f"
   },
   "outputs": [],
   "source": [
    "import sys\n",
    "import numpy as np\n",
    "import pandas as pd\n",
    "import matplotlib.pyplot as plt\n",
    "import time\n",
    "import math\n",
    "\n",
    "from smt.sampling_methods import LHS\n",
    "from sklearn.model_selection import train_test_split"
   ]
  },
  {
   "cell_type": "markdown",
   "id": "b19d9fa2",
   "metadata": {
    "id": "b19d9fa2"
   },
   "source": [
    "## Introduction\n",
    "\n",
    "Pricing in mathematical finance is building a complex function from a model following some constraint.\n",
    "Since models are just a rough description of markets, we accept the fact that each day we do 'calibrate'\n",
    "models in order to match as much as possible what we see on the market. The complexity of the calibration procedure depends on the complexity of the underlying model deemed capable to describe the market situation. Most of the effort in applying neural networks to pricing has gone into the direction of devising \n",
    "clever shortcuts to the calibration mechanism.\n",
    "\n",
    "We want to bypass this phase exploting the fact that pricing with a calibrated model amounts to \n",
    "the composition of two functions: one from market data to model parameters, the second from model \n",
    "paramters to market data. This approach is in itself not new. Some authors have attempted the path of walking directly from\n",
    "market data to prices, leaving the model aside. In doing that they needed to train a network directly on market values. This approach required verylong time series and was able to train the netowrk only on quoted vanilla option.\n",
    "\n",
    "In our approch, the assumption that the model, properly calibrated, is capable to describe the market with \n",
    "enough accuracy, is an essential element.\n",
    "\n",
    "Given that we have outlined these concepts we can simply states the main goals of out work:\n",
    "\n",
    "- dispose of the burden of having to calibrate models\n",
    "- remove the need for ridiculously long time series of market data and option prices\n",
    "- get rid of all of the computational bottlenecks when going from market to prices.\n",
    "\n",
    "At this point, some of these goals need further explanation. That will come in due time. Let's start looking at a very simple example. For instance, if we resort to the Black-Scholes model:\n",
    "\n",
    "\\begin{align}\n",
    "    dS_t &= S_t \\sigma dW_t \\nonumber\n",
    "\\end{align}\n",
    "\n",
    "for a claim written on a single asset, all we have to do is to select the appropriate value for the volatility. And this is all is needed in terms of model calibration. If we are dealing with claims written on several assets, besides the volatility for each individual asset we have to decide on the correlations.\n",
    "\n",
    "\\begin{align}\n",
    "    dS^i_t &= S^i_t \\sigma^i dW^i_t \\nonumber\n",
    "\\\\ \\mathbb{E}[ dW^i_t dW^j_t\\,] &= \\rho_{ij} dt \\nonumber\n",
    "\\end{align}\n",
    "\n",
    "Things get a lot more involved if we use more advanced models like stochastic volatility models. \n",
    "For example, if we adopt the Heston model: \n",
    "\n",
    "\\begin{align}\n",
    "    dS_t &= S_t \\sqrt{\\nu_t} dW_t \\nonumber\n",
    "    \\\\ d\\nu_t &= k ( \\theta - \\nu_t) dt + \\eta\\sqrt{\\nu_t} dY_t, \\quad \\nu_0 = \\overline{\\nu} \\nonumber\n",
    "\\\\ {\\mathbb E}[ dW_t dY_t\\,] &= \\rho dt \\nonumber\n",
    "\\end{align}\n",
    "\n",
    "we have to calibrate the four parameters of the process of the stochastic volatility $(k, \\theta, \\nu_0, \\eta)$ \n",
    "and the correlation term $(\\rho)$ between the innovation processes.\n",
    "\n",
    "Still more complex is the situation if we want to tackle some IR product. In that case, even using a very simple\n",
    "model like the one factro Hull-White model:\n",
    "\n",
    "\\begin{align}\n",
    " dr(t) = k( \\theta(t) - r(t) ) dt  + \\sigma dW_t, \\quad r(0) = r_o\n",
    "\\end{align}\n",
    "\n",
    "besides parameters $(k, r_o, \\sigma)$ we are asked to calibrate a whole curve $\\theta(t)$\n",
    "needed to match today's observed discount curve."
   ]
  },
  {
   "cell_type": "markdown",
   "id": "d5a591aa",
   "metadata": {
    "id": "d5a591aa"
   },
   "source": [
    "## Standard approach to ML\n",
    "\n",
    "$\\newcommand{\\vect}[1]{{\\mathbf{\\boldsymbol{{#1}}}}}$\n",
    "$\\def\\Em{\\mathbb E}$\n",
    "\n",
    "Let's call $\\Pi( \\vect{\\alpha}, G(\\vect{g}) )$ the function pricing a position $G$ with a model described\n",
    "collectively by the parameters $\\vect{\\alpha}$, and the position described by the parameters $\\vect{g}$. To be clear, in case of an option $\\vect{g}$ could be the the pair maturity and strike. \n",
    "\n",
    "A standard ML exercise would call for \n",
    "\n",
    "- generating, according to some random rule, a set of parameters $\\vect{\\alpha}_n,\\; \\vect{g}_n\\; 1 \\le n \\le N$,</li>\n",
    "- for each $\\vect{\\alpha}_n\\, \\vect{g}_n$ compute the function pricing a derivative $G$ with a model described by the parameter set $\\vect{\\alpha}_n$. We define the total parameter set as  $\\Pi_n := \\Pi( \\vect{\\alpha}_n, G(\\vect{g}_n))$\n",
    " \n",
    "       \n",
    "Iterating the procedure described above, we can build a large matrix \n",
    "    \n",
    " <table>   \n",
    "     <tr>\n",
    "         <th colspan=\"2\">Features (Regressors)</th>\n",
    "         <th>Label (Target)</th>\n",
    "     </tr>\n",
    "     <tr>\n",
    "         <td> $\\vect{\\alpha}_1$</td> \n",
    "         <td> $\\vect{g}_1 $    </td> \n",
    "         <td>    $\\Pi_1$       </td>\n",
    "     </tr>\n",
    "     <tr>\n",
    "         <td>$\\vect{\\alpha}_2$</td>\n",
    "         <td>$\\vect{g}_2 $    </td>\n",
    "         <td>$\\Pi_2$          </td>\n",
    "     </tr>\n",
    "     <tr> <td></td><td>...</td><td></td> </tr>\n",
    "     <tr> \n",
    "         <td>$\\vect{\\alpha}_N$</td>\n",
    "         <td>$\\vect{g}_N $</td>\n",
    "         <td>$\\Pi_N$</td>\n",
    "     </tr>\n",
    "</table>\n",
    "    \n",
    "and use it to train a neural network that, if all goes well, will learn the map\n",
    "\n",
    "\\begin{equation}\n",
    "    \\phi_{NN}: \\vect{\\alpha}, \\vect{g} \\rightarrow \\Pi(\\vect{\\alpha}, G).\n",
    "\\end{equation}     "
   ]
  },
  {
   "cell_type": "markdown",
   "id": "4a5ca699",
   "metadata": {
    "id": "4a5ca699"
   },
   "source": [
    "## Generating Dataset"
   ]
  },
  {
   "cell_type": "markdown",
   "id": "e848cb46",
   "metadata": {
    "id": "e848cb46"
   },
   "source": [
    "### Python support functions"
   ]
  },
  {
   "cell_type": "markdown",
   "id": "544d5723",
   "metadata": {
    "id": "544d5723"
   },
   "source": [
    "#### Plotting Functions"
   ]
  },
  {
   "cell_type": "code",
   "execution_count": 26,
   "id": "991e2247",
   "metadata": {
    "executionInfo": {
     "elapsed": 415,
     "status": "ok",
     "timestamp": 1651849372338,
     "user": {
      "displayName": "Giovanni Della Lunga",
      "userId": "13927304036683734865"
     },
     "user_tz": -120
    },
    "id": "991e2247"
   },
   "outputs": [],
   "source": [
    "def histo_dict(df, TAG = '0000'):\n",
    "    keys = list(df.keys())\n",
    "    LEN = len(keys)\n",
    "    fig, ax = plt.subplots(1,LEN, figsize=(12,6))\n",
    "    for n in range(LEN):\n",
    "        k     = keys[n]\n",
    "        x     = df[k]\n",
    "        lo   = np.min(x)\n",
    "        hi   = np.max(x)\n",
    "        bins = np.arange(lo, hi, (hi-lo)/100.)\n",
    "        ax[n].hist(x, density=True, facecolor='g', bins=bins)\n",
    "        ax[n].set_title(\"%s (len=%d)\" %(k,len(x)))\n",
    "        n += 1\n",
    "    \n",
    "    #plt.savefig(\"pdf_%s.png\" %TAG, format=\"png\")\n",
    "    plt.savefig(\"param_pdf.png\", format=\"png\")\n",
    "    plt.show()\n"
   ]
  },
  {
   "cell_type": "code",
   "execution_count": 27,
   "id": "56679c34",
   "metadata": {
    "executionInfo": {
     "elapsed": 3,
     "status": "ok",
     "timestamp": 1651849373799,
     "user": {
      "displayName": "Giovanni Della Lunga",
      "userId": "13927304036683734865"
     },
     "user_tz": -120
    },
    "id": "56679c34"
   },
   "outputs": [],
   "source": [
    "def histo_params( x, title = \"None\"):\n",
    "    keys = list(x)\n",
    "    LEN  = len(keys)\n",
    "    fig, ax = plt.subplots(1,LEN, figsize=(12,4))\n",
    "    if not title == None: fig.suptitle(title)\n",
    "    for n in range(LEN):\n",
    "        tag  = keys[n]\n",
    "        lo   = np.min(x[tag])\n",
    "        hi   = np.max(x[tag])\n",
    "        bins = np.arange(lo, hi, (hi-lo)/100.)\n",
    "        ax[n].hist(x[tag], density=True, facecolor='g', bins=bins)\n",
    "        ax[n].set_title(tag)\n",
    "        n += 1\n",
    "    plt.subplots_adjust(left=.05, right=.95, bottom=.10, top=.80, wspace=.50)\n",
    "    plt.show()\n"
   ]
  },
  {
   "cell_type": "markdown",
   "id": "a253a346",
   "metadata": {
    "id": "a253a346"
   },
   "source": [
    "#### Pricing Functions"
   ]
  },
  {
   "cell_type": "markdown",
   "id": "8b6964cb",
   "metadata": {
    "id": "8b6964cb"
   },
   "source": [
    "This is the pricing function for the Heston Model we use in this example. The `Heston` class and the `ft_opt` function are defined in the `Lib` module. For a complete description of the Heston model refer to the Computational Finance Lecture Notes of Pietro Rossi."
   ]
  },
  {
   "cell_type": "code",
   "execution_count": 28,
   "id": "0670a7ef",
   "metadata": {
    "executionInfo": {
     "elapsed": 326,
     "status": "ok",
     "timestamp": 1651849382069,
     "user": {
      "displayName": "Giovanni Della Lunga",
      "userId": "13927304036683734865"
     },
     "user_tz": -120
    },
    "id": "0670a7ef"
   },
   "outputs": [],
   "source": [
    "import math\n",
    "import cmath\n",
    "from math import *\n",
    "import numpy as np\n",
    "\n",
    "#      1 + g\n",
    "#  ---------------------\n",
    "#    1 + g exp( - gamma * T )\n",
    "#\n",
    "def arg_log( c_gmma, c_g, T):\n",
    "    return (1.0 + c_g)/(1.0 + c_g*cmath.exp(-c_gmma*T))\n",
    "\n",
    "#\n",
    "#  C = 2 * log( (1 - g) / ( 1 - g e^{-gamma T } ) )/sigma^2\n",
    "#  arg_log := (1 - g) / ( 1 - g e^{-gamma T } )\n",
    "#\n",
    "def C( c_gmma, c_g, sigma, T):\n",
    "    c_psi = arg_log(c_gmma, c_g, T)\n",
    "    return 2*cmath.log(c_psi)/pow(sigma,2)\n",
    "\n",
    "#\n",
    "# .5 ( v - v^2 )\n",
    "#\n",
    "def Lambda( c_v): \n",
    "    return .5*c_v - .5*c_v*c_v\n",
    "\n",
    "#\n",
    "# Gamma =  SQRT( kappa^2 + 2 L sigma^2 )\n",
    "#\n",
    "def Gamma( c_L, c_kappa, sigma):\n",
    "    return cmath.sqrt(c_kappa*c_kappa + 2.*c_L*pow(sigma,2))\n",
    "#\n",
    "# g = ( gamma - kappa )/( gamma + kappa );\n",
    "#\n",
    "def G( c_kappa, c_gmma):\n",
    "    return (c_gmma - c_kappa)/(c_gmma + c_kappa)\n",
    "\n",
    "#\n",
    "# Z_p = ( gamma - kappa )/sigma^2\n",
    "#\n",
    "def Z_p( c_gmma, c_kappa, sigma):\n",
    "    return (c_gmma - c_kappa)/pow(sigma,2);\n",
    "#\n",
    "#\n",
    "# A = -kappa * theta * ( zp * T - C)\n",
    "#\n",
    "def A_tT( c_gmma, c_g, c_zp, c_kappa, c_theta, sigma, T):\n",
    "    c_c  = C( c_gmma, c_g, sigma, T)\n",
    "    c_kt = c_kappa * c_theta\n",
    "    return c_kt*(c_c - c_zp*T)\n",
    "#\n",
    "#\n",
    "# B = zp * ( 1 - e^{-gamma T } )/( 1 + g e^{-gamma T} )\n",
    "#\n",
    "def B_tT( c_gmma, c_g, c_zp, T):\n",
    "    c_exp_gt = cmath.exp(-c_gmma*T)\n",
    "    return c_zp*(1. - c_exp_gt)/( 1. + c_g*c_exp_gt )\n",
    "\n",
    "\n",
    "\n",
    "class Heston:\n",
    "\n",
    "    def __init__(self, **kwargs):\n",
    "        self._lambda= kwargs[\"lmbda\"] \n",
    "        self._eta   = kwargs[\"eta\"] \n",
    "        self._nubar = kwargs[\"nubar\"] \n",
    "        self._nu_o  = kwargs[\"nu_o\"] \n",
    "        self._rho   = kwargs[\"rho\"]\n",
    "# ----------------------------------------\n",
    "\n",
    "    @property\n",
    "    def lmbda(self): return self._lambda\n",
    "    @property\n",
    "    def eta(self)  : return self._eta\n",
    "    @property\n",
    "    def nubar(self): return self._nubar\n",
    "    @property\n",
    "    def nu_o(self) : return self._nu_o\n",
    "    @property\n",
    "    def rho(self) : return self._rho\n",
    "\n",
    "    def log_cf(self, c_k, t): \n",
    "        if c_k.real == 0.0: return 0. + 0j\n",
    "\n",
    "        c_v     = c_k*1j\n",
    "        c_L     = Lambda(c_v)\n",
    "        c_kappa = self.lmbda - self.rho*self.eta*c_v\n",
    "        c_gmma  = Gamma( c_L, c_kappa, self.eta)\n",
    "        c_g     = G    ( c_kappa, c_gmma)\n",
    "        c_zp    = Z_p  ( c_gmma, c_kappa, self.eta)\n",
    "\n",
    "        if self.lmbda == 0.0:\n",
    "            c_A = 0. + 0.0j\n",
    "        else:\n",
    "            c_theta = (self.lmbda*self.nubar)/c_kappa;\n",
    "            c_A = A_tT( c_gmma, c_g, c_zp, c_kappa, c_theta, self.eta, t)\n",
    "\n",
    "        c_B = B_tT ( c_gmma, c_g, c_zp, t)\n",
    "\n",
    "        return c_A - self.nu_o*c_B\n",
    "    # -------------------------------------\n",
    "\n",
    "    def cf(self, c_k, t):\n",
    "        c_x = self.log_cf( c_k, t)\n",
    "        return cmath.exp(c_x)\n",
    "    # -----------------------"
   ]
  },
  {
   "cell_type": "code",
   "execution_count": 29,
   "id": "76dcc8bf",
   "metadata": {
    "executionInfo": {
     "elapsed": 316,
     "status": "ok",
     "timestamp": 1651849385132,
     "user": {
      "displayName": "Giovanni Della Lunga",
      "userId": "13927304036683734865"
     },
     "user_tz": -120
    },
    "id": "76dcc8bf"
   },
   "outputs": [],
   "source": [
    "import math\n",
    "from math import *\n",
    "\n",
    "def pr_x_lt_w ( self, Xc, w, off, t):\n",
    "\n",
    "    m = 1\n",
    "    tot = 0.0\n",
    "    while True:\n",
    "        c_k = 2*math.pi*( m/(2*Xc) + off )\n",
    "        c_phi = self.cf(c_k, t)\n",
    "        th    = math.pi * m * w/Xc;\n",
    "        delta = (cos(th)*c_phi.imag - sin(th)*c_phi.real)/m; \n",
    "        tot  += delta\n",
    "        if fabs(delta/tot) < 1.e-10: break\n",
    "        m += 2\n",
    "    return .5 - 2.*tot/math.pi\n",
    "\n",
    "def ft_opt(self, Strike, T, Xc):\n",
    "    w       = log(Strike)\n",
    "\n",
    "    off = complex(0.0, 0.0)\n",
    "    cn = pr_x_lt_w( self, Xc, w, off, T)\n",
    "\n",
    "    off = complex(0.0, -1/(2*math.pi))\n",
    "    an = pr_x_lt_w( self, Xc, w, off, T)\n",
    "\n",
    "    \n",
    "    put  = Strike*cn - an; \n",
    "    pcn  = cn;\n",
    "    pan  = an;\n",
    "    call = put + (1. - Strike);\n",
    "\n",
    "    return {\"put\": put, \"call\":  call, \"pCn\": pcn, \"pAn\": pan}"
   ]
  },
  {
   "cell_type": "code",
   "execution_count": 30,
   "id": "d01230d5",
   "metadata": {
    "executionInfo": {
     "elapsed": 321,
     "status": "ok",
     "timestamp": 1651849684659,
     "user": {
      "displayName": "Giovanni Della Lunga",
      "userId": "13927304036683734865"
     },
     "user_tz": -120
    },
    "id": "d01230d5"
   },
   "outputs": [],
   "source": [
    "def HestonPut(St, Strike, T, kappa, theta, sigma, v0, rho, r, Xc = 30):\n",
    "\n",
    "    kT    = (Strike/St)*math.exp(-r*T)\n",
    "    \n",
    "    hestn = Heston(lmbda=kappa, eta=sigma, nubar=theta, nu_o=v0, rho=rho)\n",
    "    res   = ft_opt(hestn, kT, T, Xc)\n",
    "    \n",
    "    return res['put'];"
   ]
  },
  {
   "cell_type": "markdown",
   "id": "72f9e87d",
   "metadata": {
    "id": "72f9e87d"
   },
   "source": [
    "Make same simple pricing example..."
   ]
  },
  {
   "cell_type": "code",
   "execution_count": 31,
   "id": "067a13f6",
   "metadata": {
    "executionInfo": {
     "elapsed": 3,
     "status": "ok",
     "timestamp": 1651849685926,
     "user": {
      "displayName": "Giovanni Della Lunga",
      "userId": "13927304036683734865"
     },
     "user_tz": -120
    },
    "id": "067a13f6"
   },
   "outputs": [],
   "source": [
    "'''\n",
    "Model Parameters\n",
    "\n",
    "Heston parameters:\n",
    "    kappa  = volatility mean reversion speed parameter\n",
    "    theta  = volatility mean reversion level parameter\n",
    "    rho    = correlation between two Brownian motions\n",
    "    sigma  = volatility of variance\n",
    "    v0     = initial variance\n",
    "'''\n",
    "kappa  = 1.325  \n",
    "theta  = 0.089 \n",
    "sigma  = 0.231 \n",
    "rho    = -0.9 \n",
    "v0     = 0.153 \n",
    "\n",
    "r      = 0.01\n",
    "q      = 0.00\n",
    "St     = 1.0\n",
    "K      = 1.10\n",
    "T      = 0.25\n",
    "\n",
    "# the put price\n",
    "HestonP = St * HestonPut(St, K, T, kappa, theta, sigma, v0, rho, r, 30)\n",
    "\n",
    "# The call price by put-call parity\n",
    "HestonC  = HestonP + St * math.exp(-q * T) - K * math.exp(-r * T)"
   ]
  },
  {
   "cell_type": "code",
   "execution_count": 32,
   "id": "962ec84f",
   "metadata": {
    "colab": {
     "base_uri": "https://localhost:8080/"
    },
    "executionInfo": {
     "elapsed": 3,
     "status": "ok",
     "timestamp": 1651849687133,
     "user": {
      "displayName": "Giovanni Della Lunga",
      "userId": "13927304036683734865"
     },
     "user_tz": -120
    },
    "id": "962ec84f",
    "outputId": "cbedcc2b-e714-44c2-83f8-0149a0b0ec76"
   },
   "outputs": [
    {
     "name": "stdout",
     "output_type": "stream",
     "text": [
      "Call price : 0.03695376402274331\n",
      "Put  price : 0.13420719865994957\n"
     ]
    }
   ],
   "source": [
    "print('Call price : ' + str(HestonC))\n",
    "print('Put  price : ' + str(HestonP))"
   ]
  },
  {
   "cell_type": "code",
   "execution_count": 33,
   "id": "1786e6a7",
   "metadata": {
    "executionInfo": {
     "elapsed": 2,
     "status": "ok",
     "timestamp": 1651849687846,
     "user": {
      "displayName": "Giovanni Della Lunga",
      "userId": "13927304036683734865"
     },
     "user_tz": -120
    },
    "id": "1786e6a7"
   },
   "outputs": [],
   "source": [
    "def lhs_sampling(rand, NUM, bounds=None):\n",
    "\n",
    "    kw = list(bounds)\n",
    "\n",
    "    # builds the array of bounds\n",
    "    limits = np.empty( shape=(0,2) )\n",
    "    for k in kw: limits = np.concatenate((limits, [bounds[k]]), axis=0)\n",
    "\n",
    "    sampling = LHS(xlimits=limits)\n",
    "    x   = sampling(NUM)\n",
    "\n",
    "    X = pd.DataFrame()\n",
    "    for n in range(len(kw)):\n",
    "        tag = kw[n]\n",
    "        X[tag] = x[:,n]\n",
    "\n",
    "\n",
    "    y = np.where( 2*X[\"k\"]*X[\"theta\"] < np.power( X[\"sigma\"], 2), 1, 0)\n",
    "    p = (100.*np.sum(y))/NUM\n",
    "    print(\"@ %-34s: %s = %6d out of %6d ( %.7f %s)\" %(\"Info\", \"Feller violations\", np.sum(y), NUM, p, \"%\"))\n",
    "\n",
    "    return X\n"
   ]
  },
  {
   "cell_type": "markdown",
   "id": "bdc458a7",
   "metadata": {
    "id": "bdc458a7"
   },
   "source": [
    "#### Function for parameters generation"
   ]
  },
  {
   "cell_type": "code",
   "execution_count": 34,
   "id": "eeb91052",
   "metadata": {
    "executionInfo": {
     "elapsed": 314,
     "status": "ok",
     "timestamp": 1651849689847,
     "user": {
      "displayName": "Giovanni Della Lunga",
      "userId": "13927304036683734865"
     },
     "user_tz": -120
    },
    "id": "eeb91052"
   },
   "outputs": [],
   "source": [
    "from tqdm        import tqdm\n",
    "\n",
    "def parms_gen( lhs = None, Xc=10, strikes=None):\n",
    "\n",
    "    if lhs is None: raise Exception(\"No data to process\")\n",
    "    x = lhs\n",
    "\n",
    "    NUM = len(x[\"T\"])\n",
    "\n",
    "    X = pd.DataFrame()\n",
    "    for tag in list(x):\n",
    "        X[tag] = np.full(NUM,0.0, dtype = np.double)\n",
    "    X[\"Price\"] = np.full(NUM,0.0, dtype = np.double)\n",
    "    \n",
    "    __tStart = time.perf_counter()\n",
    "    pCount = 0\n",
    "    cCount = 0\n",
    "    n      = 0\n",
    "    \n",
    "    for m in tqdm(range(NUM)):\n",
    "        Fw    = 1.0\n",
    "        K     = x[\"Strike\"][m]\n",
    "\n",
    "        fwPut = HestonPut( St     = Fw\n",
    "                         , Strike = K\n",
    "                         , T      = x[\"T\"][m]\n",
    "                         , kappa  = x[\"k\"][m]\n",
    "                         , theta  = x[\"theta\"][m]\n",
    "                         , sigma  = x[\"sigma\"][m]\n",
    "                         , v0     = x[\"v0\"][m]\n",
    "                         , r      = 0 \n",
    "                         , rho    = x[\"rho\"][m]\n",
    "                         , Xc     = Xc)\n",
    "        \n",
    "        if fwPut < max(K-Fw,0.): \n",
    "            pCount += 1\n",
    "            continue\n",
    "\n",
    "        for tag in list(x):\n",
    "            X[tag][n] = x[tag][m]\n",
    "        X[\"Price\"][n] = fwPut\n",
    "        n += 1\n",
    "        # ---------------------------------------\n",
    "\n",
    "    __tEnd = time.perf_counter()\n",
    "    print(\"@ %-34s: elapsed %.4f sec\" %(\"Seq. pricing\", __tEnd - __tStart) )\n",
    "\n",
    "    # Trim the original vector ....\n",
    "    nSamples = n\n",
    "\n",
    "    df = pd.DataFrame()\n",
    "    for s in X.keys(): df[s] = np.copy(X[s][0:nSamples])\n",
    "    print(\"@ %-34s: Violations Put=%d, Call=%d DB=%d out of %d\" %(\"Info\", pCount, cCount, nSamples, NUM))\n",
    "    return df\n"
   ]
  },
  {
   "cell_type": "markdown",
   "id": "d69de355",
   "metadata": {
    "id": "d69de355"
   },
   "source": [
    "### Generates and displays random parameters"
   ]
  },
  {
   "cell_type": "markdown",
   "id": "962e4fba",
   "metadata": {
    "id": "962e4fba"
   },
   "source": [
    "**Constant Definition**"
   ]
  },
  {
   "cell_type": "code",
   "execution_count": 35,
   "id": "98530114",
   "metadata": {
    "executionInfo": {
     "elapsed": 354,
     "status": "ok",
     "timestamp": 1651849692453,
     "user": {
      "displayName": "Giovanni Della Lunga",
      "userId": "13927304036683734865"
     },
     "user_tz": -120
    },
    "id": "98530114"
   },
   "outputs": [],
   "source": [
    "verbose = False\n",
    "    \n",
    "outputPrfx    = \"full\"\n",
    "testPrfx      = \"test\"\n",
    "targetPrfx    = \"trgt\"\n",
    "    \n",
    "EPS           = 0.00\n",
    "XC            = 10.0 \n",
    "    \n",
    "# bounds for the random generation of model parameters\n",
    "# and contract parameters\n",
    "bounds = { \"k\":       [ .01   , 1.00]\n",
    "         , \"theta\":   [ .01   ,  .80]\n",
    "         , \"sigma\":   [ .01   , 1.00]\n",
    "         , \"v0\":      [ .01   ,  .80]\n",
    "         , \"rho\":     [-.99   , 0.00]\n",
    "         , \"T\":       [ 1./12., 2.00]\n",
    "         , \"Strike\":  [ .6    , 1.40]\n",
    "         }\n",
    "\n",
    "NUM     = 100000\n",
    "TAG     = str(NUM) + '_MCA'\n",
    "rand    = np.random.RandomState(42)\n",
    "\n",
    "# strikes used to build the smile used as a regressor\n",
    "strikes = np.arange(.8, 1.2, .025)"
   ]
  },
  {
   "cell_type": "code",
   "execution_count": 36,
   "id": "9180be4b",
   "metadata": {
    "colab": {
     "base_uri": "https://localhost:8080/",
     "height": 336
    },
    "executionInfo": {
     "elapsed": 2348,
     "status": "ok",
     "timestamp": 1651849696855,
     "user": {
      "displayName": "Giovanni Della Lunga",
      "userId": "13927304036683734865"
     },
     "user_tz": -120
    },
    "id": "9180be4b",
    "outputId": "e834aaa0-ecef-4688-f9f2-edd0e44124f6"
   },
   "outputs": [
    {
     "name": "stdout",
     "output_type": "stream",
     "text": [
      "@ Info                              : Feller violations =  43842 out of 100000 ( 43.8420000 %)\n",
      "@ LHS                               : elapsed 0.0842 sec\n"
     ]
    },
    {
     "data": {
      "image/png": "[encoded data removed]",
      "text/plain": [
       "<Figure size 864x288 with 7 Axes>"
      ]
     },
     "metadata": {
      "needs_background": "light"
     },
     "output_type": "display_data"
    }
   ],
   "source": [
    "__tStart = time.perf_counter()\n",
    "xDF = lhs_sampling(rand, NUM, bounds = bounds)\n",
    "__tEnd = time.perf_counter()\n",
    "print(\"@ %-34s: elapsed %.4f sec\" %(\"LHS\", __tEnd - __tStart) )\n",
    "\n",
    "# Let's check the distribution of the parameters we have generated\n",
    "histo_params( xDF, title = \"Random parameters density functions\")"
   ]
  },
  {
   "cell_type": "markdown",
   "id": "c3b08a56",
   "metadata": {
    "id": "c3b08a56"
   },
   "source": [
    "**Generate random DB**"
   ]
  },
  {
   "cell_type": "code",
   "execution_count": 37,
   "id": "7aa1f5c2",
   "metadata": {
    "colab": {
     "base_uri": "https://localhost:8080/"
    },
    "executionInfo": {
     "elapsed": 526672,
     "status": "ok",
     "timestamp": 1651850225628,
     "user": {
      "displayName": "Giovanni Della Lunga",
      "userId": "13927304036683734865"
     },
     "user_tz": -120
    },
    "id": "7aa1f5c2",
    "outputId": "d29b3509-f367-4bee-e9ae-e2e98bc565ab"
   },
   "outputs": [
    {
     "name": "stderr",
     "output_type": "stream",
     "text": [
      "100%|██████████████████████████████████████████████| 100000/100000 [12:45<00:00, 130.60it/s]"
     ]
    },
    {
     "name": "stdout",
     "output_type": "stream",
     "text": [
      "@ Seq. pricing                      : elapsed 765.6716 sec\n",
      "@ Info                              : Violations Put=28, Call=0 DB=99972 out of 100000\n",
      "@ GEN                               : elapsed 765.7205 sec\n"
     ]
    },
    {
     "name": "stderr",
     "output_type": "stream",
     "text": [
      "\n"
     ]
    }
   ],
   "source": [
    "# Generate training/test set\n",
    "__tStart = time.perf_counter()\n",
    "df =  parms_gen( lhs = xDF, Xc=XC, strikes = strikes)\n",
    "__tEnd = time.perf_counter()\n",
    "print(\"@ %-34s: elapsed %.4f sec\" %(\"GEN\", __tEnd - __tStart) )"
   ]
  },
  {
   "cell_type": "code",
   "execution_count": 38,
   "id": "2699fb50",
   "metadata": {
    "colab": {
     "base_uri": "https://localhost:8080/",
     "height": 363
    },
    "executionInfo": {
     "elapsed": 5,
     "status": "ok",
     "timestamp": 1651850773300,
     "user": {
      "displayName": "Giovanni Della Lunga",
      "userId": "13927304036683734865"
     },
     "user_tz": -120
    },
    "id": "2699fb50",
    "outputId": "be5c1945-467b-45f1-aeff-6acbbefe6634"
   },
   "outputs": [
    {
     "data": {
      "text/html": [
       "<div>\n",
       "<style scoped>\n",
       "    .dataframe tbody tr th:only-of-type {\n",
       "        vertical-align: middle;\n",
       "    }\n",
       "\n",
       "    .dataframe tbody tr th {\n",
       "        vertical-align: top;\n",
       "    }\n",
       "\n",
       "    .dataframe thead th {\n",
       "        text-align: right;\n",
       "    }\n",
       "</style>\n",
       "<table border=\"1\" class=\"dataframe\">\n",
       "  <thead>\n",
       "    <tr style=\"text-align: right;\">\n",
       "      <th></th>\n",
       "      <th>k</th>\n",
       "      <th>theta</th>\n",
       "      <th>sigma</th>\n",
       "      <th>v0</th>\n",
       "      <th>rho</th>\n",
       "      <th>T</th>\n",
       "      <th>Strike</th>\n",
       "      <th>Price</th>\n",
       "    </tr>\n",
       "  </thead>\n",
       "  <tbody>\n",
       "    <tr>\n",
       "      <th>0</th>\n",
       "      <td>0.611757</td>\n",
       "      <td>0.786029</td>\n",
       "      <td>0.393204</td>\n",
       "      <td>0.359468</td>\n",
       "      <td>-0.476858</td>\n",
       "      <td>1.746550</td>\n",
       "      <td>1.085764</td>\n",
       "      <td>0.412611</td>\n",
       "    </tr>\n",
       "    <tr>\n",
       "      <th>1</th>\n",
       "      <td>0.422439</td>\n",
       "      <td>0.761065</td>\n",
       "      <td>0.746624</td>\n",
       "      <td>0.343107</td>\n",
       "      <td>-0.542317</td>\n",
       "      <td>1.140595</td>\n",
       "      <td>1.156268</td>\n",
       "      <td>0.348188</td>\n",
       "    </tr>\n",
       "    <tr>\n",
       "      <th>2</th>\n",
       "      <td>0.803262</td>\n",
       "      <td>0.597551</td>\n",
       "      <td>0.857782</td>\n",
       "      <td>0.226630</td>\n",
       "      <td>-0.121933</td>\n",
       "      <td>0.773745</td>\n",
       "      <td>0.703732</td>\n",
       "      <td>0.057321</td>\n",
       "    </tr>\n",
       "    <tr>\n",
       "      <th>3</th>\n",
       "      <td>0.121311</td>\n",
       "      <td>0.670634</td>\n",
       "      <td>0.588818</td>\n",
       "      <td>0.621488</td>\n",
       "      <td>-0.029200</td>\n",
       "      <td>1.327145</td>\n",
       "      <td>0.604004</td>\n",
       "      <td>0.117126</td>\n",
       "    </tr>\n",
       "    <tr>\n",
       "      <th>4</th>\n",
       "      <td>0.098065</td>\n",
       "      <td>0.227159</td>\n",
       "      <td>0.993639</td>\n",
       "      <td>0.490040</td>\n",
       "      <td>-0.499133</td>\n",
       "      <td>0.671913</td>\n",
       "      <td>0.837740</td>\n",
       "      <td>0.126192</td>\n",
       "    </tr>\n",
       "    <tr>\n",
       "      <th>5</th>\n",
       "      <td>0.212292</td>\n",
       "      <td>0.678834</td>\n",
       "      <td>0.222697</td>\n",
       "      <td>0.523788</td>\n",
       "      <td>-0.596054</td>\n",
       "      <td>1.947301</td>\n",
       "      <td>0.667732</td>\n",
       "      <td>0.182870</td>\n",
       "    </tr>\n",
       "    <tr>\n",
       "      <th>6</th>\n",
       "      <td>0.528319</td>\n",
       "      <td>0.781779</td>\n",
       "      <td>0.548634</td>\n",
       "      <td>0.075566</td>\n",
       "      <td>-0.145050</td>\n",
       "      <td>0.140076</td>\n",
       "      <td>1.196124</td>\n",
       "      <td>0.199665</td>\n",
       "    </tr>\n",
       "    <tr>\n",
       "      <th>7</th>\n",
       "      <td>0.118836</td>\n",
       "      <td>0.727735</td>\n",
       "      <td>0.698421</td>\n",
       "      <td>0.741734</td>\n",
       "      <td>-0.014736</td>\n",
       "      <td>0.160776</td>\n",
       "      <td>0.945332</td>\n",
       "      <td>0.107169</td>\n",
       "    </tr>\n",
       "    <tr>\n",
       "      <th>8</th>\n",
       "      <td>0.550347</td>\n",
       "      <td>0.466182</td>\n",
       "      <td>0.435834</td>\n",
       "      <td>0.671044</td>\n",
       "      <td>-0.421765</td>\n",
       "      <td>1.961293</td>\n",
       "      <td>0.985716</td>\n",
       "      <td>0.382341</td>\n",
       "    </tr>\n",
       "    <tr>\n",
       "      <th>9</th>\n",
       "      <td>0.351604</td>\n",
       "      <td>0.237927</td>\n",
       "      <td>0.239329</td>\n",
       "      <td>0.343874</td>\n",
       "      <td>-0.317775</td>\n",
       "      <td>1.819843</td>\n",
       "      <td>0.714772</td>\n",
       "      <td>0.132527</td>\n",
       "    </tr>\n",
       "  </tbody>\n",
       "</table>\n",
       "</div>"
      ],
      "text/plain": [
       "          k     theta     sigma        v0       rho         T    Strike  \\\n",
       "0  0.611757  0.786029  0.393204  0.359468 -0.476858  1.746550  1.085764   \n",
       "1  0.422439  0.761065  0.746624  0.343107 -0.542317  1.140595  1.156268   \n",
       "2  0.803262  0.597551  0.857782  0.226630 -0.121933  0.773745  0.703732   \n",
       "3  0.121311  0.670634  0.588818  0.621488 -0.029200  1.327145  0.604004   \n",
       "4  0.098065  0.227159  0.993639  0.490040 -0.499133  0.671913  0.837740   \n",
       "5  0.212292  0.678834  0.222697  0.523788 -0.596054  1.947301  0.667732   \n",
       "6  0.528319  0.781779  0.548634  0.075566 -0.145050  0.140076  1.196124   \n",
       "7  0.118836  0.727735  0.698421  0.741734 -0.014736  0.160776  0.945332   \n",
       "8  0.550347  0.466182  0.435834  0.671044 -0.421765  1.961293  0.985716   \n",
       "9  0.351604  0.237927  0.239329  0.343874 -0.317775  1.819843  0.714772   \n",
       "\n",
       "      Price  \n",
       "0  0.412611  \n",
       "1  0.348188  \n",
       "2  0.057321  \n",
       "3  0.117126  \n",
       "4  0.126192  \n",
       "5  0.182870  \n",
       "6  0.199665  \n",
       "7  0.107169  \n",
       "8  0.382341  \n",
       "9  0.132527  "
      ]
     },
     "execution_count": 38,
     "metadata": {},
     "output_type": "execute_result"
    }
   ],
   "source": [
    "df.head(10)"
   ]
  },
  {
   "cell_type": "markdown",
   "id": "c841592f",
   "metadata": {
    "id": "c841592f"
   },
   "source": [
    "Select a random subset as a challenge set"
   ]
  },
  {
   "cell_type": "code",
   "execution_count": 39,
   "id": "e4adcb4d",
   "metadata": {
    "executionInfo": {
     "elapsed": 307,
     "status": "ok",
     "timestamp": 1651850775420,
     "user": {
      "displayName": "Giovanni Della Lunga",
      "userId": "13927304036683734865"
     },
     "user_tz": -120
    },
    "id": "e4adcb4d"
   },
   "outputs": [],
   "source": [
    "X_train, X_test = train_test_split(df, test_size=0.33, random_state=42)"
   ]
  },
  {
   "cell_type": "markdown",
   "id": "93c9b0e6",
   "metadata": {
    "id": "93c9b0e6"
   },
   "source": [
    "Add some noise to the training set"
   ]
  },
  {
   "cell_type": "code",
   "execution_count": 40,
   "id": "608b812b",
   "metadata": {
    "executionInfo": {
     "elapsed": 401,
     "status": "ok",
     "timestamp": 1651850779279,
     "user": {
      "displayName": "Giovanni Della Lunga",
      "userId": "13927304036683734865"
     },
     "user_tz": -120
    },
    "id": "608b812b"
   },
   "outputs": [],
   "source": [
    "# Add some noise to the training set\n",
    "if EPS > 0.0:\n",
    "    xl = np.min(X_train[\"Price\"])\n",
    "    xh = np.max(X_train[\"Price\"])\n",
    "\n",
    "    xi = rand.normal( loc = 0.0, scale = EPS*(xh-xl), size=X_train.shape[0])\n",
    "    X_train[\"Price\"] += xi"
   ]
  },
  {
   "cell_type": "markdown",
   "id": "3eb08604",
   "metadata": {
    "id": "3eb08604"
   },
   "source": [
    "Display the amount of noise"
   ]
  },
  {
   "cell_type": "code",
   "execution_count": 41,
   "id": "23a530a3",
   "metadata": {
    "colab": {
     "base_uri": "https://localhost:8080/",
     "height": 390
    },
    "executionInfo": {
     "elapsed": 899,
     "status": "ok",
     "timestamp": 1651850782891,
     "user": {
      "displayName": "Giovanni Della Lunga",
      "userId": "13927304036683734865"
     },
     "user_tz": -120
    },
    "id": "23a530a3",
    "outputId": "af35d5ad-684d-45e2-80f2-6a3b3160500f"
   },
   "outputs": [
    {
     "data": {
      "image/png": "[encoded data removed]",
      "text/plain": [
       "<Figure size 864x432 with 2 Axes>"
      ]
     },
     "metadata": {
      "needs_background": "light"
     },
     "output_type": "display_data"
    }
   ],
   "source": [
    "import warnings\n",
    "warnings.simplefilter('ignore')\n",
    "# Check the dispersion\n",
    "if EPS > 0.0:\n",
    "    xMin = 0.0\n",
    "    xMax = max(X_train[\"Price\"])\n",
    "    v = np.arange(xMin, xMax, (xMax - xMin)/100.)\n",
    "\n",
    "    fig, ax = plt.subplots(1,1, figsize=(12,6))\n",
    "\n",
    "    ax.plot( X_train[\"Price\"], X_train_n[\"Price\"], \".\", markersize=1)\n",
    "    ax.plot( v, v, color=\"red\")\n",
    "    ax.set_title(\"Perturbed\")\n",
    "    ax.set_xlabel(\"X train\")\n",
    "    ax.set_ylabel(\"X train with noise\")\n",
    "\n",
    "    #figName = \"scatter_%s.png\" %(TAG)\n",
    "    figName = \"scatter_noise.png\" \n",
    "    plt.savefig(figName, format=\"png\")\n",
    "    plt.show()\n",
    "    histo_dict( {\"Train\"    : np.array(X_train[\"Price\"]), \n",
    "                 \"Test\"     : np.array(X_test[\"Price\"]), \n",
    "                 \"Perturbed\": np.array(X_train_n[\"Price\"]) }, TAG=TAG)\n",
    "else:\n",
    "    histo_dict( {\"Train\": np.array(X_train[\"Price\"]), \"Test\": np.array(X_test[\"Price\"]) }, TAG=TAG )"
   ]
  },
  {
   "cell_type": "markdown",
   "id": "12fc5ea1",
   "metadata": {
    "id": "12fc5ea1"
   },
   "source": [
    "remove the target from the test set"
   ]
  },
  {
   "cell_type": "code",
   "execution_count": 42,
   "id": "c9a73c88",
   "metadata": {
    "executionInfo": {
     "elapsed": 337,
     "status": "ok",
     "timestamp": 1651850787087,
     "user": {
      "displayName": "Giovanni Della Lunga",
      "userId": "13927304036683734865"
     },
     "user_tz": -120
    },
    "id": "c9a73c88"
   },
   "outputs": [],
   "source": [
    "Y_test = pd.DataFrame({\"Price\": X_test[\"Price\"]})\n",
    "X_test = X_test.drop(columns=\"Price\")"
   ]
  },
  {
   "cell_type": "markdown",
   "id": "05d5d9a4",
   "metadata": {
    "id": "05d5d9a4"
   },
   "source": [
    "### Saving dataset to disk"
   ]
  },
  {
   "cell_type": "markdown",
   "id": "4175a624",
   "metadata": {
    "id": "4175a624"
   },
   "source": [
    "write training set to disk"
   ]
  },
  {
   "cell_type": "code",
   "execution_count": 43,
   "id": "829314c8",
   "metadata": {
    "colab": {
     "base_uri": "https://localhost:8080/"
    },
    "executionInfo": {
     "elapsed": 2098,
     "status": "ok",
     "timestamp": 1651850973596,
     "user": {
      "displayName": "Giovanni Della Lunga",
      "userId": "13927304036683734865"
     },
     "user_tz": -120
    },
    "id": "829314c8",
    "outputId": "0572081f-ca31-46a6-af9a-c6a94446649a"
   },
   "outputs": [
    {
     "name": "stdout",
     "output_type": "stream",
     "text": [
      "@ Info                              : training data frame written to 'full_100000_MCA.csv'\n"
     ]
    }
   ],
   "source": [
    "outputFile = \"%s_%s.csv\" %(outputPrfx, TAG)\n",
    "X_train.to_csv(outputFile, sep=',', float_format=\"%.6f\", index=False)\n",
    "print(\"@ %-34s: training data frame written to '%s'\" %(\"Info\", outputFile))\n",
    "if verbose: print(outputFile); print(X_train)"
   ]
  },
  {
   "cell_type": "code",
   "execution_count": 44,
   "id": "4f9905c1",
   "metadata": {
    "colab": {
     "base_uri": "https://localhost:8080/",
     "height": 17
    },
    "executionInfo": {
     "elapsed": 8,
     "status": "ok",
     "timestamp": 1651850973598,
     "user": {
      "displayName": "Giovanni Della Lunga",
      "userId": "13927304036683734865"
     },
     "user_tz": -120
    },
    "id": "4f9905c1",
    "outputId": "0dbc53df-ecca-449b-f2b2-5a5425a55e7c"
   },
   "outputs": [],
   "source": [
    "if 'google.colab' in str(get_ipython()):\n",
    "    from google.colab import files\n",
    "    files.download(outputFile)    "
   ]
  },
  {
   "cell_type": "markdown",
   "id": "21242f18",
   "metadata": {
    "id": "21242f18"
   },
   "source": [
    "write challenge set to disk"
   ]
  },
  {
   "cell_type": "code",
   "execution_count": 45,
   "id": "fcf40dd1",
   "metadata": {
    "colab": {
     "base_uri": "https://localhost:8080/"
    },
    "executionInfo": {
     "elapsed": 730,
     "status": "ok",
     "timestamp": 1651850988791,
     "user": {
      "displayName": "Giovanni Della Lunga",
      "userId": "13927304036683734865"
     },
     "user_tz": -120
    },
    "id": "fcf40dd1",
    "outputId": "f3e415a9-e6c0-486b-fddc-eeeee96fdfa4"
   },
   "outputs": [
    {
     "name": "stdout",
     "output_type": "stream",
     "text": [
      "@ Info                              : challenge data frame written to 'test_100000_MCA.csv'\n"
     ]
    }
   ],
   "source": [
    "challengeFile = \"%s_%s.csv\" %(testPrfx, TAG)\n",
    "X_test.to_csv(challengeFile, sep=',', float_format=\"%.6f\", index=False)\n",
    "print(\"@ %-34s: challenge data frame written to '%s'\" %(\"Info\", challengeFile))\n",
    "if verbose: print(challengeFile); print(X_test)"
   ]
  },
  {
   "cell_type": "code",
   "execution_count": 46,
   "id": "6510dd5d",
   "metadata": {
    "colab": {
     "base_uri": "https://localhost:8080/",
     "height": 17
    },
    "executionInfo": {
     "elapsed": 6,
     "status": "ok",
     "timestamp": 1651850989134,
     "user": {
      "displayName": "Giovanni Della Lunga",
      "userId": "13927304036683734865"
     },
     "user_tz": -120
    },
    "id": "6510dd5d",
    "outputId": "eaa29981-a561-40b1-f525-51759de7f6ab"
   },
   "outputs": [],
   "source": [
    "if 'google.colab' in str(get_ipython()):\n",
    "    from google.colab import files\n",
    "    files.download(challengeFile)    "
   ]
  },
  {
   "cell_type": "markdown",
   "id": "a12647e8",
   "metadata": {
    "id": "a12647e8"
   },
   "source": [
    "write target to disk"
   ]
  },
  {
   "cell_type": "code",
   "execution_count": 47,
   "id": "3e6df9c3",
   "metadata": {
    "colab": {
     "base_uri": "https://localhost:8080/"
    },
    "executionInfo": {
     "elapsed": 4,
     "status": "ok",
     "timestamp": 1651850992716,
     "user": {
      "displayName": "Giovanni Della Lunga",
      "userId": "13927304036683734865"
     },
     "user_tz": -120
    },
    "id": "3e6df9c3",
    "outputId": "5a6eaa07-9caf-4e3d-882f-0a3f46bb84e8"
   },
   "outputs": [
    {
     "name": "stdout",
     "output_type": "stream",
     "text": [
      "@ Info                              : target data frame written to 'trgt_100000_MCA.csv'\n"
     ]
    }
   ],
   "source": [
    "targetFile = \"%s_%s.csv\" %(targetPrfx, TAG)\n",
    "Y_test.to_csv(targetFile, sep=',', float_format=\"%.6f\", index=False)\n",
    "print(\"@ %-34s: target data frame written to '%s'\" %(\"Info\", targetFile))\n",
    "if verbose: print(targetFile); print(Y_test)"
   ]
  },
  {
   "cell_type": "code",
   "execution_count": 48,
   "id": "155ba7b4",
   "metadata": {
    "colab": {
     "base_uri": "https://localhost:8080/",
     "height": 17
    },
    "executionInfo": {
     "elapsed": 6,
     "status": "ok",
     "timestamp": 1651850994802,
     "user": {
      "displayName": "Giovanni Della Lunga",
      "userId": "13927304036683734865"
     },
     "user_tz": -120
    },
    "id": "155ba7b4",
    "outputId": "39170d9b-f476-40a3-b308-4aaf993e63ea"
   },
   "outputs": [],
   "source": [
    "if 'google.colab' in str(get_ipython()):\n",
    "    from google.colab import files\n",
    "    files.download(targetFile)    "
   ]
  },
  {
   "cell_type": "code",
   "execution_count": null,
   "id": "-23G9GbRG2Hj",
   "metadata": {
    "id": "-23G9GbRG2Hj"
   },
   "outputs": [],
   "source": []
  }
 ],
 "metadata": {
  "colab": {
   "name": "chapter-3-1.ipynb",
   "provenance": [
    {
     "file_id": "https://github.com/polyhedron-gdl/advanced-machine-learning-for-finance/blob/main/2022/1-notebooks/chapter-3-1.ipynb",
     "timestamp": 1651651421265
    }
   ]
  },
  "kernelspec": {
   "display_name": "Python 3 (ipykernel)",
   "language": "python",
   "name": "python3"
  },
  "language_info": {
   "codemirror_mode": {
    "name": "ipython",
    "version": 3
   },
   "file_extension": ".py",
   "mimetype": "text/x-python",
   "name": "python",
   "nbconvert_exporter": "python",
   "pygments_lexer": "ipython3",
   "version": "3.7.4"
  },
  "toc": {
   "base_numbering": 1,
   "nav_menu": {},
   "number_sections": true,
   "sideBar": true,
   "skip_h1_title": false,
   "title_cell": "Table of Contents",
   "title_sidebar": "Contents",
   "toc_cell": false,
   "toc_position": {},
   "toc_section_display": true,
   "toc_window_display": false
  }
 },
 "nbformat": 4,
 "nbformat_minor": 5
}
