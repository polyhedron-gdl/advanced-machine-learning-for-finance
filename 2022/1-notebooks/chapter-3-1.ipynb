{
 "cells": [
  {
   "cell_type": "markdown",
   "id": "c59aecd7",
   "metadata": {},
   "source": [
    "# NN Heston Model - Parameters Generation"
   ]
  },
  {
   "cell_type": "code",
   "execution_count": 52,
   "id": "0b35ce4f",
   "metadata": {},
   "outputs": [],
   "source": [
    "import sys\n",
    "import numpy as np\n",
    "import pandas as pd\n",
    "import matplotlib.pyplot as plt\n",
    "import time\n",
    "import math\n",
    "\n",
    "from smt.sampling_methods import LHS\n",
    "from sklearn.model_selection import train_test_split"
   ]
  },
  {
   "cell_type": "code",
   "execution_count": 53,
   "id": "669d4f0a",
   "metadata": {},
   "outputs": [],
   "source": [
    "import Cte\n",
    "#\n",
    "Seed    = Cte.parmsSeed\n",
    "TAG     = Cte.parmsTAG"
   ]
  },
  {
   "cell_type": "markdown",
   "id": "b19d9fa2",
   "metadata": {},
   "source": [
    "## Introduction\n",
    "\n",
    "Pricing in mathematical finance is building a complex function from a model following some constraint.\n",
    "Since models are just a rough description of markets, we accept the fact that each day we do 'calibrate'\n",
    "models in order to match as much as possible what we see on the market. The complexity of the calibration procedure depends on the complexity of the underlying model deemed capable to describe the market situation. Most of the effort in applying neural networks to pricing has gone into the direction of devising \n",
    "clever shortcuts to the calibration mechanism.\n",
    "\n",
    "We want to bypass this phase exploting the fact that pricing with a calibrated model amounts to \n",
    "the composition of two functions: one from market data to model parameters, the second from model \n",
    "paramters to market data. This approach is in itself not new. Some authors have attempted the path of walking directly from\n",
    "market data to prices, leaving the model aside. In doing that they needed to train a network directly on market values. This approach required verylong time series and was able to train the netowrk only on quoted vanilla option.\n",
    "\n",
    "In our approch, the assumption that the model, properly calibrated, is capable to describe the market with \n",
    "enough accuracy, is an essential element.\n",
    "\n",
    "Given that we have outlined these concepts we can simply states the main goals of out work:\n",
    "\n",
    "- dispose of the burden of having to calibrate models\n",
    "- remove the need for ridiculously long time series of market data and option prices\n",
    "- get rid of all of the computational bottlenecks when going from market to prices.\n",
    "\n",
    "At this point, some of these goals need further explanation. That will come in due time. Let's start looking at a very simple example. For instance, if we resort to the Black-Scholes model:\n",
    "\n",
    "\\begin{align}\n",
    "    dS_t &= S_t \\sigma dW_t \\nonumber\n",
    "\\end{align}\n",
    "\n",
    "for a claim written on a single asset, all we have to do is to select the appropriate value for the volatility. And this is all is needed in terms of model calibration. If we are dealing with claims written on several assets, besides the volatility for each individual asset we have to decide on the correlations.\n",
    "\n",
    "\\begin{align}\n",
    "    dS^i_t &= S^i_t \\sigma^i dW^i_t \\nonumber\n",
    "\\\\ \\mathbb{E}[ dW^i_t dW^j_t\\,] &= \\rho_{ij} dt \\nonumber\n",
    "\\end{align}\n",
    "\n",
    "Things get a lot more involved if we use more advanced models like stochastic volatility models. \n",
    "For example, if we adopt the Heston model: \n",
    "\n",
    "\\begin{align}\n",
    "    dS_t &= S_t \\sqrt{\\nu_t} dW_t \\nonumber\n",
    "    \\\\ d\\nu_t &= k ( \\theta - \\nu_t) dt + \\eta\\sqrt{\\nu_t} dY_t, \\quad \\nu_0 = \\overline{\\nu} \\nonumber\n",
    "\\\\ {\\mathbb E}[ dW_t dY_t\\,] &= \\rho dt \\nonumber\n",
    "\\end{align}\n",
    "\n",
    "we have to calibrate the four parameters of the process of the stochastic volatility $(k, \\theta, \\nu_0, \\eta)$ \n",
    "and the correlation term $(\\rho)$ between the innovation processes.\n",
    "\n",
    "Still more complex is the situation if we want to tackle some IR product. In that case, even using a very simple\n",
    "model like the one factro Hull-White model:\n",
    "\n",
    "\\begin{align}\n",
    " dr(t) = k( \\theta(t) - r(t) ) dt  + \\sigma dW_t, \\quad r(0) = r_o\n",
    "\\end{align}\n",
    "\n",
    "besides parameters $(k, r_o, \\sigma)$ we are asked to calibrate a whole curve $\\theta(t)$\n",
    "needed to match today's observed discount curve."
   ]
  },
  {
   "cell_type": "markdown",
   "id": "d5a591aa",
   "metadata": {},
   "source": [
    "## Standard approach to ML\n",
    "\n",
    "$\\newcommand{\\vect}[1]{{\\mathbf{\\boldsymbol{{#1}}}}}$\n",
    "$\\def\\Em{\\mathbb E}$\n",
    "\n",
    "Let's call $\\Pi( \\vect{\\alpha}, G(\\vect{g}) )$ the function pricing a position $G$ with a model described\n",
    "collectively by the parameters $\\vect{\\alpha}$, and the position described by the parameters $\\vect{g}$. To be clear, in case of an option $\\vect{g}$ could be the the pair maturity and strike. \n",
    "\n",
    "A standard ML exercise would call for \n",
    "\n",
    "- generating, according to some random rule, a set of parameters $\\vect{\\alpha}_n,\\; \\vect{g}_n\\; 1 \\le n \\le N$,</li>\n",
    "- for each $\\vect{\\alpha}_n\\, \\vect{g}_n$ compute the function pricing a derivative $G$ with a model described by the parameter set $\\vect{\\alpha}_n$. We define the total parameter set as  $\\Pi_n := \\Pi( \\vect{\\alpha}_n, G(\\vect{g}_n))$\n",
    " \n",
    "       \n",
    "Iterating the procedure described above, we can build a large matrix \n",
    "    \n",
    " <table>   \n",
    "     <tr>\n",
    "         <th colspan=\"2\">Features (Regressors)</th>\n",
    "         <th>Label (Target)</th>\n",
    "     </tr>\n",
    "     <tr>\n",
    "         <td> $\\vect{\\alpha}_1$</td> \n",
    "         <td> $\\vect{g}_1 $    </td> \n",
    "         <td>    $\\Pi_1$       </td>\n",
    "     </tr>\n",
    "     <tr>\n",
    "         <td>$\\vect{\\alpha}_2$</td>\n",
    "         <td>$\\vect{g}_2 $    </td>\n",
    "         <td>$\\Pi_2$          </td>\n",
    "     </tr>\n",
    "     <tr> <td></td><td>...</td><td></td> </tr>\n",
    "     <tr> \n",
    "         <td>$\\vect{\\alpha}_N$</td>\n",
    "         <td>$\\vect{g}_N $</td>\n",
    "         <td>$\\Pi_N$</td>\n",
    "     </tr>\n",
    "</table>\n",
    "    \n",
    "and use it to train a neural network that, if all goes well, will learn the map\n",
    "\n",
    "\\begin{equation}\n",
    "    \\phi_{NN}: \\vect{\\alpha}, \\vect{g} \\rightarrow \\Pi(\\vect{\\alpha}, G).\n",
    "\\end{equation}     "
   ]
  },
  {
   "cell_type": "markdown",
   "id": "4a5ca699",
   "metadata": {},
   "source": [
    "## Generating Dataset"
   ]
  },
  {
   "cell_type": "markdown",
   "id": "e848cb46",
   "metadata": {},
   "source": [
    "### Python support functions"
   ]
  },
  {
   "cell_type": "markdown",
   "id": "2f531dc9",
   "metadata": {},
   "source": [
    "#### Fonts Definition for Plotting Functions"
   ]
  },
  {
   "cell_type": "code",
   "execution_count": 54,
   "id": "b326a613",
   "metadata": {},
   "outputs": [],
   "source": [
    "SMALL_SIZE  = 8\n",
    "MEDIUM_SIZE = 10\n",
    "BIG_SIZE    = 12\n",
    "BIGGER_SIZE = 14\n",
    "\n",
    "plt.rc('font', size=SMALL_SIZE)          # controls default text sizes\n",
    "plt.rc('axes', titlesize=BIG_SIZE)       # fontsize of the axes title\n",
    "plt.rc('axes', labelsize=MEDIUM_SIZE)    # fontsize of the x and y labels\n",
    "plt.rc('xtick', labelsize=SMALL_SIZE)    # fontsize of the tick labels\n",
    "plt.rc('ytick', labelsize=SMALL_SIZE)    # fontsize of the tick labels\n",
    "plt.rc('legend', fontsize=SMALL_SIZE)    # legend fontsize\n",
    "plt.rc('figure', titlesize=BIGGER_SIZE)  # fontsize of the figure title\n"
   ]
  },
  {
   "cell_type": "markdown",
   "id": "544d5723",
   "metadata": {},
   "source": [
    "#### Plotting Functions"
   ]
  },
  {
   "cell_type": "code",
   "execution_count": 55,
   "id": "991e2247",
   "metadata": {},
   "outputs": [],
   "source": [
    "def histo_dict(df, TAG = '0000'):\n",
    "    keys = list(df.keys())\n",
    "    LEN = len(keys)\n",
    "    fig, ax = plt.subplots(1,LEN, figsize=(12,6))\n",
    "    for n in range(LEN):\n",
    "        k     = keys[n]\n",
    "        x     = df[k]\n",
    "        lo   = np.min(x)\n",
    "        hi   = np.max(x)\n",
    "        bins = np.arange(lo, hi, (hi-lo)/100.)\n",
    "        ax[n].hist(x, density=True, facecolor='g', bins=bins)\n",
    "        ax[n].set_title(\"%s (len=%d)\" %(k,len(x)))\n",
    "        n += 1\n",
    "    \n",
    "    #plt.savefig(\"pdf_%s.png\" %TAG, format=\"png\")\n",
    "    plt.savefig(\"param_pdf.png\", format=\"png\")\n",
    "    plt.show()\n"
   ]
  },
  {
   "cell_type": "code",
   "execution_count": 56,
   "id": "56679c34",
   "metadata": {},
   "outputs": [],
   "source": [
    "\n",
    "def histo_params( x, title = \"None\"):\n",
    "    keys = list(x)\n",
    "    LEN  = len(keys)\n",
    "    fig, ax = plt.subplots(1,LEN, figsize=(12,4))\n",
    "    if not title == None: fig.suptitle(title)\n",
    "    for n in range(LEN):\n",
    "        tag  = keys[n]\n",
    "        lo   = np.min(x[tag])\n",
    "        hi   = np.max(x[tag])\n",
    "        bins = np.arange(lo, hi, (hi-lo)/100.)\n",
    "        ax[n].hist(x[tag], density=True, facecolor='g', bins=bins)\n",
    "        ax[n].set_title(tag)\n",
    "        n += 1\n",
    "    plt.subplots_adjust(left=.05, right=.95, bottom=.10, top=.80, wspace=.50)\n",
    "    plt.show()\n"
   ]
  },
  {
   "cell_type": "markdown",
   "id": "a253a346",
   "metadata": {},
   "source": [
    "#### Pricing Functions"
   ]
  },
  {
   "cell_type": "markdown",
   "id": "8b6964cb",
   "metadata": {},
   "source": [
    "This is the pricing function for the Heston Model we use in this example. The `Heston` class and the `ft_opt` function are defined in the `Lib` module. For a complete description of the Heston model refer to the Computational Finance Lecture Notes of Pietro Rossi."
   ]
  },
  {
   "cell_type": "code",
   "execution_count": 57,
   "id": "d01230d5",
   "metadata": {},
   "outputs": [],
   "source": [
    "from Lib.Heston import Heston\n",
    "from Lib.FT_opt import ft_opt\n",
    "\n",
    "def HestonPut(St, Strike, T, kappa, theta, sigma, v0, rho, r, Xc = 30):\n",
    "\n",
    "    kT    = (Strike/St)*math.exp(-r*T)\n",
    "    \n",
    "    hestn = Heston(lmbda=kappa, eta=sigma, nubar=theta, nu_o=v0, rho=rho)\n",
    "    res   = ft_opt(hestn, kT, T, Xc)\n",
    "    \n",
    "    return res['put'];"
   ]
  },
  {
   "cell_type": "markdown",
   "id": "72f9e87d",
   "metadata": {},
   "source": [
    "Make same simple pricing example..."
   ]
  },
  {
   "cell_type": "code",
   "execution_count": 58,
   "id": "067a13f6",
   "metadata": {},
   "outputs": [],
   "source": [
    "'''\n",
    "Model Parameters\n",
    "\n",
    "Heston parameters:\n",
    "    kappa  = volatility mean reversion speed parameter\n",
    "    theta  = volatility mean reversion level parameter\n",
    "    rho    = correlation between two Brownian motions\n",
    "    sigma  = volatility of variance\n",
    "    v0     = initial variance\n",
    "'''\n",
    "kappa  = 1.325  \n",
    "theta  = 0.089 \n",
    "sigma  = 0.231 \n",
    "rho    = -0.9 \n",
    "v0     = 0.153 \n",
    "\n",
    "r      = 0.01\n",
    "q      = 0.00\n",
    "St     = 1.0\n",
    "K      = 1.10\n",
    "T      = 0.25\n",
    "\n",
    "# the put price\n",
    "HestonP = St * HestonPut(St, K, T, kappa, theta, sigma, v0, rho, r, 30)\n",
    "\n",
    "# The call price by put-call parity\n",
    "HestonC  = HestonP + St * math.exp(-q * T) - K * math.exp(-r * T)"
   ]
  },
  {
   "cell_type": "code",
   "execution_count": 59,
   "id": "962ec84f",
   "metadata": {},
   "outputs": [
    {
     "name": "stdout",
     "output_type": "stream",
     "text": [
      "Call price : 0.03695376402274331\n",
      "Put  price : 0.13420719865994957\n"
     ]
    }
   ],
   "source": [
    "print('Call price : ' + str(HestonC))\n",
    "print('Put  price : ' + str(HestonP))"
   ]
  },
  {
   "cell_type": "markdown",
   "id": "5ccd60de",
   "metadata": {},
   "source": [
    "#### Latin Hypercube Sampling Function"
   ]
  },
  {
   "cell_type": "markdown",
   "id": "51b365c2",
   "metadata": {},
   "source": [
    "Before explaining the details of the creation of the synthetic dataset, we will\n",
    "describe a statistical method for generating uniform random variables that\n",
    "are not independent. As we will see, variables drawn using this method are\n",
    "more spread out than independent uniform variables. Assume without loss\n",
    "of generality that we wish to draw N random variables in $[0; 1]^d$. The latin\n",
    "hypercube sampling ([McKay, 1992]) proceeds in this way:"
   ]
  },
  {
   "cell_type": "markdown",
   "id": "971210f6",
   "metadata": {},
   "source": [
    "<!--\n",
    "<div>\n",
    "<img src='../07-pictures/03_intro_to_deep_learning_pic_0.png'  width=\"600\">\n",
    "</div>\n",
    "-->\n",
    "![caption](./pic/heston-1.png)"
   ]
  },
  {
   "cell_type": "markdown",
   "id": "63f84579",
   "metadata": {},
   "source": [
    "To get the general case we can just apply a translation followed by a\n",
    "scaling transformation to each sample. An example of the application of LHS\n",
    "can be seen in the next figure"
   ]
  },
  {
   "cell_type": "markdown",
   "id": "59030b68",
   "metadata": {},
   "source": [
    "<!--\n",
    "<div>\n",
    "<img src='../07-pictures/03_intro_to_deep_learning_pic_0.png'  width=\"600\">\n",
    "</div>\n",
    "-->\n",
    "![caption](./pic/heston-2.png)"
   ]
  },
  {
   "cell_type": "markdown",
   "id": "145b580a",
   "metadata": {},
   "source": [
    "***Comparison between LHS and uniform 2d sampling of 10 points.\n",
    "Notice how for every column and every row, there is only one point in the\n",
    "LHS sample***"
   ]
  },
  {
   "cell_type": "code",
   "execution_count": 60,
   "id": "1786e6a7",
   "metadata": {},
   "outputs": [],
   "source": [
    "def lhs_sampling(rand, NUM, bounds=None):\n",
    "\n",
    "    mInt = (1 << 15)\n",
    "    MInt = (1 << 16)\n",
    "    kw = list(bounds)\n",
    "\n",
    "    # builds the array of bounds\n",
    "    limits = np.empty( shape=(0,2) )\n",
    "    for k in kw: limits = np.concatenate((limits, [bounds[k]]), axis=0)\n",
    "\n",
    "    sampling = LHS(xlimits=limits, random_state=rand.randint(mInt,MInt))\n",
    "    x   = sampling(NUM)\n",
    "\n",
    "    X = pd.DataFrame()\n",
    "    for n in range(len(kw)):\n",
    "        tag = kw[n]\n",
    "        X[tag] = x[:,n]\n",
    "\n",
    "\n",
    "    y = np.where( 2*X[\"k\"]*X[\"theta\"] < np.power( X[\"sigma\"], 2), 1, 0)\n",
    "    p = (100.*np.sum(y))/NUM\n",
    "    print(\"@ %-34s: %s = %6d out of %6d ( %.7f %s)\" %(\"Info\", \"Feller violations\", np.sum(y), NUM, p, \"%\"))\n",
    "\n",
    "    return X\n"
   ]
  },
  {
   "cell_type": "markdown",
   "id": "bdc458a7",
   "metadata": {},
   "source": [
    "#### Function for parameters generation"
   ]
  },
  {
   "cell_type": "code",
   "execution_count": 61,
   "id": "eeb91052",
   "metadata": {},
   "outputs": [],
   "source": [
    "def parms_gen( lhs = None, Xc=10, strikes=None):\n",
    "\n",
    "    if lhs is None: raise Exception(\"No data to process\")\n",
    "    x = lhs\n",
    "\n",
    "    NUM = len(x[\"T\"])\n",
    "\n",
    "    X = pd.DataFrame()\n",
    "    for tag in list(x):\n",
    "        X[tag] = np.full(NUM,0.0, dtype = np.double)\n",
    "    X[\"Price\"] = np.full(NUM,0.0, dtype = np.double)\n",
    "    \n",
    "    __tStart = time.perf_counter()\n",
    "    pCount = 0\n",
    "    cCount = 0\n",
    "    n      = 0\n",
    "    \n",
    "    for m in range(NUM):\n",
    "        Fw    = 1.0\n",
    "        K     = x[\"Strike\"][m]\n",
    "\n",
    "        fwPut = HestonPut( St     = Fw\n",
    "                         , Strike = K\n",
    "                         , T      = x[\"T\"][m]\n",
    "                         , kappa  = x[\"k\"][m]\n",
    "                         , theta  = x[\"theta\"][m]\n",
    "                         , sigma  = x[\"sigma\"][m]\n",
    "                         , v0     = x[\"v0\"][m]\n",
    "                         , r      = 0 \n",
    "                         , rho    = x[\"rho\"][m]\n",
    "                         , Xc     = Xc)\n",
    "        \n",
    "        if fwPut < max(K-Fw,0.): \n",
    "            pCount += 1\n",
    "            continue\n",
    "\n",
    "        for tag in list(x):\n",
    "            X[tag][n] = x[tag][m]\n",
    "        X[\"Price\"][n] = fwPut\n",
    "        n += 1\n",
    "        # ---------------------------------------\n",
    "\n",
    "    __tEnd = time.perf_counter()\n",
    "    print(\"@ %-34s: elapsed %.4f sec\" %(\"Seq. pricing\", __tEnd - __tStart) )\n",
    "\n",
    "    # Trim the original vector ....\n",
    "    nSamples = n\n",
    "\n",
    "    df = pd.DataFrame()\n",
    "    for s in X.keys(): df[s] = np.copy(X[s][0:nSamples])\n",
    "    print(\"@ %-34s: Violations Put=%d, Call=%d DB=%d out of %d\" %(\"Info\", pCount, cCount, nSamples, NUM))\n",
    "    return df\n"
   ]
  },
  {
   "cell_type": "markdown",
   "id": "d69de355",
   "metadata": {},
   "source": [
    "### Generates and displays random parameters"
   ]
  },
  {
   "cell_type": "markdown",
   "id": "962e4fba",
   "metadata": {},
   "source": [
    "**Constant Definition**"
   ]
  },
  {
   "cell_type": "code",
   "execution_count": 62,
   "id": "98530114",
   "metadata": {},
   "outputs": [],
   "source": [
    "\n",
    "    verbose = False\n",
    "    \n",
    "    outputPrfx    = \"full\"\n",
    "    testPrfx      = \"test\"\n",
    "    targetPrfx    = \"trgt\"\n",
    "    \n",
    "    EPS           = 0.01\n",
    "    XC            = 10.0 \n",
    "    \n",
    "    # bounds for the random generation of model parameters\n",
    "    # and contract parameters\n",
    "    bounds = { \"k\":       [ .01   , 1.00]\n",
    "             , \"theta\":   [ .01   ,  .80]\n",
    "             , \"sigma\":   [ .01   , 1.00]\n",
    "             , \"v0\":      [ .01   ,  .80]\n",
    "             , \"rho\":     [-.99   , 0.00]\n",
    "             , \"T\":       [ 1./12., 2.00]\n",
    "             , \"Strike\":  [ .6    , 1.40]\n",
    "             }\n",
    "\n",
    "    NUM     = 100000\n",
    "    mInt    = (1 << 15)\n",
    "    MInt    = (1 << 16)\n",
    "    rand    = np.random.RandomState(Seed)\n",
    "    \n",
    "    # strikes used to build the smile used as a regressor\n",
    "    strikes = np.arange(.8, 1.2, .025)"
   ]
  },
  {
   "cell_type": "code",
   "execution_count": 63,
   "id": "9180be4b",
   "metadata": {},
   "outputs": [
    {
     "name": "stdout",
     "output_type": "stream",
     "text": [
      "@ Info                              : Feller violations =  43950 out of 100000 ( 43.9500000 %)\n",
      "@ LHS                               : elapsed 0.1005 sec\n"
     ]
    },
    {
     "data": {
      "image/png": "[encoded data removed]",
      "text/plain": [
       "<Figure size 864x288 with 7 Axes>"
      ]
     },
     "metadata": {
      "needs_background": "light"
     },
     "output_type": "display_data"
    }
   ],
   "source": [
    "   \n",
    "    __tStart = time.perf_counter()\n",
    "    xDF = lhs_sampling(rand, NUM, bounds = bounds)\n",
    "    __tEnd = time.perf_counter()\n",
    "    print(\"@ %-34s: elapsed %.4f sec\" %(\"LHS\", __tEnd - __tStart) )\n",
    "\n",
    "    # Let's check the distribution of the parameters we have generated\n",
    "    histo_params( xDF, title = \"Random parameters density functions\")\n",
    "\n",
    "   "
   ]
  },
  {
   "cell_type": "markdown",
   "id": "c3b08a56",
   "metadata": {},
   "source": [
    "**Generate random DB**"
   ]
  },
  {
   "cell_type": "code",
   "execution_count": 64,
   "id": "7aa1f5c2",
   "metadata": {},
   "outputs": [
    {
     "name": "stdout",
     "output_type": "stream",
     "text": [
      "@ Seq. pricing                      : elapsed 738.5374 sec\n",
      "@ Info                              : Violations Put=32, Call=0 DB=99968 out of 100000\n",
      "@ GEN                               : elapsed 738.5880 sec\n"
     ]
    }
   ],
   "source": [
    "    # Generate training/test set\n",
    "    __tStart = time.perf_counter()\n",
    "    df =  parms_gen( lhs = xDF, Xc=XC, strikes = strikes)\n",
    "    __tEnd = time.perf_counter()\n",
    "    print(\"@ %-34s: elapsed %.4f sec\" %(\"GEN\", __tEnd - __tStart) )\n"
   ]
  },
  {
   "cell_type": "code",
   "execution_count": 65,
   "id": "2699fb50",
   "metadata": {},
   "outputs": [
    {
     "data": {
      "text/html": [
       "<div>\n",
       "<style scoped>\n",
       "    .dataframe tbody tr th:only-of-type {\n",
       "        vertical-align: middle;\n",
       "    }\n",
       "\n",
       "    .dataframe tbody tr th {\n",
       "        vertical-align: top;\n",
       "    }\n",
       "\n",
       "    .dataframe thead th {\n",
       "        text-align: right;\n",
       "    }\n",
       "</style>\n",
       "<table border=\"1\" class=\"dataframe\">\n",
       "  <thead>\n",
       "    <tr style=\"text-align: right;\">\n",
       "      <th></th>\n",
       "      <th>k</th>\n",
       "      <th>theta</th>\n",
       "      <th>sigma</th>\n",
       "      <th>v0</th>\n",
       "      <th>rho</th>\n",
       "      <th>T</th>\n",
       "      <th>Strike</th>\n",
       "      <th>Price</th>\n",
       "    </tr>\n",
       "  </thead>\n",
       "  <tbody>\n",
       "    <tr>\n",
       "      <th>0</th>\n",
       "      <td>0.582908</td>\n",
       "      <td>0.583583</td>\n",
       "      <td>0.373167</td>\n",
       "      <td>0.516915</td>\n",
       "      <td>-0.970304</td>\n",
       "      <td>1.256745</td>\n",
       "      <td>0.923284</td>\n",
       "      <td>0.257695</td>\n",
       "    </tr>\n",
       "    <tr>\n",
       "      <th>1</th>\n",
       "      <td>0.577928</td>\n",
       "      <td>0.495459</td>\n",
       "      <td>0.936467</td>\n",
       "      <td>0.345975</td>\n",
       "      <td>-0.447386</td>\n",
       "      <td>0.280740</td>\n",
       "      <td>1.367844</td>\n",
       "      <td>0.390239</td>\n",
       "    </tr>\n",
       "    <tr>\n",
       "      <th>2</th>\n",
       "      <td>0.362237</td>\n",
       "      <td>0.592558</td>\n",
       "      <td>0.667256</td>\n",
       "      <td>0.320355</td>\n",
       "      <td>-0.248208</td>\n",
       "      <td>0.140364</td>\n",
       "      <td>0.689468</td>\n",
       "      <td>0.003841</td>\n",
       "    </tr>\n",
       "    <tr>\n",
       "      <th>3</th>\n",
       "      <td>0.643486</td>\n",
       "      <td>0.084604</td>\n",
       "      <td>0.136309</td>\n",
       "      <td>0.505302</td>\n",
       "      <td>-0.274690</td>\n",
       "      <td>1.251839</td>\n",
       "      <td>0.921788</td>\n",
       "      <td>0.218513</td>\n",
       "    </tr>\n",
       "    <tr>\n",
       "      <th>4</th>\n",
       "      <td>0.694362</td>\n",
       "      <td>0.249374</td>\n",
       "      <td>0.564682</td>\n",
       "      <td>0.772275</td>\n",
       "      <td>-0.187729</td>\n",
       "      <td>1.636092</td>\n",
       "      <td>0.887876</td>\n",
       "      <td>0.282851</td>\n",
       "    </tr>\n",
       "    <tr>\n",
       "      <th>5</th>\n",
       "      <td>0.303223</td>\n",
       "      <td>0.158998</td>\n",
       "      <td>0.753198</td>\n",
       "      <td>0.406268</td>\n",
       "      <td>-0.087679</td>\n",
       "      <td>0.604235</td>\n",
       "      <td>1.096652</td>\n",
       "      <td>0.243603</td>\n",
       "    </tr>\n",
       "    <tr>\n",
       "      <th>6</th>\n",
       "      <td>0.721637</td>\n",
       "      <td>0.278406</td>\n",
       "      <td>0.236576</td>\n",
       "      <td>0.390247</td>\n",
       "      <td>-0.811191</td>\n",
       "      <td>0.855779</td>\n",
       "      <td>0.803540</td>\n",
       "      <td>0.114664</td>\n",
       "    </tr>\n",
       "    <tr>\n",
       "      <th>7</th>\n",
       "      <td>0.496986</td>\n",
       "      <td>0.136317</td>\n",
       "      <td>0.867226</td>\n",
       "      <td>0.436327</td>\n",
       "      <td>-0.958365</td>\n",
       "      <td>1.950080</td>\n",
       "      <td>1.062892</td>\n",
       "      <td>0.267544</td>\n",
       "    </tr>\n",
       "    <tr>\n",
       "      <th>8</th>\n",
       "      <td>0.432537</td>\n",
       "      <td>0.017438</td>\n",
       "      <td>0.216519</td>\n",
       "      <td>0.175533</td>\n",
       "      <td>-0.703677</td>\n",
       "      <td>1.948892</td>\n",
       "      <td>1.320964</td>\n",
       "      <td>0.397159</td>\n",
       "    </tr>\n",
       "    <tr>\n",
       "      <th>9</th>\n",
       "      <td>0.591481</td>\n",
       "      <td>0.734197</td>\n",
       "      <td>0.556445</td>\n",
       "      <td>0.366618</td>\n",
       "      <td>-0.371790</td>\n",
       "      <td>1.950406</td>\n",
       "      <td>1.273612</td>\n",
       "      <td>0.557915</td>\n",
       "    </tr>\n",
       "  </tbody>\n",
       "</table>\n",
       "</div>"
      ],
      "text/plain": [
       "          k     theta     sigma        v0       rho         T    Strike  \\\n",
       "0  0.582908  0.583583  0.373167  0.516915 -0.970304  1.256745  0.923284   \n",
       "1  0.577928  0.495459  0.936467  0.345975 -0.447386  0.280740  1.367844   \n",
       "2  0.362237  0.592558  0.667256  0.320355 -0.248208  0.140364  0.689468   \n",
       "3  0.643486  0.084604  0.136309  0.505302 -0.274690  1.251839  0.921788   \n",
       "4  0.694362  0.249374  0.564682  0.772275 -0.187729  1.636092  0.887876   \n",
       "5  0.303223  0.158998  0.753198  0.406268 -0.087679  0.604235  1.096652   \n",
       "6  0.721637  0.278406  0.236576  0.390247 -0.811191  0.855779  0.803540   \n",
       "7  0.496986  0.136317  0.867226  0.436327 -0.958365  1.950080  1.062892   \n",
       "8  0.432537  0.017438  0.216519  0.175533 -0.703677  1.948892  1.320964   \n",
       "9  0.591481  0.734197  0.556445  0.366618 -0.371790  1.950406  1.273612   \n",
       "\n",
       "      Price  \n",
       "0  0.257695  \n",
       "1  0.390239  \n",
       "2  0.003841  \n",
       "3  0.218513  \n",
       "4  0.282851  \n",
       "5  0.243603  \n",
       "6  0.114664  \n",
       "7  0.267544  \n",
       "8  0.397159  \n",
       "9  0.557915  "
      ]
     },
     "execution_count": 65,
     "metadata": {},
     "output_type": "execute_result"
    }
   ],
   "source": [
    "df.head(10)"
   ]
  },
  {
   "cell_type": "markdown",
   "id": "c841592f",
   "metadata": {},
   "source": [
    "Select a random subset as a challenge set"
   ]
  },
  {
   "cell_type": "code",
   "execution_count": 66,
   "id": "e4adcb4d",
   "metadata": {},
   "outputs": [],
   "source": [
    "X_train, X_test = train_test_split(df, test_size=0.33, random_state=rand.randint(mInt,MInt))"
   ]
  },
  {
   "cell_type": "markdown",
   "id": "93c9b0e6",
   "metadata": {},
   "source": [
    "Add some noise to the training set"
   ]
  },
  {
   "cell_type": "code",
   "execution_count": 67,
   "id": "608b812b",
   "metadata": {},
   "outputs": [],
   "source": [
    "# Add some noise to the training set\n",
    "if EPS > 0.0:\n",
    "    X_train_n = X_train.copy()\n",
    "    xl = np.min(X_train[\"Price\"])\n",
    "    xh = np.max(X_train[\"Price\"])\n",
    "\n",
    "    xi = rand.normal( loc = 0.0, scale = EPS*(xh-xl), size=X_train.shape[0])\n",
    "    X_train_n[\"Price\"] += xi\n",
    "else: X_train_n = X_train"
   ]
  },
  {
   "cell_type": "markdown",
   "id": "3eb08604",
   "metadata": {},
   "source": [
    "Display the amount of noise"
   ]
  },
  {
   "cell_type": "code",
   "execution_count": 68,
   "id": "23a530a3",
   "metadata": {},
   "outputs": [
    {
     "data": {
      "image/png": "[encoded data removed]",
      "text/plain": [
       "<Figure size 864x432 with 1 Axes>"
      ]
     },
     "metadata": {
      "needs_background": "light"
     },
     "output_type": "display_data"
    },
    {
     "data": {
      "image/png": "[encoded data removed]",
      "text/plain": [
       "<Figure size 864x432 with 3 Axes>"
      ]
     },
     "metadata": {
      "needs_background": "light"
     },
     "output_type": "display_data"
    }
   ],
   "source": [
    "import warnings\n",
    "warnings.simplefilter('ignore')\n",
    "\n",
    "# Check the dispersion\n",
    "if EPS > 0.0:\n",
    "    xMin = 0.0\n",
    "    xMax = max(X_train[\"Price\"])\n",
    "    v = np.arange(xMin, xMax, (xMax - xMin)/100.)\n",
    "\n",
    "    fig, ax = plt.subplots(1,1, figsize=(12,6))\n",
    "\n",
    "    ax.plot( X_train[\"Price\"], X_train_n[\"Price\"], \".\", markersize=1)\n",
    "    ax.plot( v, v, color=\"red\")\n",
    "    ax.set_title(\"Perturbed\")\n",
    "    ax.set_xlabel(\"X train\")\n",
    "    ax.set_ylabel(\"X train with noise\")\n",
    "\n",
    "    #figName = \"scatter_%s.png\" %(TAG)\n",
    "    figName = \"scatter_noise.png\" \n",
    "    plt.savefig(figName, format=\"png\")\n",
    "    plt.show()\n",
    "    histo_dict( {\"Train\"    : np.array(X_train[\"Price\"]), \n",
    "                 \"Test\"     : np.array(X_test[\"Price\"]), \n",
    "                 \"Perturbed\": np.array(X_train_n[\"Price\"]) }, TAG=TAG)\n",
    "else:\n",
    "    histo_dict( {\"Train\": np.array(X_train[\"Price\"]), \"Test\": np.array(X_test[\"Price\"]) }, TAG=TAG )"
   ]
  },
  {
   "cell_type": "markdown",
   "id": "12fc5ea1",
   "metadata": {},
   "source": [
    "remove the target from the test set"
   ]
  },
  {
   "cell_type": "code",
   "execution_count": 69,
   "id": "c9a73c88",
   "metadata": {},
   "outputs": [],
   "source": [
    "    Y = pd.DataFrame({\"Price\": X_test[\"Price\"]})\n",
    "    X_test = X_test.drop(columns=\"Price\")"
   ]
  },
  {
   "cell_type": "markdown",
   "id": "05d5d9a4",
   "metadata": {},
   "source": [
    "### Saving dataset to disk"
   ]
  },
  {
   "cell_type": "markdown",
   "id": "4175a624",
   "metadata": {},
   "source": [
    "write training set to disk"
   ]
  },
  {
   "cell_type": "code",
   "execution_count": 70,
   "id": "829314c8",
   "metadata": {},
   "outputs": [
    {
     "name": "stdout",
     "output_type": "stream",
     "text": [
      "@ Info                              : training data frame written to 'full_0000.csv'\n"
     ]
    }
   ],
   "source": [
    "    TAG = '0000'\n",
    "    outputFile = \"%s_%s.csv\" %(outputPrfx, TAG)\n",
    "    X_train_n.to_csv(outputFile, sep=',', float_format=\"%.6f\", index=False)\n",
    "    print(\"@ %-34s: training data frame written to '%s'\" %(\"Info\", outputFile))\n",
    "    if verbose: print(outputFile); print(X)"
   ]
  },
  {
   "cell_type": "markdown",
   "id": "21242f18",
   "metadata": {},
   "source": [
    "write challenge set to disk"
   ]
  },
  {
   "cell_type": "code",
   "execution_count": 71,
   "id": "fcf40dd1",
   "metadata": {},
   "outputs": [
    {
     "name": "stdout",
     "output_type": "stream",
     "text": [
      "@ Info                              : challenge data frame written to 'test_0000.csv'\n"
     ]
    }
   ],
   "source": [
    "    challengeFile = \"%s_%s.csv\" %(testPrfx, TAG)\n",
    "    X_test.to_csv(challengeFile, sep=',', float_format=\"%.6f\", index=False)\n",
    "    print(\"@ %-34s: challenge data frame written to '%s'\" %(\"Info\", challengeFile))\n",
    "    if verbose: print(challengeFile); print(X_train)"
   ]
  },
  {
   "cell_type": "markdown",
   "id": "a12647e8",
   "metadata": {},
   "source": [
    "write target to disk"
   ]
  },
  {
   "cell_type": "code",
   "execution_count": 72,
   "id": "3e6df9c3",
   "metadata": {},
   "outputs": [
    {
     "name": "stdout",
     "output_type": "stream",
     "text": [
      "@ Info                              : target data frame written to 'trgt_0000.csv'\n"
     ]
    }
   ],
   "source": [
    "    targetFile = \"%s_%s.csv\" %(targetPrfx, TAG)\n",
    "    Y.to_csv(targetFile, sep=',', float_format=\"%.6f\", index=False)\n",
    "    print(\"@ %-34s: target data frame written to '%s'\" %(\"Info\", targetFile))\n",
    "    if verbose: print(targetFile); print(Y)"
   ]
  }
 ],
 "metadata": {
  "kernelspec": {
   "display_name": "Python 3 (ipykernel)",
   "language": "python",
   "name": "python3"
  },
  "language_info": {
   "codemirror_mode": {
    "name": "ipython",
    "version": 3
   },
   "file_extension": ".py",
   "mimetype": "text/x-python",
   "name": "python",
   "nbconvert_exporter": "python",
   "pygments_lexer": "ipython3",
   "version": "3.7.4"
  },
  "toc": {
   "base_numbering": 1,
   "nav_menu": {},
   "number_sections": true,
   "sideBar": true,
   "skip_h1_title": false,
   "title_cell": "Table of Contents",
   "title_sidebar": "Contents",
   "toc_cell": false,
   "toc_position": {},
   "toc_section_display": true,
   "toc_window_display": false
  }
 },
 "nbformat": 4,
 "nbformat_minor": 5
}
