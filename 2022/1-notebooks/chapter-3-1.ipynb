{
 "cells": [
  {
   "cell_type": "markdown",
   "id": "eb92d39c",
   "metadata": {},
   "source": [
    "<table align=\"left\">\n",
    "  <td>\n",
    "    <a target=\"_blank\" href=\"https://colab.research.google.com/github/polyhedron-gdl/advanced-machine-learning-for-finance/blob/main/2022/1-notebooks/chapter-3-1.ipynb\">\n",
    "        <img src=\"https://www.tensorflow.org/images/colab_logo_32px.png\" />Run in Google Colab</a>\n",
    "  </td>\n",
    "</table>"
   ]
  },
  {
   "cell_type": "markdown",
   "id": "c59aecd7",
   "metadata": {},
   "source": [
    "# NN Heston Model - Parameters Generation"
   ]
  },
  {
   "cell_type": "code",
   "execution_count": 21,
   "id": "0b35ce4f",
   "metadata": {},
   "outputs": [],
   "source": [
    "import sys\n",
    "import numpy as np\n",
    "import pandas as pd\n",
    "import matplotlib.pyplot as plt\n",
    "import time\n",
    "import math\n",
    "\n",
    "from smt.sampling_methods import LHS\n",
    "from sklearn.model_selection import train_test_split"
   ]
  },
  {
   "cell_type": "markdown",
   "id": "b19d9fa2",
   "metadata": {},
   "source": [
    "## Introduction\n",
    "\n",
    "Pricing in mathematical finance is building a complex function from a model following some constraint.\n",
    "Since models are just a rough description of markets, we accept the fact that each day we do 'calibrate'\n",
    "models in order to match as much as possible what we see on the market. The complexity of the calibration procedure depends on the complexity of the underlying model deemed capable to describe the market situation. Most of the effort in applying neural networks to pricing has gone into the direction of devising \n",
    "clever shortcuts to the calibration mechanism.\n",
    "\n",
    "We want to bypass this phase exploting the fact that pricing with a calibrated model amounts to \n",
    "the composition of two functions: one from market data to model parameters, the second from model \n",
    "paramters to market data. This approach is in itself not new. Some authors have attempted the path of walking directly from\n",
    "market data to prices, leaving the model aside. In doing that they needed to train a network directly on market values. This approach required verylong time series and was able to train the netowrk only on quoted vanilla option.\n",
    "\n",
    "In our approch, the assumption that the model, properly calibrated, is capable to describe the market with \n",
    "enough accuracy, is an essential element.\n",
    "\n",
    "Given that we have outlined these concepts we can simply states the main goals of out work:\n",
    "\n",
    "- dispose of the burden of having to calibrate models\n",
    "- remove the need for ridiculously long time series of market data and option prices\n",
    "- get rid of all of the computational bottlenecks when going from market to prices.\n",
    "\n",
    "At this point, some of these goals need further explanation. That will come in due time. Let's start looking at a very simple example. For instance, if we resort to the Black-Scholes model:\n",
    "\n",
    "\\begin{align}\n",
    "    dS_t &= S_t \\sigma dW_t \\nonumber\n",
    "\\end{align}\n",
    "\n",
    "for a claim written on a single asset, all we have to do is to select the appropriate value for the volatility. And this is all is needed in terms of model calibration. If we are dealing with claims written on several assets, besides the volatility for each individual asset we have to decide on the correlations.\n",
    "\n",
    "\\begin{align}\n",
    "    dS^i_t &= S^i_t \\sigma^i dW^i_t \\nonumber\n",
    "\\\\ \\mathbb{E}[ dW^i_t dW^j_t\\,] &= \\rho_{ij} dt \\nonumber\n",
    "\\end{align}\n",
    "\n",
    "Things get a lot more involved if we use more advanced models like stochastic volatility models. \n",
    "For example, if we adopt the Heston model: \n",
    "\n",
    "\\begin{align}\n",
    "    dS_t &= S_t \\sqrt{\\nu_t} dW_t \\nonumber\n",
    "    \\\\ d\\nu_t &= k ( \\theta - \\nu_t) dt + \\eta\\sqrt{\\nu_t} dY_t, \\quad \\nu_0 = \\overline{\\nu} \\nonumber\n",
    "\\\\ {\\mathbb E}[ dW_t dY_t\\,] &= \\rho dt \\nonumber\n",
    "\\end{align}\n",
    "\n",
    "we have to calibrate the four parameters of the process of the stochastic volatility $(k, \\theta, \\nu_0, \\eta)$ \n",
    "and the correlation term $(\\rho)$ between the innovation processes.\n",
    "\n",
    "Still more complex is the situation if we want to tackle some IR product. In that case, even using a very simple\n",
    "model like the one factro Hull-White model:\n",
    "\n",
    "\\begin{align}\n",
    " dr(t) = k( \\theta(t) - r(t) ) dt  + \\sigma dW_t, \\quad r(0) = r_o\n",
    "\\end{align}\n",
    "\n",
    "besides parameters $(k, r_o, \\sigma)$ we are asked to calibrate a whole curve $\\theta(t)$\n",
    "needed to match today's observed discount curve."
   ]
  },
  {
   "cell_type": "markdown",
   "id": "d5a591aa",
   "metadata": {},
   "source": [
    "## Standard approach to ML\n",
    "\n",
    "$\\newcommand{\\vect}[1]{{\\mathbf{\\boldsymbol{{#1}}}}}$\n",
    "$\\def\\Em{\\mathbb E}$\n",
    "\n",
    "Let's call $\\Pi( \\vect{\\alpha}, G(\\vect{g}) )$ the function pricing a position $G$ with a model described\n",
    "collectively by the parameters $\\vect{\\alpha}$, and the position described by the parameters $\\vect{g}$. To be clear, in case of an option $\\vect{g}$ could be the the pair maturity and strike. \n",
    "\n",
    "A standard ML exercise would call for \n",
    "\n",
    "- generating, according to some random rule, a set of parameters $\\vect{\\alpha}_n,\\; \\vect{g}_n\\; 1 \\le n \\le N$,</li>\n",
    "- for each $\\vect{\\alpha}_n\\, \\vect{g}_n$ compute the function pricing a derivative $G$ with a model described by the parameter set $\\vect{\\alpha}_n$. We define the total parameter set as  $\\Pi_n := \\Pi( \\vect{\\alpha}_n, G(\\vect{g}_n))$\n",
    " \n",
    "       \n",
    "Iterating the procedure described above, we can build a large matrix \n",
    "    \n",
    " <table>   \n",
    "     <tr>\n",
    "         <th colspan=\"2\">Features (Regressors)</th>\n",
    "         <th>Label (Target)</th>\n",
    "     </tr>\n",
    "     <tr>\n",
    "         <td> $\\vect{\\alpha}_1$</td> \n",
    "         <td> $\\vect{g}_1 $    </td> \n",
    "         <td>    $\\Pi_1$       </td>\n",
    "     </tr>\n",
    "     <tr>\n",
    "         <td>$\\vect{\\alpha}_2$</td>\n",
    "         <td>$\\vect{g}_2 $    </td>\n",
    "         <td>$\\Pi_2$          </td>\n",
    "     </tr>\n",
    "     <tr> <td></td><td>...</td><td></td> </tr>\n",
    "     <tr> \n",
    "         <td>$\\vect{\\alpha}_N$</td>\n",
    "         <td>$\\vect{g}_N $</td>\n",
    "         <td>$\\Pi_N$</td>\n",
    "     </tr>\n",
    "</table>\n",
    "    \n",
    "and use it to train a neural network that, if all goes well, will learn the map\n",
    "\n",
    "\\begin{equation}\n",
    "    \\phi_{NN}: \\vect{\\alpha}, \\vect{g} \\rightarrow \\Pi(\\vect{\\alpha}, G).\n",
    "\\end{equation}     "
   ]
  },
  {
   "cell_type": "markdown",
   "id": "4a5ca699",
   "metadata": {},
   "source": [
    "## Generating Dataset"
   ]
  },
  {
   "cell_type": "markdown",
   "id": "e848cb46",
   "metadata": {},
   "source": [
    "### Python support functions"
   ]
  },
  {
   "cell_type": "markdown",
   "id": "544d5723",
   "metadata": {},
   "source": [
    "#### Plotting Functions"
   ]
  },
  {
   "cell_type": "code",
   "execution_count": 22,
   "id": "991e2247",
   "metadata": {},
   "outputs": [],
   "source": [
    "def histo_dict(df, TAG = '0000'):\n",
    "    keys = list(df.keys())\n",
    "    LEN = len(keys)\n",
    "    fig, ax = plt.subplots(1,LEN, figsize=(12,6))\n",
    "    for n in range(LEN):\n",
    "        k     = keys[n]\n",
    "        x     = df[k]\n",
    "        lo   = np.min(x)\n",
    "        hi   = np.max(x)\n",
    "        bins = np.arange(lo, hi, (hi-lo)/100.)\n",
    "        ax[n].hist(x, density=True, facecolor='g', bins=bins)\n",
    "        ax[n].set_title(\"%s (len=%d)\" %(k,len(x)))\n",
    "        n += 1\n",
    "    \n",
    "    #plt.savefig(\"pdf_%s.png\" %TAG, format=\"png\")\n",
    "    plt.savefig(\"param_pdf.png\", format=\"png\")\n",
    "    plt.show()\n"
   ]
  },
  {
   "cell_type": "code",
   "execution_count": 23,
   "id": "56679c34",
   "metadata": {},
   "outputs": [],
   "source": [
    "\n",
    "def histo_params( x, title = \"None\"):\n",
    "    keys = list(x)\n",
    "    LEN  = len(keys)\n",
    "    fig, ax = plt.subplots(1,LEN, figsize=(12,4))\n",
    "    if not title == None: fig.suptitle(title)\n",
    "    for n in range(LEN):\n",
    "        tag  = keys[n]\n",
    "        lo   = np.min(x[tag])\n",
    "        hi   = np.max(x[tag])\n",
    "        bins = np.arange(lo, hi, (hi-lo)/100.)\n",
    "        ax[n].hist(x[tag], density=True, facecolor='g', bins=bins)\n",
    "        ax[n].set_title(tag)\n",
    "        n += 1\n",
    "    plt.subplots_adjust(left=.05, right=.95, bottom=.10, top=.80, wspace=.50)\n",
    "    plt.show()\n"
   ]
  },
  {
   "cell_type": "markdown",
   "id": "a253a346",
   "metadata": {},
   "source": [
    "#### Pricing Functions"
   ]
  },
  {
   "cell_type": "markdown",
   "id": "8b6964cb",
   "metadata": {},
   "source": [
    "This is the pricing function for the Heston Model we use in this example. The `Heston` class and the `ft_opt` function are defined in the `Lib` module. For a complete description of the Heston model refer to the Computational Finance Lecture Notes of Pietro Rossi."
   ]
  },
  {
   "cell_type": "code",
   "execution_count": 24,
   "id": "0670a7ef",
   "metadata": {},
   "outputs": [],
   "source": [
    "import math\n",
    "import cmath\n",
    "from math import *\n",
    "import numpy as np\n",
    "\n",
    "#      1 + g\n",
    "#  ---------------------\n",
    "#    1 + g exp( - gamma * T )\n",
    "#\n",
    "def arg_log( c_gmma, c_g, T):\n",
    "    return (1.0 + c_g)/(1.0 + c_g*cmath.exp(-c_gmma*T))\n",
    "\n",
    "#\n",
    "#  C = 2 * log( (1 - g) / ( 1 - g e^{-gamma T } ) )/sigma^2\n",
    "#  arg_log := (1 - g) / ( 1 - g e^{-gamma T } )\n",
    "#\n",
    "def C( c_gmma, c_g, sigma, T):\n",
    "    c_psi = arg_log(c_gmma, c_g, T)\n",
    "    return 2*cmath.log(c_psi)/pow(sigma,2)\n",
    "\n",
    "#\n",
    "# .5 ( v - v^2 )\n",
    "#\n",
    "def Lambda( c_v): \n",
    "    return .5*c_v - .5*c_v*c_v\n",
    "\n",
    "#\n",
    "# Gamma =  SQRT( kappa^2 + 2 L sigma^2 )\n",
    "#\n",
    "def Gamma( c_L, c_kappa, sigma):\n",
    "    return cmath.sqrt(c_kappa*c_kappa + 2.*c_L*pow(sigma,2))\n",
    "#\n",
    "# g = ( gamma - kappa )/( gamma + kappa );\n",
    "#\n",
    "def G( c_kappa, c_gmma):\n",
    "    return (c_gmma - c_kappa)/(c_gmma + c_kappa)\n",
    "\n",
    "#\n",
    "# Z_p = ( gamma - kappa )/sigma^2\n",
    "#\n",
    "def Z_p( c_gmma, c_kappa, sigma):\n",
    "    return (c_gmma - c_kappa)/pow(sigma,2);\n",
    "#\n",
    "#\n",
    "# A = -kappa * theta * ( zp * T - C)\n",
    "#\n",
    "def A_tT( c_gmma, c_g, c_zp, c_kappa, c_theta, sigma, T):\n",
    "    c_c  = C( c_gmma, c_g, sigma, T)\n",
    "    c_kt = c_kappa * c_theta\n",
    "    return c_kt*(c_c - c_zp*T)\n",
    "#\n",
    "#\n",
    "# B = zp * ( 1 - e^{-gamma T } )/( 1 + g e^{-gamma T} )\n",
    "#\n",
    "def B_tT( c_gmma, c_g, c_zp, T):\n",
    "    c_exp_gt = cmath.exp(-c_gmma*T)\n",
    "    return c_zp*(1. - c_exp_gt)/( 1. + c_g*c_exp_gt )\n",
    "\n",
    "\n",
    "\n",
    "class Heston:\n",
    "\n",
    "    def __init__(self, **kwargs):\n",
    "        self._lambda= kwargs[\"lmbda\"] \n",
    "        self._eta   = kwargs[\"eta\"] \n",
    "        self._nubar = kwargs[\"nubar\"] \n",
    "        self._nu_o  = kwargs[\"nu_o\"] \n",
    "        self._rho   = kwargs[\"rho\"]\n",
    "# ----------------------------------------\n",
    "\n",
    "    @property\n",
    "    def lmbda(self): return self._lambda\n",
    "    @property\n",
    "    def eta(self)  : return self._eta\n",
    "    @property\n",
    "    def nubar(self): return self._nubar\n",
    "    @property\n",
    "    def nu_o(self) : return self._nu_o\n",
    "    @property\n",
    "    def rho(self) : return self._rho\n",
    "\n",
    "    def log_cf(self, c_k, t): \n",
    "        if c_k.real == 0.0: return 0. + 0j\n",
    "\n",
    "        c_v     = c_k*1j\n",
    "        c_L     = Lambda(c_v)\n",
    "        c_kappa = self.lmbda - self.rho*self.eta*c_v\n",
    "        c_gmma  = Gamma( c_L, c_kappa, self.eta)\n",
    "        c_g     = G    ( c_kappa, c_gmma)\n",
    "        c_zp    = Z_p  ( c_gmma, c_kappa, self.eta)\n",
    "\n",
    "        if self.lmbda == 0.0:\n",
    "            c_A = 0. + 0.0j\n",
    "        else:\n",
    "            c_theta = (self.lmbda*self.nubar)/c_kappa;\n",
    "            c_A = A_tT( c_gmma, c_g, c_zp, c_kappa, c_theta, self.eta, t)\n",
    "\n",
    "        c_B = B_tT ( c_gmma, c_g, c_zp, t)\n",
    "\n",
    "        return c_A - self.nu_o*c_B\n",
    "    # -------------------------------------\n",
    "\n",
    "    def cf(self, c_k, t):\n",
    "        c_x = self.log_cf( c_k, t)\n",
    "        return cmath.exp(c_x)\n",
    "    # -----------------------"
   ]
  },
  {
   "cell_type": "code",
   "execution_count": 25,
   "id": "76dcc8bf",
   "metadata": {},
   "outputs": [],
   "source": [
    "import math\n",
    "from math import *\n",
    "\n",
    "def pr_x_lt_w ( self, Xc, w, off, t):\n",
    "\n",
    "    m = 1\n",
    "    tot = 0.0\n",
    "    while True:\n",
    "        c_k = 2*math.pi*( m/(2*Xc) + off )\n",
    "        c_phi = self.cf(c_k, t)\n",
    "        th    = math.pi * m * w/Xc;\n",
    "        delta = (cos(th)*c_phi.imag - sin(th)*c_phi.real)/m; \n",
    "        tot  += delta\n",
    "        if fabs(delta/tot) < 1.e-10: break\n",
    "        m += 2\n",
    "    return .5 - 2.*tot/math.pi\n",
    "\n",
    "def ft_opt(self, Strike, T, Xc):\n",
    "    w       = log(Strike)\n",
    "\n",
    "    off = complex(0.0, 0.0)\n",
    "    cn = pr_x_lt_w( self, Xc, w, off, T)\n",
    "\n",
    "    off = complex(0.0, -1/(2*math.pi))\n",
    "    an = pr_x_lt_w( self, Xc, w, off, T)\n",
    "\n",
    "    \n",
    "    put  = Strike*cn - an; \n",
    "    pcn  = cn;\n",
    "    pan  = an;\n",
    "    call = put + (1. - Strike);\n",
    "\n",
    "    return {\"put\": put, \"call\":  call, \"pCn\": pcn, \"pAn\": pan}"
   ]
  },
  {
   "cell_type": "code",
   "execution_count": 26,
   "id": "d01230d5",
   "metadata": {},
   "outputs": [],
   "source": [
    "def HestonPut(St, Strike, T, kappa, theta, sigma, v0, rho, r, Xc = 30):\n",
    "\n",
    "    kT    = (Strike/St)*math.exp(-r*T)\n",
    "    \n",
    "    hestn = Heston(lmbda=kappa, eta=sigma, nubar=theta, nu_o=v0, rho=rho)\n",
    "    res   = ft_opt(hestn, kT, T, Xc)\n",
    "    \n",
    "    return res['put'];"
   ]
  },
  {
   "cell_type": "markdown",
   "id": "72f9e87d",
   "metadata": {},
   "source": [
    "Make same simple pricing example..."
   ]
  },
  {
   "cell_type": "code",
   "execution_count": 27,
   "id": "067a13f6",
   "metadata": {},
   "outputs": [],
   "source": [
    "'''\n",
    "Model Parameters\n",
    "\n",
    "Heston parameters:\n",
    "    kappa  = volatility mean reversion speed parameter\n",
    "    theta  = volatility mean reversion level parameter\n",
    "    rho    = correlation between two Brownian motions\n",
    "    sigma  = volatility of variance\n",
    "    v0     = initial variance\n",
    "'''\n",
    "kappa  = 1.325  \n",
    "theta  = 0.089 \n",
    "sigma  = 0.231 \n",
    "rho    = -0.9 \n",
    "v0     = 0.153 \n",
    "\n",
    "r      = 0.01\n",
    "q      = 0.00\n",
    "St     = 1.0\n",
    "K      = 1.10\n",
    "T      = 0.25\n",
    "\n",
    "# the put price\n",
    "HestonP = St * HestonPut(St, K, T, kappa, theta, sigma, v0, rho, r, 30)\n",
    "\n",
    "# The call price by put-call parity\n",
    "HestonC  = HestonP + St * math.exp(-q * T) - K * math.exp(-r * T)"
   ]
  },
  {
   "cell_type": "code",
   "execution_count": 28,
   "id": "962ec84f",
   "metadata": {},
   "outputs": [
    {
     "name": "stdout",
     "output_type": "stream",
     "text": [
      "Call price : 0.03695376402274331\n",
      "Put  price : 0.13420719865994957\n"
     ]
    }
   ],
   "source": [
    "print('Call price : ' + str(HestonC))\n",
    "print('Put  price : ' + str(HestonP))"
   ]
  },
  {
   "cell_type": "code",
   "execution_count": 29,
   "id": "1786e6a7",
   "metadata": {},
   "outputs": [],
   "source": [
    "def lhs_sampling(rand, NUM, bounds=None):\n",
    "\n",
    "    kw = list(bounds)\n",
    "\n",
    "    # builds the array of bounds\n",
    "    limits = np.empty( shape=(0,2) )\n",
    "    for k in kw: limits = np.concatenate((limits, [bounds[k]]), axis=0)\n",
    "\n",
    "    sampling = LHS(xlimits=limits)\n",
    "    x   = sampling(NUM)\n",
    "\n",
    "    X = pd.DataFrame()\n",
    "    for n in range(len(kw)):\n",
    "        tag = kw[n]\n",
    "        X[tag] = x[:,n]\n",
    "\n",
    "\n",
    "    y = np.where( 2*X[\"k\"]*X[\"theta\"] < np.power( X[\"sigma\"], 2), 1, 0)\n",
    "    p = (100.*np.sum(y))/NUM\n",
    "    print(\"@ %-34s: %s = %6d out of %6d ( %.7f %s)\" %(\"Info\", \"Feller violations\", np.sum(y), NUM, p, \"%\"))\n",
    "\n",
    "    return X\n"
   ]
  },
  {
   "cell_type": "markdown",
   "id": "bdc458a7",
   "metadata": {},
   "source": [
    "#### Function for parameters generation"
   ]
  },
  {
   "cell_type": "code",
   "execution_count": 30,
   "id": "eeb91052",
   "metadata": {},
   "outputs": [],
   "source": [
    "from tqdm        import tqdm\n",
    "\n",
    "def parms_gen( lhs = None, Xc=10, strikes=None):\n",
    "\n",
    "    if lhs is None: raise Exception(\"No data to process\")\n",
    "    x = lhs\n",
    "\n",
    "    NUM = len(x[\"T\"])\n",
    "\n",
    "    X = pd.DataFrame()\n",
    "    for tag in list(x):\n",
    "        X[tag] = np.full(NUM,0.0, dtype = np.double)\n",
    "    X[\"Price\"] = np.full(NUM,0.0, dtype = np.double)\n",
    "    \n",
    "    __tStart = time.perf_counter()\n",
    "    pCount = 0\n",
    "    cCount = 0\n",
    "    n      = 0\n",
    "    \n",
    "    for m in tqdm(range(NUM)):\n",
    "        Fw    = 1.0\n",
    "        K     = x[\"Strike\"][m]\n",
    "\n",
    "        fwPut = HestonPut( St     = Fw\n",
    "                         , Strike = K\n",
    "                         , T      = x[\"T\"][m]\n",
    "                         , kappa  = x[\"k\"][m]\n",
    "                         , theta  = x[\"theta\"][m]\n",
    "                         , sigma  = x[\"sigma\"][m]\n",
    "                         , v0     = x[\"v0\"][m]\n",
    "                         , r      = 0 \n",
    "                         , rho    = x[\"rho\"][m]\n",
    "                         , Xc     = Xc)\n",
    "        \n",
    "        if fwPut < max(K-Fw,0.): \n",
    "            pCount += 1\n",
    "            continue\n",
    "\n",
    "        for tag in list(x):\n",
    "            X[tag][n] = x[tag][m]\n",
    "        X[\"Price\"][n] = fwPut\n",
    "        n += 1\n",
    "        # ---------------------------------------\n",
    "\n",
    "    __tEnd = time.perf_counter()\n",
    "    print(\"@ %-34s: elapsed %.4f sec\" %(\"Seq. pricing\", __tEnd - __tStart) )\n",
    "\n",
    "    # Trim the original vector ....\n",
    "    nSamples = n\n",
    "\n",
    "    df = pd.DataFrame()\n",
    "    for s in X.keys(): df[s] = np.copy(X[s][0:nSamples])\n",
    "    print(\"@ %-34s: Violations Put=%d, Call=%d DB=%d out of %d\" %(\"Info\", pCount, cCount, nSamples, NUM))\n",
    "    return df\n"
   ]
  },
  {
   "cell_type": "markdown",
   "id": "d69de355",
   "metadata": {},
   "source": [
    "### Generates and displays random parameters"
   ]
  },
  {
   "cell_type": "markdown",
   "id": "962e4fba",
   "metadata": {},
   "source": [
    "**Constant Definition**"
   ]
  },
  {
   "cell_type": "code",
   "execution_count": 31,
   "id": "98530114",
   "metadata": {},
   "outputs": [],
   "source": [
    "verbose = False\n",
    "    \n",
    "outputPrfx    = \"full\"\n",
    "testPrfx      = \"test\"\n",
    "targetPrfx    = \"trgt\"\n",
    "    \n",
    "EPS           = 0.00\n",
    "XC            = 10.0 \n",
    "    \n",
    "# bounds for the random generation of model parameters\n",
    "# and contract parameters\n",
    "bounds = { \"k\":       [ .01   , 1.00]\n",
    "         , \"theta\":   [ .01   ,  .80]\n",
    "         , \"sigma\":   [ .01   , 1.00]\n",
    "         , \"v0\":      [ .01   ,  .80]\n",
    "         , \"rho\":     [-.99   , 0.00]\n",
    "         , \"T\":       [ 1./12., 2.00]\n",
    "         , \"Strike\":  [ .6    , 1.40]\n",
    "         }\n",
    "\n",
    "NUM     = 1024\n",
    "TAG     = '001024_MCA'\n",
    "rand    = np.random.RandomState(42)\n",
    "\n",
    "# strikes used to build the smile used as a regressor\n",
    "strikes = np.arange(.8, 1.2, .025)"
   ]
  },
  {
   "cell_type": "code",
   "execution_count": 32,
   "id": "9180be4b",
   "metadata": {},
   "outputs": [
    {
     "name": "stdout",
     "output_type": "stream",
     "text": [
      "@ Info                              : Feller violations =    471 out of   1024 ( 45.9960938 %)\n",
      "@ LHS                               : elapsed 0.0102 sec\n"
     ]
    },
    {
     "data": {
      "image/png": "[encoded data removed]",
      "text/plain": [
       "<Figure size 864x288 with 7 Axes>"
      ]
     },
     "metadata": {
      "needs_background": "light"
     },
     "output_type": "display_data"
    }
   ],
   "source": [
    "__tStart = time.perf_counter()\n",
    "xDF = lhs_sampling(rand, NUM, bounds = bounds)\n",
    "__tEnd = time.perf_counter()\n",
    "print(\"@ %-34s: elapsed %.4f sec\" %(\"LHS\", __tEnd - __tStart) )\n",
    "\n",
    "# Let's check the distribution of the parameters we have generated\n",
    "histo_params( xDF, title = \"Random parameters density functions\")"
   ]
  },
  {
   "cell_type": "markdown",
   "id": "c3b08a56",
   "metadata": {},
   "source": [
    "**Generate random DB**"
   ]
  },
  {
   "cell_type": "code",
   "execution_count": 33,
   "id": "7aa1f5c2",
   "metadata": {},
   "outputs": [
    {
     "name": "stderr",
     "output_type": "stream",
     "text": [
      "100%|██████████████████████████████████████████████████| 1024/1024 [00:05<00:00, 174.66it/s]"
     ]
    },
    {
     "name": "stdout",
     "output_type": "stream",
     "text": [
      "@ Seq. pricing                      : elapsed 5.8639 sec\n",
      "@ Info                              : Violations Put=0, Call=0 DB=1024 out of 1024\n",
      "@ GEN                               : elapsed 5.8732 sec\n"
     ]
    },
    {
     "name": "stderr",
     "output_type": "stream",
     "text": [
      "\n"
     ]
    }
   ],
   "source": [
    "# Generate training/test set\n",
    "__tStart = time.perf_counter()\n",
    "df =  parms_gen( lhs = xDF, Xc=XC, strikes = strikes)\n",
    "__tEnd = time.perf_counter()\n",
    "print(\"@ %-34s: elapsed %.4f sec\" %(\"GEN\", __tEnd - __tStart) )"
   ]
  },
  {
   "cell_type": "code",
   "execution_count": 34,
   "id": "2699fb50",
   "metadata": {},
   "outputs": [
    {
     "data": {
      "text/html": [
       "<div>\n",
       "<style scoped>\n",
       "    .dataframe tbody tr th:only-of-type {\n",
       "        vertical-align: middle;\n",
       "    }\n",
       "\n",
       "    .dataframe tbody tr th {\n",
       "        vertical-align: top;\n",
       "    }\n",
       "\n",
       "    .dataframe thead th {\n",
       "        text-align: right;\n",
       "    }\n",
       "</style>\n",
       "<table border=\"1\" class=\"dataframe\">\n",
       "  <thead>\n",
       "    <tr style=\"text-align: right;\">\n",
       "      <th></th>\n",
       "      <th>k</th>\n",
       "      <th>theta</th>\n",
       "      <th>sigma</th>\n",
       "      <th>v0</th>\n",
       "      <th>rho</th>\n",
       "      <th>T</th>\n",
       "      <th>Strike</th>\n",
       "      <th>Price</th>\n",
       "    </tr>\n",
       "  </thead>\n",
       "  <tbody>\n",
       "    <tr>\n",
       "      <th>0</th>\n",
       "      <td>0.234780</td>\n",
       "      <td>0.332866</td>\n",
       "      <td>0.899937</td>\n",
       "      <td>0.643003</td>\n",
       "      <td>-0.816460</td>\n",
       "      <td>1.660278</td>\n",
       "      <td>1.191016</td>\n",
       "      <td>0.421257</td>\n",
       "    </tr>\n",
       "    <tr>\n",
       "      <th>1</th>\n",
       "      <td>0.284087</td>\n",
       "      <td>0.110679</td>\n",
       "      <td>0.531587</td>\n",
       "      <td>0.365269</td>\n",
       "      <td>-0.595063</td>\n",
       "      <td>1.529256</td>\n",
       "      <td>0.620703</td>\n",
       "      <td>0.080722</td>\n",
       "    </tr>\n",
       "    <tr>\n",
       "      <th>2</th>\n",
       "      <td>0.157437</td>\n",
       "      <td>0.303550</td>\n",
       "      <td>0.678540</td>\n",
       "      <td>0.420815</td>\n",
       "      <td>-0.822261</td>\n",
       "      <td>1.918579</td>\n",
       "      <td>1.147266</td>\n",
       "      <td>0.364376</td>\n",
       "    </tr>\n",
       "    <tr>\n",
       "      <th>3</th>\n",
       "      <td>0.411704</td>\n",
       "      <td>0.716294</td>\n",
       "      <td>0.361431</td>\n",
       "      <td>0.069790</td>\n",
       "      <td>-0.181274</td>\n",
       "      <td>1.050090</td>\n",
       "      <td>0.698047</td>\n",
       "      <td>0.045144</td>\n",
       "    </tr>\n",
       "    <tr>\n",
       "      <th>4</th>\n",
       "      <td>0.153569</td>\n",
       "      <td>0.510308</td>\n",
       "      <td>0.174839</td>\n",
       "      <td>0.179341</td>\n",
       "      <td>-0.010151</td>\n",
       "      <td>1.192342</td>\n",
       "      <td>0.674609</td>\n",
       "      <td>0.048840</td>\n",
       "    </tr>\n",
       "    <tr>\n",
       "      <th>5</th>\n",
       "      <td>0.829360</td>\n",
       "      <td>0.438560</td>\n",
       "      <td>0.830327</td>\n",
       "      <td>0.680806</td>\n",
       "      <td>-0.659839</td>\n",
       "      <td>0.604614</td>\n",
       "      <td>0.648047</td>\n",
       "      <td>0.072884</td>\n",
       "    </tr>\n",
       "    <tr>\n",
       "      <th>6</th>\n",
       "      <td>0.255083</td>\n",
       "      <td>0.401528</td>\n",
       "      <td>0.249282</td>\n",
       "      <td>0.488706</td>\n",
       "      <td>-0.680142</td>\n",
       "      <td>1.327108</td>\n",
       "      <td>0.841016</td>\n",
       "      <td>0.206757</td>\n",
       "    </tr>\n",
       "    <tr>\n",
       "      <th>7</th>\n",
       "      <td>0.745249</td>\n",
       "      <td>0.322837</td>\n",
       "      <td>0.779087</td>\n",
       "      <td>0.106050</td>\n",
       "      <td>-0.346597</td>\n",
       "      <td>1.781942</td>\n",
       "      <td>1.280859</td>\n",
       "      <td>0.399563</td>\n",
       "    </tr>\n",
       "    <tr>\n",
       "      <th>8</th>\n",
       "      <td>0.696909</td>\n",
       "      <td>0.021958</td>\n",
       "      <td>0.363364</td>\n",
       "      <td>0.397671</td>\n",
       "      <td>-0.271187</td>\n",
       "      <td>1.083781</td>\n",
       "      <td>0.830078</td>\n",
       "      <td>0.124412</td>\n",
       "    </tr>\n",
       "    <tr>\n",
       "      <th>9</th>\n",
       "      <td>0.850630</td>\n",
       "      <td>0.354468</td>\n",
       "      <td>0.990815</td>\n",
       "      <td>0.477905</td>\n",
       "      <td>-0.318560</td>\n",
       "      <td>1.233521</td>\n",
       "      <td>1.070703</td>\n",
       "      <td>0.302679</td>\n",
       "    </tr>\n",
       "  </tbody>\n",
       "</table>\n",
       "</div>"
      ],
      "text/plain": [
       "          k     theta     sigma        v0       rho         T    Strike  \\\n",
       "0  0.234780  0.332866  0.899937  0.643003 -0.816460  1.660278  1.191016   \n",
       "1  0.284087  0.110679  0.531587  0.365269 -0.595063  1.529256  0.620703   \n",
       "2  0.157437  0.303550  0.678540  0.420815 -0.822261  1.918579  1.147266   \n",
       "3  0.411704  0.716294  0.361431  0.069790 -0.181274  1.050090  0.698047   \n",
       "4  0.153569  0.510308  0.174839  0.179341 -0.010151  1.192342  0.674609   \n",
       "5  0.829360  0.438560  0.830327  0.680806 -0.659839  0.604614  0.648047   \n",
       "6  0.255083  0.401528  0.249282  0.488706 -0.680142  1.327108  0.841016   \n",
       "7  0.745249  0.322837  0.779087  0.106050 -0.346597  1.781942  1.280859   \n",
       "8  0.696909  0.021958  0.363364  0.397671 -0.271187  1.083781  0.830078   \n",
       "9  0.850630  0.354468  0.990815  0.477905 -0.318560  1.233521  1.070703   \n",
       "\n",
       "      Price  \n",
       "0  0.421257  \n",
       "1  0.080722  \n",
       "2  0.364376  \n",
       "3  0.045144  \n",
       "4  0.048840  \n",
       "5  0.072884  \n",
       "6  0.206757  \n",
       "7  0.399563  \n",
       "8  0.124412  \n",
       "9  0.302679  "
      ]
     },
     "execution_count": 34,
     "metadata": {},
     "output_type": "execute_result"
    }
   ],
   "source": [
    "df.head(10)"
   ]
  },
  {
   "cell_type": "markdown",
   "id": "c841592f",
   "metadata": {},
   "source": [
    "Select a random subset as a challenge set"
   ]
  },
  {
   "cell_type": "code",
   "execution_count": 35,
   "id": "e4adcb4d",
   "metadata": {},
   "outputs": [],
   "source": [
    "X_train, X_test = train_test_split(df, test_size=0.33, random_state=42)"
   ]
  },
  {
   "cell_type": "markdown",
   "id": "93c9b0e6",
   "metadata": {},
   "source": [
    "Add some noise to the training set"
   ]
  },
  {
   "cell_type": "code",
   "execution_count": 36,
   "id": "608b812b",
   "metadata": {},
   "outputs": [],
   "source": [
    "# Add some noise to the training set\n",
    "if EPS > 0.0:\n",
    "    X_train_n = X_train.copy()\n",
    "    xl = np.min(X_train[\"Price\"])\n",
    "    xh = np.max(X_train[\"Price\"])\n",
    "\n",
    "    xi = rand.normal( loc = 0.0, scale = EPS*(xh-xl), size=X_train.shape[0])\n",
    "    X_train_n[\"Price\"] += xi\n",
    "else: X_train_n = X_train"
   ]
  },
  {
   "cell_type": "markdown",
   "id": "3eb08604",
   "metadata": {},
   "source": [
    "Display the amount of noise"
   ]
  },
  {
   "cell_type": "code",
   "execution_count": 37,
   "id": "23a530a3",
   "metadata": {},
   "outputs": [
    {
     "data": {
      "image/png": "[encoded data removed]",
      "text/plain": [
       "<Figure size 864x432 with 2 Axes>"
      ]
     },
     "metadata": {
      "needs_background": "light"
     },
     "output_type": "display_data"
    }
   ],
   "source": [
    "import warnings\n",
    "warnings.simplefilter('ignore')\n",
    "# Check the dispersion\n",
    "if EPS > 0.0:\n",
    "    xMin = 0.0\n",
    "    xMax = max(X_train[\"Price\"])\n",
    "    v = np.arange(xMin, xMax, (xMax - xMin)/100.)\n",
    "\n",
    "    fig, ax = plt.subplots(1,1, figsize=(12,6))\n",
    "\n",
    "    ax.plot( X_train[\"Price\"], X_train_n[\"Price\"], \".\", markersize=1)\n",
    "    ax.plot( v, v, color=\"red\")\n",
    "    ax.set_title(\"Perturbed\")\n",
    "    ax.set_xlabel(\"X train\")\n",
    "    ax.set_ylabel(\"X train with noise\")\n",
    "\n",
    "    #figName = \"scatter_%s.png\" %(TAG)\n",
    "    figName = \"scatter_noise.png\" \n",
    "    plt.savefig(figName, format=\"png\")\n",
    "    plt.show()\n",
    "    histo_dict( {\"Train\"    : np.array(X_train[\"Price\"]), \n",
    "                 \"Test\"     : np.array(X_test[\"Price\"]), \n",
    "                 \"Perturbed\": np.array(X_train_n[\"Price\"]) }, TAG=TAG)\n",
    "else:\n",
    "    histo_dict( {\"Train\": np.array(X_train[\"Price\"]), \"Test\": np.array(X_test[\"Price\"]) }, TAG=TAG )"
   ]
  },
  {
   "cell_type": "markdown",
   "id": "12fc5ea1",
   "metadata": {},
   "source": [
    "remove the target from the test set"
   ]
  },
  {
   "cell_type": "code",
   "execution_count": 18,
   "id": "c9a73c88",
   "metadata": {},
   "outputs": [],
   "source": [
    "Y = pd.DataFrame({\"Price\": X_test[\"Price\"]})\n",
    "X_test = X_test.drop(columns=\"Price\")"
   ]
  },
  {
   "cell_type": "markdown",
   "id": "05d5d9a4",
   "metadata": {},
   "source": [
    "### Saving dataset to disk"
   ]
  },
  {
   "cell_type": "markdown",
   "id": "4175a624",
   "metadata": {},
   "source": [
    "write training set to disk"
   ]
  },
  {
   "cell_type": "code",
   "execution_count": 19,
   "id": "829314c8",
   "metadata": {},
   "outputs": [
    {
     "name": "stdout",
     "output_type": "stream",
     "text": [
      "@ Info                              : training data frame written to 'full_001024_MCA.csv'\n"
     ]
    }
   ],
   "source": [
    "outputFile = \"%s_%s.csv\" %(outputPrfx, TAG)\n",
    "X_train_n.to_csv(outputFile, sep=',', float_format=\"%.6f\", index=False)\n",
    "print(\"@ %-34s: training data frame written to '%s'\" %(\"Info\", outputFile))\n",
    "if verbose: print(outputFile); print(X)"
   ]
  },
  {
   "cell_type": "code",
   "execution_count": null,
   "id": "61fb740a",
   "metadata": {},
   "outputs": [],
   "source": [
    "if 'google.colab' in str(get_ipython()):\n",
    "    from google.colab import files\n",
    "    files.download(outputFile)    "
   ]
  },
  {
   "cell_type": "markdown",
   "id": "21242f18",
   "metadata": {},
   "source": [
    "write challenge set to disk"
   ]
  },
  {
   "cell_type": "code",
   "execution_count": 20,
   "id": "fcf40dd1",
   "metadata": {},
   "outputs": [
    {
     "name": "stdout",
     "output_type": "stream",
     "text": [
      "@ Info                              : challenge data frame written to 'test_001024_MCA.csv'\n"
     ]
    }
   ],
   "source": [
    "challengeFile = \"%s_%s.csv\" %(testPrfx, TAG)\n",
    "X_test.to_csv(challengeFile, sep=',', float_format=\"%.6f\", index=False)\n",
    "print(\"@ %-34s: challenge data frame written to '%s'\" %(\"Info\", challengeFile))\n",
    "if verbose: print(challengeFile); print(X_train)"
   ]
  },
  {
   "cell_type": "code",
   "execution_count": null,
   "id": "5fc4579a",
   "metadata": {},
   "outputs": [],
   "source": [
    "if 'google.colab' in str(get_ipython()):\n",
    "    from google.colab import files\n",
    "    files.download(challengeFile)    "
   ]
  },
  {
   "cell_type": "markdown",
   "id": "a12647e8",
   "metadata": {},
   "source": [
    "write target to disk"
   ]
  },
  {
   "cell_type": "code",
   "execution_count": null,
   "id": "3e6df9c3",
   "metadata": {},
   "outputs": [],
   "source": [
    "    targetFile = \"%s_%s.csv\" %(targetPrfx, TAG)\n",
    "    Y.to_csv(targetFile, sep=',', float_format=\"%.6f\", index=False)\n",
    "    print(\"@ %-34s: target data frame written to '%s'\" %(\"Info\", targetFile))\n",
    "    if verbose: print(targetFile); print(Y)"
   ]
  },
  {
   "cell_type": "code",
   "execution_count": null,
   "id": "155ba7b4",
   "metadata": {},
   "outputs": [],
   "source": [
    "if 'google.colab' in str(get_ipython()):\n",
    "    from google.colab import files\n",
    "    files.download(targetFile)    "
   ]
  }
 ],
 "metadata": {
  "kernelspec": {
   "display_name": "Python 3 (ipykernel)",
   "language": "python",
   "name": "python3"
  },
  "language_info": {
   "codemirror_mode": {
    "name": "ipython",
    "version": 3
   },
   "file_extension": ".py",
   "mimetype": "text/x-python",
   "name": "python",
   "nbconvert_exporter": "python",
   "pygments_lexer": "ipython3",
   "version": "3.7.4"
  },
  "toc": {
   "base_numbering": 1,
   "nav_menu": {},
   "number_sections": true,
   "sideBar": true,
   "skip_h1_title": false,
   "title_cell": "Table of Contents",
   "title_sidebar": "Contents",
   "toc_cell": false,
   "toc_position": {},
   "toc_section_display": true,
   "toc_window_display": false
  }
 },
 "nbformat": 4,
 "nbformat_minor": 5
}
