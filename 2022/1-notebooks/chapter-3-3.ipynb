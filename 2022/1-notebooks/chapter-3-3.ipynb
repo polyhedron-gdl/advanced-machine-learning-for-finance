{
 "cells": [
  {
   "cell_type": "markdown",
   "id": "c1d47045",
   "metadata": {},
   "source": [
    "<table align=\"left\">\n",
    "  <td>\n",
    "    <a target=\"_blank\" href=\"https://colab.research.google.com/github/polyhedron-gdl/advanced-machine-learning-for-finance/blob/main/2022/1-notebooks/chapter-3-3.ipynb\">\n",
    "        <img src=\"https://www.tensorflow.org/images/colab_logo_32px.png\" />Run in Google Colab</a>\n",
    "  </td>\n",
    "</table>"
   ]
  },
  {
   "cell_type": "markdown",
   "id": "c59aecd7",
   "metadata": {},
   "source": [
    "# NN Heston Model - Model Training"
   ]
  },
  {
   "cell_type": "code",
   "execution_count": 165,
   "id": "e3df4be4",
   "metadata": {},
   "outputs": [],
   "source": [
    "import pandas as pd\n",
    "from sklearn.model_selection import train_test_split"
   ]
  },
  {
   "cell_type": "markdown",
   "id": "ab5ed3c3",
   "metadata": {},
   "source": [
    "## Data Preprocessing"
   ]
  },
  {
   "cell_type": "markdown",
   "id": "53c8124f",
   "metadata": {},
   "source": [
    "**Initialization**"
   ]
  },
  {
   "cell_type": "code",
   "execution_count": 166,
   "id": "a6db15f9",
   "metadata": {},
   "outputs": [
    {
     "name": "stdout",
     "output_type": "stream",
     "text": [
      "full_100000_MCA.csv -> full_100000_MCA_trained.png\n"
     ]
    }
   ],
   "source": [
    "import re\n",
    "\n",
    "verbose    = True\n",
    "TAG        = '100000_MCA'\n",
    "\n",
    "inFile     = \"full_%s.csv\" %(TAG)\n",
    "scalerFile = \"scaler_%s.pkl\" %(TAG)\n",
    "mdlDir     = \"model_%s.krs\" %(TAG)\n",
    "    \n",
    "resFile    = re.sub(\"\\..*$\",\"_trained.png\", inFile)\n",
    "print(\"%s -> %s\" %(inFile, resFile))    "
   ]
  },
  {
   "cell_type": "markdown",
   "id": "4a268098",
   "metadata": {},
   "source": [
    "**Read the training DB**"
   ]
  },
  {
   "cell_type": "code",
   "execution_count": 167,
   "id": "dd9ae022",
   "metadata": {},
   "outputs": [
    {
     "name": "stdout",
     "output_type": "stream",
     "text": [
      "@ Info                    : reading from 'full_100000_MCA.csv'\n"
     ]
    }
   ],
   "source": [
    "# Read in training data\n",
    "print(\"@ %-24s: reading from '%s'\" %(\"Info\", inFile))\n",
    "db = pd.read_csv(inFile, sep=',')"
   ]
  },
  {
   "cell_type": "markdown",
   "id": "e2b41815",
   "metadata": {},
   "source": [
    "check that it is is what we expect"
   ]
  },
  {
   "cell_type": "code",
   "execution_count": 168,
   "id": "dcd4258a",
   "metadata": {
    "scrolled": false
   },
   "outputs": [
    {
     "name": "stdout",
     "output_type": "stream",
     "text": [
      "**********************************************************************************\n",
      "* X\n",
      "Index(['k', 'theta', 'sigma', 'v0', 'rho', 'T', 'Strike', 'Price'], dtype='object')\n",
      "**********************************************************************************\n",
      "          k     theta     sigma        v0       rho         T    Strike  \\\n",
      "0  0.126389  0.636774  0.443031  0.792941 -0.107638  1.971662  1.217852   \n",
      "1  0.130231  0.115161  0.380998  0.770774 -0.560622  1.546871  0.724220   \n",
      "2  0.780878  0.558319  0.366306  0.035655 -0.597480  1.194933  1.051100   \n",
      "3  0.733418  0.601390  0.183116  0.604345 -0.025319  1.091605  0.916156   \n",
      "\n",
      "      Price  \n",
      "0  0.612223  \n",
      "1  0.213134  \n",
      "2  0.225639  \n",
      "3  0.261065  \n"
     ]
    }
   ],
   "source": [
    "print(\"*\"*82+\"\\n\"+\"* X\"); print(db.keys()); print(\"*\"*82)\n",
    "print(db.head(4))"
   ]
  },
  {
   "cell_type": "code",
   "execution_count": 169,
   "id": "e017ccad",
   "metadata": {},
   "outputs": [],
   "source": [
    "from sklearn.preprocessing import StandardScaler\n",
    "\n",
    "'''\n",
    "    It is critical that any data preparation performed on a training dataset is also performed \n",
    "    on a new dataset in the future. This may include a test dataset when evaluating a model \n",
    "    or new data from the domain when using a model to make predictions. Typically, the model fit \n",
    "    on the training dataset is saved for later use. The correct solution to preparing new data \n",
    "    for the model in the future is to also save any data preparation objects, like data scaling methods, \n",
    "    to file along with the model.\n",
    "'''\n",
    "\n",
    "def preprocess(**keywrds):\n",
    "\n",
    "    db = keywrds[\"db\"]\n",
    "    \n",
    "\n",
    "    # Specify the target labels and flatten the array \n",
    "    #t=np.ravel(db[\"Price\"])\n",
    "    t=db[\"Price\"]\n",
    "\n",
    "    # Specify the data \n",
    "    X = db.drop(columns=\"Price\")\n",
    "\n",
    "    print(\"Info\")\n",
    "    print(X.info())\n",
    "\n",
    "    print(\"Head\")\n",
    "    print(X.head(n=2))\n",
    "    print(\"Tail\")\n",
    "    print(X.tail(n=2))\n",
    "\n",
    "    print(\"Describe\")\n",
    "    print(X.describe())\n",
    "\n",
    "\n",
    "    # Define the scaler \n",
    "    scaler = StandardScaler().fit(X)\n",
    "\n",
    "    # Split the data up in train and test sets\n",
    "    X_train, X_test, t_train, t_test = train_test_split(X, t, test_size=0.33, random_state=42)\n",
    "\n",
    "    # Scale the train set\n",
    "    X_train = scaler.transform(X_train)\n",
    "\n",
    "    # Scale the test set\n",
    "    X_test = scaler.transform(X_test)\n",
    "\n",
    "    return scaler, X_train, X_test, t_train, t_test"
   ]
  },
  {
   "cell_type": "code",
   "execution_count": 170,
   "id": "93759174",
   "metadata": {},
   "outputs": [
    {
     "name": "stdout",
     "output_type": "stream",
     "text": [
      "Info\n",
      "<class 'pandas.core.frame.DataFrame'>\n",
      "RangeIndex: 66983 entries, 0 to 66982\n",
      "Data columns (total 7 columns):\n",
      " #   Column  Non-Null Count  Dtype  \n",
      "---  ------  --------------  -----  \n",
      " 0   k       66983 non-null  float64\n",
      " 1   theta   66983 non-null  float64\n",
      " 2   sigma   66983 non-null  float64\n",
      " 3   v0      66983 non-null  float64\n",
      " 4   rho     66983 non-null  float64\n",
      " 5   T       66983 non-null  float64\n",
      " 6   Strike  66983 non-null  float64\n",
      "dtypes: float64(7)\n",
      "memory usage: 3.6 MB\n",
      "None\n",
      "Head\n",
      "          k     theta     sigma        v0       rho         T    Strike\n",
      "0  0.126389  0.636774  0.443031  0.792941 -0.107638  1.971662  1.217852\n",
      "1  0.130231  0.115161  0.380998  0.770774 -0.560622  1.546871  0.724220\n",
      "Tail\n",
      "              k     theta     sigma        v0       rho         T    Strike\n",
      "66981  0.493719  0.773586  0.545387  0.663587 -0.760008  1.791994  0.870116\n",
      "66982  0.961088  0.606730  0.509816  0.145584 -0.795391  1.988030  1.109212\n",
      "Describe\n",
      "                  k         theta         sigma            v0           rho  \\\n",
      "count  66983.000000  66983.000000  66983.000000  66983.000000  66983.000000   \n",
      "mean       0.505027      0.403732      0.505494      0.404722     -0.495217   \n",
      "std        0.286111      0.228568      0.286006      0.227602      0.285509   \n",
      "min        0.010005      0.010012      0.010005      0.010028     -0.989975   \n",
      "25%        0.257451      0.205241      0.258193      0.207879     -0.742431   \n",
      "50%        0.505054      0.404151      0.505856      0.404419     -0.496153   \n",
      "75%        0.752535      0.601655      0.752119      0.601086     -0.248163   \n",
      "max        0.999995      0.799996      0.999995      0.799988     -0.000005   \n",
      "\n",
      "                  T        Strike  \n",
      "count  66983.000000  66983.000000  \n",
      "mean       1.043795      1.001152  \n",
      "std        0.553081      0.230801  \n",
      "min        0.083343      0.600020  \n",
      "25%        0.565270      0.801572  \n",
      "50%        1.043861      1.002108  \n",
      "75%        1.523421      1.200612  \n",
      "max        1.999990      1.399996  \n"
     ]
    }
   ],
   "source": [
    "scaler, X_train, X_test, t_train, t_test = preprocess(db = db)"
   ]
  },
  {
   "cell_type": "markdown",
   "id": "2d199fd6",
   "metadata": {},
   "source": [
    "## Auxiliary Functions"
   ]
  },
  {
   "cell_type": "code",
   "execution_count": 171,
   "id": "fd4e3d32",
   "metadata": {},
   "outputs": [],
   "source": [
    "def show_scattered( y, t, tag, ax = None):\n",
    "    #x      = model.predict(X)\n",
    "    #y      = np.ravel(x)\n",
    "    xMin = min(t)\n",
    "    xMax = max(t)\n",
    "    v    = np.arange(xMin, xMax, (xMax-xMin)/100.)\n",
    "\n",
    "    diff   = np.fabs(y - t)\n",
    "    print(\"@ %-24s: E[y-t]: %.6f Std(y-t): %.6f\" %( tag, np.mean(diff), np.std(diff)))\n",
    "    if ax == None: return\n",
    "\n",
    "    ax.plot( y, t, \".\")\n",
    "    ax.plot( v, v, color=\"red\")\n",
    "    ax.set_title(\"%s mae=%8.4f, std=%8.4f\" %(tag, np.mean(diff), np.std(diff)))\n",
    "    ax.set_xlabel(\"predicted\")\n",
    "    ax.set_ylabel(\"target\")"
   ]
  },
  {
   "cell_type": "code",
   "execution_count": 172,
   "id": "edaceb5a",
   "metadata": {},
   "outputs": [],
   "source": [
    "def display_nn_results( model, X_train, X_test, t_train, t_test, resFile=None):\n",
    "\n",
    "    fig, ax = plt.subplots(1,2, figsize=(12,6))\n",
    "    fig.suptitle(\"Scattered plots\")\n",
    "\n",
    "    y_train  = np.ravel(model.predict(X_train))\n",
    "    show_scattered( y_train, t_train, \"InSample\", ax = ax[0])\n",
    "    \n",
    "    diff   = np.fabs(y_train - t_train)\n",
    "    RES    = pd.DataFrame({\"predicted\": y_train, \"target\": t_train, \"err:\": diff})\n",
    "    RES.to_csv(\"res_in__sample.csv\", sep=',', float_format=\"%.6f\", index=True)\n",
    "    print(\"@\")\n",
    "    y_test  = np.ravel(model.predict(X_test))\n",
    "    show_scattered( y_test , t_test, \"OutOfSample\", ax= ax[1])\n",
    "    \n",
    "    diff   = np.fabs(y_test-t_test)\n",
    "    RES    = pd.DataFrame({\"predicted\": y_test, \"target\": t_test, \"err:\": diff})\n",
    "    RES.to_csv(\"res_out_sample.csv\", sep=',', float_format=\"%.6f\", index=True)\n",
    "\n",
    "    print(\"@\")\n",
    "\n",
    "    if resFile != None:\n",
    "        plt.savefig(resFile, format=\"png\")\n",
    "        print(\"@ %-12s: results saved to '%s' \"%(\"Info\", resFile))\n",
    "    plt.show()\n",
    "\n",
    "\n",
    "    score = model.evaluate(X_test, t_test, verbose=1)\n",
    "    print('Score:'); print(score)"
   ]
  },
  {
   "cell_type": "markdown",
   "id": "4aa58615",
   "metadata": {},
   "source": [
    "## Build the model"
   ]
  },
  {
   "cell_type": "code",
   "execution_count": 173,
   "id": "864488b0",
   "metadata": {},
   "outputs": [],
   "source": [
    "from keras.models import Sequential\n",
    "from keras.layers import Dense\n",
    "\n",
    "def model_builder( inputShape = (1,)):\n",
    "    \n",
    "    # Initialize the constructor\n",
    "    model = Sequential()\n",
    "\n",
    "    # Add an input layer \n",
    "    model.add(Dense(128, activation='relu', input_shape=inputShape))\n",
    "\n",
    "    # Add one more hidden layer \n",
    "    model.add(Dense(64, activation='relu'))\n",
    "\n",
    "    # Add one more hidden layer \n",
    "    model.add(Dense(32, activation='relu'))\n",
    "\n",
    "    # Add one more hidden layer \n",
    "    model.add(Dense(16, activation='relu'))\n",
    "\n",
    "    # Add an output layer \n",
    "    model.add(Dense(1))\n",
    "    # End model construction\n",
    "\n",
    "    # Model output shape\n",
    "    print(\"model.output_shape: %s\" %(str(model.output_shape)))\n",
    "\n",
    "    # Model summary\n",
    "    print(\"Model.summary\"); model.summary()\n",
    "\n",
    "    # Model config\n",
    "    print(\"Model.config\"); model.get_config()\n",
    "\n",
    "    model.compile(loss='mse', optimizer='rmsprop', metrics=['mae'])\n",
    "    return model\n"
   ]
  },
  {
   "cell_type": "markdown",
   "id": "4a48ba78",
   "metadata": {},
   "source": [
    "Let’s go through this code line by line:\n",
    "\n",
    "- The first line creates a **Sequential** model. This is the simplest kind of Keras model, for neural networks that are just composed of a single stack of layers, connected sequentially. This is called the sequential API.\n",
    "\n",
    "- Next, we build the first layer and add it to the model. It is a **Dense** hidden layer with XXX neurons. It will use the **ReLu** activation function. Each Dense layer manages its own weight matrix, containing all the connection weights between the neurons and their inputs. It also manages a vector of bias terms (one per neuron).\n",
    "\n",
    "- Next we add a second Dense hidden layer with XXX neurons, also using the ReLu activation function and a third one ...\n",
    "\n",
    "- Finally, we add a Dense output layer with only 1 neurons, using the ReLu activation function (because...).\n"
   ]
  },
  {
   "cell_type": "code",
   "execution_count": 174,
   "id": "162f642f",
   "metadata": {},
   "outputs": [
    {
     "name": "stdout",
     "output_type": "stream",
     "text": [
      "model.output_shape: (None, 1)\n",
      "Model.summary\n",
      "Model: \"sequential_10\"\n",
      "_________________________________________________________________\n",
      "Layer (type)                 Output Shape              Param #   \n",
      "=================================================================\n",
      "dense_42 (Dense)             (None, 128)               1024      \n",
      "_________________________________________________________________\n",
      "dense_43 (Dense)             (None, 64)                8256      \n",
      "_________________________________________________________________\n",
      "dense_44 (Dense)             (None, 32)                2080      \n",
      "_________________________________________________________________\n",
      "dense_45 (Dense)             (None, 16)                528       \n",
      "_________________________________________________________________\n",
      "dense_46 (Dense)             (None, 1)                 17        \n",
      "=================================================================\n",
      "Total params: 11,905\n",
      "Trainable params: 11,905\n",
      "Non-trainable params: 0\n",
      "_________________________________________________________________\n",
      "Model.config\n"
     ]
    }
   ],
   "source": [
    "model = model_builder( inputShape = (X_train.shape[1],))"
   ]
  },
  {
   "cell_type": "markdown",
   "id": "7f8ef0b9",
   "metadata": {},
   "source": [
    "Note that Dense layers often have a lot of parameters. For example, the first hidden\n",
    "layer has n × n connection weights, plus 300 bias terms, which adds up to\n",
    "XXX parameters! This gives the model quite a lot of flexibility to fit the training\n",
    "data, but it also means that the model runs the risk of overfitting, especially when you\n",
    "do not have a lot of training data."
   ]
  },
  {
   "cell_type": "markdown",
   "id": "97a01a30",
   "metadata": {},
   "source": [
    "You can easily get a model’s list of layers, to fetch a layer by its index, or you can fetch\n",
    "it by name:"
   ]
  },
  {
   "cell_type": "code",
   "execution_count": 175,
   "id": "db6a912d",
   "metadata": {},
   "outputs": [
    {
     "data": {
      "text/plain": [
       "[<tensorflow.python.keras.layers.core.Dense at 0x1733dc2a808>,\n",
       " <tensorflow.python.keras.layers.core.Dense at 0x1733de27f08>,\n",
       " <tensorflow.python.keras.layers.core.Dense at 0x17342e1f608>,\n",
       " <tensorflow.python.keras.layers.core.Dense at 0x17342e1fb08>,\n",
       " <tensorflow.python.keras.layers.core.Dense at 0x17342e11588>]"
      ]
     },
     "execution_count": 175,
     "metadata": {},
     "output_type": "execute_result"
    }
   ],
   "source": [
    "model.layers"
   ]
  },
  {
   "cell_type": "code",
   "execution_count": 176,
   "id": "92d707c3",
   "metadata": {},
   "outputs": [
    {
     "data": {
      "text/plain": [
       "'dense_43'"
      ]
     },
     "execution_count": 176,
     "metadata": {},
     "output_type": "execute_result"
    }
   ],
   "source": [
    "model.layers[1].name"
   ]
  },
  {
   "cell_type": "markdown",
   "id": "c4bf0502",
   "metadata": {},
   "source": [
    "After a model is created, you must call its ***compile()*** method to specify the loss function\n",
    "and the optimizer to use. Optionally, you can also specify a list of extra metrics to\n",
    "compute during training and evaluation. In this case we have chosen\n",
    "\n",
    "`model.compile(loss='mse', optimizer='rmsprop', metrics=['mae'])`\n",
    "\n"
   ]
  },
  {
   "cell_type": "markdown",
   "id": "2c24e072",
   "metadata": {},
   "source": [
    "## Train the model"
   ]
  },
  {
   "cell_type": "markdown",
   "id": "d8ceaf27",
   "metadata": {},
   "source": [
    "Now the model is ready to be trained. For this we simply need to call its ***fit()***\n",
    "method. We pass it the input features (***X_train***) and the target classes (***y_train***), as\n",
    "well as the number of epochs to train (or else it would default to just 1, which would\n",
    "definitely not be enough to converge to a good solution). We could also pass a validation set\n",
    "(this is optional): Keras will measure the loss and the extra metrics on this set at the\n",
    "end of each epoch, which is very useful to see how well the model really performs: if\n",
    "the performance on the training set is much better than on the validation set, your model is probably overfitting the training set (or there is a bug, such as a data mismatch\n",
    "between the training set and the validation set)."
   ]
  },
  {
   "cell_type": "code",
   "execution_count": 177,
   "id": "77a4b3ac",
   "metadata": {},
   "outputs": [
    {
     "name": "stdout",
     "output_type": "stream",
     "text": [
      "Epoch 1/50\n",
      "1403/1403 [==============================] - 2s 1ms/step - loss: 0.0023 - mae: 0.0289\n",
      "Epoch 2/50\n",
      "1403/1403 [==============================] - 1s 1ms/step - loss: 1.5381e-04 - mae: 0.0096\n",
      "Epoch 3/50\n",
      "1403/1403 [==============================] - 2s 1ms/step - loss: 9.3160e-05 - mae: 0.0073\n",
      "Epoch 4/50\n",
      "1403/1403 [==============================] - 2s 1ms/step - loss: 6.8833e-05 - mae: 0.0063\n",
      "Epoch 5/50\n",
      "1403/1403 [==============================] - 2s 1ms/step - loss: 5.4928e-05 - mae: 0.0056\n",
      "Epoch 6/50\n",
      "1403/1403 [==============================] - 2s 1ms/step - loss: 4.7997e-05 - mae: 0.0053\n",
      "Epoch 7/50\n",
      "1403/1403 [==============================] - 2s 1ms/step - loss: 4.4085e-05 - mae: 0.0050\n",
      "Epoch 8/50\n",
      "1403/1403 [==============================] - 2s 1ms/step - loss: 4.0385e-05 - mae: 0.0049\n",
      "Epoch 9/50\n",
      "1403/1403 [==============================] - 2s 1ms/step - loss: 3.7372e-05 - mae: 0.0046\n",
      "Epoch 10/50\n",
      "1403/1403 [==============================] - 2s 1ms/step - loss: 3.3854e-05 - mae: 0.0045\n",
      "Epoch 11/50\n",
      "1403/1403 [==============================] - 2s 1ms/step - loss: 3.3312e-05 - mae: 0.0044\n",
      "Epoch 12/50\n",
      "1403/1403 [==============================] - 2s 1ms/step - loss: 3.0597e-05 - mae: 0.0042\n",
      "Epoch 13/50\n",
      "1403/1403 [==============================] - 2s 1ms/step - loss: 2.9478e-05 - mae: 0.0041\n",
      "Epoch 14/50\n",
      "1403/1403 [==============================] - 2s 1ms/step - loss: 2.8049e-05 - mae: 0.0040\n",
      "Epoch 15/50\n",
      "1403/1403 [==============================] - 2s 1ms/step - loss: 2.6088e-05 - mae: 0.0039\n",
      "Epoch 16/50\n",
      "1403/1403 [==============================] - 2s 1ms/step - loss: 2.5831e-05 - mae: 0.0038\n",
      "Epoch 17/50\n",
      "1403/1403 [==============================] - 2s 1ms/step - loss: 2.4944e-05 - mae: 0.0037\n",
      "Epoch 18/50\n",
      "1403/1403 [==============================] - 2s 1ms/step - loss: 2.3286e-05 - mae: 0.0037\n",
      "Epoch 19/50\n",
      "1403/1403 [==============================] - 2s 1ms/step - loss: 2.3581e-05 - mae: 0.0036\n",
      "Epoch 20/50\n",
      "1403/1403 [==============================] - 2s 1ms/step - loss: 2.2512e-05 - mae: 0.0036\n",
      "Epoch 21/50\n",
      "1403/1403 [==============================] - 2s 1ms/step - loss: 2.1714e-05 - mae: 0.0035\n",
      "Epoch 22/50\n",
      "1403/1403 [==============================] - 2s 1ms/step - loss: 2.0581e-05 - mae: 0.0034\n",
      "Epoch 23/50\n",
      "1403/1403 [==============================] - 2s 1ms/step - loss: 2.0558e-05 - mae: 0.0034\n",
      "Epoch 24/50\n",
      "1403/1403 [==============================] - 2s 1ms/step - loss: 2.0084e-05 - mae: 0.0034\n",
      "Epoch 25/50\n",
      "1403/1403 [==============================] - 2s 1ms/step - loss: 1.9088e-05 - mae: 0.0033\n",
      "Epoch 26/50\n",
      "1403/1403 [==============================] - 2s 1ms/step - loss: 1.9088e-05 - mae: 0.0033\n",
      "Epoch 27/50\n",
      "1403/1403 [==============================] - 2s 1ms/step - loss: 1.8461e-05 - mae: 0.0033\n",
      "Epoch 28/50\n",
      "1403/1403 [==============================] - 1s 1ms/step - loss: 1.7330e-05 - mae: 0.0031\n",
      "Epoch 29/50\n",
      "1403/1403 [==============================] - 2s 1ms/step - loss: 1.7911e-05 - mae: 0.0032\n",
      "Epoch 30/50\n",
      "1403/1403 [==============================] - 2s 1ms/step - loss: 1.6304e-05 - mae: 0.0029\n",
      "Epoch 31/50\n",
      "1403/1403 [==============================] - 2s 1ms/step - loss: 1.6302e-05 - mae: 0.0030\n",
      "Epoch 32/50\n",
      "1403/1403 [==============================] - 2s 1ms/step - loss: 1.6708e-05 - mae: 0.0031\n",
      "Epoch 33/50\n",
      "1403/1403 [==============================] - 1s 1ms/step - loss: 1.6527e-05 - mae: 0.0030\n",
      "Epoch 34/50\n",
      "1403/1403 [==============================] - 2s 1ms/step - loss: 1.5604e-05 - mae: 0.0029\n",
      "Epoch 35/50\n",
      "1403/1403 [==============================] - 2s 1ms/step - loss: 1.5392e-05 - mae: 0.0029\n",
      "Epoch 36/50\n",
      "1403/1403 [==============================] - 2s 1ms/step - loss: 1.5220e-05 - mae: 0.0029\n",
      "Epoch 37/50\n",
      "1403/1403 [==============================] - 2s 1ms/step - loss: 1.5184e-05 - mae: 0.0029\n",
      "Epoch 38/50\n",
      "1403/1403 [==============================] - 2s 1ms/step - loss: 1.4709e-05 - mae: 0.0028\n",
      "Epoch 39/50\n",
      "1403/1403 [==============================] - 2s 1ms/step - loss: 1.4577e-05 - mae: 0.0028\n",
      "Epoch 40/50\n",
      "1403/1403 [==============================] - 2s 1ms/step - loss: 1.4475e-05 - mae: 0.0029\n",
      "Epoch 41/50\n",
      "1403/1403 [==============================] - 2s 1ms/step - loss: 1.3967e-05 - mae: 0.0028\n",
      "Epoch 42/50\n",
      "1403/1403 [==============================] - 2s 1ms/step - loss: 1.4004e-05 - mae: 0.0028\n",
      "Epoch 43/50\n",
      "1403/1403 [==============================] - 2s 1ms/step - loss: 1.3600e-05 - mae: 0.0028\n",
      "Epoch 44/50\n",
      "1403/1403 [==============================] - 2s 1ms/step - loss: 1.3853e-05 - mae: 0.0028\n",
      "Epoch 45/50\n",
      "1403/1403 [==============================] - 2s 1ms/step - loss: 1.3774e-05 - mae: 0.0028\n",
      "Epoch 46/50\n",
      "1403/1403 [==============================] - 2s 1ms/step - loss: 1.3201e-05 - mae: 0.0027\n",
      "Epoch 47/50\n",
      "1403/1403 [==============================] - 2s 1ms/step - loss: 1.3640e-05 - mae: 0.0027\n",
      "Epoch 48/50\n",
      "1403/1403 [==============================] - 2s 1ms/step - loss: 1.3087e-05 - mae: 0.0027\n",
      "Epoch 49/50\n",
      "1403/1403 [==============================] - 2s 1ms/step - loss: 1.2866e-05 - mae: 0.0027\n",
      "Epoch 50/50\n",
      "1403/1403 [==============================] - 2s 1ms/step - loss: 1.2920e-05 - mae: 0.0026\n"
     ]
    }
   ],
   "source": [
    "history = model.fit(X_train, t_train, epochs=50, verbose=verbose)"
   ]
  },
  {
   "cell_type": "markdown",
   "id": "7ac730b4",
   "metadata": {},
   "source": [
    "And that’s it! The neural network is trained. At each epoch during training, Keras displays\n",
    "the number of instances processed so far (along with a progress bar), the mean\n",
    "training time per sample, the loss and accuracy (or any other extra metrics you asked\n",
    "for), both on the training set and the validation set. You can see that the training loss\n",
    "went down, which is a good sign, and the validation accuracy reached XXX% after 50\n",
    "epochs, not too far from the training accuracy, so there does not seem to be much\n",
    "overfitting going on."
   ]
  },
  {
   "cell_type": "markdown",
   "id": "4d29932f",
   "metadata": {},
   "source": [
    "All the parameters of a layer can be accessed using its ***get_weights()*** and\n",
    "***set_weights()*** method. For a Dense layer, this includes both the connection weights\n",
    "and the bias terms:"
   ]
  },
  {
   "cell_type": "code",
   "execution_count": 178,
   "id": "5e6b1834",
   "metadata": {},
   "outputs": [
    {
     "data": {
      "text/plain": [
       "array([[-0.0074073 , -0.06175806, -0.16261375, ...,  0.171731  ,\n",
       "        -0.03737089, -0.13816239],\n",
       "       [ 0.08142413, -0.05124963, -0.20704353, ..., -0.04755156,\n",
       "         0.19865216, -0.2721329 ],\n",
       "       [ 0.0656881 , -0.19038059, -0.00788334, ..., -0.15092385,\n",
       "         0.05727027, -0.14321584],\n",
       "       ...,\n",
       "       [ 0.00948724, -0.38685384,  0.06717803, ..., -0.31963867,\n",
       "         0.12591203, -0.00315317],\n",
       "       [-0.01545093,  0.0535093 ,  0.07984456, ..., -0.12603876,\n",
       "        -0.23226646, -0.11367032],\n",
       "       [-0.01966754, -0.21730883,  0.02277685, ...,  0.13970843,\n",
       "        -0.41975197,  0.0713203 ]], dtype=float32)"
      ]
     },
     "execution_count": 178,
     "metadata": {},
     "output_type": "execute_result"
    }
   ],
   "source": [
    "weights, biases = model.layers[1].get_weights()\n",
    "weights"
   ]
  },
  {
   "cell_type": "code",
   "execution_count": 179,
   "id": "6fd4a1c1",
   "metadata": {},
   "outputs": [
    {
     "name": "stdout",
     "output_type": "stream",
     "text": [
      "@ InSample                : E[y-t]: 0.001822 Std(y-t): 0.001570\n",
      "@\n",
      "@ OutOfSample             : E[y-t]: 0.001863 Std(y-t): 0.001640\n",
      "@\n",
      "@ Info        : results saved to 'full_100000_MCA_trained.png' \n"
     ]
    },
    {
     "data": {
      "image/png": "[encoded data removed]",
      "text/plain": [
       "<Figure size 864x432 with 2 Axes>"
      ]
     },
     "metadata": {
      "needs_background": "light"
     },
     "output_type": "display_data"
    },
    {
     "name": "stdout",
     "output_type": "stream",
     "text": [
      "691/691 [==============================] - 1s 816us/step - loss: 6.1578e-06 - mae: 0.0019\n",
      "Score:\n",
      "[6.157797997730086e-06, 0.0018626125529408455]\n"
     ]
    }
   ],
   "source": [
    "import warnings\n",
    "warnings.simplefilter('ignore')\n",
    "\n",
    "import matplotlib.pyplot as plt\n",
    "import numpy             as np\n",
    "\n",
    "display_nn_results(model, X_train, X_test, t_train, t_test, resFile = resFile)"
   ]
  },
  {
   "cell_type": "markdown",
   "id": "c8a1fd8f",
   "metadata": {},
   "source": [
    "The ***fit()*** method returns a History object containing the training parameters (his\n",
    "tory.params), the list of epochs it went through (history.epoch), and most importantly\n",
    "a dictionary (history.history) containing the loss and extra metrics it\n",
    "measured at the end of each epoch on the training set and on the validation set (if any). If you create a Pandas DataFrame using this dictionary and call its plot()\n",
    "method, you get the learning curves shown in ..."
   ]
  },
  {
   "cell_type": "code",
   "execution_count": 180,
   "id": "eff51578",
   "metadata": {},
   "outputs": [],
   "source": [
    "X = db.drop(columns=\"Price\")\n",
    "Y = db[\"Price\"]"
   ]
  },
  {
   "cell_type": "code",
   "execution_count": 181,
   "id": "580f830b",
   "metadata": {},
   "outputs": [
    {
     "name": "stdout",
     "output_type": "stream",
     "text": [
      "Epoch 1/50\n",
      "1403/1403 [==============================] - 4s 2ms/step - loss: 0.0019 - mae: 0.0235 - val_loss: 1.0473e-04 - val_mae: 0.0075\n",
      "Epoch 2/50\n",
      "1403/1403 [==============================] - 3s 2ms/step - loss: 1.8433e-04 - mae: 0.0104 - val_loss: 1.0847e-04 - val_mae: 0.0084\n",
      "Epoch 3/50\n",
      "1403/1403 [==============================] - 3s 2ms/step - loss: 1.4633e-04 - mae: 0.0092 - val_loss: 9.3417e-05 - val_mae: 0.0080\n",
      "Epoch 4/50\n",
      "1403/1403 [==============================] - 5s 4ms/step - loss: 1.2806e-04 - mae: 0.0088 - val_loss: 6.1487e-05 - val_mae: 0.0062\n",
      "Epoch 5/50\n",
      "1403/1403 [==============================] - 5s 4ms/step - loss: 1.1746e-04 - mae: 0.0083 - val_loss: 2.1043e-04 - val_mae: 0.0130\n",
      "Epoch 6/50\n",
      "1403/1403 [==============================] - 4s 3ms/step - loss: 1.0874e-04 - mae: 0.0081 - val_loss: 2.8114e-05 - val_mae: 0.0039\n",
      "Epoch 7/50\n",
      "1403/1403 [==============================] - 4s 3ms/step - loss: 1.0076e-04 - mae: 0.0076 - val_loss: 4.8812e-05 - val_mae: 0.0056\n",
      "Epoch 8/50\n",
      "1403/1403 [==============================] - 3s 2ms/step - loss: 9.8797e-05 - mae: 0.0077 - val_loss: 5.3543e-05 - val_mae: 0.0060\n",
      "Epoch 9/50\n",
      "1403/1403 [==============================] - 4s 3ms/step - loss: 9.3304e-05 - mae: 0.0075 - val_loss: 2.1210e-04 - val_mae: 0.0132\n",
      "Epoch 10/50\n",
      "1403/1403 [==============================] - 4s 3ms/step - loss: 8.8970e-05 - mae: 0.0072 - val_loss: 2.0637e-04 - val_mae: 0.0125\n",
      "Epoch 11/50\n",
      "1403/1403 [==============================] - 4s 3ms/step - loss: 8.6338e-05 - mae: 0.0071 - val_loss: 2.3742e-05 - val_mae: 0.0038\n",
      "Epoch 12/50\n",
      "1403/1403 [==============================] - 3s 2ms/step - loss: 8.3396e-05 - mae: 0.0070 - val_loss: 6.0183e-05 - val_mae: 0.0065\n",
      "Epoch 13/50\n",
      "1403/1403 [==============================] - 3s 2ms/step - loss: 7.9528e-05 - mae: 0.0068 - val_loss: 6.1152e-05 - val_mae: 0.0069\n",
      "Epoch 14/50\n",
      "1403/1403 [==============================] - 3s 2ms/step - loss: 7.6504e-05 - mae: 0.0068 - val_loss: 5.3639e-05 - val_mae: 0.0062\n",
      "Epoch 15/50\n",
      "1403/1403 [==============================] - 3s 2ms/step - loss: 7.4071e-05 - mae: 0.0067 - val_loss: 1.7310e-05 - val_mae: 0.0032\n",
      "Epoch 16/50\n",
      "1403/1403 [==============================] - 3s 2ms/step - loss: 7.1746e-05 - mae: 0.0066 - val_loss: 2.7632e-05 - val_mae: 0.0043\n",
      "Epoch 17/50\n",
      "1403/1403 [==============================] - 4s 3ms/step - loss: 7.0588e-05 - mae: 0.0066 - val_loss: 4.0993e-05 - val_mae: 0.0052\n",
      "Epoch 18/50\n",
      "1403/1403 [==============================] - 3s 2ms/step - loss: 6.8266e-05 - mae: 0.0064 - val_loss: 4.7606e-05 - val_mae: 0.0059\n",
      "Epoch 19/50\n",
      "1403/1403 [==============================] - 3s 2ms/step - loss: 6.7290e-05 - mae: 0.0063 - val_loss: 2.1674e-04 - val_mae: 0.0134\n",
      "Epoch 20/50\n",
      "1403/1403 [==============================] - 3s 2ms/step - loss: 6.5989e-05 - mae: 0.0063 - val_loss: 1.0389e-04 - val_mae: 0.0091\n",
      "Epoch 21/50\n",
      "1403/1403 [==============================] - 3s 2ms/step - loss: 6.4017e-05 - mae: 0.0062 - val_loss: 1.5645e-05 - val_mae: 0.0029\n",
      "Epoch 22/50\n",
      "1403/1403 [==============================] - 3s 2ms/step - loss: 6.2707e-05 - mae: 0.0062 - val_loss: 2.2500e-05 - val_mae: 0.0037\n",
      "Epoch 23/50\n",
      "1403/1403 [==============================] - 3s 2ms/step - loss: 6.1711e-05 - mae: 0.0060 - val_loss: 2.2105e-05 - val_mae: 0.0038\n",
      "Epoch 24/50\n",
      "1403/1403 [==============================] - 3s 2ms/step - loss: 5.9629e-05 - mae: 0.0059 - val_loss: 1.9144e-05 - val_mae: 0.0035\n",
      "Epoch 25/50\n",
      "1403/1403 [==============================] - 3s 2ms/step - loss: 5.9603e-05 - mae: 0.0060 - val_loss: 4.3450e-05 - val_mae: 0.0055\n",
      "Epoch 26/50\n",
      "1403/1403 [==============================] - 3s 2ms/step - loss: 5.8139e-05 - mae: 0.0059 - val_loss: 1.1494e-05 - val_mae: 0.0026\n",
      "Epoch 27/50\n",
      "1403/1403 [==============================] - 3s 2ms/step - loss: 5.7174e-05 - mae: 0.0058 - val_loss: 7.1070e-05 - val_mae: 0.0074\n",
      "Epoch 28/50\n",
      "1403/1403 [==============================] - 3s 2ms/step - loss: 5.6679e-05 - mae: 0.0059 - val_loss: 1.7248e-05 - val_mae: 0.0032\n",
      "Epoch 29/50\n",
      "1403/1403 [==============================] - 3s 2ms/step - loss: 5.5456e-05 - mae: 0.0059 - val_loss: 1.2290e-04 - val_mae: 0.0100\n",
      "Epoch 30/50\n",
      "1403/1403 [==============================] - 3s 2ms/step - loss: 5.4706e-05 - mae: 0.0057 - val_loss: 3.8222e-05 - val_mae: 0.0052\n",
      "Epoch 31/50\n",
      "1403/1403 [==============================] - 3s 2ms/step - loss: 5.3603e-05 - mae: 0.0057 - val_loss: 2.4956e-05 - val_mae: 0.0041\n",
      "Epoch 32/50\n",
      "1403/1403 [==============================] - 3s 2ms/step - loss: 5.2845e-05 - mae: 0.0057 - val_loss: 8.6783e-05 - val_mae: 0.0081\n",
      "Epoch 33/50\n",
      "1403/1403 [==============================] - 3s 2ms/step - loss: 5.1930e-05 - mae: 0.0056 - val_loss: 9.9834e-06 - val_mae: 0.0024\n",
      "Epoch 34/50\n",
      "1403/1403 [==============================] - 3s 2ms/step - loss: 5.1383e-05 - mae: 0.0056 - val_loss: 7.6355e-05 - val_mae: 0.0079\n",
      "Epoch 35/50\n",
      "1403/1403 [==============================] - 3s 2ms/step - loss: 5.0821e-05 - mae: 0.0056 - val_loss: 1.5916e-05 - val_mae: 0.0031\n",
      "Epoch 36/50\n",
      "1403/1403 [==============================] - 3s 2ms/step - loss: 4.9750e-05 - mae: 0.0055 - val_loss: 1.1452e-05 - val_mae: 0.0026\n",
      "Epoch 37/50\n",
      "1403/1403 [==============================] - 3s 2ms/step - loss: 4.8712e-05 - mae: 0.0054 - val_loss: 1.4809e-05 - val_mae: 0.0030\n",
      "Epoch 38/50\n",
      "1403/1403 [==============================] - 3s 2ms/step - loss: 4.8459e-05 - mae: 0.0054 - val_loss: 1.2249e-04 - val_mae: 0.0091\n",
      "Epoch 39/50\n",
      "1403/1403 [==============================] - 3s 2ms/step - loss: 4.7549e-05 - mae: 0.0053 - val_loss: 9.5206e-05 - val_mae: 0.0088\n",
      "Epoch 40/50\n",
      "1403/1403 [==============================] - 3s 2ms/step - loss: 4.6560e-05 - mae: 0.0052 - val_loss: 4.5845e-05 - val_mae: 0.0059\n",
      "Epoch 41/50\n",
      "1403/1403 [==============================] - 4s 3ms/step - loss: 4.6739e-05 - mae: 0.0053 - val_loss: 1.3089e-05 - val_mae: 0.0027\n",
      "Epoch 42/50\n",
      "1403/1403 [==============================] - 3s 2ms/step - loss: 4.6280e-05 - mae: 0.0054 - val_loss: 1.4906e-05 - val_mae: 0.0031\n",
      "Epoch 43/50\n",
      "1403/1403 [==============================] - 3s 2ms/step - loss: 4.5589e-05 - mae: 0.0052 - val_loss: 7.6777e-06 - val_mae: 0.0021\n",
      "Epoch 44/50\n",
      "1403/1403 [==============================] - 3s 2ms/step - loss: 4.5096e-05 - mae: 0.0051 - val_loss: 1.0448e-05 - val_mae: 0.0024\n",
      "Epoch 45/50\n",
      "1403/1403 [==============================] - 3s 2ms/step - loss: 4.4487e-05 - mae: 0.0052 - val_loss: 3.8313e-05 - val_mae: 0.0052\n",
      "Epoch 46/50\n",
      "1403/1403 [==============================] - 3s 2ms/step - loss: 4.3393e-05 - mae: 0.0052 - val_loss: 1.2921e-04 - val_mae: 0.0105\n",
      "Epoch 47/50\n",
      "1403/1403 [==============================] - 3s 2ms/step - loss: 4.3105e-05 - mae: 0.0051 - val_loss: 7.5809e-06 - val_mae: 0.0021\n",
      "Epoch 48/50\n",
      "1403/1403 [==============================] - 3s 2ms/step - loss: 4.2337e-05 - mae: 0.0051 - val_loss: 3.0111e-05 - val_mae: 0.0045\n",
      "Epoch 49/50\n",
      "1403/1403 [==============================] - 3s 2ms/step - loss: 4.2158e-05 - mae: 0.0051 - val_loss: 1.2963e-04 - val_mae: 0.0102\n",
      "Epoch 50/50\n",
      "1403/1403 [==============================] - 3s 2ms/step - loss: 4.1883e-05 - mae: 0.0051 - val_loss: 1.2623e-05 - val_mae: 0.0029\n"
     ]
    }
   ],
   "source": [
    "# Fit the model\n",
    "history = model.fit(X, Y, validation_split=0.33, epochs=50, verbose=1)"
   ]
  },
  {
   "cell_type": "code",
   "execution_count": 182,
   "id": "daf9c9c6",
   "metadata": {},
   "outputs": [
    {
     "name": "stdout",
     "output_type": "stream",
     "text": [
      "dict_keys(['loss', 'mae', 'val_loss', 'val_mae'])\n"
     ]
    },
    {
     "data": {
      "image/png": "[encoded data removed]",
      "text/plain": [
       "<Figure size 432x288 with 1 Axes>"
      ]
     },
     "metadata": {
      "needs_background": "light"
     },
     "output_type": "display_data"
    },
    {
     "data": {
      "image/png": "[encoded data removed]",
      "text/plain": [
       "<Figure size 432x288 with 1 Axes>"
      ]
     },
     "metadata": {
      "needs_background": "light"
     },
     "output_type": "display_data"
    }
   ],
   "source": [
    "# list all data in history\n",
    "print(history.history.keys())\n",
    "# summarize history for accuracy\n",
    "plt.plot(history.history['mae'])\n",
    "plt.plot(history.history['val_mae'])\n",
    "plt.title('model mae')\n",
    "plt.ylabel('mae')\n",
    "plt.xlabel('epoch')\n",
    "plt.legend(['train', 'test'], loc='upper left')\n",
    "plt.show()\n",
    "# summarize history for loss\n",
    "plt.plot(history.history['loss'])\n",
    "plt.plot(history.history['val_loss'])\n",
    "plt.title('model loss')\n",
    "plt.ylabel('loss')\n",
    "plt.xlabel('epoch')\n",
    "plt.legend(['train', 'test'], loc='upper left')\n",
    "plt.show()"
   ]
  },
  {
   "cell_type": "code",
   "execution_count": 164,
   "id": "7d1062d5",
   "metadata": {},
   "outputs": [
    {
     "data": {
      "text/html": [
       "<div>\n",
       "<style scoped>\n",
       "    .dataframe tbody tr th:only-of-type {\n",
       "        vertical-align: middle;\n",
       "    }\n",
       "\n",
       "    .dataframe tbody tr th {\n",
       "        vertical-align: top;\n",
       "    }\n",
       "\n",
       "    .dataframe thead th {\n",
       "        text-align: right;\n",
       "    }\n",
       "</style>\n",
       "<table border=\"1\" class=\"dataframe\">\n",
       "  <thead>\n",
       "    <tr style=\"text-align: right;\">\n",
       "      <th></th>\n",
       "      <th>loss</th>\n",
       "      <th>mae</th>\n",
       "    </tr>\n",
       "  </thead>\n",
       "  <tbody>\n",
       "    <tr>\n",
       "      <th>0</th>\n",
       "      <td>0.027903</td>\n",
       "      <td>0.116338</td>\n",
       "    </tr>\n",
       "    <tr>\n",
       "      <th>1</th>\n",
       "      <td>0.004933</td>\n",
       "      <td>0.056516</td>\n",
       "    </tr>\n",
       "    <tr>\n",
       "      <th>2</th>\n",
       "      <td>0.003582</td>\n",
       "      <td>0.047370</td>\n",
       "    </tr>\n",
       "    <tr>\n",
       "      <th>3</th>\n",
       "      <td>0.003244</td>\n",
       "      <td>0.042957</td>\n",
       "    </tr>\n",
       "    <tr>\n",
       "      <th>4</th>\n",
       "      <td>0.002424</td>\n",
       "      <td>0.037161</td>\n",
       "    </tr>\n",
       "  </tbody>\n",
       "</table>\n",
       "</div>"
      ],
      "text/plain": [
       "       loss       mae\n",
       "0  0.027903  0.116338\n",
       "1  0.004933  0.056516\n",
       "2  0.003582  0.047370\n",
       "3  0.003244  0.042957\n",
       "4  0.002424  0.037161"
      ]
     },
     "execution_count": 164,
     "metadata": {},
     "output_type": "execute_result"
    }
   ],
   "source": [
    "hist.head()"
   ]
  },
  {
   "cell_type": "markdown",
   "id": "79cc9e70",
   "metadata": {},
   "source": [
    "## Save Scaler and Model on Disk"
   ]
  },
  {
   "cell_type": "code",
   "execution_count": 18,
   "id": "e7e79d55",
   "metadata": {},
   "outputs": [
    {
     "name": "stdout",
     "output_type": "stream",
     "text": [
      "@ Info                    : scaler saved to 'scaler_001024.pkl'\n",
      "INFO:tensorflow:Assets written to: model_001024.krs\\assets\n",
      "@ Info                    : model saved to 'model_001024.krs'\n"
     ]
    }
   ],
   "source": [
    "from pickle import dump, load\n",
    "\n",
    "dump(scaler, open(scalerFile, 'wb'))\n",
    "print(\"@ %-24s: scaler saved to '%s'\" %(\"Info\", scalerFile))\n",
    "\n",
    "model.save(mdlDir)\n",
    "print(\"@ %-24s: model saved to '%s'\" %(\"Info\", mdlDir))    "
   ]
  },
  {
   "cell_type": "code",
   "execution_count": null,
   "id": "94623449",
   "metadata": {},
   "outputs": [],
   "source": []
  }
 ],
 "metadata": {
  "kernelspec": {
   "display_name": "Python 3 (ipykernel)",
   "language": "python",
   "name": "python3"
  },
  "language_info": {
   "codemirror_mode": {
    "name": "ipython",
    "version": 3
   },
   "file_extension": ".py",
   "mimetype": "text/x-python",
   "name": "python",
   "nbconvert_exporter": "python",
   "pygments_lexer": "ipython3",
   "version": "3.7.4"
  },
  "toc": {
   "base_numbering": "3",
   "nav_menu": {},
   "number_sections": true,
   "sideBar": true,
   "skip_h1_title": false,
   "title_cell": "Table of Contents",
   "title_sidebar": "Contents",
   "toc_cell": false,
   "toc_position": {},
   "toc_section_display": true,
   "toc_window_display": false
  }
 },
 "nbformat": 4,
 "nbformat_minor": 5
}
