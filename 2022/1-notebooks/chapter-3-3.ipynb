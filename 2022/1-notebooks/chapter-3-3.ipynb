{
 "cells": [
  {
   "cell_type": "markdown",
   "id": "c1d47045",
   "metadata": {},
   "source": [
    "<table align=\"left\">\n",
    "  <td>\n",
    "    <a target=\"_blank\" href=\"https://colab.research.google.com/github/polyhedron-gdl/advanced-machine-learning-for-finance/blob/main/2022/1-notebooks/chapter-3-3.ipynb\">\n",
    "        <img src=\"https://www.tensorflow.org/images/colab_logo_32px.png\" />Run in Google Colab</a>\n",
    "  </td>\n",
    "</table>"
   ]
  },
  {
   "cell_type": "markdown",
   "id": "c59aecd7",
   "metadata": {},
   "source": [
    "# NN Heston Model - Model Training"
   ]
  },
  {
   "cell_type": "code",
   "execution_count": 1,
   "id": "e3df4be4",
   "metadata": {},
   "outputs": [],
   "source": [
    "import pandas as pd\n",
    "from sklearn.model_selection import train_test_split"
   ]
  },
  {
   "cell_type": "markdown",
   "id": "ab5ed3c3",
   "metadata": {},
   "source": [
    "## Data Preprocessing"
   ]
  },
  {
   "cell_type": "markdown",
   "id": "53c8124f",
   "metadata": {},
   "source": [
    "**Initialization**"
   ]
  },
  {
   "cell_type": "code",
   "execution_count": 2,
   "id": "a6db15f9",
   "metadata": {},
   "outputs": [
    {
     "name": "stdout",
     "output_type": "stream",
     "text": [
      "full_001024_MCA.csv -> full_001024_MCA_trained.png\n"
     ]
    }
   ],
   "source": [
    "import re\n",
    "\n",
    "verbose    = True\n",
    "TAG        = '001024_MCA'\n",
    "\n",
    "inFile     = \"full_%s.csv\" %(TAG)\n",
    "scalerFile = \"scaler_%s.pkl\" %(TAG)\n",
    "mdlDir     = \"model_%s.krs\" %(TAG)\n",
    "    \n",
    "resFile    = re.sub(\"\\..*$\",\"_trained.png\", inFile)\n",
    "print(\"%s -> %s\" %(inFile, resFile))    "
   ]
  },
  {
   "cell_type": "markdown",
   "id": "4a268098",
   "metadata": {},
   "source": [
    "**Read the training DB**"
   ]
  },
  {
   "cell_type": "code",
   "execution_count": 3,
   "id": "dd9ae022",
   "metadata": {},
   "outputs": [
    {
     "name": "stdout",
     "output_type": "stream",
     "text": [
      "@ Info                    : reading from 'full_001024_MCA.csv'\n"
     ]
    }
   ],
   "source": [
    "# Read in training data\n",
    "print(\"@ %-24s: reading from '%s'\" %(\"Info\", inFile))\n",
    "db = pd.read_csv(inFile, sep=',')"
   ]
  },
  {
   "cell_type": "markdown",
   "id": "e2b41815",
   "metadata": {},
   "source": [
    "check that it is is what we expect"
   ]
  },
  {
   "cell_type": "code",
   "execution_count": 4,
   "id": "dcd4258a",
   "metadata": {
    "scrolled": false
   },
   "outputs": [
    {
     "name": "stdout",
     "output_type": "stream",
     "text": [
      "**********************************************************************************\n",
      "* X\n",
      "Index(['k', 'theta', 'sigma', 'v0', 'rho', 'T', 'Strike', 'Price'], dtype='object')\n",
      "**********************************************************************************\n",
      "          k     theta     sigma        v0       rho         T    Strike  \\\n",
      "0  0.834194  0.761812  0.335327  0.045103 -0.188042  1.407593  1.150391   \n",
      "1  0.878667  0.188599  0.806157  0.583599 -0.277954  1.583537  0.869922   \n",
      "2  0.566392  0.346753  0.903804  0.247231 -0.346597  1.087524  0.726172   \n",
      "3  0.343062  0.118394  0.474546  0.366040 -0.777788  0.393107  0.873047   \n",
      "\n",
      "      Price  \n",
      "0  0.367374  \n",
      "1  0.211354  \n",
      "2  0.075500  \n",
      "3  0.084452  \n"
     ]
    }
   ],
   "source": [
    "print(\"*\"*82+\"\\n\"+\"* X\"); print(db.keys()); print(\"*\"*82)\n",
    "print(db.head(4))"
   ]
  },
  {
   "cell_type": "code",
   "execution_count": 5,
   "id": "e017ccad",
   "metadata": {},
   "outputs": [],
   "source": [
    "from sklearn.preprocessing import StandardScaler\n",
    "\n",
    "'''\n",
    "    It is critical that any data preparation performed on a training dataset is also performed \n",
    "    on a new dataset in the future. This may include a test dataset when evaluating a model \n",
    "    or new data from the domain when using a model to make predictions. Typically, the model fit \n",
    "    on the training dataset is saved for later use. The correct solution to preparing new data \n",
    "    for the model in the future is to also save any data preparation objects, like data scaling methods, \n",
    "    to file along with the model.\n",
    "'''\n",
    "\n",
    "def preprocess(**keywrds):\n",
    "\n",
    "    db = keywrds[\"db\"]\n",
    "    \n",
    "\n",
    "    # Specify the target labels and flatten the array \n",
    "    #t=np.ravel(db[\"Price\"])\n",
    "    t=db[\"Price\"]\n",
    "\n",
    "    # Specify the data \n",
    "    X = db.drop(columns=\"Price\")\n",
    "\n",
    "    print(\"Info\")\n",
    "    print(X.info())\n",
    "\n",
    "    print(\"Head\")\n",
    "    print(X.head(n=2))\n",
    "    print(\"Tail\")\n",
    "    print(X.tail(n=2))\n",
    "\n",
    "    print(\"Describe\")\n",
    "    print(X.describe())\n",
    "\n",
    "\n",
    "    # Define the scaler \n",
    "    scaler = StandardScaler().fit(X)\n",
    "\n",
    "    # Split the data up in train and test sets\n",
    "    X_train, X_test, t_train, t_test = train_test_split(X, t, test_size=0.33, random_state=42)\n",
    "\n",
    "    # Scale the train set\n",
    "    X_train = scaler.transform(X_train)\n",
    "\n",
    "    # Scale the test set\n",
    "    X_test = scaler.transform(X_test)\n",
    "\n",
    "    return scaler, X_train, X_test, t_train, t_test"
   ]
  },
  {
   "cell_type": "code",
   "execution_count": 6,
   "id": "93759174",
   "metadata": {},
   "outputs": [
    {
     "name": "stdout",
     "output_type": "stream",
     "text": [
      "Info\n",
      "<class 'pandas.core.frame.DataFrame'>\n",
      "RangeIndex: 686 entries, 0 to 685\n",
      "Data columns (total 7 columns):\n",
      " #   Column  Non-Null Count  Dtype  \n",
      "---  ------  --------------  -----  \n",
      " 0   k       686 non-null    float64\n",
      " 1   theta   686 non-null    float64\n",
      " 2   sigma   686 non-null    float64\n",
      " 3   v0      686 non-null    float64\n",
      " 4   rho     686 non-null    float64\n",
      " 5   T       686 non-null    float64\n",
      " 6   Strike  686 non-null    float64\n",
      "dtypes: float64(7)\n",
      "memory usage: 37.6 KB\n",
      "None\n",
      "Head\n",
      "          k     theta     sigma        v0       rho         T    Strike\n",
      "0  0.834194  0.761812  0.335327  0.045103 -0.188042  1.407593  1.150391\n",
      "1  0.878667  0.188599  0.806157  0.583599 -0.277954  1.583537  0.869922\n",
      "Tail\n",
      "            k     theta     sigma        v0       rho         T    Strike\n",
      "684  0.442642  0.574341  0.971479  0.325923 -0.723647  0.175985  1.194141\n",
      "685  0.957944  0.231802  0.055923  0.672319 -0.780688  1.718302  0.993359\n",
      "Describe\n",
      "                k       theta       sigma          v0         rho           T  \\\n",
      "count  686.000000  686.000000  686.000000  686.000000  686.000000  686.000000   \n",
      "mean     0.494603    0.400990    0.507137    0.406888   -0.505802    1.021342   \n",
      "std      0.286098    0.230779    0.285408    0.228688    0.284599    0.549902   \n",
      "min      0.010483    0.010386    0.010483    0.010386   -0.988550    0.084269   \n",
      "25%      0.242757    0.199014    0.257259    0.209622   -0.759177    0.556417   \n",
      "50%      0.486147    0.398828    0.505000    0.417729   -0.512886    1.030436   \n",
      "75%      0.748633    0.599607    0.755401    0.597292   -0.270462    1.502584   \n",
      "max      0.997583    0.798071    0.997583    0.799614   -0.001450    1.999064   \n",
      "\n",
      "           Strike  \n",
      "count  686.000000  \n",
      "mean     0.995028  \n",
      "std      0.230074  \n",
      "min      0.600391  \n",
      "25%      0.797656  \n",
      "50%      0.992968  \n",
      "75%      1.184375  \n",
      "max      1.399609  \n"
     ]
    }
   ],
   "source": [
    "scaler, X_train, X_test, t_train, t_test = preprocess(db = db)"
   ]
  },
  {
   "cell_type": "markdown",
   "id": "2d199fd6",
   "metadata": {},
   "source": [
    "## Auxiliary Functions"
   ]
  },
  {
   "cell_type": "code",
   "execution_count": 7,
   "id": "fd4e3d32",
   "metadata": {},
   "outputs": [],
   "source": [
    "def show_scattered( y, t, tag, ax = None):\n",
    "    #x      = model.predict(X)\n",
    "    #y      = np.ravel(x)\n",
    "    xMin = min(t)\n",
    "    xMax = max(t)\n",
    "    v    = np.arange(xMin, xMax, (xMax-xMin)/100.)\n",
    "\n",
    "    diff   = np.fabs(y - t)\n",
    "    print(\"@ %-24s: E[y-t]: %.6f Std(y-t): %.6f\" %( tag, np.mean(diff), np.std(diff)))\n",
    "    if ax == None: return\n",
    "\n",
    "    ax.plot( y, t, \".\")\n",
    "    ax.plot( v, v, color=\"red\")\n",
    "    ax.set_title(\"%s mae=%8.4f, std=%8.4f\" %(tag, np.mean(diff), np.std(diff)))\n",
    "    ax.set_xlabel(\"predicted\")\n",
    "    ax.set_ylabel(\"target\")"
   ]
  },
  {
   "cell_type": "code",
   "execution_count": 8,
   "id": "edaceb5a",
   "metadata": {},
   "outputs": [],
   "source": [
    "def display_nn_results( model, X_train, X_test, t_train, t_test, resFile=None):\n",
    "\n",
    "    fig, ax = plt.subplots(1,2, figsize=(12,6))\n",
    "    fig.suptitle(\"Scattered plots\")\n",
    "\n",
    "    y_train  = np.ravel(model.predict(X_train))\n",
    "    show_scattered( y_train, t_train, \"InSample\", ax = ax[0])\n",
    "    \n",
    "    diff   = np.fabs(y_train - t_train)\n",
    "    RES    = pd.DataFrame({\"predicted\": y_train, \"target\": t_train, \"err:\": diff})\n",
    "    RES.to_csv(\"res_in__sample.csv\", sep=',', float_format=\"%.6f\", index=True)\n",
    "    print(\"@\")\n",
    "    y_test  = np.ravel(model.predict(X_test))\n",
    "    show_scattered( y_test , t_test, \"OutOfSample\", ax= ax[1])\n",
    "    \n",
    "    diff   = np.fabs(y_test-t_test)\n",
    "    RES    = pd.DataFrame({\"predicted\": y_test, \"target\": t_test, \"err:\": diff})\n",
    "    RES.to_csv(\"res_out_sample.csv\", sep=',', float_format=\"%.6f\", index=True)\n",
    "\n",
    "    print(\"@\")\n",
    "\n",
    "    if resFile != None:\n",
    "        plt.savefig(resFile, format=\"png\")\n",
    "        print(\"@ %-12s: results saved to '%s' \"%(\"Info\", resFile))\n",
    "    plt.show()\n",
    "\n",
    "\n",
    "    score = model.evaluate(X_test, t_test, verbose=1)\n",
    "    print('Score:'); print(score)"
   ]
  },
  {
   "cell_type": "markdown",
   "id": "4aa58615",
   "metadata": {},
   "source": [
    "## Build the model"
   ]
  },
  {
   "cell_type": "code",
   "execution_count": 9,
   "id": "864488b0",
   "metadata": {},
   "outputs": [],
   "source": [
    "from keras.models import Sequential\n",
    "from keras.layers import Dense\n",
    "\n",
    "def model_builder( inputShape = (1,)):\n",
    "    \n",
    "    # Initialize the constructor\n",
    "    model = Sequential()\n",
    "\n",
    "    # Add an input layer \n",
    "    model.add(Dense(128, activation='relu', input_shape=inputShape))\n",
    "\n",
    "    # Add one more hidden layer \n",
    "    model.add(Dense(64, activation='relu'))\n",
    "\n",
    "    # Add one more hidden layer \n",
    "    model.add(Dense(32, activation='relu'))\n",
    "\n",
    "    # Add one more hidden layer \n",
    "    model.add(Dense(16, activation='relu'))\n",
    "\n",
    "    # Add an output layer \n",
    "    model.add(Dense(1))\n",
    "    # End model construction\n",
    "\n",
    "    # Model output shape\n",
    "    print(\"model.output_shape: %s\" %(str(model.output_shape)))\n",
    "\n",
    "    # Model summary\n",
    "    print(\"Model.summary\"); model.summary()\n",
    "\n",
    "    # Model config\n",
    "    print(\"Model.config\"); model.get_config()\n",
    "\n",
    "    model.compile(loss='mse', optimizer='rmsprop', metrics=['mae'])\n",
    "    return model\n"
   ]
  },
  {
   "cell_type": "markdown",
   "id": "4a48ba78",
   "metadata": {},
   "source": [
    "Let’s go through this code line by line:\n",
    "\n",
    "- The first line creates a **Sequential** model. This is the simplest kind of Keras model, for neural networks that are just composed of a single stack of layers, connected sequentially. This is called the sequential API.\n",
    "\n",
    "- Next, we build the first layer and add it to the model. It is a **Dense** hidden layer with XXX neurons. It will use the **ReLu** activation function. Each Dense layer manages its own weight matrix, containing all the connection weights between the neurons and their inputs. It also manages a vector of bias terms (one per neuron).\n",
    "\n",
    "- Next we add a second Dense hidden layer with XXX neurons, also using the ReLu activation function and a third one ...\n",
    "\n",
    "- Finally, we add a Dense output layer with only 1 neurons, using the ReLu activation function (because...).\n"
   ]
  },
  {
   "cell_type": "code",
   "execution_count": 10,
   "id": "162f642f",
   "metadata": {},
   "outputs": [
    {
     "name": "stdout",
     "output_type": "stream",
     "text": [
      "model.output_shape: (None, 1)\n",
      "Model.summary\n",
      "Model: \"sequential\"\n",
      "_________________________________________________________________\n",
      "Layer (type)                 Output Shape              Param #   \n",
      "=================================================================\n",
      "dense (Dense)                (None, 128)               1024      \n",
      "_________________________________________________________________\n",
      "dense_1 (Dense)              (None, 64)                8256      \n",
      "_________________________________________________________________\n",
      "dense_2 (Dense)              (None, 32)                2080      \n",
      "_________________________________________________________________\n",
      "dense_3 (Dense)              (None, 16)                528       \n",
      "_________________________________________________________________\n",
      "dense_4 (Dense)              (None, 1)                 17        \n",
      "=================================================================\n",
      "Total params: 11,905\n",
      "Trainable params: 11,905\n",
      "Non-trainable params: 0\n",
      "_________________________________________________________________\n",
      "Model.config\n"
     ]
    }
   ],
   "source": [
    "model = model_builder( inputShape = (X_train.shape[1],))"
   ]
  },
  {
   "cell_type": "markdown",
   "id": "7f8ef0b9",
   "metadata": {},
   "source": [
    "Note that Dense layers often have a lot of parameters. For example, the first hidden\n",
    "layer has n × n connection weights, plus 300 bias terms, which adds up to\n",
    "XXX parameters! This gives the model quite a lot of flexibility to fit the training\n",
    "data, but it also means that the model runs the risk of overfitting, especially when you\n",
    "do not have a lot of training data."
   ]
  },
  {
   "cell_type": "markdown",
   "id": "97a01a30",
   "metadata": {},
   "source": [
    "You can easily get a model’s list of layers, to fetch a layer by its index, or you can fetch\n",
    "it by name:"
   ]
  },
  {
   "cell_type": "code",
   "execution_count": 11,
   "id": "db6a912d",
   "metadata": {},
   "outputs": [
    {
     "data": {
      "text/plain": [
       "[<tensorflow.python.keras.layers.core.Dense at 0x15d10451e88>,\n",
       " <tensorflow.python.keras.layers.core.Dense at 0x15d1695e5c8>,\n",
       " <tensorflow.python.keras.layers.core.Dense at 0x15d16934bc8>,\n",
       " <tensorflow.python.keras.layers.core.Dense at 0x15d169b6588>,\n",
       " <tensorflow.python.keras.layers.core.Dense at 0x15d169bad48>]"
      ]
     },
     "execution_count": 11,
     "metadata": {},
     "output_type": "execute_result"
    }
   ],
   "source": [
    "model.layers"
   ]
  },
  {
   "cell_type": "code",
   "execution_count": 12,
   "id": "92d707c3",
   "metadata": {},
   "outputs": [
    {
     "data": {
      "text/plain": [
       "'dense_1'"
      ]
     },
     "execution_count": 12,
     "metadata": {},
     "output_type": "execute_result"
    }
   ],
   "source": [
    "model.layers[1].name"
   ]
  },
  {
   "cell_type": "markdown",
   "id": "c4bf0502",
   "metadata": {},
   "source": [
    "After a model is created, you must call its ***compile()*** method to specify the loss function\n",
    "and the optimizer to use. Optionally, you can also specify a list of extra metrics to\n",
    "compute during training and evaluation. In this case we have chosen\n",
    "\n",
    "`model.compile(loss='mse', optimizer='rmsprop', metrics=['mae'])`\n",
    "\n"
   ]
  },
  {
   "cell_type": "markdown",
   "id": "2c24e072",
   "metadata": {},
   "source": [
    "## Train the model"
   ]
  },
  {
   "cell_type": "markdown",
   "id": "d8ceaf27",
   "metadata": {},
   "source": [
    "Now the model is ready to be trained. For this we simply need to call its ***fit()***\n",
    "method. We pass it the input features (***X_train***) and the target classes (***y_train***), as\n",
    "well as the number of epochs to train (or else it would default to just 1, which would\n",
    "definitely not be enough to converge to a good solution). We could also pass a validation set\n",
    "(this is optional): Keras will measure the loss and the extra metrics on this set at the\n",
    "end of each epoch, which is very useful to see how well the model really performs: if\n",
    "the performance on the training set is much better than on the validation set, your model is probably overfitting the training set (or there is a bug, such as a data mismatch\n",
    "between the training set and the validation set)."
   ]
  },
  {
   "cell_type": "code",
   "execution_count": 13,
   "id": "77a4b3ac",
   "metadata": {},
   "outputs": [
    {
     "name": "stdout",
     "output_type": "stream",
     "text": [
      "Epoch 1/50\n",
      "15/15 [==============================] - 1s 1ms/step - loss: 0.1269 - mae: 0.2727\n",
      "Epoch 2/50\n",
      "15/15 [==============================] - 0s 2ms/step - loss: 0.0062 - mae: 0.0629\n",
      "Epoch 3/50\n",
      "15/15 [==============================] - 0s 1ms/step - loss: 0.0029 - mae: 0.0428\n",
      "Epoch 4/50\n",
      "15/15 [==============================] - 0s 1ms/step - loss: 0.0024 - mae: 0.0388\n",
      "Epoch 5/50\n",
      "15/15 [==============================] - 0s 2ms/step - loss: 0.0015 - mae: 0.0313\n",
      "Epoch 6/50\n",
      "15/15 [==============================] - 0s 1ms/step - loss: 0.0021 - mae: 0.0346\n",
      "Epoch 7/50\n",
      "15/15 [==============================] - 0s 1ms/step - loss: 0.0014 - mae: 0.0289\n",
      "Epoch 8/50\n",
      "15/15 [==============================] - 0s 1ms/step - loss: 0.0016 - mae: 0.0329\n",
      "Epoch 9/50\n",
      "15/15 [==============================] - 0s 2ms/step - loss: 0.0014 - mae: 0.0311\n",
      "Epoch 10/50\n",
      "15/15 [==============================] - 0s 2ms/step - loss: 6.1446e-04 - mae: 0.0195\n",
      "Epoch 11/50\n",
      "15/15 [==============================] - 0s 1ms/step - loss: 8.0332e-04 - mae: 0.0230\n",
      "Epoch 12/50\n",
      "15/15 [==============================] - 0s 1ms/step - loss: 0.0012 - mae: 0.0276\n",
      "Epoch 13/50\n",
      "15/15 [==============================] - 0s 2ms/step - loss: 7.6366e-04 - mae: 0.0222\n",
      "Epoch 14/50\n",
      "15/15 [==============================] - 0s 1ms/step - loss: 5.5794e-04 - mae: 0.0188\n",
      "Epoch 15/50\n",
      "15/15 [==============================] - 0s 1ms/step - loss: 6.5074e-04 - mae: 0.0205\n",
      "Epoch 16/50\n",
      "15/15 [==============================] - 0s 1ms/step - loss: 4.1065e-04 - mae: 0.0159\n",
      "Epoch 17/50\n",
      "15/15 [==============================] - 0s 2ms/step - loss: 5.4209e-04 - mae: 0.0175\n",
      "Epoch 18/50\n",
      "15/15 [==============================] - 0s 2ms/step - loss: 8.2424e-04 - mae: 0.0237\n",
      "Epoch 19/50\n",
      "15/15 [==============================] - 0s 2ms/step - loss: 5.5082e-04 - mae: 0.0181\n",
      "Epoch 20/50\n",
      "15/15 [==============================] - 0s 2ms/step - loss: 3.3910e-04 - mae: 0.0146\n",
      "Epoch 21/50\n",
      "15/15 [==============================] - 0s 1ms/step - loss: 0.0011 - mae: 0.0265\n",
      "Epoch 22/50\n",
      "15/15 [==============================] - 0s 2ms/step - loss: 2.8598e-04 - mae: 0.0137\n",
      "Epoch 23/50\n",
      "15/15 [==============================] - 0s 1ms/step - loss: 5.8392e-04 - mae: 0.0188\n",
      "Epoch 24/50\n",
      "15/15 [==============================] - 0s 2ms/step - loss: 6.2551e-04 - mae: 0.0195\n",
      "Epoch 25/50\n",
      "15/15 [==============================] - 0s 2ms/step - loss: 4.8682e-04 - mae: 0.0172\n",
      "Epoch 26/50\n",
      "15/15 [==============================] - 0s 1ms/step - loss: 3.9503e-04 - mae: 0.0148\n",
      "Epoch 27/50\n",
      "15/15 [==============================] - 0s 2ms/step - loss: 2.9012e-04 - mae: 0.0137\n",
      "Epoch 28/50\n",
      "15/15 [==============================] - 0s 2ms/step - loss: 5.2930e-04 - mae: 0.0188\n",
      "Epoch 29/50\n",
      "15/15 [==============================] - 0s 1ms/step - loss: 4.9881e-04 - mae: 0.0180\n",
      "Epoch 30/50\n",
      "15/15 [==============================] - 0s 2ms/step - loss: 2.7610e-04 - mae: 0.0127\n",
      "Epoch 31/50\n",
      "15/15 [==============================] - 0s 1ms/step - loss: 3.1143e-04 - mae: 0.0143\n",
      "Epoch 32/50\n",
      "15/15 [==============================] - 0s 1ms/step - loss: 2.7232e-04 - mae: 0.0125\n",
      "Epoch 33/50\n",
      "15/15 [==============================] - 0s 1ms/step - loss: 2.7990e-04 - mae: 0.0134\n",
      "Epoch 34/50\n",
      "15/15 [==============================] - 0s 2ms/step - loss: 2.2407e-04 - mae: 0.0113\n",
      "Epoch 35/50\n",
      "15/15 [==============================] - 0s 1ms/step - loss: 3.6068e-04 - mae: 0.0151\n",
      "Epoch 36/50\n",
      "15/15 [==============================] - 0s 1ms/step - loss: 2.1740e-04 - mae: 0.0110\n",
      "Epoch 37/50\n",
      "15/15 [==============================] - 0s 1ms/step - loss: 3.3852e-04 - mae: 0.0150\n",
      "Epoch 38/50\n",
      "15/15 [==============================] - 0s 2ms/step - loss: 1.9492e-04 - mae: 0.0107\n",
      "Epoch 39/50\n",
      "15/15 [==============================] - 0s 1ms/step - loss: 2.9323e-04 - mae: 0.0137\n",
      "Epoch 40/50\n",
      "15/15 [==============================] - 0s 2ms/step - loss: 3.6649e-04 - mae: 0.0144\n",
      "Epoch 41/50\n",
      "15/15 [==============================] - 0s 1ms/step - loss: 4.3058e-04 - mae: 0.0161\n",
      "Epoch 42/50\n",
      "15/15 [==============================] - 0s 2ms/step - loss: 3.0111e-04 - mae: 0.0138\n",
      "Epoch 43/50\n",
      "15/15 [==============================] - 0s 1ms/step - loss: 1.4048e-04 - mae: 0.0090\n",
      "Epoch 44/50\n",
      "15/15 [==============================] - 0s 1ms/step - loss: 3.0989e-04 - mae: 0.0142\n",
      "Epoch 45/50\n",
      "15/15 [==============================] - 0s 1ms/step - loss: 3.1508e-04 - mae: 0.0128\n",
      "Epoch 46/50\n",
      "15/15 [==============================] - 0s 2ms/step - loss: 2.3570e-04 - mae: 0.0124\n",
      "Epoch 47/50\n",
      "15/15 [==============================] - 0s 1ms/step - loss: 2.5062e-04 - mae: 0.0125\n",
      "Epoch 48/50\n",
      "15/15 [==============================] - 0s 1ms/step - loss: 2.2606e-04 - mae: 0.0123\n",
      "Epoch 49/50\n",
      "15/15 [==============================] - 0s 1ms/step - loss: 2.4953e-04 - mae: 0.0126\n",
      "Epoch 50/50\n",
      "15/15 [==============================] - 0s 1ms/step - loss: 3.4251e-04 - mae: 0.0146\n"
     ]
    }
   ],
   "source": [
    "history = model.fit(X_train, t_train, epochs=50, verbose=verbose)"
   ]
  },
  {
   "cell_type": "markdown",
   "id": "7ac730b4",
   "metadata": {},
   "source": [
    "And that’s it! The neural network is trained. At each epoch during training, Keras displays\n",
    "the number of instances processed so far (along with a progress bar), the mean\n",
    "training time per sample, the loss and accuracy (or any other extra metrics you asked\n",
    "for), both on the training set and the validation set. You can see that the training loss\n",
    "went down, which is a good sign, and the validation accuracy reached XXX% after 50\n",
    "epochs, not too far from the training accuracy, so there does not seem to be much\n",
    "overfitting going on."
   ]
  },
  {
   "cell_type": "markdown",
   "id": "4d29932f",
   "metadata": {},
   "source": [
    "All the parameters of a layer can be accessed using its ***get_weights()*** and\n",
    "***set_weights()*** method. For a Dense layer, this includes both the connection weights\n",
    "and the bias terms:"
   ]
  },
  {
   "cell_type": "code",
   "execution_count": 14,
   "id": "5e6b1834",
   "metadata": {},
   "outputs": [
    {
     "data": {
      "text/plain": [
       "array([[ 0.09932495,  0.13424389,  0.09163826, ...,  0.04298903,\n",
       "        -0.00630778, -0.0438327 ],\n",
       "       [ 0.12352373, -0.00563112, -0.07965504, ..., -0.1936767 ,\n",
       "        -0.05558946,  0.08430263],\n",
       "       [ 0.15081377,  0.08465408,  0.11552826, ...,  0.01419515,\n",
       "         0.16669428, -0.15224673],\n",
       "       ...,\n",
       "       [ 0.02467604,  0.13523911,  0.17049396, ..., -0.17387941,\n",
       "        -0.15557763,  0.10675178],\n",
       "       [-0.04601754,  0.07091501, -0.00713848, ..., -0.19457142,\n",
       "         0.12648721, -0.05790656],\n",
       "       [-0.04767045, -0.19514185,  0.04957372, ...,  0.04615196,\n",
       "        -0.02972281,  0.13629961]], dtype=float32)"
      ]
     },
     "execution_count": 14,
     "metadata": {},
     "output_type": "execute_result"
    }
   ],
   "source": [
    "weights, biases = model.layers[1].get_weights()\n",
    "weights"
   ]
  },
  {
   "cell_type": "code",
   "execution_count": 15,
   "id": "6fd4a1c1",
   "metadata": {},
   "outputs": [
    {
     "name": "stdout",
     "output_type": "stream",
     "text": [
      "@ InSample                : E[y-t]: 0.020781 Std(y-t): 0.014662\n",
      "@\n",
      "@ OutOfSample             : E[y-t]: 0.025673 Std(y-t): 0.017285\n",
      "@\n",
      "@ Info        : results saved to 'full_001024_MCA_trained.png' \n"
     ]
    },
    {
     "data": {
      "image/png": "[encoded data removed]",
      "text/plain": [
       "<Figure size 864x432 with 2 Axes>"
      ]
     },
     "metadata": {
      "needs_background": "light"
     },
     "output_type": "display_data"
    },
    {
     "name": "stdout",
     "output_type": "stream",
     "text": [
      "8/8 [==============================] - 0s 1ms/step - loss: 9.5787e-04 - mae: 0.0257\n",
      "Score:\n",
      "[0.0009578728349879384, 0.025672735646367073]\n"
     ]
    }
   ],
   "source": [
    "import warnings\n",
    "warnings.simplefilter('ignore')\n",
    "\n",
    "import matplotlib.pyplot as plt\n",
    "import numpy             as np\n",
    "\n",
    "display_nn_results(model, X_train, X_test, t_train, t_test, resFile = resFile)"
   ]
  },
  {
   "cell_type": "markdown",
   "id": "c8a1fd8f",
   "metadata": {},
   "source": [
    "The ***fit()*** method returns a History object containing the training parameters (his\n",
    "tory.params), the list of epochs it went through (history.epoch), and most importantly\n",
    "a dictionary (history.history) containing the loss and extra metrics it\n",
    "measured at the end of each epoch on the training set and on the validation set (if any). If you create a Pandas DataFrame using this dictionary and call its plot()\n",
    "method, you get the learning curves shown in ..."
   ]
  },
  {
   "cell_type": "code",
   "execution_count": 16,
   "id": "eff51578",
   "metadata": {},
   "outputs": [],
   "source": [
    "X = db.drop(columns=\"Price\")\n",
    "Y = db[\"Price\"]"
   ]
  },
  {
   "cell_type": "code",
   "execution_count": 17,
   "id": "580f830b",
   "metadata": {},
   "outputs": [
    {
     "name": "stdout",
     "output_type": "stream",
     "text": [
      "Epoch 1/50\n",
      "15/15 [==============================] - 2s 80ms/step - loss: 0.0175 - mae: 0.1109 - val_loss: 0.0150 - val_mae: 0.1062\n",
      "Epoch 2/50\n",
      "15/15 [==============================] - 0s 6ms/step - loss: 0.0120 - mae: 0.0921 - val_loss: 0.0110 - val_mae: 0.0901\n",
      "Epoch 3/50\n",
      "15/15 [==============================] - 0s 6ms/step - loss: 0.0091 - mae: 0.0791 - val_loss: 0.0101 - val_mae: 0.0840\n",
      "Epoch 4/50\n",
      "15/15 [==============================] - 0s 6ms/step - loss: 0.0076 - mae: 0.0719 - val_loss: 0.0074 - val_mae: 0.0723\n",
      "Epoch 5/50\n",
      "15/15 [==============================] - 0s 11ms/step - loss: 0.0066 - mae: 0.0660 - val_loss: 0.0059 - val_mae: 0.0634\n",
      "Epoch 6/50\n",
      "15/15 [==============================] - 0s 6ms/step - loss: 0.0053 - mae: 0.0590 - val_loss: 0.0051 - val_mae: 0.0588\n",
      "Epoch 7/50\n",
      "15/15 [==============================] - 0s 6ms/step - loss: 0.0043 - mae: 0.0526 - val_loss: 0.0054 - val_mae: 0.0580\n",
      "Epoch 8/50\n",
      "15/15 [==============================] - 0s 6ms/step - loss: 0.0043 - mae: 0.0534 - val_loss: 0.0124 - val_mae: 0.0928\n",
      "Epoch 9/50\n",
      "15/15 [==============================] - 0s 6ms/step - loss: 0.0045 - mae: 0.0534 - val_loss: 0.0033 - val_mae: 0.0449\n",
      "Epoch 10/50\n",
      "15/15 [==============================] - 0s 6ms/step - loss: 0.0031 - mae: 0.0433 - val_loss: 0.0051 - val_mae: 0.0550\n",
      "Epoch 11/50\n",
      "15/15 [==============================] - 0s 6ms/step - loss: 0.0029 - mae: 0.0423 - val_loss: 0.0034 - val_mae: 0.0492\n",
      "Epoch 12/50\n",
      "15/15 [==============================] - 0s 6ms/step - loss: 0.0026 - mae: 0.0407 - val_loss: 0.0021 - val_mae: 0.0361\n",
      "Epoch 13/50\n",
      "15/15 [==============================] - 0s 6ms/step - loss: 0.0031 - mae: 0.0453 - val_loss: 0.0041 - val_mae: 0.0503\n",
      "Epoch 14/50\n",
      "15/15 [==============================] - 0s 6ms/step - loss: 0.0026 - mae: 0.0401 - val_loss: 0.0022 - val_mae: 0.0391\n",
      "Epoch 15/50\n",
      "15/15 [==============================] - 0s 6ms/step - loss: 0.0025 - mae: 0.0399 - val_loss: 0.0018 - val_mae: 0.0347\n",
      "Epoch 16/50\n",
      "15/15 [==============================] - 0s 6ms/step - loss: 0.0021 - mae: 0.0361 - val_loss: 0.0025 - val_mae: 0.0411\n",
      "Epoch 17/50\n",
      "15/15 [==============================] - 0s 6ms/step - loss: 0.0018 - mae: 0.0335 - val_loss: 0.0018 - val_mae: 0.0310\n",
      "Epoch 18/50\n",
      "15/15 [==============================] - 0s 6ms/step - loss: 0.0020 - mae: 0.0352 - val_loss: 0.0062 - val_mae: 0.0707\n",
      "Epoch 19/50\n",
      "15/15 [==============================] - 0s 6ms/step - loss: 0.0020 - mae: 0.0335 - val_loss: 0.0015 - val_mae: 0.0317\n",
      "Epoch 20/50\n",
      "15/15 [==============================] - 0s 6ms/step - loss: 0.0015 - mae: 0.0306 - val_loss: 0.0083 - val_mae: 0.0797\n",
      "Epoch 21/50\n",
      "15/15 [==============================] - 0s 6ms/step - loss: 0.0018 - mae: 0.0326 - val_loss: 0.0031 - val_mae: 0.0481\n",
      "Epoch 22/50\n",
      "15/15 [==============================] - 0s 6ms/step - loss: 0.0014 - mae: 0.0283 - val_loss: 9.5415e-04 - val_mae: 0.0238\n",
      "Epoch 23/50\n",
      "15/15 [==============================] - 0s 6ms/step - loss: 0.0018 - mae: 0.0319 - val_loss: 9.9061e-04 - val_mae: 0.0247\n",
      "Epoch 24/50\n",
      "15/15 [==============================] - 0s 6ms/step - loss: 0.0018 - mae: 0.0344 - val_loss: 0.0010 - val_mae: 0.0239\n",
      "Epoch 25/50\n",
      "15/15 [==============================] - 0s 6ms/step - loss: 0.0014 - mae: 0.0282 - val_loss: 0.0051 - val_mae: 0.0597\n",
      "Epoch 26/50\n",
      "15/15 [==============================] - 0s 6ms/step - loss: 0.0013 - mae: 0.0270 - val_loss: 0.0056 - val_mae: 0.0694\n",
      "Epoch 27/50\n",
      "15/15 [==============================] - 0s 6ms/step - loss: 0.0015 - mae: 0.0298 - val_loss: 0.0031 - val_mae: 0.0493\n",
      "Epoch 28/50\n",
      "15/15 [==============================] - 0s 6ms/step - loss: 0.0013 - mae: 0.0287 - val_loss: 9.5500e-04 - val_mae: 0.0247\n",
      "Epoch 29/50\n",
      "15/15 [==============================] - 0s 6ms/step - loss: 0.0017 - mae: 0.0336 - val_loss: 0.0013 - val_mae: 0.0306\n",
      "Epoch 30/50\n",
      "15/15 [==============================] - 0s 6ms/step - loss: 0.0015 - mae: 0.0326 - val_loss: 8.1929e-04 - val_mae: 0.0206\n",
      "Epoch 31/50\n",
      "15/15 [==============================] - 0s 6ms/step - loss: 0.0013 - mae: 0.0265 - val_loss: 6.8723e-04 - val_mae: 0.0196\n",
      "Epoch 32/50\n",
      "15/15 [==============================] - 0s 6ms/step - loss: 9.2968e-04 - mae: 0.0230 - val_loss: 8.2478e-04 - val_mae: 0.0229\n",
      "Epoch 33/50\n",
      "15/15 [==============================] - 0s 6ms/step - loss: 0.0014 - mae: 0.0306 - val_loss: 0.0045 - val_mae: 0.0572\n",
      "Epoch 34/50\n",
      "15/15 [==============================] - 0s 6ms/step - loss: 0.0016 - mae: 0.0305 - val_loss: 0.0013 - val_mae: 0.0266\n",
      "Epoch 35/50\n",
      "15/15 [==============================] - 0s 6ms/step - loss: 9.5366e-04 - mae: 0.0224 - val_loss: 5.4604e-04 - val_mae: 0.0173\n",
      "Epoch 36/50\n",
      "15/15 [==============================] - 0s 6ms/step - loss: 0.0014 - mae: 0.0255 - val_loss: 5.7655e-04 - val_mae: 0.0172\n",
      "Epoch 37/50\n",
      "15/15 [==============================] - 0s 11ms/step - loss: 0.0011 - mae: 0.0245 - val_loss: 6.3216e-04 - val_mae: 0.0201\n",
      "Epoch 38/50\n",
      "15/15 [==============================] - 0s 6ms/step - loss: 0.0010 - mae: 0.0259 - val_loss: 0.0029 - val_mae: 0.0460\n",
      "Epoch 39/50\n",
      "15/15 [==============================] - 0s 6ms/step - loss: 0.0010 - mae: 0.0255 - val_loss: 0.0017 - val_mae: 0.0332\n",
      "Epoch 40/50\n",
      "15/15 [==============================] - 0s 6ms/step - loss: 9.2351e-04 - mae: 0.0226 - val_loss: 0.0032 - val_mae: 0.0490\n",
      "Epoch 41/50\n",
      "15/15 [==============================] - 0s 6ms/step - loss: 0.0013 - mae: 0.0283 - val_loss: 0.0019 - val_mae: 0.0378\n",
      "Epoch 42/50\n",
      "15/15 [==============================] - 0s 6ms/step - loss: 0.0011 - mae: 0.0258 - val_loss: 0.0022 - val_mae: 0.0356\n",
      "Epoch 43/50\n",
      "15/15 [==============================] - 0s 6ms/step - loss: 8.2901e-04 - mae: 0.0225 - val_loss: 0.0014 - val_mae: 0.0295\n",
      "Epoch 44/50\n",
      "15/15 [==============================] - 0s 6ms/step - loss: 0.0011 - mae: 0.0254 - val_loss: 4.1294e-04 - val_mae: 0.0153\n",
      "Epoch 45/50\n",
      "15/15 [==============================] - 0s 6ms/step - loss: 9.7844e-04 - mae: 0.0244 - val_loss: 7.3137e-04 - val_mae: 0.0208\n",
      "Epoch 46/50\n",
      "15/15 [==============================] - 0s 6ms/step - loss: 9.8443e-04 - mae: 0.0242 - val_loss: 4.0357e-04 - val_mae: 0.0156\n",
      "Epoch 47/50\n",
      "15/15 [==============================] - 0s 6ms/step - loss: 0.0011 - mae: 0.0248 - val_loss: 4.2704e-04 - val_mae: 0.0152\n",
      "Epoch 48/50\n",
      "15/15 [==============================] - 0s 6ms/step - loss: 0.0010 - mae: 0.0226 - val_loss: 3.9499e-04 - val_mae: 0.0148\n",
      "Epoch 49/50\n",
      "15/15 [==============================] - 0s 6ms/step - loss: 0.0012 - mae: 0.0250 - val_loss: 4.1478e-04 - val_mae: 0.0154\n",
      "Epoch 50/50\n",
      "15/15 [==============================] - 0s 6ms/step - loss: 7.5421e-04 - mae: 0.0218 - val_loss: 0.0023 - val_mae: 0.0410\n"
     ]
    }
   ],
   "source": [
    "# Fit the model\n",
    "history = model.fit(X, Y, validation_split=0.33, epochs=50, verbose=1)"
   ]
  },
  {
   "cell_type": "code",
   "execution_count": 18,
   "id": "daf9c9c6",
   "metadata": {},
   "outputs": [
    {
     "name": "stdout",
     "output_type": "stream",
     "text": [
      "dict_keys(['loss', 'mae', 'val_loss', 'val_mae'])\n"
     ]
    },
    {
     "data": {
      "image/png": "[encoded data removed]",
      "text/plain": [
       "<Figure size 432x288 with 1 Axes>"
      ]
     },
     "metadata": {
      "needs_background": "light"
     },
     "output_type": "display_data"
    },
    {
     "data": {
      "image/png": "[encoded data removed]",
      "text/plain": [
       "<Figure size 432x288 with 1 Axes>"
      ]
     },
     "metadata": {
      "needs_background": "light"
     },
     "output_type": "display_data"
    }
   ],
   "source": [
    "# list all data in history\n",
    "print(history.history.keys())\n",
    "# summarize history for accuracy\n",
    "plt.plot(history.history['mae'])\n",
    "plt.plot(history.history['val_mae'])\n",
    "plt.title('model mae')\n",
    "plt.ylabel('mae')\n",
    "plt.xlabel('epoch')\n",
    "plt.legend(['train', 'test'], loc='upper left')\n",
    "plt.show()\n",
    "# summarize history for loss\n",
    "plt.plot(history.history['loss'])\n",
    "plt.plot(history.history['val_loss'])\n",
    "plt.title('model loss')\n",
    "plt.ylabel('loss')\n",
    "plt.xlabel('epoch')\n",
    "plt.legend(['train', 'test'], loc='upper left')\n",
    "plt.show()"
   ]
  },
  {
   "cell_type": "markdown",
   "id": "79cc9e70",
   "metadata": {},
   "source": [
    "## Save Scaler and Model on Disk"
   ]
  },
  {
   "cell_type": "code",
   "execution_count": 20,
   "id": "e7e79d55",
   "metadata": {},
   "outputs": [
    {
     "name": "stdout",
     "output_type": "stream",
     "text": [
      "@ Info                    : scaler saved to 'scaler_001024_MCA.pkl'\n",
      "INFO:tensorflow:Assets written to: model_001024_MCA.krs\\assets\n",
      "@ Info                    : model saved to 'model_001024_MCA.krs'\n"
     ]
    }
   ],
   "source": [
    "from pickle import dump, load\n",
    "\n",
    "dump(scaler, open(scalerFile, 'wb'))\n",
    "print(\"@ %-24s: scaler saved to '%s'\" %(\"Info\", scalerFile))\n",
    "\n",
    "model.save(mdlDir)\n",
    "print(\"@ %-24s: model saved to '%s'\" %(\"Info\", mdlDir))    "
   ]
  },
  {
   "cell_type": "code",
   "execution_count": null,
   "id": "94623449",
   "metadata": {},
   "outputs": [],
   "source": []
  }
 ],
 "metadata": {
  "kernelspec": {
   "display_name": "Python 3 (ipykernel)",
   "language": "python",
   "name": "python3"
  },
  "language_info": {
   "codemirror_mode": {
    "name": "ipython",
    "version": 3
   },
   "file_extension": ".py",
   "mimetype": "text/x-python",
   "name": "python",
   "nbconvert_exporter": "python",
   "pygments_lexer": "ipython3",
   "version": "3.7.4"
  },
  "toc": {
   "base_numbering": "3",
   "nav_menu": {},
   "number_sections": true,
   "sideBar": true,
   "skip_h1_title": false,
   "title_cell": "Table of Contents",
   "title_sidebar": "Contents",
   "toc_cell": false,
   "toc_position": {},
   "toc_section_display": true,
   "toc_window_display": false
  }
 },
 "nbformat": 4,
 "nbformat_minor": 5
}
