{
 "cells": [
  {
   "cell_type": "markdown",
   "id": "c59aecd7",
   "metadata": {},
   "source": [
    "# NN Heston Model - Model Training"
   ]
  },
  {
   "cell_type": "code",
   "execution_count": 63,
   "id": "e3df4be4",
   "metadata": {},
   "outputs": [],
   "source": [
    "import pandas as pd\n",
    "from sklearn.model_selection import train_test_split"
   ]
  },
  {
   "cell_type": "markdown",
   "id": "ab5ed3c3",
   "metadata": {},
   "source": [
    "## Data Preprocessing"
   ]
  },
  {
   "cell_type": "markdown",
   "id": "53c8124f",
   "metadata": {},
   "source": [
    "**Initialization**"
   ]
  },
  {
   "cell_type": "code",
   "execution_count": 64,
   "id": "a6db15f9",
   "metadata": {},
   "outputs": [
    {
     "name": "stdout",
     "output_type": "stream",
     "text": [
      "full_0000.csv -> full_0000_trained.png\n"
     ]
    }
   ],
   "source": [
    "import re\n",
    "\n",
    "verbose    = True\n",
    "TAG        = '0000'\n",
    "\n",
    "inFile     = \"full_%s.csv\" %(TAG)\n",
    "scalerFile = \"scaler_%s.pkl\" %(TAG)\n",
    "mdlDir     = \"model_%s.krs\" %(TAG)\n",
    "    \n",
    "resFile    = re.sub(\"\\..*$\",\"_trained.png\", inFile)\n",
    "print(\"%s -> %s\" %(inFile, resFile))    "
   ]
  },
  {
   "cell_type": "markdown",
   "id": "4a268098",
   "metadata": {},
   "source": [
    "**Read the training DB**"
   ]
  },
  {
   "cell_type": "code",
   "execution_count": 65,
   "id": "dd9ae022",
   "metadata": {},
   "outputs": [
    {
     "name": "stdout",
     "output_type": "stream",
     "text": [
      "@ Info                    : reading from 'full_0000.csv'\n"
     ]
    }
   ],
   "source": [
    "# Read in training data\n",
    "print(\"@ %-24s: reading from '%s'\" %(\"Info\", inFile))\n",
    "db = pd.read_csv(inFile, sep=',')"
   ]
  },
  {
   "cell_type": "markdown",
   "id": "e2b41815",
   "metadata": {},
   "source": [
    "check that it is is what we expect"
   ]
  },
  {
   "cell_type": "code",
   "execution_count": 66,
   "id": "dcd4258a",
   "metadata": {
    "scrolled": false
   },
   "outputs": [
    {
     "name": "stdout",
     "output_type": "stream",
     "text": [
      "**********************************************************************************\n",
      "* X\n",
      "Index(['k', 'theta', 'sigma', 'v0', 'rho', 'T', 'Strike', 'Price'], dtype='object')\n",
      "**********************************************************************************\n",
      "          k     theta     sigma        v0       rho         T    Strike  \\\n",
      "0  0.509975  0.130755  0.139814  0.778713 -0.505420  0.687304  1.077324   \n",
      "1  0.571375  0.446076  0.937467  0.768080 -0.720002  0.672622  0.855332   \n",
      "2  0.279107  0.493689  0.604936  0.331763 -0.898390  0.401510  1.128948   \n",
      "3  0.190888  0.687982  0.438101  0.781273 -0.393282  1.017852  1.381108   \n",
      "\n",
      "      Price  \n",
      "0  0.316269  \n",
      "1  0.179939  \n",
      "2  0.224901  \n",
      "3  0.608431  \n"
     ]
    }
   ],
   "source": [
    "print(\"*\"*82+\"\\n\"+\"* X\"); print(db.keys()); print(\"*\"*82)\n",
    "print(db.head(4))"
   ]
  },
  {
   "cell_type": "code",
   "execution_count": 67,
   "id": "e017ccad",
   "metadata": {},
   "outputs": [],
   "source": [
    "from sklearn.preprocessing import StandardScaler\n",
    "\n",
    "'''\n",
    "    It is critical that any data preparation performed on a training dataset is also performed \n",
    "    on a new dataset in the future. This may include a test dataset when evaluating a model \n",
    "    or new data from the domain when using a model to make predictions. Typically, the model fit \n",
    "    on the training dataset is saved for later use. The correct solution to preparing new data \n",
    "    for the model in the future is to also save any data preparation objects, like data scaling methods, \n",
    "    to file along with the model.\n",
    "'''\n",
    "\n",
    "def preprocess(**keywrds):\n",
    "\n",
    "    db = keywrds[\"db\"]\n",
    "    \n",
    "\n",
    "    # Specify the target labels and flatten the array \n",
    "    #t=np.ravel(db[\"Price\"])\n",
    "    t=db[\"Price\"]\n",
    "\n",
    "    # Specify the data \n",
    "    X = db.drop(columns=\"Price\")\n",
    "\n",
    "    print(\"Info\")\n",
    "    print(X.info())\n",
    "\n",
    "    print(\"Head\")\n",
    "    print(X.head(n=2))\n",
    "    print(\"Tail\")\n",
    "    print(X.tail(n=2))\n",
    "\n",
    "    print(\"Describe\")\n",
    "    print(X.describe())\n",
    "\n",
    "\n",
    "    # Define the scaler \n",
    "    scaler = StandardScaler().fit(X)\n",
    "\n",
    "    # Split the data up in train and test sets\n",
    "    X_train, X_test, t_train, t_test = train_test_split(X, t, test_size=0.33, random_state=42)\n",
    "\n",
    "    # Scale the train set\n",
    "    X_train = scaler.transform(X_train)\n",
    "\n",
    "    # Scale the test set\n",
    "    X_test = scaler.transform(X_test)\n",
    "\n",
    "    return scaler, X_train, X_test, t_train, t_test"
   ]
  },
  {
   "cell_type": "code",
   "execution_count": 68,
   "id": "93759174",
   "metadata": {},
   "outputs": [
    {
     "name": "stdout",
     "output_type": "stream",
     "text": [
      "Info\n",
      "<class 'pandas.core.frame.DataFrame'>\n",
      "RangeIndex: 66978 entries, 0 to 66977\n",
      "Data columns (total 7 columns):\n",
      " #   Column  Non-Null Count  Dtype  \n",
      "---  ------  --------------  -----  \n",
      " 0   k       66978 non-null  float64\n",
      " 1   theta   66978 non-null  float64\n",
      " 2   sigma   66978 non-null  float64\n",
      " 3   v0      66978 non-null  float64\n",
      " 4   rho     66978 non-null  float64\n",
      " 5   T       66978 non-null  float64\n",
      " 6   Strike  66978 non-null  float64\n",
      "dtypes: float64(7)\n",
      "memory usage: 3.6 MB\n",
      "None\n",
      "Head\n",
      "          k     theta     sigma        v0       rho         T    Strike\n",
      "0  0.509975  0.130755  0.139814  0.778713 -0.505420  0.687304  1.077324\n",
      "1  0.571375  0.446076  0.937467  0.768080 -0.720002  0.672622  0.855332\n",
      "Tail\n",
      "              k     theta     sigma        v0       rho         T    Strike\n",
      "66976  0.638318  0.716019  0.547159  0.649588 -0.987530  1.653131  0.667748\n",
      "66977  0.823250  0.641822  0.722013  0.063890 -0.466869  1.975189  0.882732\n",
      "Describe\n",
      "                  k         theta         sigma            v0           rho  \\\n",
      "count  66978.000000  66978.000000  66978.000000  66978.000000  66978.000000   \n",
      "mean       0.504160      0.405256      0.505521      0.404513     -0.495030   \n",
      "std        0.285571      0.228084      0.286229      0.227821      0.286019   \n",
      "min        0.010005      0.010012      0.010005      0.010004     -0.989995   \n",
      "25%        0.257312      0.207648      0.256993      0.207200     -0.742858   \n",
      "50%        0.504307      0.405288      0.506148      0.404360     -0.494119   \n",
      "75%        0.750879      0.602834      0.753561      0.601198     -0.246403   \n",
      "max        0.999975      0.799988      0.999995      0.799996     -0.000015   \n",
      "\n",
      "                  T        Strike  \n",
      "count  66978.000000  66978.000000  \n",
      "mean       1.041012      0.999249  \n",
      "std        0.553530      0.230851  \n",
      "min        0.083362      0.600020  \n",
      "25%        0.560004      0.799014  \n",
      "50%        1.040469      0.997960  \n",
      "75%        1.521260      1.198882  \n",
      "max        1.999990      1.399972  \n"
     ]
    }
   ],
   "source": [
    "scaler, X_train, X_test, t_train, t_test = preprocess(db = db)"
   ]
  },
  {
   "cell_type": "markdown",
   "id": "2d199fd6",
   "metadata": {},
   "source": [
    "## Auxiliary Functions"
   ]
  },
  {
   "cell_type": "code",
   "execution_count": 69,
   "id": "fd4e3d32",
   "metadata": {},
   "outputs": [],
   "source": [
    "def show_scattered( y, t, tag, ax = None):\n",
    "    #x      = model.predict(X)\n",
    "    #y      = np.ravel(x)\n",
    "    xMin = min(t)\n",
    "    xMax = max(t)\n",
    "    v    = np.arange(xMin, xMax, (xMax-xMin)/100.)\n",
    "\n",
    "    diff   = np.fabs(y - t)\n",
    "    print(\"@ %-24s: E[y-t]: %.6f Std(y-t): %.6f\" %( tag, np.mean(diff), np.std(diff)))\n",
    "    if ax == None: return\n",
    "\n",
    "    ax.plot( y, t, \".\")\n",
    "    ax.plot( v, v, color=\"red\")\n",
    "    ax.set_title(\"%s mae=%8.4f, std=%8.4f\" %(tag, np.mean(diff), np.std(diff)))\n",
    "    ax.set_xlabel(\"predicted\")\n",
    "    ax.set_ylabel(\"target\")"
   ]
  },
  {
   "cell_type": "code",
   "execution_count": 70,
   "id": "edaceb5a",
   "metadata": {},
   "outputs": [],
   "source": [
    "def display_nn_results( model, X_train, X_test, t_train, t_test, resFile=None):\n",
    "\n",
    "    fig, ax = plt.subplots(1,2, figsize=(12,6))\n",
    "    fig.suptitle(\"Scattered plots\")\n",
    "\n",
    "    y_train  = np.ravel(model.predict(X_train))\n",
    "    show_scattered( y_train, t_train, \"InSample\", ax = ax[0])\n",
    "    \n",
    "    diff   = np.fabs(y_train - t_train)\n",
    "    RES    = pd.DataFrame({\"predicted\": y_train, \"target\": t_train, \"err:\": diff})\n",
    "    RES.to_csv(\"res_in__sample.csv\", sep=',', float_format=\"%.6f\", index=True)\n",
    "    print(\"@\")\n",
    "    y_test  = np.ravel(model.predict(X_test))\n",
    "    show_scattered( y_test , t_test, \"OutOfSample\", ax= ax[1])\n",
    "    \n",
    "    diff   = np.fabs(y_test-t_test)\n",
    "    RES    = pd.DataFrame({\"predicted\": y_test, \"target\": t_test, \"err:\": diff})\n",
    "    RES.to_csv(\"res_out_sample.csv\", sep=',', float_format=\"%.6f\", index=True)\n",
    "\n",
    "    print(\"@\")\n",
    "\n",
    "    if resFile != None:\n",
    "        plt.savefig(resFile, format=\"png\")\n",
    "        print(\"@ %-12s: results saved to '%s' \"%(\"Info\", resFile))\n",
    "    plt.show()\n",
    "\n",
    "\n",
    "    score = model.evaluate(X_test, t_test, verbose=1)\n",
    "    print('Score:'); print(score)"
   ]
  },
  {
   "cell_type": "markdown",
   "id": "4aa58615",
   "metadata": {},
   "source": [
    "## Build the model"
   ]
  },
  {
   "cell_type": "code",
   "execution_count": 71,
   "id": "864488b0",
   "metadata": {},
   "outputs": [],
   "source": [
    "from keras.models import Sequential\n",
    "from keras.layers import Dense\n",
    "\n",
    "def model_builder( inputShape = (1,)):\n",
    "    \n",
    "    # Initialize the constructor\n",
    "    model = Sequential()\n",
    "\n",
    "    # Add an input layer \n",
    "    #model.add(Dense(64, activation='relu', input_shape=(nrInputNodes,)))\n",
    "    model.add(Dense(64, activation='relu', input_shape=inputShape))\n",
    "\n",
    "    # Add one more hidden layer \n",
    "    model.add(Dense(32, activation='relu'))\n",
    "\n",
    "    # Add one more hidden layer \n",
    "    model.add(Dense(16, activation='relu'))\n",
    "\n",
    "    # Add an output layer \n",
    "    model.add(Dense(1))\n",
    "    # End model construction\n",
    "\n",
    "    # Model output shape\n",
    "    print(\"model.output_shape: %s\" %(str(model.output_shape)))\n",
    "\n",
    "    # Model summary\n",
    "    print(\"Model.summary\"); model.summary()\n",
    "\n",
    "    # Model config\n",
    "    print(\"Model.config\"); model.get_config()\n",
    "\n",
    "    model.compile(loss='mse', optimizer='rmsprop', metrics=['mae'])\n",
    "    return model\n"
   ]
  },
  {
   "cell_type": "markdown",
   "id": "4a48ba78",
   "metadata": {},
   "source": [
    "Let’s go through this code line by line:\n",
    "\n",
    "- The first line creates a **Sequential** model. This is the simplest kind of Keras model, for neural networks that are just composed of a single stack of layers, connected sequentially. This is called the sequential API.\n",
    "\n",
    "- Next, we build the first layer and add it to the model. It is a **Dense** hidden layer with XXX neurons. It will use the **ReLu** activation function. Each Dense layer manages its own weight matrix, containing all the connection weights between the neurons and their inputs. It also manages a vector of bias terms (one per neuron).\n",
    "\n",
    "- Next we add a second Dense hidden layer with XXX neurons, also using the ReLu activation function and a third one ...\n",
    "\n",
    "- Finally, we add a Dense output layer with only 1 neurons, using the ReLu activation function (because...).\n"
   ]
  },
  {
   "cell_type": "code",
   "execution_count": 72,
   "id": "162f642f",
   "metadata": {},
   "outputs": [
    {
     "name": "stdout",
     "output_type": "stream",
     "text": [
      "model.output_shape: (None, 1)\n",
      "Model.summary\n",
      "Model: \"sequential_2\"\n",
      "_________________________________________________________________\n",
      "Layer (type)                 Output Shape              Param #   \n",
      "=================================================================\n",
      "dense_8 (Dense)              (None, 64)                512       \n",
      "_________________________________________________________________\n",
      "dense_9 (Dense)              (None, 32)                2080      \n",
      "_________________________________________________________________\n",
      "dense_10 (Dense)             (None, 16)                528       \n",
      "_________________________________________________________________\n",
      "dense_11 (Dense)             (None, 1)                 17        \n",
      "=================================================================\n",
      "Total params: 3,137\n",
      "Trainable params: 3,137\n",
      "Non-trainable params: 0\n",
      "_________________________________________________________________\n",
      "Model.config\n"
     ]
    }
   ],
   "source": [
    "model = model_builder( inputShape = (X_train.shape[1],))"
   ]
  },
  {
   "cell_type": "markdown",
   "id": "7f8ef0b9",
   "metadata": {},
   "source": [
    "Note that Dense layers often have a lot of parameters. For example, the first hidden\n",
    "layer has n × n connection weights, plus 300 bias terms, which adds up to\n",
    "XXX parameters! This gives the model quite a lot of flexibility to fit the training\n",
    "data, but it also means that the model runs the risk of overfitting, especially when you\n",
    "do not have a lot of training data."
   ]
  },
  {
   "cell_type": "markdown",
   "id": "97a01a30",
   "metadata": {},
   "source": [
    "You can easily get a model’s list of layers, to fetch a layer by its index, or you can fetch\n",
    "it by name:"
   ]
  },
  {
   "cell_type": "code",
   "execution_count": 73,
   "id": "db6a912d",
   "metadata": {},
   "outputs": [
    {
     "data": {
      "text/plain": [
       "[<tensorflow.python.keras.layers.core.Dense at 0x220a2bcb288>,\n",
       " <tensorflow.python.keras.layers.core.Dense at 0x2209c2417c8>,\n",
       " <tensorflow.python.keras.layers.core.Dense at 0x220a2be0b88>,\n",
       " <tensorflow.python.keras.layers.core.Dense at 0x2209c1f5d88>]"
      ]
     },
     "execution_count": 73,
     "metadata": {},
     "output_type": "execute_result"
    }
   ],
   "source": [
    "model.layers"
   ]
  },
  {
   "cell_type": "code",
   "execution_count": 74,
   "id": "92d707c3",
   "metadata": {},
   "outputs": [
    {
     "data": {
      "text/plain": [
       "'dense_9'"
      ]
     },
     "execution_count": 74,
     "metadata": {},
     "output_type": "execute_result"
    }
   ],
   "source": [
    "model.layers[1].name"
   ]
  },
  {
   "cell_type": "markdown",
   "id": "c4bf0502",
   "metadata": {},
   "source": [
    "After a model is created, you must call its ***compile()*** method to specify the loss function\n",
    "and the optimizer to use. Optionally, you can also specify a list of extra metrics to\n",
    "compute during training and evaluation. In this case we have chosen\n",
    "\n",
    "`model.compile(loss='mse', optimizer='rmsprop', metrics=['mae'])`\n",
    "\n"
   ]
  },
  {
   "cell_type": "markdown",
   "id": "2c24e072",
   "metadata": {},
   "source": [
    "## Train the model"
   ]
  },
  {
   "cell_type": "markdown",
   "id": "d8ceaf27",
   "metadata": {},
   "source": [
    "Now the model is ready to be trained. For this we simply need to call its ***fit()***\n",
    "method. We pass it the input features (***X_train***) and the target classes (***y_train***), as\n",
    "well as the number of epochs to train (or else it would default to just 1, which would\n",
    "definitely not be enough to converge to a good solution). We could also pass a validation set\n",
    "(this is optional): Keras will measure the loss and the extra metrics on this set at the\n",
    "end of each epoch, which is very useful to see how well the model really performs: if\n",
    "the performance on the training set is much better than on the validation set, your model is probably overfitting the training set (or there is a bug, such as a data mismatch\n",
    "between the training set and the validation set)."
   ]
  },
  {
   "cell_type": "code",
   "execution_count": 75,
   "id": "77a4b3ac",
   "metadata": {},
   "outputs": [
    {
     "name": "stdout",
     "output_type": "stream",
     "text": [
      "Epoch 1/50\n",
      "1403/1403 [==============================] - 2s 971us/step - loss: 0.0056 - mae: 0.0392\n",
      "Epoch 2/50\n",
      "1403/1403 [==============================] - 1s 958us/step - loss: 2.2207e-04 - mae: 0.0116\n",
      "Epoch 3/50\n",
      "1403/1403 [==============================] - 1s 988us/step - loss: 1.5558e-04 - mae: 0.0098\n",
      "Epoch 4/50\n",
      "1403/1403 [==============================] - 1s 944us/step - loss: 1.2956e-04 - mae: 0.0090\n",
      "Epoch 5/50\n",
      "1403/1403 [==============================] - 1s 951us/step - loss: 1.1956e-04 - mae: 0.0086\n",
      "Epoch 6/50\n",
      "1403/1403 [==============================] - 1s 960us/step - loss: 1.0862e-04 - mae: 0.0082\n",
      "Epoch 7/50\n",
      "1403/1403 [==============================] - 1s 963us/step - loss: 1.0330e-04 - mae: 0.0080\n",
      "Epoch 8/50\n",
      "1403/1403 [==============================] - 1s 1ms/step - loss: 1.0011e-04 - mae: 0.0079\n",
      "Epoch 9/50\n",
      "1403/1403 [==============================] - 1s 1ms/step - loss: 9.5863e-05 - mae: 0.0077\n",
      "Epoch 10/50\n",
      "1403/1403 [==============================] - 1s 1ms/step - loss: 9.3534e-05 - mae: 0.0077\n",
      "Epoch 11/50\n",
      "1403/1403 [==============================] - 1s 983us/step - loss: 9.2183e-05 - mae: 0.0076\n",
      "Epoch 12/50\n",
      "1403/1403 [==============================] - 1s 946us/step - loss: 8.8301e-05 - mae: 0.0074\n",
      "Epoch 13/50\n",
      "1403/1403 [==============================] - 1s 1ms/step - loss: 8.6879e-05 - mae: 0.0074A: 0s - loss: 8.6889e-05 - mae: 0.0\n",
      "Epoch 14/50\n",
      "1403/1403 [==============================] - 2s 1ms/step - loss: 8.5307e-05 - mae: 0.0073\n",
      "Epoch 15/50\n",
      "1403/1403 [==============================] - 1s 1ms/step - loss: 8.4984e-05 - mae: 0.0073\n",
      "Epoch 16/50\n",
      "1403/1403 [==============================] - 1s 1ms/step - loss: 8.4152e-05 - mae: 0.0072A: 0s - loss: 8.4620e-\n",
      "Epoch 17/50\n",
      "1403/1403 [==============================] - 1s 1ms/step - loss: 8.2589e-05 - mae: 0.0072A: 0s - loss: 8.2526e-05\n",
      "Epoch 18/50\n",
      "1403/1403 [==============================] - 2s 1ms/step - loss: 8.1552e-05 - mae: 0.0072\n",
      "Epoch 19/50\n",
      "1403/1403 [==============================] - 2s 1ms/step - loss: 8.0461e-05 - mae: 0.0071\n",
      "Epoch 20/50\n",
      "1403/1403 [==============================] - 2s 1ms/step - loss: 7.9474e-05 - mae: 0.0071A: 0s - loss: 7.9122\n",
      "Epoch 21/50\n",
      "1403/1403 [==============================] - 2s 1ms/step - loss: 8.0504e-05 - mae: 0.0071\n",
      "Epoch 22/50\n",
      "1403/1403 [==============================] - 1s 971us/step - loss: 7.8534e-05 - mae: 0.0070 1s - loss: \n",
      "Epoch 23/50\n",
      "1403/1403 [==============================] - 1s 939us/step - loss: 7.8302e-05 - mae: 0.0070\n",
      "Epoch 24/50\n",
      "1403/1403 [==============================] - 1s 943us/step - loss: 7.5989e-05 - mae: 0.0069\n",
      "Epoch 25/50\n",
      "1403/1403 [==============================] - 1s 963us/step - loss: 7.6612e-05 - mae: 0.0070\n",
      "Epoch 26/50\n",
      "1403/1403 [==============================] - 2s 1ms/step - loss: 7.5614e-05 - mae: 0.0069\n",
      "Epoch 27/50\n",
      "1403/1403 [==============================] - 2s 1ms/step - loss: 7.6360e-05 - mae: 0.0069\n",
      "Epoch 28/50\n",
      "1403/1403 [==============================] - 2s 1ms/step - loss: 7.5209e-05 - mae: 0.0069A: 1s - loss: 7.42\n",
      "Epoch 29/50\n",
      "1403/1403 [==============================] - 2s 1ms/step - loss: 7.4739e-05 - mae: 0.0069\n",
      "Epoch 30/50\n",
      "1403/1403 [==============================] - 2s 2ms/step - loss: 7.5230e-05 - mae: 0.0069\n",
      "Epoch 31/50\n",
      "1403/1403 [==============================] - 2s 2ms/step - loss: 7.4841e-05 - mae: 0.0069A: 0s - loss: 7.4705e\n",
      "Epoch 32/50\n",
      "1403/1403 [==============================] - 2s 1ms/step - loss: 7.3653e-05 - mae: 0.0068\n",
      "Epoch 33/50\n",
      "1403/1403 [==============================] - 1s 1000us/step - loss: 7.4516e-05 - mae: 0.0069\n",
      "Epoch 34/50\n",
      "1403/1403 [==============================] - 1s 994us/step - loss: 7.4291e-05 - mae: 0.0069 1s - loss\n",
      "Epoch 35/50\n",
      "1403/1403 [==============================] - 1s 931us/step - loss: 7.1987e-05 - mae: 0.0067\n",
      "Epoch 36/50\n",
      "1403/1403 [==============================] - 1s 938us/step - loss: 7.3242e-05 - mae: 0.0068\n",
      "Epoch 37/50\n",
      "1403/1403 [==============================] - 1s 945us/step - loss: 7.3535e-05 - mae: 0.0068 0s - loss: 7.3618e-05 - mae: \n",
      "Epoch 38/50\n",
      "1403/1403 [==============================] - 1s 939us/step - loss: 7.3011e-05 - mae: 0.0068\n",
      "Epoch 39/50\n",
      "1403/1403 [==============================] - 1s 936us/step - loss: 7.3236e-05 - mae: 0.0068\n",
      "Epoch 40/50\n",
      "1403/1403 [==============================] - 1s 951us/step - loss: 7.2252e-05 - mae: 0.0068\n",
      "Epoch 41/50\n",
      "1403/1403 [==============================] - 1s 963us/step - loss: 7.2084e-05 - mae: 0.0067\n",
      "Epoch 42/50\n",
      "1403/1403 [==============================] - 1s 954us/step - loss: 7.1792e-05 - mae: 0.0067\n",
      "Epoch 43/50\n",
      "1403/1403 [==============================] - 1s 956us/step - loss: 7.2343e-05 - mae: 0.0068\n",
      "Epoch 44/50\n",
      "1403/1403 [==============================] - 1s 946us/step - loss: 7.1964e-05 - mae: 0.0068\n",
      "Epoch 45/50\n",
      "1403/1403 [==============================] - 1s 973us/step - loss: 7.0856e-05 - mae: 0.0067\n",
      "Epoch 46/50\n",
      "1403/1403 [==============================] - 1s 964us/step - loss: 7.0766e-05 - mae: 0.0067\n",
      "Epoch 47/50\n",
      "1403/1403 [==============================] - 1s 960us/step - loss: 7.1087e-05 - mae: 0.0067\n",
      "Epoch 48/50\n",
      "1403/1403 [==============================] - 1s 964us/step - loss: 6.9860e-05 - mae: 0.0067\n",
      "Epoch 49/50\n",
      "1403/1403 [==============================] - 1s 983us/step - loss: 7.0814e-05 - mae: 0.0067\n",
      "Epoch 50/50\n",
      "1403/1403 [==============================] - 1s 1ms/step - loss: 6.9901e-05 - mae: 0.0066\n"
     ]
    }
   ],
   "source": [
    "history = model.fit(X_train, t_train, epochs=50, verbose=verbose)"
   ]
  },
  {
   "cell_type": "markdown",
   "id": "7ac730b4",
   "metadata": {},
   "source": [
    "And that’s it! The neural network is trained. At each epoch during training, Keras displays\n",
    "the number of instances processed so far (along with a progress bar), the mean\n",
    "training time per sample, the loss and accuracy (or any other extra metrics you asked\n",
    "for), both on the training set and the validation set. You can see that the training loss\n",
    "went down, which is a good sign, and the validation accuracy reached XXX% after 50\n",
    "epochs, not too far from the training accuracy, so there does not seem to be much\n",
    "overfitting going on."
   ]
  },
  {
   "cell_type": "markdown",
   "id": "4d29932f",
   "metadata": {},
   "source": [
    "All the parameters of a layer can be accessed using its ***get_weights()*** and\n",
    "***set_weights()*** method. For a Dense layer, this includes both the connection weights\n",
    "and the bias terms:"
   ]
  },
  {
   "cell_type": "code",
   "execution_count": 76,
   "id": "5e6b1834",
   "metadata": {},
   "outputs": [
    {
     "data": {
      "text/plain": [
       "array([[-0.14440078,  0.10283986, -0.48962992, ..., -0.2326228 ,\n",
       "         0.08628539, -0.2668593 ],\n",
       "       [ 0.01691153,  0.08426262,  0.1097483 , ...,  0.08745633,\n",
       "         0.00307687, -0.09567162],\n",
       "       [-0.13278344,  0.21738702,  0.03779462, ..., -0.04654088,\n",
       "         0.33150652,  0.4644078 ],\n",
       "       ...,\n",
       "       [-0.281206  , -0.23986287,  0.42698872, ..., -0.21817678,\n",
       "        -0.04576546,  0.27727437],\n",
       "       [-0.0995346 ,  0.02229814, -0.15240346, ..., -0.31588212,\n",
       "        -0.21563326, -0.2402453 ],\n",
       "       [-0.14164002, -0.25760442,  0.13360217, ..., -0.23527765,\n",
       "        -0.20983057, -0.65304995]], dtype=float32)"
      ]
     },
     "execution_count": 76,
     "metadata": {},
     "output_type": "execute_result"
    }
   ],
   "source": [
    "weights, biases = model.layers[1].get_weights()\n",
    "weights"
   ]
  },
  {
   "cell_type": "code",
   "execution_count": 77,
   "id": "6fd4a1c1",
   "metadata": {},
   "outputs": [
    {
     "name": "stdout",
     "output_type": "stream",
     "text": [
      "@ InSample                : E[y-t]: 0.006511 Std(y-t): 0.004925\n",
      "@\n",
      "@ OutOfSample             : E[y-t]: 0.006693 Std(y-t): 0.005038\n",
      "@\n",
      "@ Info        : results saved to 'full_0000_trained.png' \n"
     ]
    },
    {
     "data": {
      "image/png": "[encoded data removed]",
      "text/plain": [
       "<Figure size 864x432 with 2 Axes>"
      ]
     },
     "metadata": {
      "needs_background": "light"
     },
     "output_type": "display_data"
    },
    {
     "name": "stdout",
     "output_type": "stream",
     "text": [
      "691/691 [==============================] - 1s 1ms/step - loss: 7.0181e-05 - mae: 0.0067A: 0s - loss: 7.0129e-05 - mae: 0.\n",
      "Score:\n",
      "[7.018065662123263e-05, 0.006692891474813223]\n"
     ]
    }
   ],
   "source": [
    "import warnings\n",
    "warnings.simplefilter('ignore')\n",
    "\n",
    "import matplotlib.pyplot as plt\n",
    "import numpy             as np\n",
    "\n",
    "display_nn_results(model, X_train, X_test, t_train, t_test, resFile = resFile)"
   ]
  },
  {
   "cell_type": "markdown",
   "id": "c8a1fd8f",
   "metadata": {},
   "source": [
    "The ***fit()*** method returns a History object containing the training parameters (his\n",
    "tory.params), the list of epochs it went through (history.epoch), and most importantly\n",
    "a dictionary (history.history) containing the loss and extra metrics it\n",
    "measured at the end of each epoch on the training set and on the validation set (if any). If you create a Pandas DataFrame using this dictionary and call its plot()\n",
    "method, you get the learning curves shown in ..."
   ]
  },
  {
   "cell_type": "code",
   "execution_count": 78,
   "id": "daf9c9c6",
   "metadata": {},
   "outputs": [
    {
     "data": {
      "image/png": "[encoded data removed]",
      "text/plain": [
       "<Figure size 576x360 with 1 Axes>"
      ]
     },
     "metadata": {
      "needs_background": "light"
     },
     "output_type": "display_data"
    }
   ],
   "source": [
    "import pandas as pd\n",
    "\n",
    "hist = pd.DataFrame(history.history)\n",
    "\n",
    "hist.plot(figsize=(8, 5))\n",
    "plt.grid(True)\n",
    "plt.gca().set_ylim(0, 0.01) # set the vertical range to [0-1]\n",
    "plt.show()"
   ]
  },
  {
   "cell_type": "code",
   "execution_count": 79,
   "id": "7d1062d5",
   "metadata": {},
   "outputs": [
    {
     "data": {
      "text/html": [
       "<div>\n",
       "<style scoped>\n",
       "    .dataframe tbody tr th:only-of-type {\n",
       "        vertical-align: middle;\n",
       "    }\n",
       "\n",
       "    .dataframe tbody tr th {\n",
       "        vertical-align: top;\n",
       "    }\n",
       "\n",
       "    .dataframe thead th {\n",
       "        text-align: right;\n",
       "    }\n",
       "</style>\n",
       "<table border=\"1\" class=\"dataframe\">\n",
       "  <thead>\n",
       "    <tr style=\"text-align: right;\">\n",
       "      <th></th>\n",
       "      <th>loss</th>\n",
       "      <th>mae</th>\n",
       "    </tr>\n",
       "  </thead>\n",
       "  <tbody>\n",
       "    <tr>\n",
       "      <th>0</th>\n",
       "      <td>0.001433</td>\n",
       "      <td>0.021834</td>\n",
       "    </tr>\n",
       "    <tr>\n",
       "      <th>1</th>\n",
       "      <td>0.000198</td>\n",
       "      <td>0.011031</td>\n",
       "    </tr>\n",
       "    <tr>\n",
       "      <th>2</th>\n",
       "      <td>0.000148</td>\n",
       "      <td>0.009540</td>\n",
       "    </tr>\n",
       "    <tr>\n",
       "      <th>3</th>\n",
       "      <td>0.000126</td>\n",
       "      <td>0.008875</td>\n",
       "    </tr>\n",
       "    <tr>\n",
       "      <th>4</th>\n",
       "      <td>0.000116</td>\n",
       "      <td>0.008491</td>\n",
       "    </tr>\n",
       "  </tbody>\n",
       "</table>\n",
       "</div>"
      ],
      "text/plain": [
       "       loss       mae\n",
       "0  0.001433  0.021834\n",
       "1  0.000198  0.011031\n",
       "2  0.000148  0.009540\n",
       "3  0.000126  0.008875\n",
       "4  0.000116  0.008491"
      ]
     },
     "execution_count": 79,
     "metadata": {},
     "output_type": "execute_result"
    }
   ],
   "source": [
    "hist.head()"
   ]
  },
  {
   "cell_type": "markdown",
   "id": "79cc9e70",
   "metadata": {},
   "source": [
    "## Save Scaler and Model on Disk"
   ]
  },
  {
   "cell_type": "code",
   "execution_count": 80,
   "id": "e7e79d55",
   "metadata": {},
   "outputs": [
    {
     "name": "stdout",
     "output_type": "stream",
     "text": [
      "@ Info                    : scaler saved to 'scaler_0000.pkl'\n",
      "INFO:tensorflow:Assets written to: model_0000.krs\\assets\n",
      "@ Info                    : model saved to 'model_0000.krs'\n"
     ]
    }
   ],
   "source": [
    "from pickle import dump, load\n",
    "\n",
    "dump(scaler, open(scalerFile, 'wb'))\n",
    "print(\"@ %-24s: scaler saved to '%s'\" %(\"Info\", scalerFile))\n",
    "\n",
    "model.save(mdlDir)\n",
    "print(\"@ %-24s: model saved to '%s'\" %(\"Info\", mdlDir))    "
   ]
  },
  {
   "cell_type": "code",
   "execution_count": null,
   "id": "94623449",
   "metadata": {},
   "outputs": [],
   "source": []
  }
 ],
 "metadata": {
  "kernelspec": {
   "display_name": "Python 3 (ipykernel)",
   "language": "python",
   "name": "python3"
  },
  "language_info": {
   "codemirror_mode": {
    "name": "ipython",
    "version": 3
   },
   "file_extension": ".py",
   "mimetype": "text/x-python",
   "name": "python",
   "nbconvert_exporter": "python",
   "pygments_lexer": "ipython3",
   "version": "3.7.4"
  },
  "toc": {
   "base_numbering": "3",
   "nav_menu": {},
   "number_sections": true,
   "sideBar": true,
   "skip_h1_title": false,
   "title_cell": "Table of Contents",
   "title_sidebar": "Contents",
   "toc_cell": false,
   "toc_position": {},
   "toc_section_display": true,
   "toc_window_display": false
  }
 },
 "nbformat": 4,
 "nbformat_minor": 5
}
