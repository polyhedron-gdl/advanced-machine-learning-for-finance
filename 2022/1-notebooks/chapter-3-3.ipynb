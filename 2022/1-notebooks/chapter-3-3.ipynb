{
 "cells": [
  {
   "cell_type": "markdown",
   "id": "c59aecd7",
   "metadata": {
    "id": "c59aecd7"
   },
   "source": [
    "# NN Heston Model - Model Training"
   ]
  },
  {
   "cell_type": "code",
   "execution_count": 80,
   "id": "e3df4be4",
   "metadata": {
    "executionInfo": {
     "elapsed": 964,
     "status": "ok",
     "timestamp": 1651686824714,
     "user": {
      "displayName": "Giovanni Della Lunga",
      "userId": "13927304036683734865"
     },
     "user_tz": -120
    },
    "id": "e3df4be4"
   },
   "outputs": [],
   "source": [
    "import pandas as pd\n",
    "from sklearn.model_selection import train_test_split"
   ]
  },
  {
   "cell_type": "markdown",
   "id": "ab5ed3c3",
   "metadata": {
    "id": "ab5ed3c3"
   },
   "source": [
    "## Data Preprocessing"
   ]
  },
  {
   "cell_type": "markdown",
   "id": "53c8124f",
   "metadata": {
    "id": "53c8124f"
   },
   "source": [
    "**Initialization**"
   ]
  },
  {
   "cell_type": "code",
   "execution_count": 81,
   "id": "a6db15f9",
   "metadata": {
    "colab": {
     "base_uri": "https://localhost:8080/"
    },
    "executionInfo": {
     "elapsed": 14,
     "status": "ok",
     "timestamp": 1651686824716,
     "user": {
      "displayName": "Giovanni Della Lunga",
      "userId": "13927304036683734865"
     },
     "user_tz": -120
    },
    "id": "a6db15f9",
    "outputId": "e94bcbea-67b9-4a95-c555-f893e4f903b1"
   },
   "outputs": [
    {
     "name": "stdout",
     "output_type": "stream",
     "text": [
      "full_100000_VFA.csv -> full_100000_VFA_trained.png\n"
     ]
    }
   ],
   "source": [
    "import re\n",
    "\n",
    "verbose    = True\n",
    "TAG        = '100000_VFA'\n",
    "\n",
    "inFile     = \"full_%s.csv\" %(TAG)\n",
    "scalerFile = \"scaler_%s.pkl\" %(TAG)\n",
    "mdlDir     = \"model_%s.krs\" %(TAG)\n",
    "    \n",
    "resFile    = re.sub(\"\\..*$\",\"_trained.png\", inFile)\n",
    "print(\"%s -> %s\" %(inFile, resFile))    "
   ]
  },
  {
   "cell_type": "markdown",
   "id": "4a268098",
   "metadata": {
    "id": "4a268098"
   },
   "source": [
    "**Read the training DB**"
   ]
  },
  {
   "cell_type": "code",
   "execution_count": 82,
   "id": "nBeQpsIuP3Cz",
   "metadata": {
    "colab": {
     "base_uri": "https://localhost:8080/",
     "height": 73,
     "resources": {
      "http://localhost:8080/nbextensions/google.colab/files.js": {
       "data": "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",
       "headers": [
        [
         "content-type",
         "application/javascript"
        ]
       ],
       "ok": true,
       "status": 200,
       "status_text": ""
      }
     }
    },
    "executionInfo": {
     "elapsed": 69049,
     "status": "ok",
     "timestamp": 1651686893755,
     "user": {
      "displayName": "Giovanni Della Lunga",
      "userId": "13927304036683734865"
     },
     "user_tz": -120
    },
    "id": "nBeQpsIuP3Cz",
    "outputId": "782d50cd-97f5-423b-ee55-9ee090a5f8d7"
   },
   "outputs": [],
   "source": [
    "if 'google.colab' in str(get_ipython()):\n",
    "    from google.colab import files\n",
    "    uploaded = files.upload()"
   ]
  },
  {
   "cell_type": "code",
   "execution_count": 83,
   "id": "dd9ae022",
   "metadata": {
    "colab": {
     "base_uri": "https://localhost:8080/"
    },
    "executionInfo": {
     "elapsed": 296,
     "status": "ok",
     "timestamp": 1651686898054,
     "user": {
      "displayName": "Giovanni Della Lunga",
      "userId": "13927304036683734865"
     },
     "user_tz": -120
    },
    "id": "dd9ae022",
    "outputId": "43e1aa1f-87ab-4479-a170-ca50a701e8c1"
   },
   "outputs": [
    {
     "name": "stdout",
     "output_type": "stream",
     "text": [
      "@ Info                    : reading from 'full_100000_VFA.csv'\n"
     ]
    }
   ],
   "source": [
    "# Read in training data\n",
    "print(\"@ %-24s: reading from '%s'\" %(\"Info\", inFile))\n",
    "db = pd.read_csv(inFile, sep=',')"
   ]
  },
  {
   "cell_type": "markdown",
   "id": "e2b41815",
   "metadata": {
    "id": "e2b41815"
   },
   "source": [
    "check that it is is what we expect"
   ]
  },
  {
   "cell_type": "code",
   "execution_count": 84,
   "id": "dcd4258a",
   "metadata": {
    "colab": {
     "base_uri": "https://localhost:8080/"
    },
    "executionInfo": {
     "elapsed": 268,
     "status": "ok",
     "timestamp": 1651686901434,
     "user": {
      "displayName": "Giovanni Della Lunga",
      "userId": "13927304036683734865"
     },
     "user_tz": -120
    },
    "id": "dcd4258a",
    "outputId": "477f5d49-33c8-4d87-f92e-8d9fb876b181",
    "scrolled": false
   },
   "outputs": [
    {
     "name": "stdout",
     "output_type": "stream",
     "text": [
      "**********************************************************************************\n",
      "* X\n",
      "Index(['k=0.800', 'k=0.825', 'k=0.850', 'k=0.875', 'k=0.900', 'k=0.925',\n",
      "       'k=0.950', 'k=0.975', 'k=1.000', 'k=1.025', 'k=1.050', 'k=1.075',\n",
      "       'k=1.100', 'k=1.125', 'k=1.150', 'k=1.175', 'T', 'Price', 'Strike'],\n",
      "      dtype='object')\n",
      "**********************************************************************************\n",
      "    k=0.800   k=0.825   k=0.850   k=0.875   k=0.900   k=0.925   k=0.950  \\\n",
      "0  0.590209  0.587959  0.585803  0.583738  0.581759  0.579863  0.578047   \n",
      "1  0.576335  0.574957  0.573617  0.572313  0.571043  0.569805  0.568597   \n",
      "2  0.802013  0.801427  0.800859  0.800307  0.799770  0.799249  0.798741   \n",
      "3  0.288181  0.287902  0.287632  0.287369  0.287113  0.286864  0.286622   \n",
      "\n",
      "    k=0.975   k=1.000   k=1.025   k=1.050   k=1.075   k=1.100   k=1.125  \\\n",
      "0  0.576306  0.574639  0.573043  0.571513  0.570049  0.568648  0.567306   \n",
      "1  0.567418  0.566267  0.565143  0.564043  0.562967  0.561914  0.560883   \n",
      "2  0.798247  0.797765  0.797295  0.796836  0.796389  0.795951  0.795524   \n",
      "3  0.286386  0.286156  0.285932  0.285713  0.285499  0.285290  0.285085   \n",
      "\n",
      "    k=1.150   k=1.175         T     Price    Strike  \n",
      "0  0.566023  0.564795  0.477295  0.398050  1.346156  \n",
      "1  0.559873  0.558883  1.807806  0.123807  0.669212  \n",
      "2  0.795106  0.794697  1.234550  0.182521  0.727868  \n",
      "3  0.284885  0.284690  1.533244  0.019752  0.601068  \n"
     ]
    }
   ],
   "source": [
    "print(\"*\"*82+\"\\n\"+\"* X\"); print(db.keys()); print(\"*\"*82)\n",
    "print(db.head(4))"
   ]
  },
  {
   "cell_type": "code",
   "execution_count": 85,
   "id": "e017ccad",
   "metadata": {
    "executionInfo": {
     "elapsed": 384,
     "status": "ok",
     "timestamp": 1651686914291,
     "user": {
      "displayName": "Giovanni Della Lunga",
      "userId": "13927304036683734865"
     },
     "user_tz": -120
    },
    "id": "e017ccad"
   },
   "outputs": [],
   "source": [
    "from sklearn.preprocessing import StandardScaler\n",
    "\n",
    "'''\n",
    "    It is critical that any data preparation performed on a training dataset is also performed \n",
    "    on a new dataset in the future. This may include a test dataset when evaluating a model \n",
    "    or new data from the domain when using a model to make predictions. Typically, the model fit \n",
    "    on the training dataset is saved for later use. The correct solution to preparing new data \n",
    "    for the model in the future is to also save any data preparation objects, like data scaling methods, \n",
    "    to file along with the model.\n",
    "'''\n",
    "\n",
    "def preprocess(**keywrds):\n",
    "\n",
    "    db = keywrds[\"db\"]\n",
    "    \n",
    "\n",
    "    # Specify the target labels and flatten the array \n",
    "    #t=np.ravel(db[\"Price\"])\n",
    "    t=db[\"Price\"]\n",
    "\n",
    "    # Specify the data \n",
    "    X = db.drop(columns=\"Price\")\n",
    "\n",
    "    print(\"Info\")\n",
    "    print(X.info())\n",
    "\n",
    "    print(\"Head\")\n",
    "    print(X.head(n=2))\n",
    "    print(\"Tail\")\n",
    "    print(X.tail(n=2))\n",
    "\n",
    "    print(\"Describe\")\n",
    "    print(X.describe())\n",
    "\n",
    "\n",
    "    # Define the scaler \n",
    "    scaler = StandardScaler().fit(X)\n",
    "\n",
    "    # Split the data up in train and test sets\n",
    "    X_train, X_test, t_train, t_test = train_test_split(X, t, test_size=0.33, random_state=42)\n",
    "\n",
    "    # Scale the train set\n",
    "    X_train = scaler.transform(X_train)\n",
    "\n",
    "    # Scale the test set\n",
    "    X_test = scaler.transform(X_test)\n",
    "\n",
    "    return scaler, X_train, X_test, t_train, t_test"
   ]
  },
  {
   "cell_type": "code",
   "execution_count": 86,
   "id": "93759174",
   "metadata": {
    "colab": {
     "base_uri": "https://localhost:8080/"
    },
    "executionInfo": {
     "elapsed": 375,
     "status": "ok",
     "timestamp": 1651686915004,
     "user": {
      "displayName": "Giovanni Della Lunga",
      "userId": "13927304036683734865"
     },
     "user_tz": -120
    },
    "id": "93759174",
    "outputId": "201644bb-10b4-477c-db68-dc4f5014d8cc"
   },
   "outputs": [
    {
     "name": "stdout",
     "output_type": "stream",
     "text": [
      "Info\n",
      "<class 'pandas.core.frame.DataFrame'>\n",
      "RangeIndex: 66963 entries, 0 to 66962\n",
      "Data columns (total 18 columns):\n",
      " #   Column   Non-Null Count  Dtype  \n",
      "---  ------   --------------  -----  \n",
      " 0   k=0.800  66963 non-null  float64\n",
      " 1   k=0.825  66963 non-null  float64\n",
      " 2   k=0.850  66963 non-null  float64\n",
      " 3   k=0.875  66963 non-null  float64\n",
      " 4   k=0.900  66963 non-null  float64\n",
      " 5   k=0.925  66963 non-null  float64\n",
      " 6   k=0.950  66963 non-null  float64\n",
      " 7   k=0.975  66963 non-null  float64\n",
      " 8   k=1.000  66963 non-null  float64\n",
      " 9   k=1.025  66963 non-null  float64\n",
      " 10  k=1.050  66963 non-null  float64\n",
      " 11  k=1.075  66963 non-null  float64\n",
      " 12  k=1.100  66963 non-null  float64\n",
      " 13  k=1.125  66963 non-null  float64\n",
      " 14  k=1.150  66963 non-null  float64\n",
      " 15  k=1.175  66963 non-null  float64\n",
      " 16  T        66963 non-null  float64\n",
      " 17  Strike   66963 non-null  float64\n",
      "dtypes: float64(18)\n",
      "memory usage: 9.2 MB\n",
      "None\n",
      "Head\n",
      "    k=0.800   k=0.825   k=0.850   k=0.875   k=0.900   k=0.925   k=0.950  \\\n",
      "0  0.590209  0.587959  0.585803  0.583738  0.581759  0.579863  0.578047   \n",
      "1  0.576335  0.574957  0.573617  0.572313  0.571043  0.569805  0.568597   \n",
      "\n",
      "    k=0.975   k=1.000   k=1.025   k=1.050   k=1.075   k=1.100   k=1.125  \\\n",
      "0  0.576306  0.574639  0.573043  0.571513  0.570049  0.568648  0.567306   \n",
      "1  0.567418  0.566267  0.565143  0.564043  0.562967  0.561914  0.560883   \n",
      "\n",
      "    k=1.150   k=1.175         T    Strike  \n",
      "0  0.566023  0.564795  0.477295  1.346156  \n",
      "1  0.559873  0.558883  1.807806  0.669212  \n",
      "Tail\n",
      "        k=0.800   k=0.825   k=0.850   k=0.875   k=0.900   k=0.925   k=0.950  \\\n",
      "66961  0.435395  0.432548  0.429881  0.427388  0.425066  0.422913  0.420924   \n",
      "66962  0.536684  0.535809  0.535064  0.534439  0.533927  0.533521  0.533213   \n",
      "\n",
      "        k=0.975   k=1.000   k=1.025   k=1.050   k=1.075   k=1.100   k=1.125  \\\n",
      "66961  0.419096  0.417423  0.415901  0.414526  0.413291  0.412192  0.411223   \n",
      "66962  0.532998  0.532868  0.532818  0.532842  0.532935  0.533092  0.533308   \n",
      "\n",
      "        k=1.150   k=1.175         T    Strike  \n",
      "66961  0.410377  0.409649  0.660950  1.320156  \n",
      "66962  0.533579  0.533900  1.453357  1.019316  \n",
      "Describe\n",
      "            k=0.800       k=0.825       k=0.850       k=0.875       k=0.900  \\\n",
      "count  66963.000000  66963.000000  66963.000000  66963.000000  66963.000000   \n",
      "mean       0.605825      0.602756      0.599774      0.596879      0.594069   \n",
      "std        0.158272      0.159314      0.160376      0.161453      0.162543   \n",
      "min        0.126641      0.120969      0.109923      0.098728      0.087327   \n",
      "25%        0.493878      0.490515      0.487111      0.483705      0.480306   \n",
      "50%        0.623390      0.620366      0.617868      0.615174      0.612601   \n",
      "75%        0.732251      0.729871      0.727565      0.725550      0.723530   \n",
      "max        0.922798      0.917288      0.911891      0.906601      0.901412   \n",
      "\n",
      "            k=0.925       k=0.950       k=0.975       k=1.000       k=1.025  \\\n",
      "count  66963.000000  66963.000000  66963.000000  66963.000000  66963.000000   \n",
      "mean       0.591343      0.588704      0.586154      0.583702      0.581361   \n",
      "std        0.163637      0.164727      0.165799      0.166829      0.167777   \n",
      "min        0.075660      0.063704      0.051781      0.043986      0.032622   \n",
      "25%        0.477245      0.474127      0.471245      0.468415      0.465696   \n",
      "50%        0.610185      0.608017      0.605698      0.603576      0.601548   \n",
      "75%        0.721558      0.719618      0.717863      0.716128      0.714233   \n",
      "max        0.896319      0.892514      0.892475      0.892437      0.892400   \n",
      "\n",
      "            k=1.050       k=1.075       k=1.100       k=1.125       k=1.150  \\\n",
      "count  66963.000000  66963.000000  66963.000000  66963.000000  66963.000000   \n",
      "mean       0.579142      0.577047      0.575068      0.573197      0.571428   \n",
      "std        0.168609      0.169317      0.169918      0.170426      0.170855   \n",
      "min        0.031862      0.030853      0.032756      0.034484      0.036145   \n",
      "25%        0.463209      0.460815      0.458487      0.456159      0.453966   \n",
      "50%        0.599537      0.597484      0.595580      0.593725      0.591878   \n",
      "75%        0.712592      0.711079      0.709617      0.708265      0.706910   \n",
      "max        0.892364      0.892329      0.892295      0.892261      0.892228   \n",
      "\n",
      "            k=1.175             T        Strike  \n",
      "count  66963.000000  66963.000000  66963.000000  \n",
      "mean       0.569754      1.041833      1.001281  \n",
      "std        0.171214      0.552691      0.230940  \n",
      "min        0.036478      0.083343      0.600004  \n",
      "25%        0.451707      0.563975      0.801632  \n",
      "50%        0.590238      1.041849      1.002084  \n",
      "75%        0.705467      1.520968      1.201436  \n",
      "max        0.892196      1.999971      1.399996  \n"
     ]
    }
   ],
   "source": [
    "scaler, X_train, X_test, t_train, t_test = preprocess(db = db)"
   ]
  },
  {
   "cell_type": "markdown",
   "id": "2d199fd6",
   "metadata": {
    "id": "2d199fd6"
   },
   "source": [
    "## Auxiliary Functions"
   ]
  },
  {
   "cell_type": "code",
   "execution_count": 87,
   "id": "fd4e3d32",
   "metadata": {
    "executionInfo": {
     "elapsed": 451,
     "status": "ok",
     "timestamp": 1651686917262,
     "user": {
      "displayName": "Giovanni Della Lunga",
      "userId": "13927304036683734865"
     },
     "user_tz": -120
    },
    "id": "fd4e3d32"
   },
   "outputs": [],
   "source": [
    "def show_scattered( y, t, tag, ax = None):\n",
    "    #x      = model.predict(X)\n",
    "    #y      = np.ravel(x)\n",
    "    xMin = min(t)\n",
    "    xMax = max(t)\n",
    "    v    = np.arange(xMin, xMax, (xMax-xMin)/100.)\n",
    "\n",
    "    diff   = np.fabs(y - t)\n",
    "    print(\"@ %-24s: E[y-t]: %.6f Std(y-t): %.6f\" %( tag, np.mean(diff), np.std(diff)))\n",
    "    if ax == None: return\n",
    "\n",
    "    ax.plot( y, t, \".\")\n",
    "    ax.plot( v, v, color=\"red\")\n",
    "    ax.set_title(\"%s mae=%8.4f, std=%8.4f\" %(tag, np.mean(diff), np.std(diff)))\n",
    "    ax.set_xlabel(\"predicted\")\n",
    "    ax.set_ylabel(\"target\")"
   ]
  },
  {
   "cell_type": "code",
   "execution_count": 88,
   "id": "edaceb5a",
   "metadata": {
    "executionInfo": {
     "elapsed": 3,
     "status": "ok",
     "timestamp": 1651686917749,
     "user": {
      "displayName": "Giovanni Della Lunga",
      "userId": "13927304036683734865"
     },
     "user_tz": -120
    },
    "id": "edaceb5a"
   },
   "outputs": [],
   "source": [
    "def display_nn_results( model, X_train, X_test, t_train, t_test, resFile=None):\n",
    "\n",
    "    fig, ax = plt.subplots(1,2, figsize=(12,6))\n",
    "    fig.suptitle(\"Scattered plots\")\n",
    "\n",
    "    y_train  = np.ravel(model.predict(X_train))\n",
    "    show_scattered( y_train, t_train, \"InSample\", ax = ax[0])\n",
    "    \n",
    "    diff   = np.fabs(y_train - t_train)\n",
    "    RES    = pd.DataFrame({\"predicted\": y_train, \"target\": t_train, \"err:\": diff})\n",
    "    RES.to_csv(\"res_in__sample.csv\", sep=',', float_format=\"%.6f\", index=True)\n",
    "    print(\"@\")\n",
    "    y_test  = np.ravel(model.predict(X_test))\n",
    "    show_scattered( y_test , t_test, \"OutOfSample\", ax= ax[1])\n",
    "    \n",
    "    diff   = np.fabs(y_test-t_test)\n",
    "    RES    = pd.DataFrame({\"predicted\": y_test, \"target\": t_test, \"err:\": diff})\n",
    "    RES.to_csv(\"res_out_sample.csv\", sep=',', float_format=\"%.6f\", index=True)\n",
    "\n",
    "    print(\"@\")\n",
    "\n",
    "    if resFile != None:\n",
    "        plt.savefig(resFile, format=\"png\")\n",
    "        print(\"@ %-12s: results saved to '%s' \"%(\"Info\", resFile))\n",
    "    plt.show()\n",
    "\n",
    "\n",
    "    score = model.evaluate(X_test, t_test, verbose=1)\n",
    "    print('Score:'); print(score)"
   ]
  },
  {
   "cell_type": "markdown",
   "id": "4aa58615",
   "metadata": {
    "id": "4aa58615"
   },
   "source": [
    "## Build the model"
   ]
  },
  {
   "cell_type": "code",
   "execution_count": 89,
   "id": "864488b0",
   "metadata": {
    "executionInfo": {
     "elapsed": 2350,
     "status": "ok",
     "timestamp": 1651686921437,
     "user": {
      "displayName": "Giovanni Della Lunga",
      "userId": "13927304036683734865"
     },
     "user_tz": -120
    },
    "id": "864488b0"
   },
   "outputs": [],
   "source": [
    "from keras.models import Sequential\n",
    "from keras.layers import Dense\n",
    "\n",
    "def model_builder( inputShape = (1,)):\n",
    "    \n",
    "    # Initialize the constructor\n",
    "    model = Sequential()\n",
    "\n",
    "    # Add an input layer \n",
    "    model.add(Dense(128, activation='relu', input_shape=inputShape))\n",
    "\n",
    "    # Add one more hidden layer \n",
    "    model.add(Dense(64, activation='relu'))\n",
    "\n",
    "    # Add one more hidden layer \n",
    "    model.add(Dense(32, activation='relu'))\n",
    "\n",
    "    # Add one more hidden layer \n",
    "    model.add(Dense(16, activation='relu'))\n",
    "\n",
    "    # Add an output layer \n",
    "    model.add(Dense(1))\n",
    "    # End model construction\n",
    "\n",
    "    # Model output shape\n",
    "    print(\"model.output_shape: %s\" %(str(model.output_shape)))\n",
    "\n",
    "    # Model summary\n",
    "    print(\"Model.summary\"); model.summary()\n",
    "\n",
    "    # Model config\n",
    "    print(\"Model.config\"); model.get_config()\n",
    "\n",
    "    model.compile(loss='mse', optimizer='rmsprop', metrics=['mae'])\n",
    "    return model\n"
   ]
  },
  {
   "cell_type": "markdown",
   "id": "4a48ba78",
   "metadata": {
    "id": "4a48ba78"
   },
   "source": [
    "Let’s go through this code line by line:\n",
    "\n",
    "- The first line creates a **Sequential** model. This is the simplest kind of Keras model, for neural networks that are just composed of a single stack of layers, connected sequentially. This is called the sequential API.\n",
    "\n",
    "- Next, we build the first layer and add it to the model. It is a **Dense** hidden layer with XXX neurons. It will use the **ReLu** activation function. Each Dense layer manages its own weight matrix, containing all the connection weights between the neurons and their inputs. It also manages a vector of bias terms (one per neuron).\n",
    "\n",
    "- Next we add a second Dense hidden layer with XXX neurons, also using the ReLu activation function and a third one ...\n",
    "\n",
    "- Finally, we add a Dense output layer with only 1 neurons, using the ReLu activation function (because...).\n"
   ]
  },
  {
   "cell_type": "code",
   "execution_count": 90,
   "id": "162f642f",
   "metadata": {
    "colab": {
     "base_uri": "https://localhost:8080/"
    },
    "executionInfo": {
     "elapsed": 346,
     "status": "ok",
     "timestamp": 1651686921779,
     "user": {
      "displayName": "Giovanni Della Lunga",
      "userId": "13927304036683734865"
     },
     "user_tz": -120
    },
    "id": "162f642f",
    "outputId": "c3af7568-efa3-4989-e154-e145ca1bc472"
   },
   "outputs": [
    {
     "name": "stdout",
     "output_type": "stream",
     "text": [
      "model.output_shape: (None, 1)\n",
      "Model.summary\n",
      "Model: \"sequential_4\"\n",
      "_________________________________________________________________\n",
      "Layer (type)                 Output Shape              Param #   \n",
      "=================================================================\n",
      "dense_20 (Dense)             (None, 128)               2432      \n",
      "_________________________________________________________________\n",
      "dense_21 (Dense)             (None, 64)                8256      \n",
      "_________________________________________________________________\n",
      "dense_22 (Dense)             (None, 32)                2080      \n",
      "_________________________________________________________________\n",
      "dense_23 (Dense)             (None, 16)                528       \n",
      "_________________________________________________________________\n",
      "dense_24 (Dense)             (None, 1)                 17        \n",
      "=================================================================\n",
      "Total params: 13,313\n",
      "Trainable params: 13,313\n",
      "Non-trainable params: 0\n",
      "_________________________________________________________________\n",
      "Model.config\n"
     ]
    }
   ],
   "source": [
    "model = model_builder( inputShape = (X_train.shape[1],))"
   ]
  },
  {
   "cell_type": "markdown",
   "id": "7f8ef0b9",
   "metadata": {
    "id": "7f8ef0b9"
   },
   "source": [
    "Note that Dense layers often have a lot of parameters. For example, the first hidden\n",
    "layer has n × n connection weights, plus 300 bias terms, which adds up to\n",
    "XXX parameters! This gives the model quite a lot of flexibility to fit the training\n",
    "data, but it also means that the model runs the risk of overfitting, especially when you\n",
    "do not have a lot of training data."
   ]
  },
  {
   "cell_type": "markdown",
   "id": "97a01a30",
   "metadata": {
    "id": "97a01a30"
   },
   "source": [
    "You can easily get a model’s list of layers, to fetch a layer by its index, or you can fetch\n",
    "it by name:"
   ]
  },
  {
   "cell_type": "code",
   "execution_count": 91,
   "id": "db6a912d",
   "metadata": {
    "colab": {
     "base_uri": "https://localhost:8080/"
    },
    "executionInfo": {
     "elapsed": 319,
     "status": "ok",
     "timestamp": 1651686924929,
     "user": {
      "displayName": "Giovanni Della Lunga",
      "userId": "13927304036683734865"
     },
     "user_tz": -120
    },
    "id": "db6a912d",
    "outputId": "bcef72bb-4f35-4fbe-b1cb-e654e2896a1b"
   },
   "outputs": [
    {
     "data": {
      "text/plain": [
       "[<tensorflow.python.keras.layers.core.Dense at 0x2065ffa21c8>,\n",
       " <tensorflow.python.keras.layers.core.Dense at 0x2065ffd1588>,\n",
       " <tensorflow.python.keras.layers.core.Dense at 0x20660337408>,\n",
       " <tensorflow.python.keras.layers.core.Dense at 0x20661718d88>,\n",
       " <tensorflow.python.keras.layers.core.Dense at 0x2065a9b2ac8>]"
      ]
     },
     "execution_count": 91,
     "metadata": {},
     "output_type": "execute_result"
    }
   ],
   "source": [
    "model.layers"
   ]
  },
  {
   "cell_type": "code",
   "execution_count": 92,
   "id": "92d707c3",
   "metadata": {
    "colab": {
     "base_uri": "https://localhost:8080/",
     "height": 35
    },
    "executionInfo": {
     "elapsed": 8,
     "status": "ok",
     "timestamp": 1651686925301,
     "user": {
      "displayName": "Giovanni Della Lunga",
      "userId": "13927304036683734865"
     },
     "user_tz": -120
    },
    "id": "92d707c3",
    "outputId": "4e40eed0-f1b9-440d-a2c2-456f70fff71a"
   },
   "outputs": [
    {
     "data": {
      "text/plain": [
       "'dense_21'"
      ]
     },
     "execution_count": 92,
     "metadata": {},
     "output_type": "execute_result"
    }
   ],
   "source": [
    "model.layers[1].name"
   ]
  },
  {
   "cell_type": "markdown",
   "id": "c4bf0502",
   "metadata": {
    "id": "c4bf0502"
   },
   "source": [
    "After a model is created, you must call its ***compile()*** method to specify the loss function\n",
    "and the optimizer to use. Optionally, you can also specify a list of extra metrics to\n",
    "compute during training and evaluation. In this case we have chosen\n",
    "\n",
    "`model.compile(loss='mse', optimizer='rmsprop', metrics=['mae'])`\n",
    "\n"
   ]
  },
  {
   "cell_type": "markdown",
   "id": "2c24e072",
   "metadata": {
    "id": "2c24e072"
   },
   "source": [
    "## Train the model"
   ]
  },
  {
   "cell_type": "markdown",
   "id": "d8ceaf27",
   "metadata": {
    "id": "d8ceaf27"
   },
   "source": [
    "Now the model is ready to be trained. For this we simply need to call its ***fit()***\n",
    "method. We pass it the input features (***X_train***) and the target classes (***y_train***), as\n",
    "well as the number of epochs to train (or else it would default to just 1, which would\n",
    "definitely not be enough to converge to a good solution). We could also pass a validation set\n",
    "(this is optional): Keras will measure the loss and the extra metrics on this set at the\n",
    "end of each epoch, which is very useful to see how well the model really performs: if\n",
    "the performance on the training set is much better than on the validation set, your model is probably overfitting the training set (or there is a bug, such as a data mismatch\n",
    "between the training set and the validation set)."
   ]
  },
  {
   "cell_type": "code",
   "execution_count": 93,
   "id": "77a4b3ac",
   "metadata": {
    "colab": {
     "base_uri": "https://localhost:8080/"
    },
    "executionInfo": {
     "elapsed": 112369,
     "status": "ok",
     "timestamp": 1651687041457,
     "user": {
      "displayName": "Giovanni Della Lunga",
      "userId": "13927304036683734865"
     },
     "user_tz": -120
    },
    "id": "77a4b3ac",
    "outputId": "079d2b3f-3560-493d-d171-c893a4a7f170"
   },
   "outputs": [
    {
     "name": "stdout",
     "output_type": "stream",
     "text": [
      "Epoch 1/50\n",
      "1403/1403 [==============================] - 2s 1ms/step - loss: 0.0027 - mae: 0.0305\n",
      "Epoch 2/50\n",
      "1403/1403 [==============================] - 2s 1ms/step - loss: 2.3609e-04 - mae: 0.0115\n",
      "Epoch 3/50\n",
      "1403/1403 [==============================] - 2s 1ms/step - loss: 1.7400e-04 - mae: 0.0101\n",
      "Epoch 4/50\n",
      "1403/1403 [==============================] - 2s 1ms/step - loss: 1.5162e-04 - mae: 0.0094\n",
      "Epoch 5/50\n",
      "1403/1403 [==============================] - 2s 1ms/step - loss: 1.3336e-04 - mae: 0.0088\n",
      "Epoch 6/50\n",
      "1403/1403 [==============================] - 2s 1ms/step - loss: 1.2388e-04 - mae: 0.0086\n",
      "Epoch 7/50\n",
      "1403/1403 [==============================] - 2s 1ms/step - loss: 1.1493e-04 - mae: 0.0083\n",
      "Epoch 8/50\n",
      "1403/1403 [==============================] - 2s 1ms/step - loss: 1.0776e-04 - mae: 0.0081\n",
      "Epoch 9/50\n",
      "1403/1403 [==============================] - 2s 1ms/step - loss: 1.0462e-04 - mae: 0.0080\n",
      "Epoch 10/50\n",
      "1403/1403 [==============================] - 2s 1ms/step - loss: 1.0056e-04 - mae: 0.0078\n",
      "Epoch 11/50\n",
      "1403/1403 [==============================] - 2s 1ms/step - loss: 9.6520e-05 - mae: 0.0077\n",
      "Epoch 12/50\n",
      "1403/1403 [==============================] - 2s 1ms/step - loss: 9.4822e-05 - mae: 0.0076\n",
      "Epoch 13/50\n",
      "1403/1403 [==============================] - 2s 1ms/step - loss: 9.1061e-05 - mae: 0.0075\n",
      "Epoch 14/50\n",
      "1403/1403 [==============================] - 2s 1ms/step - loss: 8.8715e-05 - mae: 0.0074\n",
      "Epoch 15/50\n",
      "1403/1403 [==============================] - 2s 1ms/step - loss: 8.8655e-05 - mae: 0.0074\n",
      "Epoch 16/50\n",
      "1403/1403 [==============================] - 2s 1ms/step - loss: 8.6635e-05 - mae: 0.0073\n",
      "Epoch 17/50\n",
      "1403/1403 [==============================] - 2s 1ms/step - loss: 8.6357e-05 - mae: 0.0073\n",
      "Epoch 18/50\n",
      "1403/1403 [==============================] - 2s 1ms/step - loss: 8.4940e-05 - mae: 0.0072\n",
      "Epoch 19/50\n",
      "1403/1403 [==============================] - 2s 1ms/step - loss: 8.2630e-05 - mae: 0.0072\n",
      "Epoch 20/50\n",
      "1403/1403 [==============================] - 2s 1ms/step - loss: 8.2781e-05 - mae: 0.0071\n",
      "Epoch 21/50\n",
      "1403/1403 [==============================] - 2s 1ms/step - loss: 8.2476e-05 - mae: 0.0072\n",
      "Epoch 22/50\n",
      "1403/1403 [==============================] - 2s 1ms/step - loss: 8.0319e-05 - mae: 0.0071\n",
      "Epoch 23/50\n",
      "1403/1403 [==============================] - 2s 1ms/step - loss: 8.0134e-05 - mae: 0.0071\n",
      "Epoch 24/50\n",
      "1403/1403 [==============================] - 2s 1ms/step - loss: 7.9431e-05 - mae: 0.0070\n",
      "Epoch 25/50\n",
      "1403/1403 [==============================] - 2s 1ms/step - loss: 7.9353e-05 - mae: 0.0070\n",
      "Epoch 26/50\n",
      "1403/1403 [==============================] - 2s 1ms/step - loss: 7.7569e-05 - mae: 0.0070\n",
      "Epoch 27/50\n",
      "1403/1403 [==============================] - 2s 1ms/step - loss: 7.8630e-05 - mae: 0.0070\n",
      "Epoch 28/50\n",
      "1403/1403 [==============================] - 2s 1ms/step - loss: 7.8254e-05 - mae: 0.0070\n",
      "Epoch 29/50\n",
      "1403/1403 [==============================] - 2s 1ms/step - loss: 7.6894e-05 - mae: 0.0069\n",
      "Epoch 30/50\n",
      "1403/1403 [==============================] - 2s 1ms/step - loss: 7.5959e-05 - mae: 0.0069\n",
      "Epoch 31/50\n",
      "1403/1403 [==============================] - 2s 1ms/step - loss: 7.7394e-05 - mae: 0.0070\n",
      "Epoch 32/50\n",
      "1403/1403 [==============================] - 2s 1ms/step - loss: 7.5460e-05 - mae: 0.0069\n",
      "Epoch 33/50\n",
      "1403/1403 [==============================] - 2s 1ms/step - loss: 7.5309e-05 - mae: 0.0069\n",
      "Epoch 34/50\n",
      "1403/1403 [==============================] - 2s 1ms/step - loss: 7.4709e-05 - mae: 0.0068\n",
      "Epoch 35/50\n",
      "1403/1403 [==============================] - 2s 1ms/step - loss: 7.4818e-05 - mae: 0.0068\n",
      "Epoch 36/50\n",
      "1403/1403 [==============================] - 2s 1ms/step - loss: 7.4440e-05 - mae: 0.0068\n",
      "Epoch 37/50\n",
      "1403/1403 [==============================] - 2s 1ms/step - loss: 7.4940e-05 - mae: 0.0068\n",
      "Epoch 38/50\n",
      "1403/1403 [==============================] - 2s 1ms/step - loss: 7.3011e-05 - mae: 0.0068\n",
      "Epoch 39/50\n",
      "1403/1403 [==============================] - 2s 1ms/step - loss: 7.3019e-05 - mae: 0.0068\n",
      "Epoch 40/50\n",
      "1403/1403 [==============================] - 2s 1ms/step - loss: 7.3288e-05 - mae: 0.0068\n",
      "Epoch 41/50\n",
      "1403/1403 [==============================] - 2s 1ms/step - loss: 7.4409e-05 - mae: 0.0068\n",
      "Epoch 42/50\n",
      "1403/1403 [==============================] - 2s 1ms/step - loss: 7.2973e-05 - mae: 0.0068\n",
      "Epoch 43/50\n",
      "1403/1403 [==============================] - 2s 1ms/step - loss: 7.2092e-05 - mae: 0.0067\n",
      "Epoch 44/50\n",
      "1403/1403 [==============================] - 2s 1ms/step - loss: 7.2480e-05 - mae: 0.0067\n",
      "Epoch 45/50\n",
      "1403/1403 [==============================] - 2s 1ms/step - loss: 7.2126e-05 - mae: 0.0067\n",
      "Epoch 46/50\n",
      "1403/1403 [==============================] - 2s 1ms/step - loss: 7.2326e-05 - mae: 0.0067\n",
      "Epoch 47/50\n",
      "1403/1403 [==============================] - 2s 1ms/step - loss: 7.1178e-05 - mae: 0.0067\n",
      "Epoch 48/50\n",
      "1403/1403 [==============================] - 2s 1ms/step - loss: 7.0547e-05 - mae: 0.0067\n",
      "Epoch 49/50\n",
      "1403/1403 [==============================] - 2s 1ms/step - loss: 7.1233e-05 - mae: 0.0067\n",
      "Epoch 50/50\n",
      "1403/1403 [==============================] - 2s 1ms/step - loss: 7.1794e-05 - mae: 0.0067\n"
     ]
    }
   ],
   "source": [
    "history = model.fit(X_train, t_train, epochs=50, verbose=verbose)"
   ]
  },
  {
   "cell_type": "markdown",
   "id": "7ac730b4",
   "metadata": {
    "id": "7ac730b4"
   },
   "source": [
    "And that’s it! The neural network is trained. At each epoch during training, Keras displays\n",
    "the number of instances processed so far (along with a progress bar), the mean\n",
    "training time per sample, the loss and accuracy (or any other extra metrics you asked\n",
    "for), both on the training set and the validation set. You can see that the training loss\n",
    "went down, which is a good sign, and the validation accuracy reached XXX% after 50\n",
    "epochs, not too far from the training accuracy, so there does not seem to be much\n",
    "overfitting going on."
   ]
  },
  {
   "cell_type": "markdown",
   "id": "4d29932f",
   "metadata": {
    "id": "4d29932f"
   },
   "source": [
    "All the parameters of a layer can be accessed using its ***get_weights()*** and\n",
    "***set_weights()*** method. For a Dense layer, this includes both the connection weights\n",
    "and the bias terms:"
   ]
  },
  {
   "cell_type": "code",
   "execution_count": 94,
   "id": "5e6b1834",
   "metadata": {
    "colab": {
     "base_uri": "https://localhost:8080/"
    },
    "executionInfo": {
     "elapsed": 286,
     "status": "ok",
     "timestamp": 1651687046330,
     "user": {
      "displayName": "Giovanni Della Lunga",
      "userId": "13927304036683734865"
     },
     "user_tz": -120
    },
    "id": "5e6b1834",
    "outputId": "fc5cbbc0-71de-4bf5-d51b-0510d7a11d2d"
   },
   "outputs": [
    {
     "data": {
      "text/plain": [
       "array([[ 0.10124906,  0.04904995,  0.00596292, ..., -0.08116291,\n",
       "         0.09190229, -0.07445151],\n",
       "       [-0.14661087, -0.02371039, -0.06788314, ..., -0.03517032,\n",
       "        -0.07675691, -0.12251072],\n",
       "       [ 0.20766194,  0.01529923, -0.2505694 , ...,  0.09372583,\n",
       "        -0.16771452, -0.15135856],\n",
       "       ...,\n",
       "       [ 0.02627092, -0.16485463,  0.01050031, ...,  0.01310094,\n",
       "        -0.08176729,  0.02738154],\n",
       "       [ 0.06729674, -0.07424863, -0.16710402, ...,  0.04202709,\n",
       "        -0.01105787, -0.02794502],\n",
       "       [ 0.05245802, -0.01278744,  0.05577049, ..., -0.14275187,\n",
       "         0.06213692, -0.19415922]], dtype=float32)"
      ]
     },
     "execution_count": 94,
     "metadata": {},
     "output_type": "execute_result"
    }
   ],
   "source": [
    "weights, biases = model.layers[1].get_weights()\n",
    "weights"
   ]
  },
  {
   "cell_type": "code",
   "execution_count": 95,
   "id": "6fd4a1c1",
   "metadata": {
    "colab": {
     "base_uri": "https://localhost:8080/",
     "height": 570
    },
    "executionInfo": {
     "elapsed": 5409,
     "status": "ok",
     "timestamp": 1651687052692,
     "user": {
      "displayName": "Giovanni Della Lunga",
      "userId": "13927304036683734865"
     },
     "user_tz": -120
    },
    "id": "6fd4a1c1",
    "outputId": "03b6355a-f023-4a84-f901-be4a596b69c4"
   },
   "outputs": [
    {
     "name": "stdout",
     "output_type": "stream",
     "text": [
      "@ InSample                : E[y-t]: 0.006552 Std(y-t): 0.005106\n",
      "@\n",
      "@ OutOfSample             : E[y-t]: 0.006648 Std(y-t): 0.005197\n",
      "@\n",
      "@ Info        : results saved to 'full_100000_VFA_trained.png' \n"
     ]
    },
    {
     "data": {
      "image/png": "[encoded data removed]",
      "text/plain": [
       "<Figure size 864x432 with 2 Axes>"
      ]
     },
     "metadata": {
      "needs_background": "light"
     },
     "output_type": "display_data"
    },
    {
     "name": "stdout",
     "output_type": "stream",
     "text": [
      "691/691 [==============================] - 1s 1ms/step - loss: 7.1202e-05 - mae: 0.0066\n",
      "Score:\n",
      "[7.120226655388251e-05, 0.006647638510912657]\n"
     ]
    }
   ],
   "source": [
    "import warnings\n",
    "warnings.simplefilter('ignore')\n",
    "\n",
    "import matplotlib.pyplot as plt\n",
    "import numpy             as np\n",
    "\n",
    "display_nn_results(model, X_train, X_test, t_train, t_test, resFile = resFile)"
   ]
  },
  {
   "cell_type": "markdown",
   "id": "79cc9e70",
   "metadata": {
    "id": "79cc9e70"
   },
   "source": [
    "## Save Scaler and Model on Disk"
   ]
  },
  {
   "cell_type": "code",
   "execution_count": 96,
   "id": "e7e79d55",
   "metadata": {
    "colab": {
     "base_uri": "https://localhost:8080/"
    },
    "executionInfo": {
     "elapsed": 1358,
     "status": "ok",
     "timestamp": 1651654252725,
     "user": {
      "displayName": "Giovanni Della Lunga",
      "userId": "13927304036683734865"
     },
     "user_tz": -120
    },
    "id": "e7e79d55",
    "outputId": "6dbf2d7c-b8b5-4fb7-aa1a-5484c2989c03"
   },
   "outputs": [
    {
     "name": "stdout",
     "output_type": "stream",
     "text": [
      "@ Info                    : scaler saved to 'scaler_100000_VFA.pkl'\n",
      "INFO:tensorflow:Assets written to: model_100000_VFA.krs\\assets\n",
      "@ Info                    : model saved to 'model_100000_VFA.krs'\n"
     ]
    }
   ],
   "source": [
    "from pickle import dump, load\n",
    "\n",
    "dump(scaler, open(scalerFile, 'wb'))\n",
    "print(\"@ %-24s: scaler saved to '%s'\" %(\"Info\", scalerFile))\n",
    "\n",
    "model.save(mdlDir)\n",
    "print(\"@ %-24s: model saved to '%s'\" %(\"Info\", mdlDir))    "
   ]
  },
  {
   "cell_type": "code",
   "execution_count": 97,
   "id": "xRsoFh8qQq29",
   "metadata": {
    "colab": {
     "base_uri": "https://localhost:8080/",
     "height": 34
    },
    "executionInfo": {
     "elapsed": 420,
     "status": "ok",
     "timestamp": 1651654282819,
     "user": {
      "displayName": "Giovanni Della Lunga",
      "userId": "13927304036683734865"
     },
     "user_tz": -120
    },
    "id": "xRsoFh8qQq29",
    "outputId": "8f2e2bff-0dff-4895-b820-32237982f241"
   },
   "outputs": [],
   "source": [
    "if 'google.colab' in str(get_ipython()):\n",
    "    from google.colab import files\n",
    "    files.download(scalerFile)\n",
    "    #files.download(mdlDir)"
   ]
  },
  {
   "cell_type": "markdown",
   "id": "57725678",
   "metadata": {},
   "source": [
    "## Using the History Object"
   ]
  },
  {
   "cell_type": "markdown",
   "id": "c8a1fd8f",
   "metadata": {
    "id": "c8a1fd8f"
   },
   "source": [
    "The ***fit()*** method returns a History object containing the training parameters (history.params), the list of epochs it went through (history.epoch), and most importantly\n",
    "a dictionary (history.history) containing the loss and extra metrics it\n",
    "measured at the end of each epoch on the training set and on the validation set (if any). If you create a Pandas DataFrame using this dictionary and call its plot()\n",
    "method, you get the learning curves."
   ]
  },
  {
   "cell_type": "code",
   "execution_count": 98,
   "id": "eff51578",
   "metadata": {
    "executionInfo": {
     "elapsed": 4,
     "status": "ok",
     "timestamp": 1651687054135,
     "user": {
      "displayName": "Giovanni Della Lunga",
      "userId": "13927304036683734865"
     },
     "user_tz": -120
    },
    "id": "eff51578"
   },
   "outputs": [],
   "source": [
    "X = db.drop(columns=\"Price\")\n",
    "Y = db[\"Price\"]"
   ]
  },
  {
   "cell_type": "code",
   "execution_count": 99,
   "id": "580f830b",
   "metadata": {
    "colab": {
     "base_uri": "https://localhost:8080/"
    },
    "executionInfo": {
     "elapsed": 204058,
     "status": "ok",
     "timestamp": 1651687259064,
     "user": {
      "displayName": "Giovanni Della Lunga",
      "userId": "13927304036683734865"
     },
     "user_tz": -120
    },
    "id": "580f830b",
    "outputId": "83161f3b-a319-4f62-fd40-f539e47b3736"
   },
   "outputs": [
    {
     "name": "stdout",
     "output_type": "stream",
     "text": [
      "Epoch 1/50\n",
      "1403/1403 [==============================] - 4s 2ms/step - loss: 0.0024 - mae: 0.0286 - val_loss: 4.9044e-04 - val_mae: 0.0193\n",
      "Epoch 2/50\n",
      "1403/1403 [==============================] - 3s 2ms/step - loss: 2.8533e-04 - mae: 0.0133 - val_loss: 1.2333e-04 - val_mae: 0.0087\n",
      "Epoch 3/50\n",
      "1403/1403 [==============================] - 3s 2ms/step - loss: 2.3538e-04 - mae: 0.0122 - val_loss: 3.7412e-04 - val_mae: 0.0167\n",
      "Epoch 4/50\n",
      "1403/1403 [==============================] - 3s 2ms/step - loss: 2.1653e-04 - mae: 0.0117 - val_loss: 5.1010e-04 - val_mae: 0.0192\n",
      "Epoch 5/50\n",
      "1403/1403 [==============================] - 3s 2ms/step - loss: 2.0870e-04 - mae: 0.0115 - val_loss: 8.6121e-05 - val_mae: 0.0073\n",
      "Epoch 6/50\n",
      "1403/1403 [==============================] - 3s 2ms/step - loss: 1.9933e-04 - mae: 0.0112 - val_loss: 5.7352e-04 - val_mae: 0.0212\n",
      "Epoch 7/50\n",
      "1403/1403 [==============================] - 3s 2ms/step - loss: 1.9522e-04 - mae: 0.0110 - val_loss: 1.5813e-04 - val_mae: 0.0101\n",
      "Epoch 8/50\n",
      "1403/1403 [==============================] - 3s 2ms/step - loss: 1.9192e-04 - mae: 0.0110 - val_loss: 2.4188e-04 - val_mae: 0.0129\n",
      "Epoch 9/50\n",
      "1403/1403 [==============================] - 3s 2ms/step - loss: 1.8628e-04 - mae: 0.0108 - val_loss: 7.6112e-05 - val_mae: 0.0069\n",
      "Epoch 10/50\n",
      "1403/1403 [==============================] - 3s 2ms/step - loss: 1.8278e-04 - mae: 0.0108 - val_loss: 1.4310e-04 - val_mae: 0.0096\n",
      "Epoch 11/50\n",
      "1403/1403 [==============================] - 3s 2ms/step - loss: 1.7894e-04 - mae: 0.0106 - val_loss: 2.9473e-04 - val_mae: 0.0141\n",
      "Epoch 12/50\n",
      "1403/1403 [==============================] - 3s 2ms/step - loss: 1.7677e-04 - mae: 0.0106 - val_loss: 5.4015e-04 - val_mae: 0.0210\n",
      "Epoch 13/50\n",
      "1403/1403 [==============================] - 3s 2ms/step - loss: 1.7403e-04 - mae: 0.0105 - val_loss: 3.2669e-04 - val_mae: 0.0152\n",
      "Epoch 14/50\n",
      "1403/1403 [==============================] - 3s 2ms/step - loss: 1.6970e-04 - mae: 0.0103 - val_loss: 2.2956e-04 - val_mae: 0.0130\n",
      "Epoch 15/50\n",
      "1403/1403 [==============================] - 3s 2ms/step - loss: 1.6745e-04 - mae: 0.0102 - val_loss: 8.3264e-05 - val_mae: 0.0073\n",
      "Epoch 16/50\n",
      "1403/1403 [==============================] - 3s 2ms/step - loss: 1.6327e-04 - mae: 0.0101 - val_loss: 4.6706e-04 - val_mae: 0.0181\n",
      "Epoch 17/50\n",
      "1403/1403 [==============================] - 3s 2ms/step - loss: 1.5995e-04 - mae: 0.0100 - val_loss: 1.6698e-04 - val_mae: 0.0104\n",
      "Epoch 18/50\n",
      "1403/1403 [==============================] - 3s 2ms/step - loss: 1.5838e-04 - mae: 0.0100 - val_loss: 2.4704e-04 - val_mae: 0.0134\n",
      "Epoch 19/50\n",
      "1403/1403 [==============================] - 3s 2ms/step - loss: 1.5715e-04 - mae: 0.0099 - val_loss: 8.8871e-05 - val_mae: 0.0075\n",
      "Epoch 20/50\n",
      "1403/1403 [==============================] - 3s 2ms/step - loss: 1.5556e-04 - mae: 0.0099 - val_loss: 2.8997e-04 - val_mae: 0.0149\n",
      "Epoch 21/50\n",
      "1403/1403 [==============================] - 3s 2ms/step - loss: 1.5584e-04 - mae: 0.0099 - val_loss: 8.7549e-04 - val_mae: 0.0272\n",
      "Epoch 22/50\n",
      "1403/1403 [==============================] - 3s 2ms/step - loss: 1.5180e-04 - mae: 0.0097 - val_loss: 1.4777e-04 - val_mae: 0.0098\n",
      "Epoch 23/50\n",
      "1403/1403 [==============================] - 3s 2ms/step - loss: 1.5284e-04 - mae: 0.0098 - val_loss: 7.3478e-05 - val_mae: 0.0068\n",
      "Epoch 24/50\n",
      "1403/1403 [==============================] - 3s 2ms/step - loss: 1.5040e-04 - mae: 0.0097 - val_loss: 1.3960e-04 - val_mae: 0.0095\n",
      "Epoch 25/50\n",
      "1403/1403 [==============================] - 3s 2ms/step - loss: 1.4739e-04 - mae: 0.0097 - val_loss: 6.0359e-04 - val_mae: 0.0225\n",
      "Epoch 26/50\n",
      "1403/1403 [==============================] - 3s 2ms/step - loss: 1.4637e-04 - mae: 0.0096 - val_loss: 1.4155e-04 - val_mae: 0.0099\n",
      "Epoch 27/50\n",
      "1403/1403 [==============================] - 3s 2ms/step - loss: 1.4484e-04 - mae: 0.0096 - val_loss: 2.4397e-04 - val_mae: 0.0125\n",
      "Epoch 28/50\n",
      "1403/1403 [==============================] - 3s 2ms/step - loss: 1.4487e-04 - mae: 0.0096 - val_loss: 8.9188e-05 - val_mae: 0.0076\n",
      "Epoch 29/50\n",
      "1403/1403 [==============================] - 3s 2ms/step - loss: 1.4226e-04 - mae: 0.0095 - val_loss: 8.5981e-04 - val_mae: 0.0256\n",
      "Epoch 30/50\n",
      "1403/1403 [==============================] - 3s 2ms/step - loss: 1.4219e-04 - mae: 0.0095 - val_loss: 2.3868e-04 - val_mae: 0.0128\n",
      "Epoch 31/50\n",
      "1403/1403 [==============================] - 3s 2ms/step - loss: 1.3991e-04 - mae: 0.0094 - val_loss: 2.5189e-04 - val_mae: 0.0133\n",
      "Epoch 32/50\n",
      "1403/1403 [==============================] - 3s 2ms/step - loss: 1.4018e-04 - mae: 0.0094 - val_loss: 4.1621e-04 - val_mae: 0.0175\n",
      "Epoch 33/50\n",
      "1403/1403 [==============================] - 3s 2ms/step - loss: 1.3757e-04 - mae: 0.0093 - val_loss: 8.8634e-04 - val_mae: 0.0277\n",
      "Epoch 34/50\n",
      "1403/1403 [==============================] - 3s 2ms/step - loss: 1.3736e-04 - mae: 0.0093 - val_loss: 1.0956e-04 - val_mae: 0.0085\n",
      "Epoch 35/50\n",
      "1403/1403 [==============================] - 3s 2ms/step - loss: 1.3695e-04 - mae: 0.0093 - val_loss: 1.5963e-04 - val_mae: 0.0105\n",
      "Epoch 36/50\n",
      "1403/1403 [==============================] - 3s 2ms/step - loss: 1.3652e-04 - mae: 0.0093 - val_loss: 8.1809e-05 - val_mae: 0.0072\n",
      "Epoch 37/50\n",
      "1403/1403 [==============================] - 3s 2ms/step - loss: 1.3615e-04 - mae: 0.0093 - val_loss: 6.4668e-04 - val_mae: 0.0218\n",
      "Epoch 38/50\n",
      "1403/1403 [==============================] - 3s 2ms/step - loss: 1.3691e-04 - mae: 0.0093 - val_loss: 0.0013 - val_mae: 0.0323\n",
      "Epoch 39/50\n",
      "1403/1403 [==============================] - 3s 2ms/step - loss: 1.3418e-04 - mae: 0.0092 - val_loss: 0.0012 - val_mae: 0.0300\n",
      "Epoch 40/50\n",
      "1403/1403 [==============================] - 3s 2ms/step - loss: 1.3341e-04 - mae: 0.0092 - val_loss: 6.6566e-05 - val_mae: 0.0065\n",
      "Epoch 41/50\n",
      "1403/1403 [==============================] - 3s 2ms/step - loss: 1.3135e-04 - mae: 0.0091 - val_loss: 6.3267e-05 - val_mae: 0.0063\n",
      "Epoch 42/50\n",
      "1403/1403 [==============================] - 3s 2ms/step - loss: 1.3282e-04 - mae: 0.0092 - val_loss: 8.6597e-05 - val_mae: 0.0074\n",
      "Epoch 43/50\n",
      "1403/1403 [==============================] - 3s 2ms/step - loss: 1.3132e-04 - mae: 0.0091 - val_loss: 9.9241e-05 - val_mae: 0.0080\n",
      "Epoch 44/50\n",
      "1403/1403 [==============================] - 3s 2ms/step - loss: 1.3096e-04 - mae: 0.0091 - val_loss: 1.5118e-04 - val_mae: 0.0099\n",
      "Epoch 45/50\n",
      "1403/1403 [==============================] - 3s 2ms/step - loss: 1.2989e-04 - mae: 0.0090 - val_loss: 9.0340e-05 - val_mae: 0.0076\n",
      "Epoch 46/50\n",
      "1403/1403 [==============================] - 3s 2ms/step - loss: 1.2851e-04 - mae: 0.0090 - val_loss: 3.5928e-04 - val_mae: 0.0160\n",
      "Epoch 47/50\n",
      "1403/1403 [==============================] - 3s 2ms/step - loss: 1.2900e-04 - mae: 0.0090 - val_loss: 1.7169e-04 - val_mae: 0.0107\n",
      "Epoch 48/50\n",
      "1403/1403 [==============================] - 3s 2ms/step - loss: 1.2799e-04 - mae: 0.0089 - val_loss: 0.0012 - val_mae: 0.0307\n",
      "Epoch 49/50\n",
      "1403/1403 [==============================] - 3s 2ms/step - loss: 1.2722e-04 - mae: 0.0089 - val_loss: 6.8850e-05 - val_mae: 0.0066\n",
      "Epoch 50/50\n",
      "1403/1403 [==============================] - 3s 2ms/step - loss: 1.2675e-04 - mae: 0.0089 - val_loss: 1.1646e-04 - val_mae: 0.0088\n"
     ]
    }
   ],
   "source": [
    "# Fit the model\n",
    "history = model.fit(X, Y, validation_split=0.33, epochs=50, verbose=1)"
   ]
  },
  {
   "cell_type": "code",
   "execution_count": 100,
   "id": "daf9c9c6",
   "metadata": {
    "colab": {
     "base_uri": "https://localhost:8080/",
     "height": 590
    },
    "executionInfo": {
     "elapsed": 846,
     "status": "ok",
     "timestamp": 1651687263500,
     "user": {
      "displayName": "Giovanni Della Lunga",
      "userId": "13927304036683734865"
     },
     "user_tz": -120
    },
    "id": "daf9c9c6",
    "outputId": "d407963c-396c-49f0-9680-209d2627e7fa"
   },
   "outputs": [
    {
     "name": "stdout",
     "output_type": "stream",
     "text": [
      "dict_keys(['loss', 'mae', 'val_loss', 'val_mae'])\n"
     ]
    },
    {
     "data": {
      "image/png": "[encoded data removed]",
      "text/plain": [
       "<Figure size 432x288 with 1 Axes>"
      ]
     },
     "metadata": {
      "needs_background": "light"
     },
     "output_type": "display_data"
    },
    {
     "data": {
      "image/png": "[encoded data removed]",
      "text/plain": [
       "<Figure size 432x288 with 1 Axes>"
      ]
     },
     "metadata": {
      "needs_background": "light"
     },
     "output_type": "display_data"
    }
   ],
   "source": [
    "# list all data in history\n",
    "print(history.history.keys())\n",
    "# summarize history for accuracy\n",
    "plt.plot(history.history['mae'])\n",
    "plt.plot(history.history['val_mae'])\n",
    "plt.title('model mae')\n",
    "plt.ylabel('mae')\n",
    "plt.xlabel('epoch')\n",
    "plt.legend(['train', 'test'], loc='upper left')\n",
    "plt.show()\n",
    "# summarize history for loss\n",
    "plt.plot(history.history['loss'])\n",
    "plt.plot(history.history['val_loss'])\n",
    "plt.title('model loss')\n",
    "plt.ylabel('loss')\n",
    "plt.xlabel('epoch')\n",
    "plt.legend(['train', 'test'], loc='upper left')\n",
    "plt.show()"
   ]
  },
  {
   "cell_type": "code",
   "execution_count": null,
   "id": "ebc6c2be",
   "metadata": {},
   "outputs": [],
   "source": []
  }
 ],
 "metadata": {
  "colab": {
   "collapsed_sections": [],
   "name": "chapter-3-3.ipynb",
   "provenance": [
    {
     "file_id": "https://github.com/polyhedron-gdl/advanced-machine-learning-for-finance/blob/main/2022/1-notebooks/chapter-3-3.ipynb",
     "timestamp": 1651653852375
    }
   ]
  },
  "kernelspec": {
   "display_name": "Python 3 (ipykernel)",
   "language": "python",
   "name": "python3"
  },
  "language_info": {
   "codemirror_mode": {
    "name": "ipython",
    "version": 3
   },
   "file_extension": ".py",
   "mimetype": "text/x-python",
   "name": "python",
   "nbconvert_exporter": "python",
   "pygments_lexer": "ipython3",
   "version": "3.7.4"
  },
  "toc": {
   "base_numbering": "3",
   "nav_menu": {},
   "number_sections": true,
   "sideBar": true,
   "skip_h1_title": false,
   "title_cell": "Table of Contents",
   "title_sidebar": "Contents",
   "toc_cell": false,
   "toc_position": {},
   "toc_section_display": true,
   "toc_window_display": false
  }
 },
 "nbformat": 4,
 "nbformat_minor": 5
}
