{
 "cells": [
  {
   "cell_type": "markdown",
   "id": "e3e985d9",
   "metadata": {},
   "source": [
    "<table align=\"left\">\n",
    "  <td>\n",
    "    <a target=\"_blank\" href=\"https://colab.research.google.com/github/polyhedron-gdl/advanced-machine-learning-for-finance/blob/main/2022/1-notebooks/chapter-2-1.ipynb\">\n",
    "        <img src=\"https://www.tensorflow.org/images/colab_logo_32px.png\" />Run in Google Colab</a>\n",
    "  </td>\n",
    "</table>"
   ]
  },
  {
   "cell_type": "markdown",
   "id": "03a718f1",
   "metadata": {},
   "source": [
    "# Deep Learning for Option Pricing"
   ]
  },
  {
   "cell_type": "code",
   "execution_count": 34,
   "id": "b521ffe1",
   "metadata": {},
   "outputs": [],
   "source": [
    "import sys\n",
    "import math\n",
    "import time\n",
    "import numpy             as np\n",
    "import pandas            as pd\n",
    "import matplotlib.pyplot as plt\n",
    "\n",
    "from scipy.stats             import norm\n",
    "from sklearn.model_selection import train_test_split"
   ]
  },
  {
   "cell_type": "markdown",
   "id": "f5236290",
   "metadata": {},
   "source": [
    "## Introduction\n",
    "\n",
    "The problem of this first part of our lessons can be stated simply as follow. Let's say, from a very general point of view, that we have a contingent claim $\\cal{V}$ that depends on $D$ parameters:\n",
    "\n",
    "$$\n",
    "\\cal{V}(\\mathbf{x}), \\, \\mathbf{x}=\\left\\{x_1,\\dots, x_D \\right\\} \\in \\mathbb{R}^D\n",
    "$$\n",
    "\n",
    "We want to approximate the pricing function with a neural network. Remember that we can always consider the NN as a sort of mapping function \n",
    "\n",
    "$$\n",
    "\\Phi : \\mathbb{R}^D \\rightarrow \\mathbb{R}\n",
    "$$\n",
    "\n",
    "trained to compute prices given a point in $\\mathbb{R}^D $ representing a particular set of parameters. \n",
    "\n",
    "The use of a NN as a pricing functions has a number of advantages. the first is that in this way we are able to compute efficiently thousands of prices in a small amount of time, even when the derivative contract has complicated conditions and when the model is complex. This comes with the downside that the neural network may introduce systematic errors that could affect our estimation of the sensitivities in a number of ways. \n",
    "\n",
    "The second advantage is that instead of training the network on the model parameters, which in general are not observable, we could train the network ***using data that is directly observable in the market***. For example quotes and trades by market participants provide points on the\n",
    "volatility surface. Interpolating between these points as necessary, a trader can derive a reasonable\n",
    "estimate of the implied volatility appropriate for any new plain vanilla European or American\n",
    "option that is of interest. Plain vanilla options are therefore not priced using a model. They are\n",
    "simply priced to be consistent with the market. \n",
    "\n",
    "The volatility surface derived from the Black–Scholes–Merton model is a convenient interpolation tool for doing this.\n",
    "\n",
    "Exotic options are generally not as actively traded as plain vanilla options and, as a result, a\n",
    "model is required for pricing. A variety of different models are used in practice. Two conditions\n",
    "that traders would like the model to satisfy are:\n",
    "\n",
    "- A. The stochastic behavior assumed for the underlying asset price should correspond reasonably well to its observed behavior, and\n",
    "\n",
    "- B. The volatility surface derived from the model should be reasonably consistent with the volatility surface used to price plain vanilla options.\n",
    "\n",
    "Two categories of models that are used in practice can be distinguished. The models in the first\n",
    "category focus on condition A by assuming a process for the asset price that is roughly consistent\n",
    "with its observed behavior. The models have parameters that can be chosen to provide an\n",
    "approximate fit to the current volatility surface. Models in the second category focus on condition B\n",
    "and are designed to be exactly consistent with the current volatility surface.\n",
    "\n",
    "Many different models in the first category involving stochastic volatility and jumps have been\n",
    "proposed. Examples of stochastic volatility models are Hull and White (1987) and Heston (1993).\n",
    "Merton (1976) proposed a model that overlays Black-Scholes-Merton model with jumps. Bates\n",
    "(1996) adds jumps to Heston (1993). Madan et al (1998) propose a variance–gamma model where\n",
    "there are only jumps. More recently, rough volatility models where the process for volatility is\n",
    "non-Markov have been suggested by authors such as Gatheral et al (2018).\n",
    "\n",
    "The second category of models are referred to as local volatility models. The original onefactor\n",
    "local volatility model was suggested by Dupire (1994) and Derman and Kani (1994). It has been extended by authors such as Ren et al (2007) and Saporito et al (2019). Local volatility\n",
    "models by design satisfy condition B.\n",
    "\n",
    "The usual approach to implementing models in the first category is to choose model\n",
    "parameters to fit the volatility surface as closely as possible. This approach, which we refer to as\n",
    "the “model calibration approach” or MCA. A drawback of the approach is that some of the points on the volatility\n",
    "surface are likely to be more important than others for any particular exotic option that is\n",
    "considered. It is of course possible to vary the weights assigned to different points on the volatility\n",
    "surface according to the instrument being valued. However, it is difficult to determine in advance\n",
    "what these weights should be. As a result, the points are usually given equal weight when model\n",
    "parameters are determined.\n",
    "\n",
    "Neural networks can be used in\n",
    "conjunction with MCA to provide fast pricing once model parameters have been determined.\n",
    "Consider an exotic option that is valued using Monte Carlo simulation. As a first step, it is necessary\n",
    "to devote computational resources to creating a data set relating model parameters and exotic\n",
    "option parameters to the price. The pricing model can then be replicated with a neural network.\n",
    "Once this has been done, valuation is several orders of magnitude faster than Monte Carlo\n",
    "simulation because it involves nothing more than a forward pass through the neural network.\n",
    "\n",
    "In this first notebook we will look at a simple example of this approach. For the sake of simplicity we will consider an example based on the Black and Scholes model for the pricing of a simple European option.\n",
    "\n",
    "In the second part of these lessons we'll see how to train a neural network on market data (volatility surface) using the heston model as the underlying model."
   ]
  },
  {
   "cell_type": "markdown",
   "id": "b03ed348",
   "metadata": {},
   "source": [
    "## The Black and Scholes Model"
   ]
  },
  {
   "cell_type": "markdown",
   "id": "a780049e",
   "metadata": {},
   "source": [
    "We consider an underlying process $S(t)$ described by the sde\n",
    "\n",
    "\\begin{equation}\n",
    "dS(t) = a(S,t) dt + b(S,t)dW\n",
    "\\end{equation}\n",
    "\n",
    "A scenario is a set of values $\\hat S^j (t_i), \\> i=1,\\dots,I$ that are an approximation to the $j-th$ realization,$S^j (t_i)$, \n",
    "of the solution of the sde evaluated at times $0 \\le t_i \\le T, \\> i=1,\\dots,I$.\n",
    "A scenario is also called a trajectory. A trajectory can be visualized as a line in the state-vs-time plane describing the path \n",
    "followed by a realization of the stochastic process (actually by an approzimation to the stochastic process).\n",
    "\n",
    "The Black and Scholes model assumes a market in which the tradable assets are:\n",
    "\n",
    "1. A risky asset, whose evolution is driven by a geometric brownian motion\n",
    "\n",
    "\\begin{equation}\n",
    "dS = \\mu S dt + \\sigma S dw \\Rightarrow S(T)=S(t_0) e^{(\\mu-\\frac{1}{2} \\sigma^2) (T-t_0) + \\sigma[w(T) - w(t_0)]}\n",
    "\\end{equation}\n",
    "\n",
    "2. The money market account, whose evolution is deterministic\n",
    "\n",
    "\\begin{equation}\n",
    "dB=Brdt \\Rightarrow B(T) = B(t_0) e^{r(T-t_0)}\n",
    "\\end{equation}\n",
    "\n",
    "The value for a non-dividend-paying underlying stock in terms of the Black–Scholes parameters is:\n",
    "\n",
    "\\begin{equation}\\label{eq:1}\n",
    "C(S_{t},t)  =N(d_{1})S_{t}-N(d_{2})Ke^{-r(T-t)} \n",
    "\\end{equation}\n",
    "\n",
    "\\begin{equation} \\label{eq:2}\n",
    "P(S_{t},t) = N(-d_{2})Ke^{-r(T-t)}-N(-d_{1})S_{t}\n",
    "\\end{equation}\n",
    "\n",
    "where\n",
    "\n",
    "\\begin{align}\n",
    "d_{1} &={\\frac {1}{\\sigma {\\sqrt {T-t}}}}\\left[\\ln \\left({\\frac {S_{t}}{K}}\\right)+\\left(r+{\\frac {\\sigma ^{2}}{2}}\\right)(T-t)\\right]\\\\\n",
    "d_{2} &= d_{1}-\\sigma {\\sqrt {T-t}}\n",
    "\\end{align}\n",
    "\n",
    "\n",
    "For both:\n",
    "\n",
    "- $N(\\cdot )$ is the cumulative distribution function of the standard normal distribution\n",
    "- $T-t$ is the time to maturity (expressed in years)\n",
    "- $S_{t}$ is the spot price of the underlying asset\n",
    "- $K$ is the strike price\n",
    "- $r$ is the risk free rate (annual rate, expressed in terms of continuous compounding)\n",
    "- $\\sigma$  is the volatility of returns of the underlying asset\n"
   ]
  },
  {
   "cell_type": "markdown",
   "id": "2fed8812",
   "metadata": {},
   "source": [
    "### Simpler formulation for vanilla options"
   ]
  },
  {
   "cell_type": "markdown",
   "id": "a934c2dd",
   "metadata": {},
   "source": [
    "Up until now, we described the pricing of instruments with general payo\u000b",
    "s\n",
    "and in particular of vanilla options. In the latter case, starting from the\n",
    "expression of the vanilla put option price\n",
    "\n",
    "$$\n",
    "P_t = \\mathbb{E} \\left[e^{-r(T-t)} (K-S_T)^+ \\right] \n",
    "$$\n",
    "\n",
    "if we extract from the expected value $S_t$ we get\n",
    "\n",
    "$$\n",
    "P_t = S_t \\mathbb{E} \\left[ \\left( e^{-r(T-t)} \\frac{K}{S_T} - M_T \\right)^+ \\right] \n",
    "$$\n",
    "\n",
    "where $M_T = e^{-r(T-t)}S_T/S_t$ is the stochastic process of a martingale with the\n",
    "same volatility of $S_t$ and $M_t = 1$. By comparing this expression with the one\n",
    "from the Black Scholes formula, we notice that we can in general rewrite the\n",
    "price of a vanilla put option as\n",
    "\n",
    "$$\n",
    "P_(S_t,K,T,\\sigma,r) = S_t P(1, e^{-r(T-t)} K/{S_T}, T, \\sigma, 0)  \n",
    "$$\n",
    "\n",
    "From this we can see that we can calculate the price of any vanilla put option\n",
    "by calculating the value of a simpler put option with $r = 0$, $S_t = 1$ and\n",
    "$e^{-r(T-t)}K/S_t$ in place of the strike price. The exact same argument can be\n",
    "made for a vanilla call option. For simplicity, in the rest of this work we will\n",
    "always consider $r = 0$, since we don't lose any generality when the risk-free\n",
    "rate is independent of the asset price."
   ]
  },
  {
   "cell_type": "code",
   "execution_count": 35,
   "id": "98b0a8ce",
   "metadata": {},
   "outputs": [],
   "source": [
    "#\n",
    "# NumPy enabled asset or nothing\n",
    "#\n",
    "def __npan__ ( Fw, T, sgma, k):\n",
    "    s          = sgma*np.sqrt(T)\n",
    "    mask       = np.where( s <  1.e-8, 1, 0)\n",
    "    MASK       = np.where( s >= 1.e-8, 1, 0)\n",
    "    s          = np.where(mask, 1., s)\n",
    "    dm         = ( np.log(k/Fw) -.5*s*s)/s\n",
    "    an         = norm.cdf(dm)\n",
    "\n",
    "    m1         = np.logical_and(mask, Fw <= k)\n",
    "    res        = np.where(m1, 1., 0.)\n",
    "    res       += np.where(MASK,an,0.0);\n",
    "\n",
    "    return res\n",
    "#\n",
    "# NumPy enabled cash or nothing\n",
    "#\n",
    "def __npcn__ ( Fw, T, sgma, k):\n",
    "    s          = sgma*np.sqrt(T)\n",
    "    #print(\"npcn: s = %f\" %s)\n",
    "    mask       = np.where( s <  1.e-8, 1, 0)\n",
    "    MASK       = np.where( s >= 1.e-8, 1, 0)\n",
    "    s          = np.where(mask, 1., s)\n",
    "    dp         = ( np.log(k/Fw) + .5*s*s)/s\n",
    "    cn         = norm.cdf(dp)\n",
    "\n",
    "    m1         = np.logical_and(mask, Fw <= k)\n",
    "    res        = np.where(m1, 1., 0.)\n",
    "    res       += np.where( MASK,cn,0.0);\n",
    "\n",
    "    return res\n",
    "\n",
    "def np_fw_euro_put(F, T, sgma, k):\n",
    "    return k*__npcn__( F, T, sgma, k)  - F*__npan__( F, T, sgma, k) \n",
    "\n",
    "def np_fw_euro_call(F, T, sgma, k):\n",
    "    return np_fw_euro_put(F, T, sgma, k) + F - k\n",
    "\n",
    "def np_euro_put(So, r, T, sigma, k):\n",
    "    Fw = np.exp(r*T)*So\n",
    "    return np.exp(-r*T)*np_fw_euro_put(Fw, T, sigma, k)\n",
    "\n",
    "def np_euro_call(So, r, T, sigma, k):\n",
    "    Fw = np.exp(r*T)*So\n",
    "    return np.exp(-r*T)*np_fw_euro_call(Fw, T, sigma, k)"
   ]
  },
  {
   "cell_type": "markdown",
   "id": "cfc57d97",
   "metadata": {},
   "source": [
    "## Training Data Generation"
   ]
  },
  {
   "cell_type": "markdown",
   "id": "007b4d02",
   "metadata": {},
   "source": [
    "To train the network to approximate the pricing function, we need a training dataset. For the network approximating the Black Scholes pricing function, we created one by drawing $T, K/S_0$ and $\\sigma$ using the Latin Hypercube Sampling (LHS) (see below) within the ranges usually found in real market."
   ]
  },
  {
   "cell_type": "markdown",
   "id": "3ce72498",
   "metadata": {},
   "source": [
    "### Sampling Utilities"
   ]
  },
  {
   "cell_type": "markdown",
   "id": "866a3b6d",
   "metadata": {},
   "source": [
    "**Latin Hypercube Sampling** (from Wikipedia)\n",
    "\n",
    "Latin hypercube sampling (LHS) is a statistical method for generating a near-random sample of parameter values from a multidimensional distribution. The sampling method is often used to construct computer experiments or for Monte Carlo integration. In the context of statistical sampling, a square grid containing sample positions is a Latin square if (and only if) there is only one sample in each row and each column. A Latin hypercube is the generalisation of this concept to an arbitrary number of dimensions, whereby each sample is the only one in each axis-aligned hyperplane containing it.\n",
    "\n",
    "When sampling a function of $N$ variables, the range of each variable is divided into $M$ equally probable intervals. $M$ sample points are then placed to satisfy the Latin hypercube requirements; this forces the number of divisions, $M$, to be equal for each variable. This sampling scheme does not require more samples for more dimensions (variables); this independence is one of the main advantages of this sampling scheme. Another advantage is that random samples can be taken one at a time, remembering which samples were taken so far.\n",
    "\n",
    "In two dimensions the difference between random sampling, Latin hypercube sampling, and orthogonal sampling can be explained as follows:\n",
    "\n",
    "- In random sampling new sample points are generated without taking into account the previously generated sample points. One does not necessarily need to know beforehand how many sample points are needed.\n",
    "- In Latin hypercube sampling one must first decide how many sample points to use and for each sample point remember in which row and column the sample point was taken. Such configuration is similar to having N rooks on a chess board without threatening each other.\n",
    "- In orthogonal sampling, the sample space is divided into equally probable subspaces. All sample points are then chosen simultaneously making sure that the total set of sample points is a Latin hypercube sample and that each subspace is sampled with the same density.\n",
    "\n",
    "Thus, orthogonal sampling ensures that the set of random numbers is a very good representative of the real variability, LHS ensures that the set of random numbers is representative of the real variability whereas traditional random sampling (sometimes called brute force) is just a set of random numbers without any guarantees."
   ]
  },
  {
   "cell_type": "markdown",
   "id": "5f49884f",
   "metadata": {},
   "source": [
    "<!--\n",
    "<div>\n",
    "<img src='../07-pictures/03_intro_to_deep_learning_pic_0.png'  width=\"600\">\n",
    "</div>\n",
    "-->\n",
    "![caption](./pic/chapter-2_pic_2.png)"
   ]
  },
  {
   "cell_type": "code",
   "execution_count": 36,
   "id": "d6e16478",
   "metadata": {},
   "outputs": [],
   "source": [
    "from smt.sampling_methods import LHS\n",
    "\n",
    "def lhs_sampling(rand, NUM, bounds=None):\n",
    "\n",
    "    mInt = 2**15\n",
    "    MInt = 2**16\n",
    "    # remember that the result of apply the function list to\n",
    "    # a python dictionary is a list containing dict's keys\n",
    "    kw   = list(bounds)\n",
    "\n",
    "    # builds the array of bounds\n",
    "    limits = np.empty(shape=(0,2))\n",
    "    for k in kw: \n",
    "        limits = np.concatenate((limits, [bounds[k]]), axis=0)\n",
    "\n",
    "    sampling = LHS(xlimits=limits, random_state=rand.randint(mInt,MInt))\n",
    "    x        = sampling(NUM)\n",
    "\n",
    "    X = pd.DataFrame()\n",
    "    for n in range(len(kw)):\n",
    "        tag    = kw[n]\n",
    "        X[tag] = x[:,n]\n",
    "\n",
    "    return X"
   ]
  },
  {
   "cell_type": "markdown",
   "id": "9e61f667",
   "metadata": {},
   "source": [
    "### Sample Generator"
   ]
  },
  {
   "cell_type": "markdown",
   "id": "9df32c26",
   "metadata": {},
   "source": [
    "We assume $r = q = 0, S_0 = 1$ and create a data set of 1000000 observations by  randomly sampling from uniform distributions for the other five inputs  to the Black−Scholes−Merton formula. The lower and upper bounds of  the uniform distributions are as indicated in the `bounds` dictionary. For each set of  parameters sampled, we calculate the Black−Scholes−Merton price using equations \\eqref{eq:1} and \\eqref{eq:2}. "
   ]
  },
  {
   "cell_type": "code",
   "execution_count": 37,
   "id": "b5d9d085",
   "metadata": {},
   "outputs": [
    {
     "data": {
      "text/html": [
       "<div>\n",
       "<style scoped>\n",
       "    .dataframe tbody tr th:only-of-type {\n",
       "        vertical-align: middle;\n",
       "    }\n",
       "\n",
       "    .dataframe tbody tr th {\n",
       "        vertical-align: top;\n",
       "    }\n",
       "\n",
       "    .dataframe thead th {\n",
       "        text-align: right;\n",
       "    }\n",
       "</style>\n",
       "<table border=\"1\" class=\"dataframe\">\n",
       "  <thead>\n",
       "    <tr style=\"text-align: right;\">\n",
       "      <th></th>\n",
       "      <th>T</th>\n",
       "      <th>Sigma</th>\n",
       "      <th>Strike</th>\n",
       "    </tr>\n",
       "  </thead>\n",
       "  <tbody>\n",
       "    <tr>\n",
       "      <th>0</th>\n",
       "      <td>1.994528</td>\n",
       "      <td>0.030157</td>\n",
       "      <td>1.006996</td>\n",
       "    </tr>\n",
       "    <tr>\n",
       "      <th>1</th>\n",
       "      <td>1.413241</td>\n",
       "      <td>0.423980</td>\n",
       "      <td>1.055836</td>\n",
       "    </tr>\n",
       "    <tr>\n",
       "      <th>2</th>\n",
       "      <td>0.891927</td>\n",
       "      <td>0.673083</td>\n",
       "      <td>0.677284</td>\n",
       "    </tr>\n",
       "    <tr>\n",
       "      <th>3</th>\n",
       "      <td>0.903523</td>\n",
       "      <td>0.308853</td>\n",
       "      <td>0.623468</td>\n",
       "    </tr>\n",
       "    <tr>\n",
       "      <th>4</th>\n",
       "      <td>1.298069</td>\n",
       "      <td>0.134919</td>\n",
       "      <td>0.743884</td>\n",
       "    </tr>\n",
       "  </tbody>\n",
       "</table>\n",
       "</div>"
      ],
      "text/plain": [
       "          T     Sigma    Strike\n",
       "0  1.994528  0.030157  1.006996\n",
       "1  1.413241  0.423980  1.055836\n",
       "2  0.891927  0.673083  0.677284\n",
       "3  0.903523  0.308853  0.623468\n",
       "4  1.298069  0.134919  0.743884"
      ]
     },
     "execution_count": 37,
     "metadata": {},
     "output_type": "execute_result"
    }
   ],
   "source": [
    "# For the neural network calculating the vanilla option prices in the Black Scholes model, \n",
    "# the features used are the time to maturity T, the moneyness (simply defined as 'Strike') \n",
    "# and the asset volatility sigma.\n",
    "#\n",
    "# Lower and upper boundaries for each parameter\n",
    "#\n",
    "bounds = {  \"T\"     : [1./12., 2.00]\n",
    "          , \"Sigma\" : [ .01  ,  .80]\n",
    "          , \"Strike\": [ .4   , 1.20]\n",
    "         }\n",
    "#\n",
    "# Number of Observations\n",
    "#\n",
    "NUM = 100000\n",
    "#\n",
    "# Random number generator\n",
    "#\n",
    "seed = 42\n",
    "rand = np.random.RandomState(seed)\n",
    "#\n",
    "# Latin Hypercube Sampling\n",
    "#\n",
    "xDF = lhs_sampling(rand, NUM, bounds=bounds)\n",
    "xDF.head()"
   ]
  },
  {
   "cell_type": "code",
   "execution_count": 38,
   "id": "1493bf33",
   "metadata": {},
   "outputs": [
    {
     "data": {
      "text/plain": [
       "array([[<matplotlib.axes._subplots.AxesSubplot object at 0x000001F31E340708>,\n",
       "        <matplotlib.axes._subplots.AxesSubplot object at 0x000001F31E365B08>],\n",
       "       [<matplotlib.axes._subplots.AxesSubplot object at 0x000001F31E27D9C8>,\n",
       "        <matplotlib.axes._subplots.AxesSubplot object at 0x000001F31E2B8048>]],\n",
       "      dtype=object)"
      ]
     },
     "execution_count": 38,
     "metadata": {},
     "output_type": "execute_result"
    },
    {
     "data": {
      "image/png": "[encoded data removed]",
      "text/plain": [
       "<Figure size 432x288 with 4 Axes>"
      ]
     },
     "metadata": {
      "needs_background": "light"
     },
     "output_type": "display_data"
    }
   ],
   "source": [
    "xDF.hist()"
   ]
  },
  {
   "cell_type": "code",
   "execution_count": 39,
   "id": "b5b332bf",
   "metadata": {},
   "outputs": [],
   "source": [
    "def gen(NUM, lhs):\n",
    "\n",
    "    '''\n",
    "    A NumPy optimized data generator\n",
    "    '''\n",
    "    x   = lhs\n",
    "\n",
    "    __tStart = time.perf_counter()\n",
    "    S0     = np.full(NUM, 1.0, dtype = np.double)\n",
    "    r      = np.full(NUM, 0.0, dtype = np.double)\n",
    "    price  = np_euro_call(S0, r, x[\"T\"], x[\"Sigma\"], x[\"Strike\"])\n",
    "    __tEnd = time.perf_counter()\n",
    "    print(\"@ %-34s: elapsed %.4f sec\" %(\"NP pricing\", __tEnd-__tStart) )\n",
    "\n",
    "    df = pd.DataFrame(x)\n",
    "    df[\"Price\"] = price\n",
    "\n",
    "    return df"
   ]
  },
  {
   "cell_type": "code",
   "execution_count": 40,
   "id": "25d9e6fc",
   "metadata": {},
   "outputs": [
    {
     "name": "stdout",
     "output_type": "stream",
     "text": [
      "@ NP pricing                        : elapsed 0.0463 sec\n",
      "@ GEN                               : elapsed 0.0484 sec\n"
     ]
    },
    {
     "data": {
      "text/html": [
       "<div>\n",
       "<style scoped>\n",
       "    .dataframe tbody tr th:only-of-type {\n",
       "        vertical-align: middle;\n",
       "    }\n",
       "\n",
       "    .dataframe tbody tr th {\n",
       "        vertical-align: top;\n",
       "    }\n",
       "\n",
       "    .dataframe thead th {\n",
       "        text-align: right;\n",
       "    }\n",
       "</style>\n",
       "<table border=\"1\" class=\"dataframe\">\n",
       "  <thead>\n",
       "    <tr style=\"text-align: right;\">\n",
       "      <th></th>\n",
       "      <th>T</th>\n",
       "      <th>Sigma</th>\n",
       "      <th>Strike</th>\n",
       "      <th>Price</th>\n",
       "    </tr>\n",
       "  </thead>\n",
       "  <tbody>\n",
       "    <tr>\n",
       "      <th>0</th>\n",
       "      <td>1.994528</td>\n",
       "      <td>0.030157</td>\n",
       "      <td>1.006996</td>\n",
       "      <td>0.013779</td>\n",
       "    </tr>\n",
       "    <tr>\n",
       "      <th>1</th>\n",
       "      <td>1.413241</td>\n",
       "      <td>0.423980</td>\n",
       "      <td>1.055836</td>\n",
       "      <td>0.177768</td>\n",
       "    </tr>\n",
       "    <tr>\n",
       "      <th>2</th>\n",
       "      <td>0.891927</td>\n",
       "      <td>0.673083</td>\n",
       "      <td>0.677284</td>\n",
       "      <td>0.406779</td>\n",
       "    </tr>\n",
       "    <tr>\n",
       "      <th>3</th>\n",
       "      <td>0.903523</td>\n",
       "      <td>0.308853</td>\n",
       "      <td>0.623468</td>\n",
       "      <td>0.381761</td>\n",
       "    </tr>\n",
       "    <tr>\n",
       "      <th>4</th>\n",
       "      <td>1.298069</td>\n",
       "      <td>0.134919</td>\n",
       "      <td>0.743884</td>\n",
       "      <td>0.257487</td>\n",
       "    </tr>\n",
       "  </tbody>\n",
       "</table>\n",
       "</div>"
      ],
      "text/plain": [
       "          T     Sigma    Strike     Price\n",
       "0  1.994528  0.030157  1.006996  0.013779\n",
       "1  1.413241  0.423980  1.055836  0.177768\n",
       "2  0.891927  0.673083  0.677284  0.406779\n",
       "3  0.903523  0.308853  0.623468  0.381761\n",
       "4  1.298069  0.134919  0.743884  0.257487"
      ]
     },
     "execution_count": 40,
     "metadata": {},
     "output_type": "execute_result"
    }
   ],
   "source": [
    "__tStart = time.perf_counter()\n",
    "df =  gen(NUM, xDF)\n",
    "__tEnd = time.perf_counter()\n",
    "print(\"@ %-34s: elapsed %.4f sec\" %(\"GEN\", __tEnd - __tStart) )\n",
    "\n",
    "df.head()"
   ]
  },
  {
   "cell_type": "code",
   "execution_count": 41,
   "id": "b5b1cd88",
   "metadata": {},
   "outputs": [
    {
     "name": "stdout",
     "output_type": "stream",
     "text": [
      "67000 33000\n"
     ]
    },
    {
     "data": {
      "text/html": [
       "<div>\n",
       "<style scoped>\n",
       "    .dataframe tbody tr th:only-of-type {\n",
       "        vertical-align: middle;\n",
       "    }\n",
       "\n",
       "    .dataframe tbody tr th {\n",
       "        vertical-align: top;\n",
       "    }\n",
       "\n",
       "    .dataframe thead th {\n",
       "        text-align: right;\n",
       "    }\n",
       "</style>\n",
       "<table border=\"1\" class=\"dataframe\">\n",
       "  <thead>\n",
       "    <tr style=\"text-align: right;\">\n",
       "      <th></th>\n",
       "      <th>T</th>\n",
       "      <th>Sigma</th>\n",
       "      <th>Strike</th>\n",
       "      <th>Price</th>\n",
       "    </tr>\n",
       "  </thead>\n",
       "  <tbody>\n",
       "    <tr>\n",
       "      <th>59428</th>\n",
       "      <td>1.196045</td>\n",
       "      <td>0.739988</td>\n",
       "      <td>0.925964</td>\n",
       "      <td>0.340934</td>\n",
       "    </tr>\n",
       "    <tr>\n",
       "      <th>34957</th>\n",
       "      <td>1.703252</td>\n",
       "      <td>0.036864</td>\n",
       "      <td>1.071172</td>\n",
       "      <td>0.001712</td>\n",
       "    </tr>\n",
       "    <tr>\n",
       "      <th>4264</th>\n",
       "      <td>1.762209</td>\n",
       "      <td>0.204376</td>\n",
       "      <td>0.707052</td>\n",
       "      <td>0.303768</td>\n",
       "    </tr>\n",
       "    <tr>\n",
       "      <th>53791</th>\n",
       "      <td>1.717263</td>\n",
       "      <td>0.545387</td>\n",
       "      <td>0.556180</td>\n",
       "      <td>0.503275</td>\n",
       "    </tr>\n",
       "    <tr>\n",
       "      <th>82114</th>\n",
       "      <td>0.548441</td>\n",
       "      <td>0.620800</td>\n",
       "      <td>1.118916</td>\n",
       "      <td>0.138778</td>\n",
       "    </tr>\n",
       "  </tbody>\n",
       "</table>\n",
       "</div>"
      ],
      "text/plain": [
       "              T     Sigma    Strike     Price\n",
       "59428  1.196045  0.739988  0.925964  0.340934\n",
       "34957  1.703252  0.036864  1.071172  0.001712\n",
       "4264   1.762209  0.204376  0.707052  0.303768\n",
       "53791  1.717263  0.545387  0.556180  0.503275\n",
       "82114  0.548441  0.620800  1.118916  0.138778"
      ]
     },
     "execution_count": 41,
     "metadata": {},
     "output_type": "execute_result"
    }
   ],
   "source": [
    "X_train, X_test = train_test_split(df, test_size=0.33, random_state=42)\n",
    "print(len(X_train), len(X_test))\n",
    "X_train.head()"
   ]
  },
  {
   "cell_type": "code",
   "execution_count": 42,
   "id": "fc665012",
   "metadata": {},
   "outputs": [
    {
     "data": {
      "text/html": [
       "<div>\n",
       "<style scoped>\n",
       "    .dataframe tbody tr th:only-of-type {\n",
       "        vertical-align: middle;\n",
       "    }\n",
       "\n",
       "    .dataframe tbody tr th {\n",
       "        vertical-align: top;\n",
       "    }\n",
       "\n",
       "    .dataframe thead th {\n",
       "        text-align: right;\n",
       "    }\n",
       "</style>\n",
       "<table border=\"1\" class=\"dataframe\">\n",
       "  <thead>\n",
       "    <tr style=\"text-align: right;\">\n",
       "      <th></th>\n",
       "      <th>T</th>\n",
       "      <th>Sigma</th>\n",
       "      <th>Strike</th>\n",
       "      <th>Price</th>\n",
       "    </tr>\n",
       "  </thead>\n",
       "  <tbody>\n",
       "    <tr>\n",
       "      <th>75721</th>\n",
       "      <td>0.117191</td>\n",
       "      <td>0.771398</td>\n",
       "      <td>1.086372</td>\n",
       "      <td>0.071709</td>\n",
       "    </tr>\n",
       "    <tr>\n",
       "      <th>80184</th>\n",
       "      <td>1.026228</td>\n",
       "      <td>0.200512</td>\n",
       "      <td>0.801388</td>\n",
       "      <td>0.211295</td>\n",
       "    </tr>\n",
       "    <tr>\n",
       "      <th>19864</th>\n",
       "      <td>0.342879</td>\n",
       "      <td>0.041699</td>\n",
       "      <td>0.713412</td>\n",
       "      <td>0.286588</td>\n",
       "    </tr>\n",
       "    <tr>\n",
       "      <th>76699</th>\n",
       "      <td>0.226135</td>\n",
       "      <td>0.336637</td>\n",
       "      <td>1.169668</td>\n",
       "      <td>0.014981</td>\n",
       "    </tr>\n",
       "    <tr>\n",
       "      <th>92991</th>\n",
       "      <td>0.936758</td>\n",
       "      <td>0.730681</td>\n",
       "      <td>1.048660</td>\n",
       "      <td>0.259367</td>\n",
       "    </tr>\n",
       "  </tbody>\n",
       "</table>\n",
       "</div>"
      ],
      "text/plain": [
       "              T     Sigma    Strike     Price\n",
       "75721  0.117191  0.771398  1.086372  0.071709\n",
       "80184  1.026228  0.200512  0.801388  0.211295\n",
       "19864  0.342879  0.041699  0.713412  0.286588\n",
       "76699  0.226135  0.336637  1.169668  0.014981\n",
       "92991  0.936758  0.730681  1.048660  0.259367"
      ]
     },
     "execution_count": 42,
     "metadata": {},
     "output_type": "execute_result"
    }
   ],
   "source": [
    "X_test.head()"
   ]
  },
  {
   "cell_type": "markdown",
   "id": "b70d8544",
   "metadata": {},
   "source": [
    "To make the illustration more interesting, we then  add a random error to each calculated price. The random error is normally distributed with a mean of zero and a standard deviation of $\\epsilon \\cdot (P_{max} - P_{min})$ where $\\epsilon$ is a scale parameter defined by the user."
   ]
  },
  {
   "cell_type": "code",
   "execution_count": 43,
   "id": "92b5b342",
   "metadata": {},
   "outputs": [],
   "source": [
    "def add_noise(rand, Xv, eps):\n",
    "    X  = Xv.copy()\n",
    "    xl = np.min(X[\"Price\"])\n",
    "    xh = np.max(X[\"Price\"])\n",
    "\n",
    "    xi = rand.normal( loc = 0.0, scale = eps*(xh-xl), size=X.shape[0])\n",
    "    X[\"Price\"] += xi\n",
    "    return X"
   ]
  },
  {
   "cell_type": "code",
   "execution_count": 44,
   "id": "4909fd35",
   "metadata": {},
   "outputs": [],
   "source": [
    "EPS = 0.0\n",
    "if EPS > 0.0: \n",
    "    X_train = add_noise(rand, X_train, EPS)"
   ]
  },
  {
   "cell_type": "code",
   "execution_count": 45,
   "id": "510c6c0f",
   "metadata": {},
   "outputs": [],
   "source": [
    "y_train = X_train['Price']\n",
    "y_test  = X_test['Price']"
   ]
  },
  {
   "cell_type": "code",
   "execution_count": 46,
   "id": "bb205352",
   "metadata": {},
   "outputs": [
    {
     "data": {
      "text/plain": [
       "Text(0.5, 0, 'BS Price')"
      ]
     },
     "execution_count": 46,
     "metadata": {},
     "output_type": "execute_result"
    },
    {
     "data": {
      "image/png": "[encoded data removed]",
      "text/plain": [
       "<Figure size 864x360 with 1 Axes>"
      ]
     },
     "metadata": {
      "needs_background": "light"
     },
     "output_type": "display_data"
    }
   ],
   "source": [
    "ax=y_train.plot(kind='hist', bins=100, grid=False, figsize=(12,5), color='green', title = 'Training Set')\n",
    "ax.set_xlabel('BS Price')"
   ]
  },
  {
   "cell_type": "code",
   "execution_count": 47,
   "id": "8aa53e04",
   "metadata": {},
   "outputs": [
    {
     "data": {
      "text/plain": [
       "Text(0.5, 0, 'BS Price')"
      ]
     },
     "execution_count": 47,
     "metadata": {},
     "output_type": "execute_result"
    },
    {
     "data": {
      "image/png": "[encoded data removed]",
      "text/plain": [
       "<Figure size 864x360 with 1 Axes>"
      ]
     },
     "metadata": {
      "needs_background": "light"
     },
     "output_type": "display_data"
    }
   ],
   "source": [
    "ax=y_train.plot(kind='hist', bins=100, grid=False, figsize=(12,5), color='blue', title = 'Test Set')\n",
    "ax.set_xlabel('BS Price')"
   ]
  },
  {
   "cell_type": "code",
   "execution_count": 48,
   "id": "d39fb1e1",
   "metadata": {},
   "outputs": [
    {
     "data": {
      "text/html": [
       "<div>\n",
       "<style scoped>\n",
       "    .dataframe tbody tr th:only-of-type {\n",
       "        vertical-align: middle;\n",
       "    }\n",
       "\n",
       "    .dataframe tbody tr th {\n",
       "        vertical-align: top;\n",
       "    }\n",
       "\n",
       "    .dataframe thead th {\n",
       "        text-align: right;\n",
       "    }\n",
       "</style>\n",
       "<table border=\"1\" class=\"dataframe\">\n",
       "  <thead>\n",
       "    <tr style=\"text-align: right;\">\n",
       "      <th></th>\n",
       "      <th>T</th>\n",
       "      <th>Sigma</th>\n",
       "      <th>Strike</th>\n",
       "    </tr>\n",
       "  </thead>\n",
       "  <tbody>\n",
       "    <tr>\n",
       "      <th>59428</th>\n",
       "      <td>1.196045</td>\n",
       "      <td>0.739988</td>\n",
       "      <td>0.925964</td>\n",
       "    </tr>\n",
       "    <tr>\n",
       "      <th>34957</th>\n",
       "      <td>1.703252</td>\n",
       "      <td>0.036864</td>\n",
       "      <td>1.071172</td>\n",
       "    </tr>\n",
       "    <tr>\n",
       "      <th>4264</th>\n",
       "      <td>1.762209</td>\n",
       "      <td>0.204376</td>\n",
       "      <td>0.707052</td>\n",
       "    </tr>\n",
       "    <tr>\n",
       "      <th>53791</th>\n",
       "      <td>1.717263</td>\n",
       "      <td>0.545387</td>\n",
       "      <td>0.556180</td>\n",
       "    </tr>\n",
       "    <tr>\n",
       "      <th>82114</th>\n",
       "      <td>0.548441</td>\n",
       "      <td>0.620800</td>\n",
       "      <td>1.118916</td>\n",
       "    </tr>\n",
       "  </tbody>\n",
       "</table>\n",
       "</div>"
      ],
      "text/plain": [
       "              T     Sigma    Strike\n",
       "59428  1.196045  0.739988  0.925964\n",
       "34957  1.703252  0.036864  1.071172\n",
       "4264   1.762209  0.204376  0.707052\n",
       "53791  1.717263  0.545387  0.556180\n",
       "82114  0.548441  0.620800  1.118916"
      ]
     },
     "execution_count": 48,
     "metadata": {},
     "output_type": "execute_result"
    }
   ],
   "source": [
    "X_train = X_train.drop(['Price'], axis=1)\n",
    "X_test  = X_test.drop(['Price'], axis=1)\n",
    "X_train.head()"
   ]
  },
  {
   "cell_type": "markdown",
   "id": "a012fced",
   "metadata": {},
   "source": [
    "### Scaling Data"
   ]
  },
  {
   "cell_type": "code",
   "execution_count": 49,
   "id": "e7a94c55",
   "metadata": {},
   "outputs": [],
   "source": [
    "from sklearn.preprocessing import StandardScaler\n",
    "\n",
    "scaling = True\n",
    "\n",
    "if scaling:\n",
    "    # Scale the train set\n",
    "    scaler = StandardScaler().fit(X_train)\n",
    "    X_train = scaler.transform(X_train)\n",
    "\n",
    "    # Scale the test set\n",
    "    scaler = StandardScaler().fit(X_test)\n",
    "    X_test = scaler.transform(X_test)\n",
    "    \n",
    "    # Transform into pd DataFrame\n",
    "    X_train = pd.DataFrame(X_train)\n",
    "    X_test = pd.DataFrame(X_test)"
   ]
  },
  {
   "cell_type": "markdown",
   "id": "43465473",
   "metadata": {},
   "source": [
    "## Create the Model"
   ]
  },
  {
   "cell_type": "markdown",
   "id": "9451ce01",
   "metadata": {},
   "source": [
    "### Neural Network Architecture"
   ]
  },
  {
   "cell_type": "markdown",
   "id": "3338ecbd",
   "metadata": {},
   "source": [
    "We use mean absolute error (mae) as the cost function. The neural  network has two hidden layers and a decreasing number of neurons per layer. The relu activation function is used. "
   ]
  },
  {
   "cell_type": "code",
   "execution_count": 50,
   "id": "fb025a6b",
   "metadata": {},
   "outputs": [],
   "source": [
    "from keras.models import Sequential\n",
    "from keras.layers import Dense"
   ]
  },
  {
   "cell_type": "markdown",
   "id": "73e9afcd",
   "metadata": {},
   "source": [
    "**The input shape**\n",
    "\n",
    "What flows between layers are tensors. Tensors can be seen as matrices, with shapes. Shapes are consequences of the model's configuration. Shapes are tuples representing how many elements an array or tensor has in each dimension.\n",
    "\n",
    "> Ex: a shape (30,4,10) means an array or tensor with 3 dimensions, containing 30 elements in the first dimension, 4 in the second and 10 in the third, totaling 30*4*10 = 1200 elements or numbers.\n",
    "\n",
    "In Keras, the input layer itself is not a layer, but a tensor. It's the starting tensor you send to the first hidden layer. This tensor must have the same shape as your training data. \n",
    "\n",
    "> Ex: if you have 30 images of 50x50 pixels in RGB (3 channels), the shape of your input data is (30,50,50,3). Then your  input layer tensor, must have this shape.\n",
    "\n",
    "Since the input shape is the only one you need to define, Keras will demand it in the first layer. "
   ]
  },
  {
   "cell_type": "code",
   "execution_count": 51,
   "id": "39093c06",
   "metadata": {},
   "outputs": [],
   "source": [
    "def model_builder( inputShape = (1,)):\n",
    "    \n",
    "    # Initialize the constructor\n",
    "    model = Sequential()\n",
    "\n",
    "    # Start from the first hidden layer, since the input is not actually a layer   \n",
    "    # But inform the shape of the input, with inputShape elements.    \n",
    "    model.add(Dense(200, activation='relu', input_shape=inputShape))\n",
    "\n",
    "    # Add one more hidden layer \n",
    "    model.add(Dense(200, activation='relu'))\n",
    "\n",
    "    # Add one more hidden layer \n",
    "    model.add(Dense(200, activation='relu'))\n",
    "\n",
    "    # Add an output layer \n",
    "    model.add(Dense(1))\n",
    "    # End model construction\n",
    "\n",
    "    # Model output shape\n",
    "    print(\"model.output_shape: %s\" %(str(model.output_shape)))\n",
    "\n",
    "    # Model summary\n",
    "    print(\"Model.summary\"); model.summary()\n",
    "\n",
    "    # Model config\n",
    "    print(\"Model.config\"); model.get_config()\n",
    "\n",
    "    model.compile(loss='mse', optimizer='rmsprop', metrics=['mae'])\n",
    "    return model"
   ]
  },
  {
   "cell_type": "code",
   "execution_count": 52,
   "id": "a51f1cd0",
   "metadata": {},
   "outputs": [
    {
     "name": "stdout",
     "output_type": "stream",
     "text": [
      "model.output_shape: (None, 1)\n",
      "Model.summary\n",
      "Model: \"sequential\"\n",
      "_________________________________________________________________\n",
      "Layer (type)                 Output Shape              Param #   \n",
      "=================================================================\n",
      "dense (Dense)                (None, 200)               800       \n",
      "_________________________________________________________________\n",
      "dense_1 (Dense)              (None, 200)               40200     \n",
      "_________________________________________________________________\n",
      "dense_2 (Dense)              (None, 200)               40200     \n",
      "_________________________________________________________________\n",
      "dense_3 (Dense)              (None, 1)                 201       \n",
      "=================================================================\n",
      "Total params: 81,401\n",
      "Trainable params: 81,401\n",
      "Non-trainable params: 0\n",
      "_________________________________________________________________\n",
      "Model.config\n"
     ]
    }
   ],
   "source": [
    "model = model_builder( inputShape = (X_train.shape[1],))"
   ]
  },
  {
   "cell_type": "markdown",
   "id": "fa8f8695",
   "metadata": {},
   "source": [
    "## Train the Model"
   ]
  },
  {
   "cell_type": "code",
   "execution_count": 53,
   "id": "b93ac3de",
   "metadata": {},
   "outputs": [],
   "source": [
    "def show_scattered( y, t, TAG, ax = None):\n",
    "    #x      = model.predict(X)\n",
    "    #y      = np.ravel(x)\n",
    "    xMin = min(t)\n",
    "    xMax = max(t)\n",
    "    v    = np.arange(xMin, xMax, (xMax-xMin)/100.)\n",
    "\n",
    "    diff   = np.fabs(y - t)\n",
    "    print(\"@ %-24s: E[y-t]: %.6f Std(y-t): %.6f\" %( TAG, np.mean(diff), np.std(diff)))\n",
    "    if ax == None: return\n",
    "\n",
    "    ax.plot( y, t, \".\")\n",
    "    ax.plot( v, v, color=\"red\")\n",
    "    ax.set_title(\"%s mae=%8.4f, std=%8.4f\" %(TAG, np.mean(diff), np.std(diff)))\n",
    "    ax.set_xlabel(\"predicted\")\n",
    "    ax.set_ylabel(\"target\")"
   ]
  },
  {
   "cell_type": "code",
   "execution_count": 54,
   "id": "1981b439",
   "metadata": {},
   "outputs": [],
   "source": [
    "def display_nn_results( model, X_train, X_test, t_train, t_test, resFile=None):\n",
    "\n",
    "    fig, ax = plt.subplots(1,2, figsize=(12,6))\n",
    "    fig.suptitle(\"Scattered plots\")\n",
    "    #\n",
    "    # The numpy module ravel of NumPy provides a function, called numpy.ravel, which is used to change \n",
    "    # a 2-dimensional array or a multi-dimensional array into a contiguous flattened array. The returned \n",
    "    # array has the same data type as the source array or input array.\n",
    "    #\n",
    "    y_train  = np.ravel(model.predict(X_train))\n",
    "    show_scattered( y_train, t_train, \"InSample\", ax = ax[0])\n",
    "    diff   = np.fabs(y_train - t_train)\n",
    "    delta  = y_train - t_train\n",
    "    RES    = pd.DataFrame({\"predicted\": y_train, \"target\": t_train, \"err\": diff, \"delta\": delta})\n",
    "    h1     = RES['delta'] \n",
    "    RES.to_csv(\"res_in_sample.csv\", sep=',', float_format=\"%.6f\", index=True)\n",
    "    print(\"@\")\n",
    "    \n",
    "    y_test  = np.ravel(model.predict(X_test))\n",
    "    show_scattered( y_test , t_test, \"OutOfSample\", ax= ax[1])\n",
    "    diff   = np.fabs(y_test-t_test)\n",
    "    delta  = y_test - t_test\n",
    "    RES    = pd.DataFrame({\"predicted\": y_test, \"target\": t_test, \"err\": diff, \"delta\": delta})\n",
    "    h2     = RES['delta']\n",
    "    RES.to_csv(\"res_ou_sample.csv\", sep=',', float_format=\"%.6f\", index=True)\n",
    "    print(\"@\")\n",
    "\n",
    "    if resFile != None:\n",
    "        plt.savefig(resFile, format=\"png\")\n",
    "        print(\"@ %-12s: results saved to '%s' \"%(\"Info\", resFile))\n",
    "    plt.show()\n",
    "\n",
    "\n",
    "    score = model.evaluate(X_test, t_test, verbose=1)\n",
    "    print('Score:'); print(score)\n",
    "    \n",
    "    h1.plot(kind='hist', bins=100, grid=False, figsize=(12,5), color='blue', title = 'err distribution')\n",
    "    h2.plot(kind='hist', bins=100, grid=False, figsize=(12,5), color='red')\n"
   ]
  },
  {
   "cell_type": "code",
   "execution_count": 55,
   "id": "55f63bda",
   "metadata": {},
   "outputs": [],
   "source": [
    "frames = [X_train, X_test]\n",
    "X = pd.concat(frames)\n",
    "\n",
    "frames = [y_train, y_test]\n",
    "Y = pd.concat(frames)\n"
   ]
  },
  {
   "cell_type": "code",
   "execution_count": 56,
   "id": "18daaaf6",
   "metadata": {},
   "outputs": [
    {
     "name": "stdout",
     "output_type": "stream",
     "text": [
      "Epoch 1/50\n",
      "2094/2094 [==============================] - 5s 2ms/step - loss: 0.0024 - mae: 0.0245 - val_loss: 3.5471e-04 - val_mae: 0.0156\n",
      "Epoch 2/50\n",
      "2094/2094 [==============================] - 4s 2ms/step - loss: 1.0088e-04 - mae: 0.0078 - val_loss: 6.1689e-05 - val_mae: 0.0071\n",
      "Epoch 3/50\n",
      "2094/2094 [==============================] - 5s 2ms/step - loss: 6.5512e-05 - mae: 0.0063 - val_loss: 9.0750e-06 - val_mae: 0.0023\n",
      "Epoch 4/50\n",
      "2094/2094 [==============================] - 5s 2ms/step - loss: 5.1021e-05 - mae: 0.0055 - val_loss: 1.7336e-05 - val_mae: 0.0033\n",
      "Epoch 5/50\n",
      "2094/2094 [==============================] - 5s 2ms/step - loss: 4.3338e-05 - mae: 0.0049 - val_loss: 1.1521e-05 - val_mae: 0.0027\n",
      "Epoch 6/50\n",
      "2094/2094 [==============================] - 4s 2ms/step - loss: 3.7323e-05 - mae: 0.0046 - val_loss: 6.0049e-05 - val_mae: 0.0067\n",
      "Epoch 7/50\n",
      "2094/2094 [==============================] - 4s 2ms/step - loss: 3.4377e-05 - mae: 0.0043 - val_loss: 9.7819e-06 - val_mae: 0.0026\n",
      "Epoch 8/50\n",
      "2094/2094 [==============================] - 4s 2ms/step - loss: 3.1033e-05 - mae: 0.0041 - val_loss: 5.7034e-06 - val_mae: 0.0018\n",
      "Epoch 9/50\n",
      "2094/2094 [==============================] - 4s 2ms/step - loss: 2.8724e-05 - mae: 0.0040 - val_loss: 1.0960e-05 - val_mae: 0.0029\n",
      "Epoch 10/50\n",
      "2094/2094 [==============================] - 4s 2ms/step - loss: 2.6626e-05 - mae: 0.0038 - val_loss: 1.5367e-05 - val_mae: 0.0032\n",
      "Epoch 11/50\n",
      "2094/2094 [==============================] - 5s 2ms/step - loss: 2.4982e-05 - mae: 0.0038 - val_loss: 1.4571e-05 - val_mae: 0.0029\n",
      "Epoch 12/50\n",
      "2094/2094 [==============================] - 4s 2ms/step - loss: 2.3159e-05 - mae: 0.0036 - val_loss: 2.6717e-06 - val_mae: 0.0012\n",
      "Epoch 13/50\n",
      "2094/2094 [==============================] - 5s 2ms/step - loss: 2.2078e-05 - mae: 0.0036 - val_loss: 6.4643e-06 - val_mae: 0.0021\n",
      "Epoch 14/50\n",
      "2094/2094 [==============================] - 5s 2ms/step - loss: 2.0141e-05 - mae: 0.0034 - val_loss: 2.3417e-05 - val_mae: 0.0039\n",
      "Epoch 15/50\n",
      "2094/2094 [==============================] - 5s 2ms/step - loss: 1.8487e-05 - mae: 0.0033 - val_loss: 8.5307e-06 - val_mae: 0.0024\n",
      "Epoch 16/50\n",
      "2094/2094 [==============================] - 4s 2ms/step - loss: 1.6985e-05 - mae: 0.0032 - val_loss: 4.1319e-05 - val_mae: 0.0057\n",
      "Epoch 17/50\n",
      "2094/2094 [==============================] - 4s 2ms/step - loss: 1.6460e-05 - mae: 0.0031 - val_loss: 2.3815e-06 - val_mae: 0.0012\n",
      "Epoch 18/50\n",
      "2094/2094 [==============================] - 5s 2ms/step - loss: 1.5666e-05 - mae: 0.0030 - val_loss: 8.1562e-06 - val_mae: 0.0023\n",
      "Epoch 19/50\n",
      "2094/2094 [==============================] - 4s 2ms/step - loss: 1.5032e-05 - mae: 0.0030 - val_loss: 3.1559e-06 - val_mae: 0.0014\n",
      "Epoch 20/50\n",
      "2094/2094 [==============================] - 4s 2ms/step - loss: 1.4204e-05 - mae: 0.0029 - val_loss: 1.2669e-05 - val_mae: 0.0030\n",
      "Epoch 21/50\n",
      "2094/2094 [==============================] - 5s 2ms/step - loss: 1.3809e-05 - mae: 0.0029 - val_loss: 3.2823e-05 - val_mae: 0.0051\n",
      "Epoch 22/50\n",
      "2094/2094 [==============================] - 4s 2ms/step - loss: 1.3373e-05 - mae: 0.0028 - val_loss: 3.5559e-06 - val_mae: 0.0016\n",
      "Epoch 23/50\n",
      "2094/2094 [==============================] - 5s 2ms/step - loss: 1.2918e-05 - mae: 0.0027 - val_loss: 6.9986e-06 - val_mae: 0.0021\n",
      "Epoch 24/50\n",
      "2094/2094 [==============================] - 4s 2ms/step - loss: 1.3069e-05 - mae: 0.0028 - val_loss: 5.3190e-06 - val_mae: 0.0019\n",
      "Epoch 25/50\n",
      "2094/2094 [==============================] - 4s 2ms/step - loss: 1.2531e-05 - mae: 0.0028 - val_loss: 3.2130e-05 - val_mae: 0.0052\n",
      "Epoch 26/50\n",
      "2094/2094 [==============================] - 4s 2ms/step - loss: 1.2351e-05 - mae: 0.0027 - val_loss: 1.8006e-05 - val_mae: 0.0036\n",
      "Epoch 27/50\n",
      "2094/2094 [==============================] - 4s 2ms/step - loss: 1.2100e-05 - mae: 0.0027 - val_loss: 2.9636e-05 - val_mae: 0.0044\n",
      "Epoch 28/50\n",
      "2094/2094 [==============================] - 5s 2ms/step - loss: 1.1785e-05 - mae: 0.0026 - val_loss: 6.7169e-06 - val_mae: 0.0022\n",
      "Epoch 29/50\n",
      "2094/2094 [==============================] - 4s 2ms/step - loss: 1.1552e-05 - mae: 0.0026 - val_loss: 1.2465e-05 - val_mae: 0.0031\n",
      "Epoch 30/50\n",
      "2094/2094 [==============================] - 4s 2ms/step - loss: 1.1397e-05 - mae: 0.0026 - val_loss: 3.8843e-05 - val_mae: 0.0053\n",
      "Epoch 31/50\n",
      "2094/2094 [==============================] - 5s 3ms/step - loss: 1.1348e-05 - mae: 0.0026 - val_loss: 1.0674e-05 - val_mae: 0.0028\n",
      "Epoch 32/50\n",
      "2094/2094 [==============================] - 5s 3ms/step - loss: 1.1122e-05 - mae: 0.0026 - val_loss: 7.2992e-06 - val_mae: 0.0023\n",
      "Epoch 33/50\n",
      "2094/2094 [==============================] - 5s 2ms/step - loss: 1.0933e-05 - mae: 0.0026 - val_loss: 6.0867e-06 - val_mae: 0.0021\n",
      "Epoch 34/50\n",
      "2094/2094 [==============================] - 4s 2ms/step - loss: 1.0700e-05 - mae: 0.0025 - val_loss: 4.1535e-06 - val_mae: 0.0017\n",
      "Epoch 35/50\n",
      "2094/2094 [==============================] - 4s 2ms/step - loss: 1.0599e-05 - mae: 0.0026 - val_loss: 3.6705e-06 - val_mae: 0.0015\n",
      "Epoch 36/50\n",
      "2094/2094 [==============================] - 4s 2ms/step - loss: 1.0213e-05 - mae: 0.0025 - val_loss: 8.5819e-06 - val_mae: 0.0024\n",
      "Epoch 37/50\n",
      "2094/2094 [==============================] - 4s 2ms/step - loss: 1.0020e-05 - mae: 0.0025 - val_loss: 1.9086e-06 - val_mae: 0.0011\n",
      "Epoch 38/50\n",
      "2094/2094 [==============================] - 4s 2ms/step - loss: 9.6428e-06 - mae: 0.0024 - val_loss: 1.1161e-05 - val_mae: 0.0029\n",
      "Epoch 39/50\n",
      "2094/2094 [==============================] - 4s 2ms/step - loss: 9.5381e-06 - mae: 0.0024 - val_loss: 1.9491e-05 - val_mae: 0.0035\n",
      "Epoch 40/50\n",
      "2094/2094 [==============================] - 4s 2ms/step - loss: 9.2518e-06 - mae: 0.0024 - val_loss: 1.4215e-05 - val_mae: 0.0030\n",
      "Epoch 41/50\n",
      "2094/2094 [==============================] - 4s 2ms/step - loss: 8.9901e-06 - mae: 0.0023 - val_loss: 1.7865e-05 - val_mae: 0.0033\n",
      "Epoch 42/50\n",
      "2094/2094 [==============================] - 4s 2ms/step - loss: 8.9375e-06 - mae: 0.0024 - val_loss: 2.1963e-06 - val_mae: 0.0012\n",
      "Epoch 43/50\n",
      "2094/2094 [==============================] - 4s 2ms/step - loss: 8.7629e-06 - mae: 0.0023 - val_loss: 9.4838e-06 - val_mae: 0.0024\n",
      "Epoch 44/50\n",
      "2094/2094 [==============================] - 4s 2ms/step - loss: 8.5887e-06 - mae: 0.0023 - val_loss: 5.0355e-06 - val_mae: 0.0019\n",
      "Epoch 45/50\n",
      "2094/2094 [==============================] - 4s 2ms/step - loss: 8.3342e-06 - mae: 0.0022 - val_loss: 6.4079e-06 - val_mae: 0.0022\n",
      "Epoch 46/50\n",
      "2094/2094 [==============================] - 4s 2ms/step - loss: 8.5210e-06 - mae: 0.0023 - val_loss: 1.5591e-06 - val_mae: 9.5012e-04\n",
      "Epoch 47/50\n",
      "2094/2094 [==============================] - 4s 2ms/step - loss: 8.3413e-06 - mae: 0.0023 - val_loss: 1.2472e-05 - val_mae: 0.0030\n",
      "Epoch 48/50\n",
      "2094/2094 [==============================] - 4s 2ms/step - loss: 8.2521e-06 - mae: 0.0023 - val_loss: 3.9564e-06 - val_mae: 0.0017\n",
      "Epoch 49/50\n",
      "2094/2094 [==============================] - 4s 2ms/step - loss: 8.3271e-06 - mae: 0.0023 - val_loss: 9.0717e-06 - val_mae: 0.0023\n",
      "Epoch 50/50\n",
      "2094/2094 [==============================] - 4s 2ms/step - loss: 8.1828e-06 - mae: 0.0023 - val_loss: 1.9146e-06 - val_mae: 0.0011\n"
     ]
    }
   ],
   "source": [
    "# Fit the model\n",
    "history = model.fit(X, Y, validation_split=0.33, epochs=50, verbose=1)\n"
   ]
  },
  {
   "cell_type": "code",
   "execution_count": 57,
   "id": "ec19e94b",
   "metadata": {},
   "outputs": [
    {
     "name": "stdout",
     "output_type": "stream",
     "text": [
      "@ InSample                : E[y-t]: 0.001203 Std(y-t): 0.000808\n",
      "@\n",
      "@ OutOfSample             : E[y-t]: 0.001098 Std(y-t): 0.000842\n",
      "@\n",
      "@ Info        : results saved to 'training.png' \n"
     ]
    },
    {
     "data": {
      "image/png": "[encoded data removed]",
      "text/plain": [
       "<Figure size 864x432 with 2 Axes>"
      ]
     },
     "metadata": {
      "needs_background": "light"
     },
     "output_type": "display_data"
    },
    {
     "name": "stdout",
     "output_type": "stream",
     "text": [
      "1032/1032 [==============================] - 1s 937us/step - loss: 1.9146e-06 - mae: 0.0011\n",
      "Score:\n",
      "[1.9146004888170864e-06, 0.0010977835627272725]\n"
     ]
    },
    {
     "data": {
      "image/png": "[encoded data removed]",
      "text/plain": [
       "<Figure size 864x360 with 1 Axes>"
      ]
     },
     "metadata": {
      "needs_background": "light"
     },
     "output_type": "display_data"
    }
   ],
   "source": [
    "import warnings\n",
    "warnings.simplefilter('ignore')\n",
    "\n",
    "display_nn_results(model, X_train, X_test, y_train, y_test, resFile='training.png')"
   ]
  },
  {
   "cell_type": "markdown",
   "id": "63a4bec1",
   "metadata": {},
   "source": [
    "### Access Model Training History in Keras\n",
    "\n",
    "Keras provides the capability to register callbacks when training a deep learning model. One of the default callbacks that is registered when training all deep learning models is the **History callback**. It records training metrics for each epoch. This includes the loss and the accuracy (for classification problems) as well as the loss and accuracy for the validation dataset, if one is set.\n",
    "\n",
    "The history object is returned from calls to the fit() function used to train the model. Metrics are stored in a dictionary in the history member of the object returned.\n",
    "\n",
    "For example, you can list the metrics collected in a history object using the following snippet of code after a model is trained:"
   ]
  },
  {
   "cell_type": "code",
   "execution_count": 58,
   "id": "c50c5815",
   "metadata": {},
   "outputs": [
    {
     "name": "stdout",
     "output_type": "stream",
     "text": [
      "dict_keys(['loss', 'mae', 'val_loss', 'val_mae'])\n"
     ]
    },
    {
     "data": {
      "image/png": "[encoded data removed]",
      "text/plain": [
       "<Figure size 432x288 with 1 Axes>"
      ]
     },
     "metadata": {
      "needs_background": "light"
     },
     "output_type": "display_data"
    },
    {
     "data": {
      "image/png": "[encoded data removed]",
      "text/plain": [
       "<Figure size 432x288 with 1 Axes>"
      ]
     },
     "metadata": {
      "needs_background": "light"
     },
     "output_type": "display_data"
    }
   ],
   "source": [
    "# list all data in history\n",
    "print(history.history.keys())\n",
    "# summarize history for accuracy\n",
    "plt.plot(history.history['mae'])\n",
    "plt.plot(history.history['val_mae'])\n",
    "plt.title('model mae')\n",
    "plt.ylabel('mae')\n",
    "plt.xlabel('epoch')\n",
    "plt.legend(['train', 'test'], loc='upper left')\n",
    "plt.show()\n",
    "# summarize history for loss\n",
    "plt.plot(history.history['loss'])\n",
    "plt.plot(history.history['val_loss'])\n",
    "plt.title('model loss')\n",
    "plt.ylabel('loss')\n",
    "plt.xlabel('epoch')\n",
    "plt.legend(['train', 'test'], loc='upper left')\n",
    "plt.show()"
   ]
  },
  {
   "cell_type": "markdown",
   "id": "2d6e7fa1",
   "metadata": {},
   "source": [
    "## Saving the Model"
   ]
  },
  {
   "cell_type": "code",
   "execution_count": 59,
   "id": "f37216cc",
   "metadata": {},
   "outputs": [
    {
     "name": "stdout",
     "output_type": "stream",
     "text": [
      "INFO:tensorflow:Assets written to: model_bs-0100000-050-T.krs\\assets\n",
      "@ Info                    : model saved to 'model_bs-0100000-050-T.krs'\n"
     ]
    }
   ],
   "source": [
    "TAG        = 'bs-0100000-050-T'\n",
    "mdlDir     = \"model_%s.krs\" %(TAG)\n",
    "\n",
    "\n",
    "model.save(mdlDir)\n",
    "print(\"@ %-24s: model saved to '%s'\" %(\"Info\", mdlDir))  "
   ]
  }
 ],
 "metadata": {
  "kernelspec": {
   "display_name": "Python 3 (ipykernel)",
   "language": "python",
   "name": "python3"
  },
  "language_info": {
   "codemirror_mode": {
    "name": "ipython",
    "version": 3
   },
   "file_extension": ".py",
   "mimetype": "text/x-python",
   "name": "python",
   "nbconvert_exporter": "python",
   "pygments_lexer": "ipython3",
   "version": "3.7.4"
  },
  "toc": {
   "base_numbering": 1,
   "nav_menu": {},
   "number_sections": true,
   "sideBar": true,
   "skip_h1_title": false,
   "title_cell": "Table of Contents",
   "title_sidebar": "Contents",
   "toc_cell": false,
   "toc_position": {},
   "toc_section_display": true,
   "toc_window_display": false
  }
 },
 "nbformat": 4,
 "nbformat_minor": 5
}
