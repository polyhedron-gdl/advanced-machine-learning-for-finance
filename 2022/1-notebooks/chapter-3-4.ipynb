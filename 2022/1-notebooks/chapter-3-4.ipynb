{
 "cells": [
  {
   "cell_type": "markdown",
   "id": "6e0b4b6b",
   "metadata": {},
   "source": [
    "<table align=\"left\">\n",
    "  <td>\n",
    "    <a target=\"_blank\" href=\"https://colab.research.google.com/github/polyhedron-gdl/advanced-machine-learning-for-finance/blob/main/2022/1-notebooks/chapter-3-4.ipynb\">\n",
    "        <img src=\"https://www.tensorflow.org/images/colab_logo_32px.png\" />Run in Google Colab</a>\n",
    "  </td>\n",
    "</table>"
   ]
  },
  {
   "cell_type": "code",
   "execution_count": 96,
   "id": "c2a300d7",
   "metadata": {},
   "outputs": [],
   "source": [
    "import sys\n",
    "import math\n",
    "import pandas as pd\n",
    "import numpy as np\n",
    "\n",
    "from pickle import load\n",
    "from tensorflow import keras"
   ]
  },
  {
   "cell_type": "markdown",
   "id": "b745e8a9",
   "metadata": {},
   "source": [
    "# NN Heston Model - How to use a Trained Model"
   ]
  },
  {
   "cell_type": "markdown",
   "id": "ba0ada5e",
   "metadata": {},
   "source": [
    "## Auxiliary Functions"
   ]
  },
  {
   "cell_type": "code",
   "execution_count": 97,
   "id": "5f3f563c",
   "metadata": {},
   "outputs": [],
   "source": [
    "def show_scattered( y, t, tag, ax = None):\n",
    "\n",
    "    xMin = min(t)\n",
    "    xMax = max(t)\n",
    "    v    = np.arange(xMin, xMax, (xMax-xMin)/100.)\n",
    "\n",
    "    diff   = np.fabs(y - t)\n",
    "    print(\"@ %-24s: E[y-t]: %.6f Std(y-t): %.6f\" %( tag, np.mean(diff), np.std(diff)))\n",
    "    if ax == None: return\n",
    "\n",
    "    ax.plot( y, t, \".\")\n",
    "    ax.plot( v, v, color=\"red\")\n",
    "    ax.set_title(\"%s mae=%8.4f, std=%8.4f\" %(tag, np.mean(diff), np.std(diff)))\n",
    "    ax.set_xlabel(\"predicted\")\n",
    "    ax.set_ylabel(\"target\")"
   ]
  },
  {
   "cell_type": "markdown",
   "id": "3c7b5056",
   "metadata": {},
   "source": [
    "## Constants"
   ]
  },
  {
   "cell_type": "code",
   "execution_count": 98,
   "id": "38e13b55",
   "metadata": {},
   "outputs": [
    {
     "name": "stdout",
     "output_type": "stream",
     "text": [
      "Test File       :  test_100000_VFA.csv\n",
      "Prediction File :  pred_100000_VFA.csv\n",
      "Scaler          :  scaler_100000_VFA.pkl\n",
      "Model           :  model_100000_VFA.krs\n"
     ]
    }
   ],
   "source": [
    "TAG = '100000_VFA'\n",
    "\n",
    "inFile  = \"test_%s.csv\" % (TAG)\n",
    "outFile = \"pred_%s.csv\" % TAG\n",
    "    \n",
    "scalerFile = \"scaler_%s.pkl\" %TAG\n",
    "mdlDir     = \"model_%s.krs\" %TAG\n",
    "\n",
    "print('Test File       : ', inFile)\n",
    "print('Prediction File : ', outFile)\n",
    "print('Scaler          : ', scalerFile)\n",
    "print('Model           : ', mdlDir)"
   ]
  },
  {
   "cell_type": "markdown",
   "id": "9bf054e6",
   "metadata": {},
   "source": [
    "## Reading Challenge Data and Trained Model"
   ]
  },
  {
   "cell_type": "code",
   "execution_count": 99,
   "id": "c0f81517",
   "metadata": {},
   "outputs": [
    {
     "name": "stdout",
     "output_type": "stream",
     "text": [
      "@ Info                    : reading db from 'test_100000_VFA.csv'\n",
      "    k=0.800   k=0.825   k=0.850   k=0.875   k=0.900   k=0.925   k=0.950  \\\n",
      "0  0.416188  0.415128  0.414100  0.413104  0.412138  0.411200  0.410288   \n",
      "1  0.813673  0.809089  0.804643  0.800331  0.796148  0.792089  0.788151   \n",
      "2  0.630984  0.628509  0.626232  0.624145  0.622241  0.620514  0.618955   \n",
      "3  0.755902  0.754133  0.752433  0.750798  0.749225  0.747710  0.746251   \n",
      "4  0.788709  0.788299  0.787905  0.787526  0.787163  0.786812  0.786475   \n",
      "\n",
      "    k=0.975   k=1.000   k=1.025   k=1.050   k=1.075   k=1.100   k=1.125  \\\n",
      "0  0.409402  0.408540  0.407702  0.406885  0.406089  0.405314  0.404557   \n",
      "1  0.784329  0.780621  0.777023  0.773532  0.770145  0.766861  0.763676   \n",
      "2  0.617556  0.616312  0.615214  0.614254  0.613426  0.612723  0.612138   \n",
      "3  0.744846  0.743490  0.742182  0.740920  0.739702  0.738525  0.737389   \n",
      "4  0.786150  0.785836  0.785533  0.785240  0.784957  0.784683  0.784418   \n",
      "\n",
      "    k=1.150   k=1.175         T    Strike  \n",
      "0  0.403819  0.403099  0.877150  0.975660  \n",
      "1  0.760589  0.757597  0.675574  0.831140  \n",
      "2  0.611663  0.611292  1.201910  1.144124  \n",
      "3  0.736290  0.735228  1.066018  1.033124  \n",
      "4  0.784161  0.783912  0.542615  0.766172  \n"
     ]
    }
   ],
   "source": [
    "# Read in data to predict\n",
    "print(\"@ %-24s: reading db from '%s'\" %(\"Info\", inFile))\n",
    "db = pd.read_csv(inFile, sep=',')\n",
    "print(db.head(5))"
   ]
  },
  {
   "cell_type": "code",
   "execution_count": 100,
   "id": "01ae9a21",
   "metadata": {},
   "outputs": [
    {
     "name": "stdout",
     "output_type": "stream",
     "text": [
      "@ Info                    : loading model from directory 'model_100000_VFA.krs'\n"
     ]
    }
   ],
   "source": [
    "# load the model from file\n",
    "print(\"@ %-24s: loading model from directory '%s'\" %(\"Info\", mdlDir))\n",
    "model = keras.models.load_model(mdlDir)"
   ]
  },
  {
   "cell_type": "code",
   "execution_count": 101,
   "id": "b7fe2a9f",
   "metadata": {},
   "outputs": [],
   "source": [
    "scaler = load(open(scalerFile, 'rb'))\n",
    "X = scaler.transform(db)"
   ]
  },
  {
   "cell_type": "markdown",
   "id": "f3d8f07e",
   "metadata": {},
   "source": [
    "## Using the Trained Model to Predict"
   ]
  },
  {
   "cell_type": "code",
   "execution_count": 102,
   "id": "fafcd721",
   "metadata": {},
   "outputs": [
    {
     "name": "stdout",
     "output_type": "stream",
     "text": [
      "@ Info                    : predictions written to 'pred_100000_VFA.csv'\n"
     ]
    }
   ],
   "source": [
    "Y = model.predict(X)\n",
    "Ydb = pd.DataFrame({\"Price\": Y[:,0]})\n",
    "\n",
    "Ydb.to_csv(outFile, sep=',', float_format=\"%.6f\", index=False)\n",
    "print(\"@ %-24s: predictions written to '%s'\" %(\"Info\", outFile))"
   ]
  },
  {
   "cell_type": "code",
   "execution_count": 103,
   "id": "d67a1714",
   "metadata": {},
   "outputs": [
    {
     "name": "stdout",
     "output_type": "stream",
     "text": [
      "(32983,)\n"
     ]
    }
   ],
   "source": [
    "Y = np.ravel(Y)\n",
    "print(Y.shape)"
   ]
  },
  {
   "cell_type": "markdown",
   "id": "166220db",
   "metadata": {},
   "source": [
    "## Check Results"
   ]
  },
  {
   "cell_type": "code",
   "execution_count": 104,
   "id": "8fe13c73",
   "metadata": {},
   "outputs": [
    {
     "name": "stdout",
     "output_type": "stream",
     "text": [
      "(32983,)\n"
     ]
    }
   ],
   "source": [
    "refFile = \"trgt_%s.csv\" % (TAG)\n",
    "resFile = 'test_%s.jpg' % (TAG)\n",
    "# read target file\n",
    "t = pd.read_csv(refFile, sep=',')[\"Price\"]\n",
    "print(t.shape)"
   ]
  },
  {
   "cell_type": "code",
   "execution_count": 105,
   "id": "32f31255",
   "metadata": {},
   "outputs": [],
   "source": [
    "# the absolute error\n",
    "x = np.fabs(Y-t)\n",
    "\n",
    "# MAE: mean absolute error\n",
    "m = np.mean(x)\n",
    "\n",
    "# STD of absolute error\n",
    "st = np.std(x)"
   ]
  },
  {
   "cell_type": "code",
   "execution_count": 106,
   "id": "0cd2cced",
   "metadata": {},
   "outputs": [
    {
     "name": "stdout",
     "output_type": "stream",
     "text": [
      "@ 100000_VFA              : E[y-t]: 0.002954 Std(y-t): 0.003050\n",
      "@ challenge file, saved to 'test_100000_VFA.jpg'\n"
     ]
    },
    {
     "data": {
      "image/png": "[encoded data removed]",
      "text/plain": [
       "<Figure size 576x576 with 1 Axes>"
      ]
     },
     "metadata": {
      "needs_background": "light"
     },
     "output_type": "display_data"
    }
   ],
   "source": [
    "import warnings\n",
    "warnings.simplefilter('ignore')\n",
    "\n",
    "import matplotlib.pyplot as plt\n",
    "\n",
    "fit = False\n",
    "if fit: \n",
    "    fig, ax = plt.subplots(1,2, figsize=(12,6))\n",
    "    ox = ax[0]\n",
    "    ux = ax[1]\n",
    "else  : \n",
    "    fig, ax = plt.subplots(1,1, figsize=(8,8))   \n",
    "    ox = ax\n",
    "    ux = None\n",
    "\n",
    "show_scattered(Y, t, TAG, ox)\n",
    "\n",
    "if not ux == None: \n",
    "    df = pd.read_csv(refFile, sep=',')\n",
    "    k  = df[\"Strike\"]\n",
    "    t  = df[\"Price\"]\n",
    "    ux.set_title(\"%s:  mae=%6.4f, std=%6.4f\" %(TAG, m, st))\n",
    "    ux.plot( k, t, \".\", label=\"mkt\")\n",
    "    ux.plot( k, y, \".\", label=\"NN\")\n",
    "    ux.set_xlabel(\"Strike\")\n",
    "    ux.set_ylabel(\"Price\")\n",
    "    ux.legend(loc=\"best\")\n",
    "\n",
    "fig.suptitle(\"Challenge Results\")\n",
    "\n",
    "print(\"@ challenge file, saved to '%s'\" %(resFile))\n",
    "plt.savefig(resFile, format=\"png\")\n",
    "plt.show()\n"
   ]
  },
  {
   "cell_type": "code",
   "execution_count": null,
   "id": "d12d1475",
   "metadata": {},
   "outputs": [],
   "source": []
  }
 ],
 "metadata": {
  "kernelspec": {
   "display_name": "Python 3 (ipykernel)",
   "language": "python",
   "name": "python3"
  },
  "language_info": {
   "codemirror_mode": {
    "name": "ipython",
    "version": 3
   },
   "file_extension": ".py",
   "mimetype": "text/x-python",
   "name": "python",
   "nbconvert_exporter": "python",
   "pygments_lexer": "ipython3",
   "version": "3.7.4"
  },
  "toc": {
   "base_numbering": 1,
   "nav_menu": {},
   "number_sections": true,
   "sideBar": true,
   "skip_h1_title": false,
   "title_cell": "Table of Contents",
   "title_sidebar": "Contents",
   "toc_cell": false,
   "toc_position": {},
   "toc_section_display": true,
   "toc_window_display": false
  }
 },
 "nbformat": 4,
 "nbformat_minor": 5
}
